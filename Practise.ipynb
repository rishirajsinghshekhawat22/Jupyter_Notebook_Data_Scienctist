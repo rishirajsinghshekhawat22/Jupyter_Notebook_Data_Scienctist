{
 "cells": [
  {
   "cell_type": "code",
   "execution_count": null,
   "id": "3a6ee518-87de-4fc8-85d9-4b27e8289808",
   "metadata": {},
   "outputs": [],
   "source": []
  },
  {
   "cell_type": "code",
   "execution_count": 12,
   "id": "85335c86-66b4-455b-a6ec-c32faedb57ae",
   "metadata": {},
   "outputs": [],
   "source": [
    "d = a+b/c"
   ]
  },
  {
   "cell_type": "code",
   "execution_count": 13,
   "id": "365651a6-9b01-44c7-b575-3eb3c77748cd",
   "metadata": {},
   "outputs": [],
   "source": [
    "a = 5\n",
    "b = 4\n",
    "c = 3"
   ]
  },
  {
   "cell_type": "code",
   "execution_count": 14,
   "id": "ceab1391-ec36-435f-a777-528ca2df6e88",
   "metadata": {},
   "outputs": [
    {
     "data": {
      "text/plain": [
       "5.710280373831775"
      ]
     },
     "execution_count": 14,
     "metadata": {},
     "output_type": "execute_result"
    }
   ],
   "source": [
    "d"
   ]
  },
  {
   "cell_type": "code",
   "execution_count": 15,
   "id": "0e29659e-8b23-4243-a207-aaa2a343968b",
   "metadata": {},
   "outputs": [],
   "source": [
    "c_number = 45+9j"
   ]
  },
  {
   "cell_type": "code",
   "execution_count": 16,
   "id": "9125e256-f98c-4699-a18e-ebd4fa7144b6",
   "metadata": {},
   "outputs": [],
   "source": [
    "nam = 'rishi'"
   ]
  },
  {
   "cell_type": "code",
   "execution_count": 18,
   "id": "5a066904-8ef3-4ceb-a5eb-9759de7e7f6a",
   "metadata": {},
   "outputs": [
    {
     "name": "stdin",
     "output_type": "stream",
     "text": [
      " 52\n"
     ]
    },
    {
     "name": "stdout",
     "output_type": "stream",
     "text": [
      "Data is more than 34 but lesser than 100\n"
     ]
    }
   ],
   "source": [
    "a = int(input())\n",
    "\n",
    "if a<34:\n",
    "    print('valid input')\n",
    "elif a<100:\n",
    "    print('Data is more than 34 but lesser than 100')\n",
    "else: \n",
    "    print('invalid input')"
   ]
  },
  {
   "cell_type": "code",
   "execution_count": 25,
   "id": "f62eed37-cfe7-4977-9da9-2b55bab70a0a",
   "metadata": {},
   "outputs": [
    {
     "name": "stdout",
     "output_type": "stream",
     "text": [
      "I can buy a bike\n"
     ]
    }
   ],
   "source": [
    "salary = 501\n",
    "\n",
    "if salary>1000:\n",
    "    print('I can buy a car')\n",
    "elif salary>500:\n",
    "    print('I can buy a bike')\n",
    "elif salary>100:\n",
    "    print('I can manage home')\n",
    "else:\n",
    "    print('I am searching for a job')"
   ]
  },
  {
   "cell_type": "code",
   "execution_count": 27,
   "id": "59643d87-83f2-46d5-ba43-2b42c86f9044",
   "metadata": {},
   "outputs": [
    {
     "name": "stdout",
     "output_type": "stream",
     "text": [
      "I can buy a car\n",
      "Maruti\n"
     ]
    }
   ],
   "source": [
    "#Nested decision making statement\n",
    "salary = 1001\n",
    "\n",
    "if salary>1000:\n",
    "    print('I can buy a car')\n",
    "    if salary>750:\n",
    "        print('Maruti')\n",
    "    elif salary >500:\n",
    "        print('Verna')\n",
    "    else:\n",
    "        print('nano')\n",
    "else:\n",
    "    print('I can buy a bike')\n",
    "\n"
   ]
  },
  {
   "cell_type": "code",
   "execution_count": 28,
   "id": "94df5fbd-ed89-48ce-b5bd-a305781739f0",
   "metadata": {},
   "outputs": [
    {
     "name": "stdout",
     "output_type": "stream",
     "text": [
      "r\n",
      "i\n",
      "s\n",
      "h\n",
      "i\n"
     ]
    }
   ],
   "source": [
    "name = 'rishi'\n",
    "\n",
    "for i in name:\n",
    "    print(i)"
   ]
  },
  {
   "cell_type": "code",
   "execution_count": 31,
   "id": "9b848bc6-6c94-4ad6-824f-29d381389973",
   "metadata": {},
   "outputs": [
    {
     "name": "stdout",
     "output_type": "stream",
     "text": [
      "r\n",
      "i\n",
      "s\n",
      "h\n",
      "i\n",
      "End\n"
     ]
    }
   ],
   "source": [
    "for i in name:\n",
    "    print(i)\n",
    "else:\n",
    "    if name.endswith('i'):\n",
    "        print('End')\n",
    "    \n",
    "    \n",
    "    \n",
    "    "
   ]
  },
  {
   "cell_type": "code",
   "execution_count": 44,
   "id": "9c777318-fc51-4f98-ad90-b9d8eb0703ac",
   "metadata": {},
   "outputs": [],
   "source": [
    "s = 'rishiraj'\n",
    "ss = ''\n",
    "for i in range(len(s)):\n",
    "    if s[i] == 'r':\n",
    "        continue\n",
    "    else:\n",
    "        ss = ss+s[i]"
   ]
  },
  {
   "cell_type": "code",
   "execution_count": 45,
   "id": "966f0a83-121c-4c83-8c37-486b70024a9c",
   "metadata": {},
   "outputs": [
    {
     "data": {
      "text/plain": [
       "'ishiaj'"
      ]
     },
     "execution_count": 45,
     "metadata": {},
     "output_type": "execute_result"
    }
   ],
   "source": [
    "ss"
   ]
  },
  {
   "cell_type": "code",
   "execution_count": 64,
   "id": "cf0cb464-0f51-4ba8-a964-a2146b277735",
   "metadata": {},
   "outputs": [
    {
     "name": "stdout",
     "output_type": "stream",
     "text": [
      " +      \n",
      " +   +      \n",
      " +   +   +      \n",
      " +   +   +   +      \n",
      " +   +   +   +   +      \n",
      " +   +   +   +   +   +      \n",
      " +   +   +   +   +   +   +      \n"
     ]
    }
   ],
   "source": [
    "n = 7\n",
    "\n",
    "for i in range(0,n): #0,1,2,3,4,5,6\n",
    "    for j in range(0,i+1):\n",
    "        print(' + ', end =\" \")\n",
    "    print(\"    \\r\")"
   ]
  },
  {
   "cell_type": "code",
   "execution_count": 47,
   "id": "a46bd45c-98ae-46ad-a35f-c21670d584a3",
   "metadata": {},
   "outputs": [
    {
     "data": {
      "text/plain": [
       "[0, 1, 2, 3, 4, 5, 6]"
      ]
     },
     "execution_count": 47,
     "metadata": {},
     "output_type": "execute_result"
    }
   ],
   "source": [
    "list(range(0,7))"
   ]
  },
  {
   "cell_type": "code",
   "execution_count": null,
   "id": "cc580ce1-7b79-44ea-b893-48728566e934",
   "metadata": {},
   "outputs": [],
   "source": []
  }
 ],
 "metadata": {
  "kernelspec": {
   "display_name": "Python 3 (ipykernel)",
   "language": "python",
   "name": "python3"
  },
  "language_info": {
   "codemirror_mode": {
    "name": "ipython",
    "version": 3
   },
   "file_extension": ".py",
   "mimetype": "text/x-python",
   "name": "python",
   "nbconvert_exporter": "python",
   "pygments_lexer": "ipython3",
   "version": "3.11.7"
  }
 },
 "nbformat": 4,
 "nbformat_minor": 5
}
