{
 "cells": [
  {
   "cell_type": "code",
   "execution_count": 1,
   "id": "8b8fa781-9ad8-484a-b326-d52bec15d671",
   "metadata": {},
   "outputs": [],
   "source": [
    "# encapsulisation continue"
   ]
  },
  {
   "cell_type": "code",
   "execution_count": 31,
   "id": "9f823c56-980a-44e5-8b1a-edf0a178e7f7",
   "metadata": {},
   "outputs": [],
   "source": [
    "class tyres:\n",
    "    def __init__(self, branch, belted_bias, opt_pressure):\n",
    "        self.branch = branch\n",
    "        self.belted_bias = belted_bias\n",
    "        self.opt_pressure = opt_pressure\n",
    "\n",
    "    def __str__(self):\n",
    "        return (\"Tyres: \\n \\tBranch:\" + self.branch+\n",
    "                 \"\\n\\tBelted-bias:\" + str(self.belted_bias)+\n",
    "                \"\\n\\tOptimal pressure:\" + str(self.opt_pressure))\n",
    "\n",
    "class Engine:\n",
    "    def __init__(self,fuel_type,noise_level):\n",
    "        self.fuel_type = fuel_type\n",
    "        self.noise_level = noise_level\n",
    "\n",
    "    def __str__(self):\n",
    "        return (\"Engine:\\n\\tFuel type:\"+self.fuel_type+\n",
    "               \"\\n \\tNoise level:\"+ str(self.noise_level))\n",
    "\n",
    "class Body:\n",
    "    def __init__(self,size):\n",
    "        self.size = size\n",
    "    def __str__(self):\n",
    "        return \"Body:\\n \\tSize: \"  + self.size \n",
    "        \n",
    "            \n",
    "\n",
    "class Car:\n",
    "    def __init__(self,name, tyres,Engine,Body): # parameters need not to be same as above classes.\n",
    "        self.name = name\n",
    "        self.tyres = tyres\n",
    "        self.Engine = Engine\n",
    "        self.Body = Body\n",
    "    def __str__(self):\n",
    "        return str(self.name) +\"\\n\"+ str(self.tyres) +\"\\n\" +  str(self.Engine)+\"\\n\" +  str(self.Body) "
   ]
  },
  {
   "cell_type": "code",
   "execution_count": 33,
   "id": "b0f20b55-8227-4e46-b609-7b8c166a39b9",
   "metadata": {},
   "outputs": [
    {
     "name": "stdout",
     "output_type": "stream",
     "text": [
      "minicooper\n",
      "Tyres: \n",
      " \tBranch:pirelli\n",
      "\tBelted-bias:True\n",
      "\tOptimal pressure:2.0\n",
      "Engine:\n",
      "\tFuel type:Diesel\n",
      " \tNoise level:3\n",
      "Body:\n",
      " \tSize: Medium\n"
     ]
    }
   ],
   "source": [
    "t = tyres('pirelli', True,2.0)\n",
    "e = Engine ('Diesel',3)\n",
    "b = Body('Medium')\n",
    "c = Car('minicooper',t,e,b,)\n",
    "print(c)"
   ]
  },
  {
   "cell_type": "code",
   "execution_count": 35,
   "id": "d91b9d1f-59b9-4533-b1e9-94fd3838d63c",
   "metadata": {},
   "outputs": [],
   "source": [
    "# we are calling a class by creating an object and than that object we are using in encapsulisation. We are not manupulating any variable of the parent class. \n",
    "# In the case of inheritance we can manipulate the object of parent class."
   ]
  },
  {
   "cell_type": "code",
   "execution_count": 40,
   "id": "ac300d54-131c-4bdf-8f4a-ac3c9b18395a",
   "metadata": {},
   "outputs": [
    {
     "name": "stdout",
     "output_type": "stream",
     "text": [
      "10\n"
     ]
    }
   ],
   "source": [
    "# inheritance example:\n",
    "\n",
    "class parent:\n",
    "    a = 10 # global variable\n",
    "    b = 40\n",
    "    def __init__(self,parent_a,parent_b): # local variable\n",
    "        self.parent_a = parent_a\n",
    "        self.parent_b = parent_b\n",
    "\n",
    "class child(parent):\n",
    "    def __init__(self,*args)\n",
    "    super(child,self).__init(*args) # with this we can call all the initialized parameters of the parent class.\n",
    "    print(parent.a)"
   ]
  },
  {
   "cell_type": "code",
   "execution_count": 79,
   "id": "d93491f8-5827-4fa6-93dc-d543db2f68c8",
   "metadata": {},
   "outputs": [
    {
     "name": "stdout",
     "output_type": "stream",
     "text": [
      "Doggo is a Pug dog and was born in 2023\n"
     ]
    }
   ],
   "source": [
    "class Dog:\n",
    "    def __init__(self,name, birthyear,breed):\n",
    "        self.name = name\n",
    "        self.birthyear = birthyear\n",
    "        self.breed = breed\n",
    "\n",
    "    def __str__(self):\n",
    "        return f'{self.name} is a {self.breed} dog and was born in {self.birthyear}'\n",
    "\n",
    "doggo = Dog('Doggo',2023,\"Pug\")\n",
    "\n",
    "print(doggo)"
   ]
  },
  {
   "cell_type": "code",
   "execution_count": 80,
   "id": "6c498163-ec49-4e87-a8cc-eee73f8ae92b",
   "metadata": {},
   "outputs": [],
   "source": [
    "class student:\n",
    "    def __init__(self,name,student_id,school_name,address):\n",
    "        self.name = name\n",
    "        self.student_id = student_id\n",
    "        self.school_name = school_name\n",
    "        self.address = address\n",
    "\n",
    "    def filesave(self):\n",
    "        with open ('happy.txt','w') as file:\n",
    "            file.write(f'Name: {self.name}')\n",
    "            file.write(f'StudentID: {self.student_id}')\n",
    "            file.write(f'SchoolName: {self.school_name}')\n",
    "            file.write(f'Address: {self.address}')     \n",
    "\n",
    "    def __str__(self):\n",
    "        return str(self.name) +' '+ str(self.student_id) +' ' + str(self.school_name) +' '+ str(self.address) "
   ]
  },
  {
   "cell_type": "code",
   "execution_count": 81,
   "id": "f8bdd930-7d34-4dcd-876f-ba12f25bc72f",
   "metadata": {},
   "outputs": [
    {
     "name": "stdout",
     "output_type": "stream",
     "text": [
      "rishi 125 SPS Jaipur\n"
     ]
    }
   ],
   "source": [
    "stu = student('rishi',125,'SPS','Jaipur')\n",
    "print(stu)"
   ]
  },
  {
   "cell_type": "code",
   "execution_count": 82,
   "id": "a1ee6146-2b22-4462-96a4-cecb66cd9203",
   "metadata": {},
   "outputs": [],
   "source": [
    "dog = student(doggo,45,'dogschool','dogshool')"
   ]
  },
  {
   "cell_type": "code",
   "execution_count": 84,
   "id": "9548442f-052c-4836-885c-b1ebed681b25",
   "metadata": {},
   "outputs": [
    {
     "name": "stdout",
     "output_type": "stream",
     "text": [
      "Doggo is a Pug dog and was born in 2023 45 dogschool dogshool\n"
     ]
    }
   ],
   "source": [
    "print(dog)"
   ]
  },
  {
   "cell_type": "code",
   "execution_count": null,
   "id": "66f6350a-30a0-48ec-8e56-fea2b2a511d2",
   "metadata": {},
   "outputs": [],
   "source": [
    "# example \n",
    "print()\n",
    "len()\n",
    "type()\n",
    "\n",
    "# we can't see the implementation of the above functions but we can still use them. That's encapsulisation."
   ]
  },
  {
   "cell_type": "code",
   "execution_count": 13,
   "id": "c93834e5-acf9-4283-bd92-62cee610d851",
   "metadata": {},
   "outputs": [],
   "source": [
    "# another example of encapsulation:\n",
    "\n",
    "class BonusDistribution:\n",
    "    def __init__(self,employeeId, employeeRating):\n",
    "        self.employeeId = employeeId\n",
    "        self.employeeRating = employeeRating # we will have to give value while creating an object.\n",
    "        self.__bonusforRatingA = '70%'\n",
    "        self.__bonusforRatingB = '60%' # given value already.\n",
    "        self.__bonusforRatingC = '50%' # assigned values to the private variable\n",
    "        self.__bonusforRatingD = '30%'\n",
    "        self.__bonusforRestRating = 'No Bonus'\n",
    "\n",
    "    def bonusCalculator(self):\n",
    "\n",
    "        if self.employeeRating == 'A':\n",
    "            bonus = self.__bonusforRatingA           \n",
    "            msg = f'bonus for this employee is {bonus}'\n",
    "            return msg\n",
    "\n",
    "        elif self.employeeRating == 'B':\n",
    "            bonus = self.__bonusforRatingB\n",
    "            msg = f'bonus for this employee is {bonus}'\n",
    "            return msg\n",
    "        elif self.employeeRating == 'C':\n",
    "            bonus = self.__bonusforRatingC\n",
    "            msg = f'bonus for this employee is {bonus}'\n",
    "            return msg\n",
    "        elif self.employeeRating == 'D':\n",
    "            bonus = self.__bonusforRatingD\n",
    "            msg = f'bonus for this employee is {bonus}'\n",
    "            return msg\n",
    "        else:\n",
    "            bonus = self.__bonusforRestRating\n",
    "            msg = f'{bonus} for this employee'\n",
    "            return msg\n",
    "\n",
    "    def changevariable(self, value): # to change the value of the variable\n",
    "        self.__bonusforRatingA = value # it will not change the above global variable but will change only the variable for which we use this method.\n",
    "        "
   ]
  },
  {
   "cell_type": "code",
   "execution_count": 14,
   "id": "77a7bd35-427b-4fc4-b5d2-105980cc9dba",
   "metadata": {},
   "outputs": [],
   "source": [
    "emp1 = BonusDistribution(123,'A')\n",
    "emp2 = BonusDistribution(122,'B')\n",
    "emp3 = BonusDistribution(133,'C')"
   ]
  },
  {
   "cell_type": "code",
   "execution_count": 15,
   "id": "477d328e-5787-4bae-a13e-d297e89abef7",
   "metadata": {},
   "outputs": [
    {
     "data": {
      "text/plain": [
       "'bonus for this employee is 70%'"
      ]
     },
     "execution_count": 15,
     "metadata": {},
     "output_type": "execute_result"
    }
   ],
   "source": [
    "emp1.bonusCalculator()"
   ]
  },
  {
   "cell_type": "code",
   "execution_count": 16,
   "id": "263e8bf4-43a7-481d-a878-5cd342336052",
   "metadata": {},
   "outputs": [],
   "source": [
    "# to change the value of private variable. we can call it using a class object and can override it.\n",
    "\n",
    "emp1._BonusDistribution__bonusforRatingA = '90%'"
   ]
  },
  {
   "cell_type": "code",
   "execution_count": 17,
   "id": "a6677473-7cef-41e6-b9ce-9d3158b6339d",
   "metadata": {},
   "outputs": [
    {
     "data": {
      "text/plain": [
       "'bonus for this employee is 90%'"
      ]
     },
     "execution_count": 17,
     "metadata": {},
     "output_type": "execute_result"
    }
   ],
   "source": [
    "emp1.bonusCalculator()"
   ]
  },
  {
   "cell_type": "code",
   "execution_count": 18,
   "id": "eaddf136-12f7-4dd7-a40c-06f05839ce19",
   "metadata": {},
   "outputs": [],
   "source": [
    "emp1.changevariable('50%')"
   ]
  },
  {
   "cell_type": "code",
   "execution_count": 7,
   "id": "09ff377e-f5cf-4701-9d56-3e6b1f42ff68",
   "metadata": {},
   "outputs": [
    {
     "data": {
      "text/plain": [
       "'bonus for this employee is 50%'"
      ]
     },
     "execution_count": 7,
     "metadata": {},
     "output_type": "execute_result"
    }
   ],
   "source": [
    "emp1.bonusCalculator()"
   ]
  },
  {
   "cell_type": "code",
   "execution_count": 8,
   "id": "97c4dbe3-683b-464e-87d3-6c3c9f556bb3",
   "metadata": {},
   "outputs": [],
   "source": [
    "emp1 = BonusDistribution(123,'B')\n",
    "emp2 = BonusDistribution(122,'B')"
   ]
  },
  {
   "cell_type": "code",
   "execution_count": 9,
   "id": "52aadf65-b614-40cd-bc50-5b32e98465fb",
   "metadata": {},
   "outputs": [],
   "source": [
    "emp1.changevariable('30%')"
   ]
  },
  {
   "cell_type": "code",
   "execution_count": 10,
   "id": "9e207c11-151c-4d01-bf36-482adf35dda9",
   "metadata": {},
   "outputs": [
    {
     "data": {
      "text/plain": [
       "'bonus for this employee is 60%'"
      ]
     },
     "execution_count": 10,
     "metadata": {},
     "output_type": "execute_result"
    }
   ],
   "source": [
    "emp2.bonusCalculator()"
   ]
  },
  {
   "cell_type": "code",
   "execution_count": 11,
   "id": "6e448b94-8af2-40ed-823c-7a06eb5f101f",
   "metadata": {},
   "outputs": [
    {
     "data": {
      "text/plain": [
       "'bonus for this employee is 30%'"
      ]
     },
     "execution_count": 11,
     "metadata": {},
     "output_type": "execute_result"
    }
   ],
   "source": [
    "emp1.bonusCalculator()"
   ]
  },
  {
   "cell_type": "code",
   "execution_count": 12,
   "id": "f0e74718-1aea-409e-be7c-10ac835eb145",
   "metadata": {},
   "outputs": [
    {
     "data": {
      "text/plain": [
       "'bonus for this employee is 30%'"
      ]
     },
     "execution_count": 12,
     "metadata": {},
     "output_type": "execute_result"
    }
   ],
   "source": [
    "emp1.bonusCalculator()"
   ]
  },
  {
   "cell_type": "code",
   "execution_count": 20,
   "id": "bad4e256-2f6d-45bb-8499-48bdf30d2c75",
   "metadata": {},
   "outputs": [],
   "source": [
    "emp1 = BonusDistribution(123,'A')\n",
    "emp2 = BonusDistribution(122,'A')"
   ]
  },
  {
   "cell_type": "code",
   "execution_count": 22,
   "id": "d43aa55f-320b-4477-bb30-345f01fbc487",
   "metadata": {},
   "outputs": [],
   "source": [
    "emp1.changevariable('30%')"
   ]
  },
  {
   "cell_type": "code",
   "execution_count": 23,
   "id": "8dac31ec-bb83-47ee-a089-7484a8301d61",
   "metadata": {},
   "outputs": [
    {
     "data": {
      "text/plain": [
       "'bonus for this employee is 30%'"
      ]
     },
     "execution_count": 23,
     "metadata": {},
     "output_type": "execute_result"
    }
   ],
   "source": [
    "emp1.bonusCalculator()"
   ]
  },
  {
   "cell_type": "code",
   "execution_count": 24,
   "id": "ebc8b39c-8f7c-4329-9b0b-ec1154c04681",
   "metadata": {},
   "outputs": [
    {
     "data": {
      "text/plain": [
       "'bonus for this employee is 70%'"
      ]
     },
     "execution_count": 24,
     "metadata": {},
     "output_type": "execute_result"
    }
   ],
   "source": [
    "emp2.bonusCalculator()"
   ]
  },
  {
   "cell_type": "code",
   "execution_count": 26,
   "id": "dd088a52-c9d7-4f6a-9910-b27a7d72332c",
   "metadata": {},
   "outputs": [],
   "source": [
    "# in the way we can create private variable, we can also create private function and it will be called in the same way.\n",
    "#_class__func/variable"
   ]
  },
  {
   "cell_type": "code",
   "execution_count": 44,
   "id": "2e647878-eb3b-43f3-bdde-535289687a9e",
   "metadata": {},
   "outputs": [],
   "source": [
    "class multiplynumeric:\n",
    "    def __init__(self,a):\n",
    "        self.a = a"
   ]
  },
  {
   "cell_type": "code",
   "execution_count": 45,
   "id": "ec901bf1-7e21-49e8-b7a6-bc0296d970bf",
   "metadata": {},
   "outputs": [],
   "source": [
    "mul = multiplynumeric(9)\n",
    "mul1 = multiplynumeric(10)"
   ]
  },
  {
   "cell_type": "code",
   "execution_count": 47,
   "id": "9f73de0c-495f-49ef-8237-cb0babd6a99f",
   "metadata": {},
   "outputs": [
    {
     "data": {
      "text/plain": [
       "90"
      ]
     },
     "execution_count": 47,
     "metadata": {},
     "output_type": "execute_result"
    }
   ],
   "source": [
    "#(mul  * mul1) # we aren't able to do the calculation with this.\n",
    "# we should use\n",
    "\n",
    "mul.a * mul1.a"
   ]
  },
  {
   "cell_type": "code",
   "execution_count": 66,
   "id": "4f49a7c4-7d07-4cfd-b343-b8d35e1915f7",
   "metadata": {},
   "outputs": [],
   "source": [
    "class multiplynumeric:\n",
    "    def __init__(self,a):\n",
    "        self.a = a\n",
    "    def __mul__(self, other): # sign is * because it is an inbuilt function __mul__\n",
    "        return self.a + other.a # this is called operative overloading where are are giving + here but in the implementation even if we use * sign it will return addition value."
   ]
  },
  {
   "cell_type": "code",
   "execution_count": 67,
   "id": "49b14875-9cdd-4b8b-9f43-afeea79c29ff",
   "metadata": {},
   "outputs": [],
   "source": [
    "mull = multiplynumeric(10)\n",
    "mull1 = multiplynumeric(9)"
   ]
  },
  {
   "cell_type": "code",
   "execution_count": 69,
   "id": "c6fe689b-a356-4f6d-a0d2-460335b6a307",
   "metadata": {},
   "outputs": [
    {
     "data": {
      "text/plain": [
       "19"
      ]
     },
     "execution_count": 69,
     "metadata": {},
     "output_type": "execute_result"
    }
   ],
   "source": [
    "mull * mull1"
   ]
  },
  {
   "cell_type": "code",
   "execution_count": 70,
   "id": "46b07b39-6115-4b9a-b4e3-e2bf79dcb3d8",
   "metadata": {},
   "outputs": [],
   "source": [
    "import ipdb"
   ]
  },
  {
   "cell_type": "code",
   "execution_count": 72,
   "id": "34be01e8-40e1-459e-bfa9-38d19797818a",
   "metadata": {},
   "outputs": [],
   "source": [
    "def debugger():\n",
    "    ipdb.set_trace()\n",
    "    l = []\n",
    "    \n",
    "class multiplynumeric:\n",
    "    def __init__(self,a):\n",
    "        self.a = a\n",
    "    def __mul__(self, other):\n",
    "        return self.a + other.a"
   ]
  },
  {
   "cell_type": "code",
   "execution_count": 73,
   "id": "5495d235-96dc-4f46-9461-930c13d4680c",
   "metadata": {},
   "outputs": [],
   "source": [
    "# Polymorphism\n",
    "# when an entity is same but it acts differently with the example.\n",
    "\n",
    "def test(a,b):\n",
    "    return a + b # here + operator is acting differently with the example."
   ]
  },
  {
   "cell_type": "code",
   "execution_count": 79,
   "id": "9766e6e9-60a0-46d1-989d-864020608956",
   "metadata": {},
   "outputs": [
    {
     "name": "stdout",
     "output_type": "stream",
     "text": [
      "6\n",
      "rishi\n",
      "singh\n",
      "[1, 2, 3, 4, 5, 5, 8, 9, 8]\n"
     ]
    }
   ],
   "source": [
    "print(test(2,4)) # addition\n",
    "print(test('rishi', '\\n''singh')) # concatenation\n",
    "print(test([1,2,3,4,5],[5,8,9,8])) # list append\n"
   ]
  },
  {
   "cell_type": "code",
   "execution_count": 80,
   "id": "27ded42a-56e5-440e-9129-c264c446e323",
   "metadata": {},
   "outputs": [],
   "source": [
    "#\n",
    "\n",
    "class ineuron:\n",
    "    def msg(self):\n",
    "        print('this is a msg to ineuron')\n",
    "\n",
    "\n",
    "class xyz:\n",
    "    def msg(self):\n",
    "        print('this is a message to xyz')"
   ]
  },
  {
   "cell_type": "code",
   "execution_count": 81,
   "id": "c2b02fcf-25c7-4133-bdd9-c170f7bbdcaa",
   "metadata": {},
   "outputs": [],
   "source": [
    "def test(notes):\n",
    "    notes.msg()"
   ]
  },
  {
   "cell_type": "code",
   "execution_count": 83,
   "id": "3179c1c7-1fbd-48cc-bc00-2e30bb868bbb",
   "metadata": {},
   "outputs": [],
   "source": [
    "i = ineuron()\n",
    "x = xyz()"
   ]
  },
  {
   "cell_type": "code",
   "execution_count": 85,
   "id": "4262d4f4-dc34-4e0e-a0b0-168a4f8399a8",
   "metadata": {},
   "outputs": [
    {
     "name": "stdout",
     "output_type": "stream",
     "text": [
      "this is a msg to ineuron\n"
     ]
    }
   ],
   "source": [
    "test(i)"
   ]
  },
  {
   "cell_type": "code",
   "execution_count": 86,
   "id": "69f06318-9787-43cb-97db-c7dbc1348d61",
   "metadata": {},
   "outputs": [
    {
     "name": "stdout",
     "output_type": "stream",
     "text": [
      "this is a message to xyz\n"
     ]
    }
   ],
   "source": [
    "test(x)"
   ]
  },
  {
   "cell_type": "code",
   "execution_count": null,
   "id": "c199867b-89ea-4ee9-a0bf-edb40edb83be",
   "metadata": {},
   "outputs": [],
   "source": [
    "#Database:\n",
    "# SQL [SQLlite, MySQL]\n",
    "# NOSQL [MongoDB,Casandra] # NOSQL = Not Only SQL\n",
    "\n",
    "#types of data\n",
    "#Structured data, unstructured data, semi structured data."
   ]
  }
 ],
 "metadata": {
  "kernelspec": {
   "display_name": "Python 3 (ipykernel)",
   "language": "python",
   "name": "python3"
  },
  "language_info": {
   "codemirror_mode": {
    "name": "ipython",
    "version": 3
   },
   "file_extension": ".py",
   "mimetype": "text/x-python",
   "name": "python",
   "nbconvert_exporter": "python",
   "pygments_lexer": "ipython3",
   "version": "3.11.7"
  }
 },
 "nbformat": 4,
 "nbformat_minor": 5
}
