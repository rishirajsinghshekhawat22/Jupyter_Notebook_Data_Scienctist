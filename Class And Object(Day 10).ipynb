{
 "cells": [
  {
   "cell_type": "code",
   "execution_count": 139,
   "id": "c08c3aca-0e19-4608-aa58-0c452e30b6dd",
   "metadata": {},
   "outputs": [],
   "source": [
    "# Object Oriented Programming Language. (Oops)\n",
    "#Class And Objects"
   ]
  },
  {
   "cell_type": "code",
   "execution_count": 140,
   "id": "3a1db9bb-13ca-4152-aac1-d4b88fba8318",
   "metadata": {},
   "outputs": [],
   "source": [
    "# So forth we have been doing scrypting. Python supports scrypting and Oops unlike Java, Scala which supports only Oops programming."
   ]
  },
  {
   "cell_type": "code",
   "execution_count": 141,
   "id": "74404dca-e181-4136-92bd-7dbb5d0aaee3",
   "metadata": {},
   "outputs": [],
   "source": [
    "# Car, Animal, Laptop || Class || Classification\n",
    "# [Maruti,Kia,Honda],[Dog, Cat,Lion],[Acer,Dell,HP] || Object || Objects are variable of classes.\n",
    "# Example\n",
    "# a = 7, b = 10 (a,b are variable of an integer class OR a,b are an objects of integer class)\n",
    "# c = 'happy' (c is a variabe of a string class OR c is an object of a string class)\n",
    "# We use Oops for so many good reasons, that is reusibility, abstraction, inheritance etc"
   ]
  },
  {
   "cell_type": "code",
   "execution_count": 142,
   "id": "ede1c037-4a90-485e-8254-b709544ee076",
   "metadata": {},
   "outputs": [],
   "source": [
    "class car: # Creating a class\n",
    "    pass"
   ]
  },
  {
   "cell_type": "code",
   "execution_count": 143,
   "id": "7ccb26af-8e87-4c81-8483-6bf77e1d6650",
   "metadata": {},
   "outputs": [
    {
     "data": {
      "text/plain": [
       "<__main__.car at 0x21419a8b110>"
      ]
     },
     "execution_count": 143,
     "metadata": {},
     "output_type": "execute_result"
    }
   ],
   "source": [
    "minicooper = car() #Creating an object/variable of the car class.\n",
    "minicooper"
   ]
  },
  {
   "cell_type": "code",
   "execution_count": 144,
   "id": "a5fca813-a890-41a2-bd7a-6be685c056d7",
   "metadata": {},
   "outputs": [],
   "source": [
    "# Defining an objects of minicooper class. (Car is a class to minicooper and minicooper is a class to it's object) \n",
    "minicooper.price = 5800000\n",
    "minicooper.milage= '35km'\n",
    "minicooper.model = 'Minicooper Advance'"
   ]
  },
  {
   "cell_type": "code",
   "execution_count": 145,
   "id": "462dcbf5-c2f6-4106-826b-4f9d7103e546",
   "metadata": {},
   "outputs": [
    {
     "data": {
      "text/plain": [
       "'Minicooper Advance'"
      ]
     },
     "execution_count": 145,
     "metadata": {},
     "output_type": "execute_result"
    }
   ],
   "source": [
    "minicooper.model"
   ]
  },
  {
   "cell_type": "code",
   "execution_count": 146,
   "id": "f252d068-7256-430d-8569-faa4be648754",
   "metadata": {},
   "outputs": [],
   "source": [
    "# Creating another object under car class.\n",
    "nano = car()"
   ]
  },
  {
   "cell_type": "code",
   "execution_count": 147,
   "id": "1a053bd6-a45a-4297-a221-6f57066e7b45",
   "metadata": {},
   "outputs": [],
   "source": [
    "# Defining an objects of nano class. \n",
    "nano.milage = 20\n",
    "nano.year = 2024\n",
    "nano.make = 234\n",
    "nano.model = \"hybrid\"\n",
    "nano.enginemodel = 45454878"
   ]
  },
  {
   "cell_type": "code",
   "execution_count": 148,
   "id": "08e1a8bb-414d-452f-b5e8-84cfd2fada72",
   "metadata": {},
   "outputs": [
    {
     "name": "stdout",
     "output_type": "stream",
     "text": [
      "20 35km\n"
     ]
    }
   ],
   "source": [
    "print(nano.milage, minicooper.milage)"
   ]
  },
  {
   "cell_type": "code",
   "execution_count": 149,
   "id": "9680ea94-20a1-4444-a0ac-c6667b5a8a66",
   "metadata": {},
   "outputs": [],
   "source": [
    "class car: # Class Creation\n",
    "    def __init__(self, milage,year, make, model): # creating variables.\n",
    "        self.milage = milage\n",
    "        self.year = year\n",
    "        self.make = make\n",
    "        self.model = model   \n",
    "\n",
    "# We can use any other name as well instead of self. The first parameter will be considered as the pointer to class.\n",
    "# self.milage = class variable. Self is a pointer to a class.\n",
    "# Init function is used to pass the data to a class. It is class initialisation function, called __init__. It assigns data to the class and let us call later on."
   ]
  },
  {
   "cell_type": "code",
   "execution_count": 150,
   "id": "516affb2-0552-4778-9aa8-68a5f1ef2e5a",
   "metadata": {},
   "outputs": [
    {
     "ename": "TypeError",
     "evalue": "car.__init__() missing 4 required positional arguments: 'milage', 'year', 'make', and 'model'",
     "output_type": "error",
     "traceback": [
      "\u001b[1;31m---------------------------------------------------------------------------\u001b[0m",
      "\u001b[1;31mTypeError\u001b[0m                                 Traceback (most recent call last)",
      "Cell \u001b[1;32mIn[150], line 1\u001b[0m\n\u001b[1;32m----> 1\u001b[0m mahindra \u001b[38;5;241m=\u001b[39m car()\n",
      "\u001b[1;31mTypeError\u001b[0m: car.__init__() missing 4 required positional arguments: 'milage', 'year', 'make', and 'model'"
     ]
    }
   ],
   "source": [
    "mahindra = car()"
   ]
  },
  {
   "cell_type": "code",
   "execution_count": null,
   "id": "9a77b08a-dbe9-404e-8f8b-0c466ff7b1e0",
   "metadata": {},
   "outputs": [],
   "source": [
    "mahindra = car(35,2024,328,'thar') # Creating variable of a class."
   ]
  },
  {
   "cell_type": "code",
   "execution_count": null,
   "id": "bd25ad15-5de6-42f4-9418-4469c410485a",
   "metadata": {},
   "outputs": [],
   "source": [
    "mahindra.milage # it is equals to self.milage\n",
    "mahindra.year\n",
    "mahindra.make"
   ]
  },
  {
   "cell_type": "code",
   "execution_count": null,
   "id": "71721730-ab08-41b6-b64c-3052e002d480",
   "metadata": {},
   "outputs": [],
   "source": [
    "Audi = car(10,2024,698,'q8')"
   ]
  },
  {
   "cell_type": "code",
   "execution_count": null,
   "id": "45d146c5-3b1c-4888-95da-74c954f7afa8",
   "metadata": {},
   "outputs": [],
   "source": [
    "class car:\n",
    "    def __init__(milage,year, make, model): \n",
    "        self.milage = milage\n",
    "        self.year = year\n",
    "        self.make = make\n",
    "        self.model = model   \n",
    "\n",
    "# first variable in the class becomes pointer of the class."
   ]
  },
  {
   "cell_type": "code",
   "execution_count": null,
   "id": "14a9e55a-6a5c-4f5d-be7c-1571a9dc6d6e",
   "metadata": {},
   "outputs": [],
   "source": [
    "class car:\n",
    "    def __init__(a,mi,y, ma, mo): \n",
    "        a.milage = mi\n",
    "        a.year = y\n",
    "        a.make = ma\n",
    "        a.model = mo   \n",
    "\n",
    "# mi,y,ma,mo are the data we will going to provide.\n",
    "# a.milage,a.year... are class variable\n",
    "# a is equals to the pointer of the car class, it binds/assigns data with the car class."
   ]
  },
  {
   "cell_type": "code",
   "execution_count": null,
   "id": "6442d1bc-55f3-4d30-96bd-f3f8bd7fecdb",
   "metadata": {},
   "outputs": [],
   "source": [
    "hyundai = car(12,2024,857,'beast')"
   ]
  },
  {
   "cell_type": "code",
   "execution_count": null,
   "id": "2448888a-ac5b-4169-bc1c-9182eabcdaa5",
   "metadata": {},
   "outputs": [],
   "source": [
    "hyundai.milage\n",
    "hyundai.year"
   ]
  },
  {
   "cell_type": "code",
   "execution_count": null,
   "id": "1eacda02-4601-42f4-8352-a341b9b21d69",
   "metadata": {},
   "outputs": [],
   "source": [
    "hyundai.m # we are not getting a data with this as m is a data or a parameter not a variale like milage in this case as it is assosicated with the class with the help of self(a)."
   ]
  },
  {
   "cell_type": "code",
   "execution_count": null,
   "id": "270c29c8-3404-4b5b-9b94-48530754f40f",
   "metadata": {},
   "outputs": [],
   "source": [
    "# write a class method which we will age of the car\n",
    "\n",
    "class car:\n",
    "    def __init__(a,mi,y, ma, mo,cy): \n",
    "        a.milage = mi\n",
    "        a.year = y\n",
    "        a.make = ma\n",
    "        a.model = mo   \n",
    "        a.currentyear = cy\n",
    "    def age(self, current_year): # We will have to give new pointer even to call above values.\n",
    "        return current_year - self.year #(It is a above year) # *a* pointer will work only in the above method only for the new method we will have to call new pointer.\n",
    "    def milage_plus(b,newvalue = 100):        \n",
    "        return newvalue + b.milage\n",
    "\n",
    "    def __str__(c): # c again here is a pointer\n",
    "        return \"this is my car class I have created\"\n",
    "\n",
    "\n",
    "# Every methods under the classes should be given pointer to link it to the class. It's a must ask.\n",
    "        \n",
    "# Here self is binding it with car class and then taking value from above data.\n",
    "\n",
    "suzuki = car(58,2013,758,'nexa',2024)\n",
    "\n",
    "suzuki.age(2024)\n",
    "suzuki.milage_plus()\n"
   ]
  },
  {
   "cell_type": "code",
   "execution_count": null,
   "id": "808c5d11-1f92-421c-9150-42008ba69820",
   "metadata": {},
   "outputs": [],
   "source": [
    "suzuki # Below is the ouput of this, however if we want to print any message here, we can use __str__ method."
   ]
  },
  {
   "cell_type": "code",
   "execution_count": null,
   "id": "9c5638a7-1cee-479e-a7cd-655d59dccfc6",
   "metadata": {},
   "outputs": [],
   "source": [
    "print(suzuki)"
   ]
  },
  {
   "cell_type": "code",
   "execution_count": null,
   "id": "e2fa2ce9-e90f-4dbd-90f3-62da02610b83",
   "metadata": {},
   "outputs": [],
   "source": [
    "# \n",
    "\n",
    "class student:\n",
    "    def __init__(self,name, roll_number, joining_date, current_topic):\n",
    "        self.name = name\n",
    "        self.rollnumber = roll_number\n",
    "        self.joiningdate = joining_date\n",
    "        self.currenttopic = current_topic\n",
    "\n",
    "    def crt_topic(self):\n",
    "       print('current topic is', self.currenttopic)\n",
    "\n",
    "    def change_rollnumber(self):\n",
    "        try:\n",
    "            if type(self.rollnumber) == str:\n",
    "                print('do nothing')\n",
    "            else:\n",
    "                return str(self.rollnumber)\n",
    "\n",
    "        except Exception as e:\n",
    "            print(e)\n",
    "\n",
    "    def duration(self,current_date):\n",
    "        return current_date-self.joiningdate\n",
    "    def __str__(self):\n",
    "        return \"Hello, welcome to my code world\"\n",
    "    def func(self):\n",
    "        if type(self.name) == list:\n",
    "            for i in self.name:\n",
    "                print(i)\n",
    "        else:\n",
    "            print('the provided name is not a list')\n",
    "\n",
    "# __ method starts with 2 underscore are inbuilt method.\n",
    "        "
   ]
  },
  {
   "cell_type": "code",
   "execution_count": null,
   "id": "1b75cb4b-c766-4d87-bbe3-61704487ae53",
   "metadata": {},
   "outputs": [],
   "source": [
    "student1 = student('Rishi',2209,1-1-2024,'class and object')"
   ]
  },
  {
   "cell_type": "code",
   "execution_count": null,
   "id": "c72e64be-7cd0-4e48-b6d6-eae0859ec145",
   "metadata": {},
   "outputs": [],
   "source": [
    "student1.change_rollnumber"
   ]
  },
  {
   "cell_type": "code",
   "execution_count": null,
   "id": "e298ae66-40aa-4edd-a495-0b25ecf280b4",
   "metadata": {},
   "outputs": [],
   "source": [
    "# (self,name, roll_number, joining_date, current_topic)\n",
    "\n",
    "rishiraj1 = student('rishi','545',2021,'Oops')"
   ]
  },
  {
   "cell_type": "code",
   "execution_count": null,
   "id": "183043a5-aafe-4554-92d2-af512d7a9afd",
   "metadata": {},
   "outputs": [],
   "source": [
    "rishiraj1.duration(2025)"
   ]
  },
  {
   "cell_type": "code",
   "execution_count": null,
   "id": "ffa3c295-2001-41a0-b5c2-e3e4e34a01d3",
   "metadata": {},
   "outputs": [],
   "source": [
    "rishiraj1.change_rollnumber"
   ]
  },
  {
   "cell_type": "code",
   "execution_count": null,
   "id": "5c2222f1-7675-445a-b1f9-6a25d74dfb77",
   "metadata": {},
   "outputs": [],
   "source": [
    "happy = student(['rishi','jay','himanshu','akash'],'[1214,255,545,5454]',2024,'oops')"
   ]
  },
  {
   "cell_type": "code",
   "execution_count": null,
   "id": "addf8973-1c5b-477e-8f59-5d61f8b37924",
   "metadata": {},
   "outputs": [],
   "source": [
    "happy.func()"
   ]
  },
  {
   "cell_type": "code",
   "execution_count": null,
   "id": "96d7ef33-74d4-42a6-87a3-8d9880bbbb82",
   "metadata": {},
   "outputs": [],
   "source": [
    "happy.change_rollnumber()"
   ]
  },
  {
   "cell_type": "code",
   "execution_count": 73,
   "id": "bb1445be-469b-4bc9-9436-fdf87c67ab18",
   "metadata": {},
   "outputs": [],
   "source": [
    "#Level 1 Question\n",
    "\n",
    "# you need to create a class name 'data' and you need to crete an init method or a variable file name [], file type[], date(), size,\n",
    "# You need to create a function file_open, it will take the file name and will create if it's not there already and write something in the file.\n",
    "# create another function file_read, whatever data is available under file, it should return so that we can read it.\n",
    "#create file_append, in the same files we need to add new data and show\n",
    "\n",
    "# Level 2.\n",
    "# try catch, exception handling, logger inside(Create a separate method inside the class and call that function). "
   ]
  },
  {
   "cell_type": "code",
   "execution_count": 86,
   "id": "ec940164-866a-41ec-84dc-1d966db4de78",
   "metadata": {},
   "outputs": [],
   "source": [
    "import logging\n",
    "class data:\n",
    "    def __init__(self,filename,filetype,date,size):\n",
    "        self.filename = filename\n",
    "        self.filetype = filetype\n",
    "        self.date = date\n",
    "        self.size = size\n",
    "    def file_open(self,filename): \n",
    "        try:\n",
    "            with open(filename,'w') as file:\n",
    "                file.write('I am back again')\n",
    "                print('file created')\n",
    "        except Exception as e:\n",
    "            print(e)\n",
    "            print('file already exist')\n",
    "    def file_read(self):\n",
    "        with open(filename,'r') as file:\n",
    "            file.readlines()\n",
    "    def file_append(self):\n",
    "       with open (filename,'a') as file:\n",
    "           file.append('file appended')\n",
    "    def log_message(self,message):\n",
    "        logging.basicConfig(filename = 'data.log', level = logging.INFO, format = '%(asctime)s %(message)s')\n",
    "        logging.info(message)"
   ]
  },
  {
   "cell_type": "code",
   "execution_count": 87,
   "id": "313285de-bd0a-49c2-8cf1-3d9bbabc8e3b",
   "metadata": {},
   "outputs": [],
   "source": [
    "school = data('attendance.txt','.txt',2021,5)"
   ]
  },
  {
   "cell_type": "code",
   "execution_count": 88,
   "id": "ead9a821-6f96-46ce-aea6-77ed2335b9f5",
   "metadata": {},
   "outputs": [
    {
     "name": "stdout",
     "output_type": "stream",
     "text": [
      "file created\n"
     ]
    }
   ],
   "source": [
    "school.file_open('attendance.txt')"
   ]
  },
  {
   "cell_type": "code",
   "execution_count": 89,
   "id": "404d0361-7980-4c7b-9ade-096697192ca3",
   "metadata": {},
   "outputs": [
    {
     "data": {
      "text/plain": [
       "'C:\\\\Users\\\\USER\\\\Desktop\\\\Full Stack Data Science (Ineuron)'"
      ]
     },
     "execution_count": 89,
     "metadata": {},
     "output_type": "execute_result"
    }
   ],
   "source": [
    "import os\n",
    "os.getcwd()"
   ]
  },
  {
   "cell_type": "code",
   "execution_count": 90,
   "id": "fe9fac1f-ec6b-4294-b20f-88456e6e652e",
   "metadata": {},
   "outputs": [
    {
     "data": {
      "text/plain": [
       "<bound method data.file_read of <__main__.data object at 0x000001E912B44ED0>>"
      ]
     },
     "execution_count": 90,
     "metadata": {},
     "output_type": "execute_result"
    }
   ],
   "source": [
    "school.file_read"
   ]
  },
  {
   "cell_type": "code",
   "execution_count": 91,
   "id": "59ee1a35-0f85-49cb-ab20-190042226b4f",
   "metadata": {},
   "outputs": [
    {
     "data": {
      "text/plain": [
       "<bound method data.file_append of <__main__.data object at 0x000001E912B44ED0>>"
      ]
     },
     "execution_count": 91,
     "metadata": {},
     "output_type": "execute_result"
    }
   ],
   "source": [
    "school.file_append"
   ]
  },
  {
   "cell_type": "code",
   "execution_count": 92,
   "id": "1ccd6012-46d5-46ec-b2f0-da9c9595eebb",
   "metadata": {},
   "outputs": [],
   "source": [
    "school.log_message('this is a log message')"
   ]
  },
  {
   "cell_type": "code",
   "execution_count": null,
   "id": "b49a5348-00fa-4daf-8fd1-e4559d66d63e",
   "metadata": {},
   "outputs": [],
   "source": []
  },
  {
   "cell_type": "code",
   "execution_count": null,
   "id": "cccee63a-8a4a-4170-8871-178b878ce0be",
   "metadata": {},
   "outputs": [],
   "source": []
  }
 ],
 "metadata": {
  "kernelspec": {
   "display_name": "Python 3 (ipykernel)",
   "language": "python",
   "name": "python3"
  },
  "language_info": {
   "codemirror_mode": {
    "name": "ipython",
    "version": 3
   },
   "file_extension": ".py",
   "mimetype": "text/x-python",
   "name": "python",
   "nbconvert_exporter": "python",
   "pygments_lexer": "ipython3",
   "version": "3.11.7"
  }
 },
 "nbformat": 4,
 "nbformat_minor": 5
}
