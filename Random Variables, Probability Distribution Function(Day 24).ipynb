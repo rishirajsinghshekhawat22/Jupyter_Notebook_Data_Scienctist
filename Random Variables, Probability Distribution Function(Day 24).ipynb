{
 "cells": [
  {
   "cell_type": "code",
   "execution_count": 1,
   "id": "2c811b9b-ac55-46d6-9ef3-4dd2f731d363",
   "metadata": {},
   "outputs": [],
   "source": [
    "# Position Mean\n",
    "# Summation of entire dataset/number of dataset."
   ]
  },
  {
   "cell_type": "code",
   "execution_count": 2,
   "id": "89ea0695-cd53-416e-b230-78cdafecb83f",
   "metadata": {},
   "outputs": [],
   "source": [
    "# What is Sample Mean?\n",
    "# Summation of entire dataset/number of dataset-1(n-1)\n",
    "\n",
    "# n-1 == Bessel correction. (Bessel was a scientist who corrected from using N to N-1)\n",
    "\n",
    "\n",
    "# Standard deviation in population is denoted with a sign signma.\n",
    "# In sample it's denoted with a sign S."
   ]
  },
  {
   "cell_type": "code",
   "execution_count": null,
   "id": "3860f0ad-d680-400b-b00a-40e0a7d786f7",
   "metadata": {},
   "outputs": [],
   "source": [
    "# Variance\n",
    "\n",
    "# How far our data set is.\n",
    "\n",
    "# Mean, Mode, Median, Standard Deviation, Variance."
   ]
  },
  {
   "cell_type": "code",
   "execution_count": 16,
   "id": "2701a758-21a7-4382-9c16-1a405fdeb20e",
   "metadata": {},
   "outputs": [
    {
     "data": {
      "text/plain": [
       "[-0.8827055217529692,\n",
       " -0.7395640857930282,\n",
       " -1.0258469577129101,\n",
       " -1.0258469577129101,\n",
       " -0.8827055217529692,\n",
       " -0.5964226498330872,\n",
       " -0.023856905993323407,\n",
       " 0.26242596592655854,\n",
       " 0.4055674018864995,\n",
       " 1.6938403255259682,\n",
       " 1.8369817614859092,\n",
       " 0.9781331457262633]"
      ]
     },
     "execution_count": 16,
     "metadata": {},
     "output_type": "execute_result"
    }
   ],
   "source": [
    "# Normal Distribution \n",
    "\n",
    "import numpy as np\n",
    "\n",
    "# We shall convert ND to SND to do stastics activities.\n",
    "# We will have to bring data into normal distribution from any skewness than only we will be able to work with Machine Learning.\n",
    "\n",
    "xi = [2,3,1,1,2,4,8,10,11,20,21,15]\n",
    "\n",
    "# xi is the population. \n",
    "\n",
    "# Mean = 8.16\n",
    "# Standard Deviation = 6.9\n",
    "# Median = 6\n",
    "\n",
    "mean = sum(xi)/len(xi)\n",
    "mean\n",
    "\n",
    "standard_deviation = np.std(xi)\n",
    "standard_deviation\n",
    "\n",
    "median = np.median(xi)\n",
    "\n",
    "# Z Stastics = data-mean/standard deviation\n",
    "\n",
    "#xi = 2-8.16/6.9 = 0.89\n",
    "# Now instead of using 2, we can use 0.89. \n",
    "\n",
    "z_stastics = [(i-mean)/standard_deviation for i in xi]\n",
    "z_stastics"
   ]
  },
  {
   "cell_type": "code",
   "execution_count": 21,
   "id": "8ab26831-7560-418c-83b1-395771f3709a",
   "metadata": {},
   "outputs": [
    {
     "data": {
      "text/plain": [
       "1.2027416100105862e-16"
      ]
     },
     "execution_count": 21,
     "metadata": {},
     "output_type": "execute_result"
    }
   ],
   "source": [
    "z_stastics_mean = sum(z_stastics)/len(z_stastics)\n",
    "z_stastics_mean\n"
   ]
  },
  {
   "cell_type": "code",
   "execution_count": 18,
   "id": "e61c17d0-2cc3-4838-b029-3911e249a118",
   "metadata": {},
   "outputs": [
    {
     "data": {
      "text/plain": [
       "1.0"
      ]
     },
     "execution_count": 18,
     "metadata": {},
     "output_type": "execute_result"
    }
   ],
   "source": [
    "np.std(z_stastics)"
   ]
  },
  {
   "cell_type": "code",
   "execution_count": null,
   "id": "7f27fc87-092e-4327-bfd5-64d8175734f2",
   "metadata": {},
   "outputs": [],
   "source": [
    "# There is a company which use to manufacture a light bulb, on an average the bulb last for 900 hours with the standard deviation is 80 hours . The life of light bulb is normally distributed 900+-80hours. What is the probability that the randomly selected light work with for 1000 hours or lesser than thousand hours. \n",
    "# Average Life = 900 hours\n",
    "# Standard Deviation = 80 \n",
    "# Data Set = 1000\n",
    "# What is the probability that it will work for 1000 hours?\n",
    "\n",
    "# data-mean/standard deviation = Z_Stastics\n",
    "# 1000-900/80 = 1.25\n",
    "\n",
    "# We will check the Z table "
   ]
  },
  {
   "cell_type": "code",
   "execution_count": null,
   "id": "0e8237f9-2161-4249-a0cf-fec792f965ed",
   "metadata": {},
   "outputs": [],
   "source": [
    "# Mean = 900 hours\n",
    "# SD = 80 \n",
    "# what is the Probability that this bulb with last for 600-800 hours.\n",
    "\n",
    "# Z_Stastics = data-mean/standard deviation\n",
    "# 600-900/80 = -3.75\n",
    "# 800-900/80 = -1.25\n",
    "\n",
    "# Probability = intersection of -1.25 - intersection of -3.75 in Z table.\n",
    "\n",
    "# 0.1056-0 = 0.1056 10.56% chances \n",
    "\n"
   ]
  },
  {
   "cell_type": "code",
   "execution_count": null,
   "id": "82fe0216-7877-4686-a814-2b8d4321bb13",
   "metadata": {},
   "outputs": [],
   "source": [
    "# Mean = 900\n",
    "# SD = 80\n",
    "# 800 to 1000\n",
    "\n",
    "# Z_statistics = Data-mean/SD\n",
    "\n",
    "# Range = 800-900/80 = -1.25\n",
    "# Range = 1000-900/80 = 1.25\n",
    "\n",
    "# Probability = Intersection of 1000 - intersection of 800 in Z table.\n",
    "\n",
    "# Probability = 0.89435-0.10565 = 0.7887\n",
    "\n",
    "# 78.87% Probability\n",
    "\n"
   ]
  },
  {
   "cell_type": "code",
   "execution_count": 39,
   "id": "8abada0d-8abd-4a59-aefe-9eb53957c182",
   "metadata": {},
   "outputs": [
    {
     "data": {
      "text/plain": [
       "15.009"
      ]
     },
     "execution_count": 39,
     "metadata": {},
     "output_type": "execute_result"
    }
   ],
   "source": [
    "xi = 2,1,5,3,4,2,2,1,5,6,3,10,7,8,9,1,4,5,3\n",
    "\n",
    "mean =(sum(xi)/len(xi))\n",
    "mean # 4.2631578947368425\n",
    "\n",
    "Standard_Deviation = np.std(xi)\n",
    "Standard_Deviation # 2.6525480354429796\n",
    "\n",
    "# What is the probability that you be able to complete the task in between 4 to 5 days?\n",
    "\n",
    "# Z_Stats = Data-Mean/SD\n",
    "\n",
    "Range_onedata = (4-4.26)/2.65\n",
    "Range_onedata # -0.1\n",
    "\n",
    "Range_Seconddata = (5-4.26)/2.65\n",
    "Range_Seconddata # 0.28\n",
    "\n",
    "# Probability = intersection of 5 in Z table - intersection of 4 in z table\n",
    "\n",
    "Probability = 0.61026-0.46017\n",
    "Probability * 100\n"
   ]
  },
  {
   "cell_type": "code",
   "execution_count": 35,
   "id": "d90831f4-a38a-4d0c-8ded-3bfd9c5d33ab",
   "metadata": {},
   "outputs": [
    {
     "data": {
      "text/plain": [
       "0.27924528301886803"
      ]
     },
     "execution_count": 35,
     "metadata": {},
     "output_type": "execute_result"
    }
   ],
   "source": [
    "(5-4.26)/2.65"
   ]
  },
  {
   "cell_type": "code",
   "execution_count": 37,
   "id": "9e05b919-3a33-48b9-9d8c-1d744d592c9e",
   "metadata": {},
   "outputs": [
    {
     "data": {
      "text/plain": [
       "-15.009"
      ]
     },
     "execution_count": 37,
     "metadata": {},
     "output_type": "execute_result"
    }
   ],
   "source": [
    "Probability = 0.46017-0.61026\n",
    "Probability * 100"
   ]
  },
  {
   "cell_type": "code",
   "execution_count": null,
   "id": "9cabd722-86d0-426e-850b-b6e1f1f59ad5",
   "metadata": {},
   "outputs": [],
   "source": []
  }
 ],
 "metadata": {
  "kernelspec": {
   "display_name": "Python 3 (ipykernel)",
   "language": "python",
   "name": "python3"
  },
  "language_info": {
   "codemirror_mode": {
    "name": "ipython",
    "version": 3
   },
   "file_extension": ".py",
   "mimetype": "text/x-python",
   "name": "python",
   "nbconvert_exporter": "python",
   "pygments_lexer": "ipython3",
   "version": "3.11.7"
  }
 },
 "nbformat": 4,
 "nbformat_minor": 5
}
