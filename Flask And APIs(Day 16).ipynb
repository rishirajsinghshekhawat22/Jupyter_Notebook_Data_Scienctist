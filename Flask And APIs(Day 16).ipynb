{
 "cells": [
  {
   "cell_type": "code",
   "execution_count": null,
   "id": "ec4e3d62-3ead-49ee-9d1f-56c5b1def12b",
   "metadata": {},
   "outputs": [],
   "source": [
    "# API = Application Programming Interface\n",
    "# To establish connection/communication between two hetrogenous or homogenous application. \n",
    "# It's a bridge between applications."
   ]
  },
  {
   "cell_type": "code",
   "execution_count": 1,
   "id": "6b57577b-83d7-4971-b1f3-c10095452a92",
   "metadata": {},
   "outputs": [],
   "source": [
    "# Frameworks, using which we can create an API.\n",
    "# Flask\n",
    "# Django"
   ]
  },
  {
   "cell_type": "code",
   "execution_count": null,
   "id": "96c68701-76ec-44b0-9a40-6e0a053bfddb",
   "metadata": {},
   "outputs": [],
   "source": [
    "#Procedure \n",
    "# SOAP = Simple Object Access Protocal (It's a protocol(HTTP, HTTPs))\n",
    "# REST = Representation State Transfer (It's an architect(It doesn't follow any rule but gives final output))\n",
    "\n",
    "# We now use REST more. SOAP was famous in past.\n",
    "\n",
    "# It's way or structure through which we can create an API."
   ]
  },
  {
   "cell_type": "code",
   "execution_count": null,
   "id": "69c62dcd-f1eb-4600-b654-b7e86c9af753",
   "metadata": {},
   "outputs": [],
   "source": [
    "#Flask\n",
    "# It's a Micro Web Developement Framework \n",
    "# Micro = In a simplest way we will be able to create API\n",
    "# Web Framework = Internally flask is using two components, werkzeug framework and jinja framework.\n",
    "# Werkzeug = It's a protocal WSGI Web Server Gateway Interface\n",
    "#WSGI = It will be responsible to call other system.\n",
    "# Jinja = It provides templates to flask."
   ]
  },
  {
   "cell_type": "code",
   "execution_count": 2,
   "id": "a5a61417-521b-4f9b-aff6-537b8f7ada43",
   "metadata": {},
   "outputs": [],
   "source": [
    "# Datas can be sent in multiple ways."
   ]
  },
  {
   "cell_type": "code",
   "execution_count": null,
   "id": "90292744-51dd-446a-a908-a2fab46c3e77",
   "metadata": {},
   "outputs": [],
   "source": [
    "# Get & Post Method (Put And Delete Methods are also available)\n",
    "# Get and Post both means sending a data.\n",
    "# Two examples: GET = Google Query (When we will be able to see the data in the url itself what we are looking for), for example searching for deeplearning, or any other topic. (It sends data to URL)\n",
    "# Post = Email authentication/Email logging.(It sends data to Body) Body = Kind of function which doesn't allow to put data in the url.\n",
    "\n",
    "#Server And Client\n",
    "# Client = From whatever system you are trying to make a call to get the data.\n",
    "# Server = The system which is executing my request.\n"
   ]
  },
  {
   "cell_type": "code",
   "execution_count": null,
   "id": "f945625e-98be-43bf-a8cd-913a1b07cf0f",
   "metadata": {},
   "outputs": [],
   "source": [
    "# Put is used to update the data.\n",
    "# Delete is used to delete the data."
   ]
  },
  {
   "cell_type": "code",
   "execution_count": 3,
   "id": "9a847dcc-0107-41d1-bfb8-6400c2a322ee",
   "metadata": {},
   "outputs": [],
   "source": [
    "def add(a,b):\n",
    "    return a+b\n",
    "    "
   ]
  },
  {
   "cell_type": "code",
   "execution_count": 4,
   "id": "1e092ecb-2228-4365-b1c6-17d38f12d026",
   "metadata": {},
   "outputs": [
    {
     "data": {
      "text/plain": [
       "15"
      ]
     },
     "execution_count": 4,
     "metadata": {},
     "output_type": "execute_result"
    }
   ],
   "source": [
    "add(5,10)"
   ]
  },
  {
   "cell_type": "code",
   "execution_count": 5,
   "id": "7c752eee-0987-4600-ac0c-04a157795433",
   "metadata": {},
   "outputs": [],
   "source": [
    "# Calling add method in a different way, through different tool or browser. For that we will have to create a connection between python program and the other system."
   ]
  },
  {
   "cell_type": "code",
   "execution_count": 1,
   "id": "5b2ead0f-710d-4d45-a4c9-e9628dc93002",
   "metadata": {},
   "outputs": [],
   "source": [
    "#URL AND DNS"
   ]
  },
  {
   "cell_type": "code",
   "execution_count": 2,
   "id": "c81a8d06-cbc1-4fe3-8e13-e93fb2bc2b8e",
   "metadata": {},
   "outputs": [],
   "source": [
    "import math \n"
   ]
  },
  {
   "cell_type": "code",
   "execution_count": 7,
   "id": "79419da4-93cb-47f4-b61a-059b195fcfce",
   "metadata": {},
   "outputs": [],
   "source": [
    "def math_operation_vi_postman(operation,num1,num2):\n",
    "    if (operation == \"add\"):\n",
    "        return num1+num2\n",
    "    if (operation == 'Subtract'):\n",
    "        return num1-num2\n",
    "    if (operation == 'multiply'):\n",
    "        return num1*num2\n",
    "    if (operation == 'divide'):\n",
    "        return num1/num2"
   ]
  },
  {
   "cell_type": "code",
   "execution_count": 11,
   "id": "bf75a282-ad0a-4954-b54e-c34670dde289",
   "metadata": {},
   "outputs": [
    {
     "data": {
      "text/plain": [
       "0.625"
      ]
     },
     "execution_count": 11,
     "metadata": {},
     "output_type": "execute_result"
    }
   ],
   "source": [
    "math_operation_vi_postman('divide',5,8)"
   ]
  },
  {
   "cell_type": "code",
   "execution_count": null,
   "id": "c65704ca-580d-4c8f-8e19-e92d611e55c1",
   "metadata": {},
   "outputs": [],
   "source": []
  },
  {
   "cell_type": "code",
   "execution_count": null,
   "id": "bdc71a51-5c89-4dcd-b9f2-cef2f747e0ed",
   "metadata": {},
   "outputs": [],
   "source": []
  }
 ],
 "metadata": {
  "kernelspec": {
   "display_name": "Python 3 (ipykernel)",
   "language": "python",
   "name": "python3"
  },
  "language_info": {
   "codemirror_mode": {
    "name": "ipython",
    "version": 3
   },
   "file_extension": ".py",
   "mimetype": "text/x-python",
   "name": "python",
   "nbconvert_exporter": "python",
   "pygments_lexer": "ipython3",
   "version": "3.11.7"
  }
 },
 "nbformat": 4,
 "nbformat_minor": 5
}
