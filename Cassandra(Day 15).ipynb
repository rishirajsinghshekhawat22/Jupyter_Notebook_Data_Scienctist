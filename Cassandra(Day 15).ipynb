{
 "cells": [
  {
   "cell_type": "code",
   "execution_count": 1,
   "id": "965ec48c-467d-45c5-ac61-6c6c0800e0e3",
   "metadata": {},
   "outputs": [],
   "source": [
    "# Casandra is a NOSQL database.\n",
    "# Query wise, it has a feature like SQL and in terms of infrastructure it has inherited the properties of hdfs file/big data .\n",
    "# High availability: Down time will very less.\n",
    "# Casandra is very fast.\n",
    "# Casandra supports replication. We can create replicas."
   ]
  },
  {
   "cell_type": "code",
   "execution_count": 3,
   "id": "e201a7cb-f5df-483e-a6bf-b0a0fe8739bc",
   "metadata": {},
   "outputs": [
    {
     "name": "stdout",
     "output_type": "stream",
     "text": [
      "Requirement already satisfied: cassandra-driver in c:\\users\\user\\anaconda3\\lib\\site-packages (3.29.1)\n",
      "Requirement already satisfied: geomet<0.3,>=0.1 in c:\\users\\user\\anaconda3\\lib\\site-packages (from cassandra-driver) (0.2.1.post1)\n",
      "Requirement already satisfied: click in c:\\users\\user\\anaconda3\\lib\\site-packages (from geomet<0.3,>=0.1->cassandra-driver) (8.1.7)\n",
      "Requirement already satisfied: six in c:\\users\\user\\anaconda3\\lib\\site-packages (from geomet<0.3,>=0.1->cassandra-driver) (1.16.0)\n",
      "Requirement already satisfied: colorama in c:\\users\\user\\anaconda3\\lib\\site-packages (from click->geomet<0.3,>=0.1->cassandra-driver) (0.4.6)\n"
     ]
    }
   ],
   "source": [
    "!pip install cassandra-driver"
   ]
  },
  {
   "cell_type": "code",
   "execution_count": null,
   "id": "e2d7da17-c2df-44c3-bffc-20f72430baa1",
   "metadata": {},
   "outputs": [],
   "source": [
    "import cassandra"
   ]
  },
  {
   "cell_type": "code",
   "execution_count": 7,
   "id": "bd28673b-1907-498c-b80e-5cd72ec75048",
   "metadata": {},
   "outputs": [
    {
     "name": "stdout",
     "output_type": "stream",
     "text": [
      "3.29.1\n"
     ]
    }
   ],
   "source": [
    "print(cassandra.__version__)"
   ]
  },
  {
   "cell_type": "code",
   "execution_count": 31,
   "id": "928371d9-3a05-4175-907a-a8b56ae91efc",
   "metadata": {},
   "outputs": [
    {
     "data": {
      "text/plain": [
       "'C:\\\\Users\\\\USER\\\\Desktop\\\\Full Stack Data Science (Ineuron)'"
      ]
     },
     "execution_count": 31,
     "metadata": {},
     "output_type": "execute_result"
    }
   ],
   "source": [
    "pwd"
   ]
  },
  {
   "cell_type": "code",
   "execution_count": 32,
   "id": "5f1db44a-8f5a-45ab-9ece-98b201ed798c",
   "metadata": {},
   "outputs": [
    {
     "name": "stdout",
     "output_type": "stream",
     "text": [
      "[WinError 267] The directory name is invalid: 'C:\\\\Users\\\\USER\\\\Downloads\\\\secure-connect-cassandradb.zip'\n",
      "C:\\Users\\USER\\Desktop\\Full Stack Data Science (Ineuron)\n"
     ]
    }
   ],
   "source": [
    "cd \"C:\\Users\\USER\\Downloads\\secure-connect-cassandradb.zip\""
   ]
  },
  {
   "cell_type": "code",
   "execution_count": 35,
   "id": "9c823866-c790-4c30-94a8-c7f823a28d5e",
   "metadata": {},
   "outputs": [],
   "source": [
    "import os"
   ]
  },
  {
   "cell_type": "code",
   "execution_count": 36,
   "id": "712105ab-751e-438d-8a41-fe7fb0aba814",
   "metadata": {},
   "outputs": [
    {
     "data": {
      "text/plain": [
       "'C:\\\\Users\\\\USER\\\\Desktop\\\\Full Stack Data Science (Ineuron)'"
      ]
     },
     "execution_count": 36,
     "metadata": {},
     "output_type": "execute_result"
    }
   ],
   "source": [
    "os.getcwd()"
   ]
  },
  {
   "cell_type": "code",
   "execution_count": 39,
   "id": "0e8c1043-8068-4181-8dcf-b3c911b18239",
   "metadata": {},
   "outputs": [],
   "source": [
    "os.chdir(r'C:\\Users\\USER\\Downloads')"
   ]
  },
  {
   "cell_type": "code",
   "execution_count": 40,
   "id": "3d58ec72-31f8-4e6f-8703-c3c6c4c86d35",
   "metadata": {},
   "outputs": [
    {
     "data": {
      "text/plain": [
       "'C:\\\\Users\\\\USER\\\\Downloads'"
      ]
     },
     "execution_count": 40,
     "metadata": {},
     "output_type": "execute_result"
    }
   ],
   "source": [
    "pwd"
   ]
  },
  {
   "cell_type": "code",
   "execution_count": null,
   "id": "a3c03ebe-2b11-451e-9d92-078bcdb9bc97",
   "metadata": {},
   "outputs": [],
   "source": []
  },
  {
   "cell_type": "code",
   "execution_count": 45,
   "id": "f360d145-96d4-4629-8fe5-1ad4cc5ef4df",
   "metadata": {},
   "outputs": [
    {
     "name": "stdout",
     "output_type": "stream",
     "text": [
      "Requirement already satisfied: cassandra-driver in c:\\users\\user\\anaconda3\\lib\\site-packages (3.29.1)\n",
      "Requirement already satisfied: geomet<0.3,>=0.1 in c:\\users\\user\\anaconda3\\lib\\site-packages (from cassandra-driver) (0.2.1.post1)\n",
      "Requirement already satisfied: click in c:\\users\\user\\anaconda3\\lib\\site-packages (from geomet<0.3,>=0.1->cassandra-driver) (8.1.7)\n",
      "Requirement already satisfied: six in c:\\users\\user\\anaconda3\\lib\\site-packages (from geomet<0.3,>=0.1->cassandra-driver) (1.16.0)\n",
      "Requirement already satisfied: colorama in c:\\users\\user\\anaconda3\\lib\\site-packages (from click->geomet<0.3,>=0.1->cassandra-driver) (0.4.6)\n",
      "Note: you may need to restart the kernel to use updated packages.\n"
     ]
    }
   ],
   "source": [
    "pip install cassandra-driver"
   ]
  },
  {
   "cell_type": "code",
   "execution_count": 47,
   "id": "2fac3382-a9bf-46e8-ba19-f1d6764e2deb",
   "metadata": {},
   "outputs": [
    {
     "name": "stdout",
     "output_type": "stream",
     "text": [
      "3.29.1\n"
     ]
    }
   ],
   "source": [
    "print(cassandra.__version__)"
   ]
  },
  {
   "cell_type": "code",
   "execution_count": 51,
   "id": "11f38eed-fb82-49a9-ba24-0789a8278909",
   "metadata": {},
   "outputs": [
    {
     "name": "stdout",
     "output_type": "stream",
     "text": [
      "4.0.0.6816\n"
     ]
    }
   ],
   "source": [
    "from cassandra.cluster import Cluster\n",
    "from cassandra.auth import PlainTextAuthProvider\n",
    "import json\n",
    "\n",
    "# This secure connect bundle is autogenerated when you download your SCB, \n",
    "# if yours is different update the file name below\n",
    "cloud_config= {\n",
    "  'secure_connect_bundle': 'secure-connect-cassandradb.zip'\n",
    "}\n",
    "\n",
    "# This token JSON file is autogenerated when you download your token, \n",
    "# if yours is different update the file name below\n",
    "with open(\"CassandraDB-token.json\") as f:\n",
    "    secrets = json.load(f)\n",
    "\n",
    "CLIENT_ID = secrets[\"clientId\"]\n",
    "CLIENT_SECRET = secrets[\"secret\"]\n",
    "\n",
    "auth_provider = PlainTextAuthProvider(CLIENT_ID, CLIENT_SECRET)\n",
    "cluster = Cluster(cloud=cloud_config, auth_provider=auth_provider)\n",
    "session = cluster.connect()\n",
    "\n",
    "row = session.execute(\"select release_version from system.local\").one()\n",
    "if row:\n",
    "  print(row[0])\n",
    "else:\n",
    "  print(\"An error occurred.\")"
   ]
  },
  {
   "cell_type": "code",
   "execution_count": 55,
   "id": "600de26b-aa06-4f86-b6a2-0ad59177e96d",
   "metadata": {},
   "outputs": [
    {
     "name": "stdout",
     "output_type": "stream",
     "text": [
      "3.11.17\n"
     ]
    }
   ],
   "source": [
    "from cassandra.cluster import Cluster\n",
    "cluster =Cluster()\n",
    "session_offline=cluster.connect()\n",
    "row = session_offline.execute(\"select release_version from system.local\").one()\n",
    "if row:\n",
    "  print(row[0])\n",
    "else:\n",
    "  print(\"An error occurred.\")"
   ]
  },
  {
   "cell_type": "code",
   "execution_count": 54,
   "id": "1f9b2094-af94-4abe-9fe9-a613ece5bae9",
   "metadata": {},
   "outputs": [
    {
     "ename": "SyntaxError",
     "evalue": "invalid syntax (297889307.py, line 1)",
     "output_type": "error",
     "traceback": [
      "\u001b[1;36m  Cell \u001b[1;32mIn[54], line 1\u001b[1;36m\u001b[0m\n\u001b[1;33m    create keyspace rish\u001b[0m\n\u001b[1;37m           ^\u001b[0m\n\u001b[1;31mSyntaxError\u001b[0m\u001b[1;31m:\u001b[0m invalid syntax\n"
     ]
    }
   ],
   "source": [
    "CREATE KEYSPACE happy WITH replication={'class':'SimpleStrategy','replication_factor':'1'} AND durable_writes='true';\n"
   ]
  },
  {
   "cell_type": "code",
   "execution_count": null,
   "id": "e2a27cf5-d964-47e7-9dec-3db8b074fc3d",
   "metadata": {},
   "outputs": [],
   "source": [
    "CREATE KEYSPACE happy WITH replication={'class':'SimpleStrategy','replication_factor':'1'} AND durable_writes='true';\n",
    "# just like we create database, in cassandra we create keyspace and then table under it."
   ]
  },
  {
   "cell_type": "code",
   "execution_count": 56,
   "id": "6e4b275f-def0-49e6-a774-3cfe58bdad85",
   "metadata": {},
   "outputs": [
    {
     "name": "stdout",
     "output_type": "stream",
     "text": [
      "An error occurred.\n"
     ]
    }
   ],
   "source": [
    "from cassandra.cluster import Cluster\n",
    "cluster =Cluster()\n",
    "session_offline=cluster.connect()\n",
    "row = session_offline.execute(\"CREATE KEYSPACE happy WITH replication={'class':'SimpleStrategy','replication_factor':'1'} AND durable_writes='true';\").one()\n",
    "if row:\n",
    "  print(row[0])\n",
    "else:\n",
    "  print(\"An error occurred.\")"
   ]
  },
  {
   "cell_type": "code",
   "execution_count": 66,
   "id": "40356eb2-e2bb-4393-b285-24ccf0f8fdf6",
   "metadata": {},
   "outputs": [
    {
     "ename": "SyntaxException",
     "evalue": "<Error from server: code=2000 [Syntax error in CQL query] message=\"line 1:0 no viable alternative at input 'DESCRIBE' ([DESCRIBE]...)\">",
     "output_type": "error",
     "traceback": [
      "\u001b[1;31m---------------------------------------------------------------------------\u001b[0m",
      "\u001b[1;31mSyntaxException\u001b[0m                           Traceback (most recent call last)",
      "Cell \u001b[1;32mIn[66], line 4\u001b[0m\n\u001b[0;32m      2\u001b[0m cluster \u001b[38;5;241m=\u001b[39mCluster()\n\u001b[0;32m      3\u001b[0m session_offline\u001b[38;5;241m=\u001b[39mcluster\u001b[38;5;241m.\u001b[39mconnect()\n\u001b[1;32m----> 4\u001b[0m row \u001b[38;5;241m=\u001b[39m session_offline\u001b[38;5;241m.\u001b[39mexecute(\u001b[38;5;124m\"\u001b[39m\u001b[38;5;124mDESCRIBE raj\u001b[39m\u001b[38;5;124m\"\u001b[39m)\u001b[38;5;241m.\u001b[39mone()\n\u001b[0;32m      5\u001b[0m \u001b[38;5;28;01mif\u001b[39;00m row:\n\u001b[0;32m      6\u001b[0m   \u001b[38;5;28mprint\u001b[39m(row[\u001b[38;5;241m0\u001b[39m])\n",
      "File \u001b[1;32m~\\anaconda3\\Lib\\site-packages\\cassandra\\cluster.py:2677\u001b[0m, in \u001b[0;36mcassandra.cluster.Session.execute\u001b[1;34m()\u001b[0m\n",
      "File \u001b[1;32m~\\anaconda3\\Lib\\site-packages\\cassandra\\cluster.py:4956\u001b[0m, in \u001b[0;36mcassandra.cluster.ResponseFuture.result\u001b[1;34m()\u001b[0m\n",
      "\u001b[1;31mSyntaxException\u001b[0m: <Error from server: code=2000 [Syntax error in CQL query] message=\"line 1:0 no viable alternative at input 'DESCRIBE' ([DESCRIBE]...)\">"
     ]
    }
   ],
   "source": [
    "from cassandra.cluster import Cluster\n",
    "cluster =Cluster()\n",
    "session_offline=cluster.connect()\n",
    "row = session_offline.execute(\"DESCRIBE raj\").one()\n",
    "if row:\n",
    "  print(row[0])\n",
    "else:\n",
    "  print(\"An error occurred.\")"
   ]
  },
  {
   "cell_type": "code",
   "execution_count": null,
   "id": "c20e87d0-657e-401f-b573-7045cc12ed7c",
   "metadata": {},
   "outputs": [],
   "source": [
    "table_definition: |\n",
    "  CREATE TABLE typestest (\n",
    "        name text,\n",
    "        choice boolean,\n",
    "        date timestamp,\n",
    "        address inet,\n",
    "        dbl double,\n",
    "        lval bigint,\n",
    "        ival int,\n",
    "        uid timeuuid,\n",
    "        value blob,\n",
    "        PRIMARY KEY((name,choice), date, address, dbl, lval, ival, uid)\n",
    "  ) "
   ]
  },
  {
   "cell_type": "code",
   "execution_count": null,
   "id": "bba0a19c-6005-4b2d-ac57-999cc28a1146",
   "metadata": {},
   "outputs": [],
   "source": [
    "# write variety of queries for cassandra(25 queries.)"
   ]
  },
  {
   "cell_type": "code",
   "execution_count": null,
   "id": "c8310e23-fc05-4b44-8f8c-a679de049df6",
   "metadata": {},
   "outputs": [],
   "source": []
  }
 ],
 "metadata": {
  "kernelspec": {
   "display_name": "Python 3 (ipykernel)",
   "language": "python",
   "name": "python3"
  },
  "language_info": {
   "codemirror_mode": {
    "name": "ipython",
    "version": 3
   },
   "file_extension": ".py",
   "mimetype": "text/x-python",
   "name": "python",
   "nbconvert_exporter": "python",
   "pygments_lexer": "ipython3",
   "version": "3.11.7"
  }
 },
 "nbformat": 4,
 "nbformat_minor": 5
}
