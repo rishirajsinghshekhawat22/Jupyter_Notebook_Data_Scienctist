{
 "cells": [
  {
   "cell_type": "code",
   "execution_count": 2,
   "id": "1056abeb-145d-4830-b4a9-f98b2b9334d9",
   "metadata": {},
   "outputs": [],
   "source": [
    "import mysql.connector as connection\n",
    "\n",
    "#Creating a database\n",
    "\n",
    "mydatabase = connection.connect(host = 'localhost',user = 'root',passwd = 'mysql',use_pure = True)\n",
    "\n",
    "query = \"Create Database rishi\"\n",
    "cursor = mydatabase.cursor()\n",
    "cursor.execute(query)\n",
    "mydatabase.close()\n",
    "\n"
   ]
  },
  {
   "cell_type": "code",
   "execution_count": 9,
   "id": "c376b808-192e-4aa4-b6aa-60189a988ab0",
   "metadata": {},
   "outputs": [
    {
     "name": "stdout",
     "output_type": "stream",
     "text": [
      "1050 (42S01): Table 'happydetails' already exists\n"
     ]
    }
   ],
   "source": [
    "try:\n",
    "    mydatabase = connection.connect(host = 'localhost',user = 'root',database = 'happy', passwd = 'mysql',use_pure = True)\n",
    "    mydatabase.is_connected()\n",
    "    \n",
    "    query = 'Create table happydetails(name Varchar(10),class Varchar(5),Rollnumber INT(10))'\n",
    "    cursor = mydatabase.cursor()\n",
    "    cursor.execute(query)\n",
    "    print('Table Created')\n",
    "except Exception as e:\n",
    "    print(e)"
   ]
  },
  {
   "cell_type": "code",
   "execution_count": 8,
   "id": "7ffea9ff-3902-4b24-956d-6ceba447dd02",
   "metadata": {},
   "outputs": [
    {
     "name": "stdout",
     "output_type": "stream",
     "text": [
      "Values inserted into the tables\n"
     ]
    }
   ],
   "source": [
    "try:\n",
    "    mydatabase = connection.connect(host = 'localhost',user = 'root',database = 'happy', passwd = 'mysql',use_pure = True)\n",
    "    mydatabase.is_connected()\n",
    "    \n",
    "    query = \"INSERT INTO happydetails VALUES('rishiraj','10B',5658)\"\n",
    "    cursor = mydatabase.cursor()\n",
    "    cursor.execute(query)\n",
    "    print('Values inserted into the tables')\n",
    "    mydatabase.commit() # It means when we would really like to input the data. without commit the data won't be inserted\n",
    "except Exception as e:\n",
    "    print(e)"
   ]
  },
  {
   "cell_type": "code",
   "execution_count": null,
   "id": "39780309-b501-408c-a214-fc3811257799",
   "metadata": {},
   "outputs": [],
   "source": [
    "try: \n",
    "    mydata = connection.connect(host = 'localhost',user = 'root',database = 'rishi',passwd = 'mysql',use_pure = True)\n",
    "    mydata.is_connected()\n",
    "\n",
    "    query = 'select * from rishidetails'\n",
    "    \n",
    "    cursor = mydata.cursor()\n",
    "    cursor.execute(query)\n",
    "    for result in cursor.fetchall():\n",
    "        print(result)\n",
    "    mydata.close()\n",
    "except Exception as e:\n",
    "    print(e)"
   ]
  },
  {
   "cell_type": "code",
   "execution_count": null,
   "id": "63e013ca-b237-4c67-b41f-c1ae12adbc8d",
   "metadata": {},
   "outputs": [],
   "source": []
  }
 ],
 "metadata": {
  "kernelspec": {
   "display_name": "Python 3 (ipykernel)",
   "language": "python",
   "name": "python3"
  },
  "language_info": {
   "codemirror_mode": {
    "name": "ipython",
    "version": 3
   },
   "file_extension": ".py",
   "mimetype": "text/x-python",
   "name": "python",
   "nbconvert_exporter": "python",
   "pygments_lexer": "ipython3",
   "version": "3.11.7"
  }
 },
 "nbformat": 4,
 "nbformat_minor": 5
}
