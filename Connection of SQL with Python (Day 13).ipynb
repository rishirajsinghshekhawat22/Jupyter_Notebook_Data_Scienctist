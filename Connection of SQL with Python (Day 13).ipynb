{
 "cells": [
  {
   "cell_type": "code",
   "execution_count": 9,
   "id": "44a30039-37b0-47d6-9161-89da983011b9",
   "metadata": {},
   "outputs": [],
   "source": [
    "# Introduction To Databases"
   ]
  },
  {
   "cell_type": "code",
   "execution_count": 10,
   "id": "d18f27cb-dee3-4a32-8bb3-2cad0bd87982",
   "metadata": {},
   "outputs": [],
   "source": [
    "#Database:\n",
    "# SQL [SQLlite, MySQL]\n",
    "# NOSQL [MongoDB,Casandra] # NOSQL = Not Only SQL\n",
    "\n",
    "#types of data\n",
    "#Structured data, unstructured data, semi structured data."
   ]
  },
  {
   "cell_type": "code",
   "execution_count": 11,
   "id": "2e79ae1b-a8dc-4518-8570-42796c88bf87",
   "metadata": {},
   "outputs": [
    {
     "name": "stdout",
     "output_type": "stream",
     "text": [
      "Requirement already satisfied: mysql-connector-python in c:\\users\\user\\anaconda3\\lib\\site-packages (8.3.0)\n"
     ]
    }
   ],
   "source": [
    "# Steps\n",
    "#.1 We will install the mysql connector \n",
    "#.2 We will import the connector\n",
    "#.3 We will establish the connection with database(Mysql)\n",
    "#.4 We will create table under database which will save the data. Database doesn't hold actual data but tables do. We can write query on table.\n",
    "\n",
    "\n",
    "!pip install mysql-connector-python"
   ]
  },
  {
   "cell_type": "code",
   "execution_count": 5,
   "id": "81aed158-4ccd-4cc2-bf1f-60ccd2254394",
   "metadata": {},
   "outputs": [],
   "source": [
    "import mysql.connector as connection"
   ]
  },
  {
   "cell_type": "code",
   "execution_count": 31,
   "id": "28e402a9-de31-4284-ab20-f975003b81e1",
   "metadata": {},
   "outputs": [
    {
     "name": "stdout",
     "output_type": "stream",
     "text": [
      "[('happy',), ('information_schema',), ('mysql',), ('performance_schema',), ('rishi',), ('sakila',), ('student',), ('sys',), ('world',)]\n"
     ]
    }
   ],
   "source": [
    "# after the connection only we will be able to make transaction, transaction means updation, creation, deletion of the table/data.\n",
    "try:\n",
    "    mydb = connection.connect(host=\"localhost\", user=\"root\", passwd=\"mysql\", use_pure=True)\n",
    "    # check if the connection is established\n",
    "    \n",
    "    query = \"SHOW DATABASES\"\n",
    "    \n",
    "    cursor = mydb.cursor()  # create a cursor to execute the query. \n",
    "    # it means, we are directing cursor at the top. after the execution it will get to the bottom.\n",
    "    cursor.execute(query)   # what we would like to execute. we have executed the query.\n",
    "    print(cursor.fetchall()) # We are fetching all the data.\n",
    "\n",
    "except Exception as e:\n",
    "    print(str(e))\n",
    "\n",
    "\n"
   ]
  },
  {
   "cell_type": "code",
   "execution_count": 32,
   "id": "18e51c1e-c60a-4c4f-9e78-79ccfce6f8b3",
   "metadata": {},
   "outputs": [
    {
     "data": {
      "text/plain": [
       "<mysql.connector.connection.MySQLConnection at 0x19af463a050>"
      ]
     },
     "execution_count": 32,
     "metadata": {},
     "output_type": "execute_result"
    }
   ],
   "source": [
    "connection.connect(host = \"localhost\", user = \"root\",passwd = \"mysql\",use_pure = True)\n"
   ]
  },
  {
   "cell_type": "code",
   "execution_count": 33,
   "id": "326e0394-3c65-4e17-b59d-b2ab99589d5c",
   "metadata": {},
   "outputs": [
    {
     "data": {
      "text/plain": [
       "'try:\\n    mydb = connection.connect(host= \\'127.0.0.1\\', user=\"root\", passwd=\"mysql\", use_pure=True)\\n    # check if the connection is established\\n    \\n    query = \"SHOW DATABASES\"\\n    \\n    cursor = mydb.cursor()  # create a cursor to execute queries\\n    cursor.execute(query)\\n    print(cursor.fetchall())\\n\\nexcept Exception as e:\\n    print(str(e))'"
      ]
     },
     "execution_count": 33,
     "metadata": {},
     "output_type": "execute_result"
    }
   ],
   "source": [
    "\"\"\"try:\n",
    "    mydb = connection.connect(host= '127.0.0.1', user=\"root\", passwd=\"mysql\", use_pure=True)\n",
    "    # check if the connection is established\n",
    "    \n",
    "    query = \"SHOW DATABASES\"\n",
    "    \n",
    "    cursor = mydb.cursor()  # create a cursor to execute queries\n",
    "    cursor.execute(query)\n",
    "    print(cursor.fetchall())\n",
    "\n",
    "except Exception as e:\n",
    "    print(str(e))\"\"\""
   ]
  },
  {
   "cell_type": "code",
   "execution_count": 34,
   "id": "bed062ae-3c75-4cf2-9dbb-95aec3b68dc9",
   "metadata": {},
   "outputs": [],
   "source": [
    "# Database doesn't hold data. Tables inside it do."
   ]
  },
  {
   "cell_type": "code",
   "execution_count": 35,
   "id": "a4f63cbc-e929-47f5-8cdc-884cb7ce6ab6",
   "metadata": {},
   "outputs": [],
   "source": [
    "conn = connection.connect(host ='localhost',user='root',passwd = 'mysql',use_pure = True)"
   ]
  },
  {
   "cell_type": "code",
   "execution_count": 36,
   "id": "fec48bf5-07e7-4af6-b5cd-b47ce2a8ae72",
   "metadata": {},
   "outputs": [],
   "source": [
    "cur = conn.cursor() # it means, we are directing cursor at the top. after the execution it will get to the bottom."
   ]
  },
  {
   "cell_type": "code",
   "execution_count": 37,
   "id": "db44b399-54dc-4f2e-97d7-b3c3a5c9c05c",
   "metadata": {},
   "outputs": [],
   "source": [
    "cur.execute('show databases') # what we would like to execute. we have executed the query."
   ]
  },
  {
   "cell_type": "code",
   "execution_count": 38,
   "id": "5777c6b4-a5ba-4ebe-88a5-96a02c4d775f",
   "metadata": {},
   "outputs": [],
   "source": [
    "res = cur.fetchall()"
   ]
  },
  {
   "cell_type": "code",
   "execution_count": 39,
   "id": "e10a012c-1d82-47c9-b505-283aaacd520c",
   "metadata": {},
   "outputs": [
    {
     "data": {
      "text/plain": [
       "[('happy',),\n",
       " ('information_schema',),\n",
       " ('mysql',),\n",
       " ('performance_schema',),\n",
       " ('rishi',),\n",
       " ('sakila',),\n",
       " ('student',),\n",
       " ('sys',),\n",
       " ('world',)]"
      ]
     },
     "execution_count": 39,
     "metadata": {},
     "output_type": "execute_result"
    }
   ],
   "source": [
    "res"
   ]
  },
  {
   "cell_type": "code",
   "execution_count": 40,
   "id": "c30b5c77-b98c-4419-902f-4065e552e5d2",
   "metadata": {},
   "outputs": [
    {
     "name": "stdout",
     "output_type": "stream",
     "text": [
      "happy\n",
      "information_schema\n",
      "mysql\n",
      "performance_schema\n",
      "rishi\n",
      "sakila\n",
      "student\n",
      "sys\n",
      "world\n"
     ]
    }
   ],
   "source": [
    "for i in res:\n",
    "    print(i[0])"
   ]
  },
  {
   "cell_type": "code",
   "execution_count": 41,
   "id": "7fbdcf5f-4345-412b-9929-a0aaa5ee0fb1",
   "metadata": {},
   "outputs": [],
   "source": [
    "# To create a new database\n",
    "import ipdb # to check the flow of code."
   ]
  },
  {
   "cell_type": "code",
   "execution_count": 42,
   "id": "cba49ffc-b83d-4739-a5d8-6159f59c1181",
   "metadata": {},
   "outputs": [],
   "source": [
    "def debug():\n",
    "    ipdb.set_trace() \n",
    "\n",
    "    try:\n",
    "        mydb = connection.connect(host = 'localhost',user='root',passwd='mysql',use_pure = True)\n",
    "        # check if the connection is established.\n",
    "        print(mydb.is_connected())\n",
    "    \n",
    "        query = \"Create Database Student;\" # this is a commond to create database create database and databasename\n",
    "        cursor = mydb.cursor() #create a cursor to execute query\n",
    "        cursor.execute(query)\n",
    "        print(\"Database Created\")\n",
    "        mydb.close()\n",
    "    except Exception as e:\n",
    "        mydb.close()\n",
    "        print(str(e))"
   ]
  },
  {
   "cell_type": "code",
   "execution_count": 43,
   "id": "db9009a8-41b1-4ea9-852a-4f0265c02073",
   "metadata": {},
   "outputs": [
    {
     "name": "stdout",
     "output_type": "stream",
     "text": [
      "[('happy',), ('information_schema',), ('mysql',), ('performance_schema',), ('rishi',), ('sakila',), ('student',), ('sys',), ('world',)]\n"
     ]
    }
   ],
   "source": [
    "# to see databases.\n",
    "try:\n",
    "    mydb = connection.connect(host = 'localhost',passwd = 'mysql',user = 'root',use_pure = True)\n",
    "    cursor = mydb.cursor()\n",
    "\n",
    "    query = 'show databases'\n",
    "    cursor.execute('show databases')\n",
    "    print(cursor.fetchall())\n",
    "except Exception as e:\n",
    "    print(e)"
   ]
  },
  {
   "cell_type": "code",
   "execution_count": 44,
   "id": "695d6005-b174-4425-a49d-41c5c2de3bf0",
   "metadata": {},
   "outputs": [],
   "source": [
    "# inside the new created database, we will create a table"
   ]
  },
  {
   "cell_type": "code",
   "execution_count": 6,
   "id": "076216d7-39f3-494e-8760-7c65e4116da7",
   "metadata": {},
   "outputs": [
    {
     "name": "stdout",
     "output_type": "stream",
     "text": [
      "True\n",
      "1064 (42000): You have an error in your SQL syntax; check the manual that corresponds to your MySQL server version for the right syntax to use near 'PRIMARY KEY,FirstName Varchar(50), LastName Varchar(60), RegistrationDate DATE,C' at line 1\n"
     ]
    }
   ],
   "source": [
    "try:\n",
    "    mydb = connection.connect(host ='localhost',database = \"Student\", user ='root',passwd = 'mysql',use_pure = True)\n",
    "    print(mydb.is_connected())\n",
    "\n",
    "    query = \"CREATE TABLE StudentDetails(StudentId INT(10), Auto_Increment PRIMARY KEY,FirstName Varchar(50), \"\\\n",
    "            \"LastName Varchar(60), RegistrationDate DATE,Class Varchar(20),Section Varchar(10))\"\n",
    "\n",
    "    cursor = mydb.cursor() # Create a cursor to execute query\n",
    "    cursor.execute(query)\n",
    "    print('Table Created')\n",
    "    mydb.close() # connection close\n",
    "except Exception as e:\n",
    "    mydb.close()\n",
    "    print(e)"
   ]
  },
  {
   "cell_type": "code",
   "execution_count": 7,
   "id": "6550b603-2d6b-4778-925b-d1fcf79b0e93",
   "metadata": {},
   "outputs": [
    {
     "ename": "ProgrammingError",
     "evalue": "1064 (42000): You have an error in your SQL syntax; check the manual that corresponds to your MySQL server version for the right syntax to use near '' at line 1",
     "output_type": "error",
     "traceback": [
      "\u001b[1;31m---------------------------------------------------------------------------\u001b[0m",
      "\u001b[1;31mProgrammingError\u001b[0m                          Traceback (most recent call last)",
      "Cell \u001b[1;32mIn[7], line 7\u001b[0m\n\u001b[0;32m      5\u001b[0m \u001b[38;5;66;03m# here we are creating a table name studentdetails with three columns x1,x2,x3 and we are saving integer data with lenght =5, Varchar = string in sql)\u001b[39;00m\n\u001b[0;32m      6\u001b[0m cursor \u001b[38;5;241m=\u001b[39m mydb\u001b[38;5;241m.\u001b[39mcursor()\n\u001b[1;32m----> 7\u001b[0m cursor\u001b[38;5;241m.\u001b[39mexecute(query)\n\u001b[0;32m      8\u001b[0m \u001b[38;5;28mprint\u001b[39m(\u001b[38;5;124m'\u001b[39m\u001b[38;5;124mTable Created\u001b[39m\u001b[38;5;124m'\u001b[39m)\n\u001b[0;32m      9\u001b[0m mydb\u001b[38;5;241m.\u001b[39mclose()\n",
      "File \u001b[1;32m~\\anaconda3\\Lib\\site-packages\\mysql\\connector\\cursor.py:748\u001b[0m, in \u001b[0;36mMySQLCursor.execute\u001b[1;34m(self, operation, params, multi)\u001b[0m\n\u001b[0;32m    745\u001b[0m     \u001b[38;5;28;01mreturn\u001b[39;00m \u001b[38;5;28mself\u001b[39m\u001b[38;5;241m.\u001b[39m_execute_iter(\u001b[38;5;28mself\u001b[39m\u001b[38;5;241m.\u001b[39m_connection\u001b[38;5;241m.\u001b[39mcmd_query_iter(stmt))\n\u001b[0;32m    747\u001b[0m \u001b[38;5;28;01mtry\u001b[39;00m:\n\u001b[1;32m--> 748\u001b[0m     \u001b[38;5;28mself\u001b[39m\u001b[38;5;241m.\u001b[39m_handle_result(\u001b[38;5;28mself\u001b[39m\u001b[38;5;241m.\u001b[39m_connection\u001b[38;5;241m.\u001b[39mcmd_query(stmt))\n\u001b[0;32m    749\u001b[0m \u001b[38;5;28;01mexcept\u001b[39;00m InterfaceError \u001b[38;5;28;01mas\u001b[39;00m err:\n\u001b[0;32m    750\u001b[0m     \u001b[38;5;28;01mif\u001b[39;00m \u001b[38;5;28mself\u001b[39m\u001b[38;5;241m.\u001b[39m_connection\u001b[38;5;241m.\u001b[39mhave_next_result:\n",
      "File \u001b[1;32m~\\anaconda3\\Lib\\site-packages\\mysql\\connector\\opentelemetry\\context_propagation.py:74\u001b[0m, in \u001b[0;36mwith_context_propagation.<locals>.wrapper\u001b[1;34m(cnx, *args, **kwargs)\u001b[0m\n\u001b[0;32m     72\u001b[0m \u001b[38;5;250m\u001b[39m\u001b[38;5;124;03m\"\"\"Context propagation decorator.\"\"\"\u001b[39;00m\n\u001b[0;32m     73\u001b[0m \u001b[38;5;28;01mif\u001b[39;00m \u001b[38;5;129;01mnot\u001b[39;00m OTEL_ENABLED \u001b[38;5;129;01mor\u001b[39;00m \u001b[38;5;129;01mnot\u001b[39;00m cnx\u001b[38;5;241m.\u001b[39motel_context_propagation:\n\u001b[1;32m---> 74\u001b[0m     \u001b[38;5;28;01mreturn\u001b[39;00m method(cnx, \u001b[38;5;241m*\u001b[39margs, \u001b[38;5;241m*\u001b[39m\u001b[38;5;241m*\u001b[39mkwargs)\n\u001b[0;32m     76\u001b[0m current_span \u001b[38;5;241m=\u001b[39m trace\u001b[38;5;241m.\u001b[39mget_current_span()\n\u001b[0;32m     77\u001b[0m tp_header \u001b[38;5;241m=\u001b[39m \u001b[38;5;28;01mNone\u001b[39;00m\n",
      "File \u001b[1;32m~\\anaconda3\\Lib\\site-packages\\mysql\\connector\\connection.py:855\u001b[0m, in \u001b[0;36mMySQLConnection.cmd_query\u001b[1;34m(self, query, raw, buffered, raw_as_string)\u001b[0m\n\u001b[0;32m    853\u001b[0m query \u001b[38;5;241m=\u001b[39m \u001b[38;5;28mbytes\u001b[39m(packet)\n\u001b[0;32m    854\u001b[0m \u001b[38;5;28;01mtry\u001b[39;00m:\n\u001b[1;32m--> 855\u001b[0m     result \u001b[38;5;241m=\u001b[39m \u001b[38;5;28mself\u001b[39m\u001b[38;5;241m.\u001b[39m_handle_result(\u001b[38;5;28mself\u001b[39m\u001b[38;5;241m.\u001b[39m_send_cmd(ServerCmd\u001b[38;5;241m.\u001b[39mQUERY, query))\n\u001b[0;32m    856\u001b[0m \u001b[38;5;28;01mexcept\u001b[39;00m ProgrammingError \u001b[38;5;28;01mas\u001b[39;00m err:\n\u001b[0;32m    857\u001b[0m     \u001b[38;5;28;01mif\u001b[39;00m err\u001b[38;5;241m.\u001b[39merrno \u001b[38;5;241m==\u001b[39m \u001b[38;5;241m3948\u001b[39m \u001b[38;5;129;01mand\u001b[39;00m \u001b[38;5;124m\"\u001b[39m\u001b[38;5;124mLoading local data is disabled\u001b[39m\u001b[38;5;124m\"\u001b[39m \u001b[38;5;129;01min\u001b[39;00m err\u001b[38;5;241m.\u001b[39mmsg:\n",
      "File \u001b[1;32m~\\anaconda3\\Lib\\site-packages\\mysql\\connector\\connection.py:631\u001b[0m, in \u001b[0;36mMySQLConnection._handle_result\u001b[1;34m(self, packet)\u001b[0m\n\u001b[0;32m    629\u001b[0m     \u001b[38;5;28;01mreturn\u001b[39;00m \u001b[38;5;28mself\u001b[39m\u001b[38;5;241m.\u001b[39m_handle_eof(packet)\n\u001b[0;32m    630\u001b[0m \u001b[38;5;28;01mif\u001b[39;00m packet[\u001b[38;5;241m4\u001b[39m] \u001b[38;5;241m==\u001b[39m \u001b[38;5;241m255\u001b[39m:\n\u001b[1;32m--> 631\u001b[0m     \u001b[38;5;28;01mraise\u001b[39;00m get_exception(packet)\n\u001b[0;32m    633\u001b[0m \u001b[38;5;66;03m# We have a text result set\u001b[39;00m\n\u001b[0;32m    634\u001b[0m column_count \u001b[38;5;241m=\u001b[39m \u001b[38;5;28mself\u001b[39m\u001b[38;5;241m.\u001b[39m_protocol\u001b[38;5;241m.\u001b[39mparse_column_count(packet)\n",
      "\u001b[1;31mProgrammingError\u001b[0m: 1064 (42000): You have an error in your SQL syntax; check the manual that corresponds to your MySQL server version for the right syntax to use near '' at line 1"
     ]
    }
   ],
   "source": [
    "mydb = connection.connect(host = 'localhost',database = 'Student',passwd = 'mysql',user = 'root',use_pure = True)\n",
    "mydb.is_connected()\n",
    "query = \"Create table Studentdetails(x1 INT(5),x2 VARCHAR(20), x3 DATE\"\n",
    "\n",
    "# here we are creating a table name studentdetails with three columns x1,x2,x3 and we are saving integer data with lenght =5, Varchar = string in sql)\n",
    "cursor = mydb.cursor()\n",
    "cursor.execute(query)\n",
    "print('Table Created')\n",
    "mydb.close()\n",
    "\n"
   ]
  },
  {
   "cell_type": "code",
   "execution_count": null,
   "id": "32c9d571-75eb-42ed-925a-3d1a558992af",
   "metadata": {},
   "outputs": [],
   "source": [
    "mydb = connection.connect(host = 'localhost',database = 'Student',passwd = 'mysql',user = 'root',use_pure = True)\n",
    "mydb.is_connected()\n",
    "query = \"create table studentdetails (x1 int(5), x2 varchar(20),x3 Date)\"\n",
    "cursor = mydb.cursor()\n",
    "cursor.execute(query)\n",
    "\n"
   ]
  },
  {
   "cell_type": "code",
   "execution_count": null,
   "id": "8fc110b5-cd1d-4fe1-8965-d5819791dd37",
   "metadata": {},
   "outputs": [],
   "source": [
    "#Creating a database\n",
    "\n",
    "mydb = connection.connect(host = 'localhost',user = 'root',passwd = 'mysql',use_pure = True)\n",
    "\n",
    "query = \"Create Database happy\"\n",
    "cursor = mydb.cursor()\n",
    "cursor.execute(query)\n",
    "mydatabase.close()"
   ]
  },
  {
   "cell_type": "code",
   "execution_count": null,
   "id": "b5c49419-ea02-4cda-9513-9a0ef943ffc7",
   "metadata": {},
   "outputs": [],
   "source": [
    "# inside the newly created database, we will create a table"
   ]
  },
  {
   "cell_type": "code",
   "execution_count": null,
   "id": "0fcdbfba-90d5-4989-8eda-a264cbd683e7",
   "metadata": {},
   "outputs": [],
   "source": [
    "try:\n",
    "    mydb = connection.connect(host = 'localhost',user = 'root',database = 'happy', passwd = 'mysql',use_pure = True)\n",
    "    mydb.is_connected()\n",
    "    \n",
    "    query = 'Create table happydetails(name Varchar(10),class Varchar(5),Rollnumber INT(10))'\n",
    "    cursor = mydb.cursor()\n",
    "    cursor.execute(query)\n",
    "    print('Table Created')\n",
    "except Exception as e:\n",
    "    print(e)"
   ]
  },
  {
   "cell_type": "code",
   "execution_count": null,
   "id": "b4481fea-7547-4da0-800b-a146118258b2",
   "metadata": {},
   "outputs": [],
   "source": [
    "# 4th step \n",
    "# Insert data inside table"
   ]
  },
  {
   "cell_type": "code",
   "execution_count": 2,
   "id": "56b17770-a698-46dd-a83c-4a5a5479a09f",
   "metadata": {},
   "outputs": [
    {
     "name": "stdout",
     "output_type": "stream",
     "text": [
      "name 'connection' is not defined\n"
     ]
    }
   ],
   "source": [
    "try:\n",
    "    mydb = connection.connect(host = 'localhost',user = 'root',database = 'happy', passwd = 'mysql',use_pure = True)\n",
    "    mydb.is_connected()\n",
    "    \n",
    "    query = \"INSERT INTO happydetails VALUES('rishiraj','10B',5658)\"\n",
    "    cursor = mydatabase.cursor()\n",
    "    cursor.execute(query)\n",
    "    print('Values inserted into the tables')\n",
    "    mydatabase.commit() # It means when we would really like to input the data. without commit the data won't be inserted\n",
    "except Exception as e:\n",
    "    print(e)"
   ]
  },
  {
   "cell_type": "code",
   "execution_count": 3,
   "id": "1672d640-fa35-4212-b175-5cf33593637b",
   "metadata": {},
   "outputs": [
    {
     "ename": "NameError",
     "evalue": "name 'connection' is not defined",
     "output_type": "error",
     "traceback": [
      "\u001b[1;31m---------------------------------------------------------------------------\u001b[0m",
      "\u001b[1;31mNameError\u001b[0m                                 Traceback (most recent call last)",
      "Cell \u001b[1;32mIn[3], line 1\u001b[0m\n\u001b[1;32m----> 1\u001b[0m mydb \u001b[38;5;241m=\u001b[39m connection\u001b[38;5;241m.\u001b[39mconnect(host \u001b[38;5;241m=\u001b[39m \u001b[38;5;124m'\u001b[39m\u001b[38;5;124mlocalhost\u001b[39m\u001b[38;5;124m'\u001b[39m,database \u001b[38;5;241m=\u001b[39m\u001b[38;5;124m'\u001b[39m\u001b[38;5;124mhappy\u001b[39m\u001b[38;5;124m'\u001b[39m,user \u001b[38;5;241m=\u001b[39m \u001b[38;5;124m'\u001b[39m\u001b[38;5;124mroot\u001b[39m\u001b[38;5;124m'\u001b[39m,passwd \u001b[38;5;241m=\u001b[39m \u001b[38;5;124m'\u001b[39m\u001b[38;5;124mmysql\u001b[39m\u001b[38;5;124m'\u001b[39m,use_pure \u001b[38;5;241m=\u001b[39m \u001b[38;5;28;01mTrue\u001b[39;00m)\n\u001b[0;32m      2\u001b[0m cur \u001b[38;5;241m=\u001b[39m mydb\u001b[38;5;241m.\u001b[39mcursor()\n\u001b[0;32m      3\u001b[0m cur\u001b[38;5;241m.\u001b[39mexecute(\u001b[38;5;124m\"\u001b[39m\u001b[38;5;124minsert into happydetails values (\u001b[39m\u001b[38;5;124m'\u001b[39m\u001b[38;5;124mrishiraj\u001b[39m\u001b[38;5;124m'\u001b[39m\u001b[38;5;124m,\u001b[39m\u001b[38;5;124m'\u001b[39m\u001b[38;5;124mfive\u001b[39m\u001b[38;5;124m'\u001b[39m\u001b[38;5;124m,54145155)\u001b[39m\u001b[38;5;124m\"\u001b[39m)\n",
      "\u001b[1;31mNameError\u001b[0m: name 'connection' is not defined"
     ]
    }
   ],
   "source": [
    "mydb = connection.connect(host = 'localhost',database ='happy',user = 'root',passwd = 'mysql',use_pure = True)\n",
    "cur = mydb.cursor()\n",
    "cur.execute(\"insert into happydetails values ('rishiraj','five',54145155)\")\n",
    "mydb.commit()\n",
    "# data insertion will go in the same sequence we mentioned while creating a table.\n",
    "# in this example, it's name, class, rollnumber\n",
    "# Date format = YYYY-MM-DD"
   ]
  },
  {
   "cell_type": "code",
   "execution_count": 4,
   "id": "947e286a-5049-47db-a79e-1791ca731bd5",
   "metadata": {},
   "outputs": [
    {
     "ename": "NameError",
     "evalue": "name 'cur' is not defined",
     "output_type": "error",
     "traceback": [
      "\u001b[1;31m---------------------------------------------------------------------------\u001b[0m",
      "\u001b[1;31mNameError\u001b[0m                                 Traceback (most recent call last)",
      "Cell \u001b[1;32mIn[4], line 1\u001b[0m\n\u001b[1;32m----> 1\u001b[0m cur\u001b[38;5;241m.\u001b[39mexecute(\u001b[38;5;124m\"\u001b[39m\u001b[38;5;124minsert into happydetails values (\u001b[39m\u001b[38;5;124m'\u001b[39m\u001b[38;5;124mrishiraj\u001b[39m\u001b[38;5;124m'\u001b[39m\u001b[38;5;124m,\u001b[39m\u001b[38;5;124m'\u001b[39m\u001b[38;5;124mfive\u001b[39m\u001b[38;5;124m'\u001b[39m\u001b[38;5;124m,54145155)\u001b[39m\u001b[38;5;124m\"\u001b[39m)\n\u001b[0;32m      2\u001b[0m cur\u001b[38;5;241m.\u001b[39mexecute(\u001b[38;5;124m\"\u001b[39m\u001b[38;5;124minsert into happydetails values (\u001b[39m\u001b[38;5;124m'\u001b[39m\u001b[38;5;124mrishiraj\u001b[39m\u001b[38;5;124m'\u001b[39m\u001b[38;5;124m,\u001b[39m\u001b[38;5;124m'\u001b[39m\u001b[38;5;124mfive\u001b[39m\u001b[38;5;124m'\u001b[39m\u001b[38;5;124m,54145155)\u001b[39m\u001b[38;5;124m\"\u001b[39m)\n\u001b[0;32m      3\u001b[0m cur\u001b[38;5;241m.\u001b[39mexecute(\u001b[38;5;124m\"\u001b[39m\u001b[38;5;124minsert into happydetails values (\u001b[39m\u001b[38;5;124m'\u001b[39m\u001b[38;5;124mrishiraj\u001b[39m\u001b[38;5;124m'\u001b[39m\u001b[38;5;124m,\u001b[39m\u001b[38;5;124m'\u001b[39m\u001b[38;5;124mfive\u001b[39m\u001b[38;5;124m'\u001b[39m\u001b[38;5;124m,54145155)\u001b[39m\u001b[38;5;124m\"\u001b[39m)\n",
      "\u001b[1;31mNameError\u001b[0m: name 'cur' is not defined"
     ]
    }
   ],
   "source": [
    "cur.execute(\"insert into happydetails values ('rishiraj','five',54145155)\")\n",
    "cur.execute(\"insert into happydetails values ('rishiraj','five',54145155)\")\n",
    "cur.execute(\"insert into happydetails values ('rishiraj','five',54145155)\")\n",
    "cur.execute(\"insert into happydetails values ('rishiraj','five',54145155)\")\n",
    "cur.execute(\"insert into happydetails values ('rishiraj','five',54145155)\")\n",
    "cur.execute(\"insert into happydetails values ('rishiraj','five',54145155)\")\n",
    "cur.execute(\"insert into happydetails values ('rishiraj','five',54145155)\")\n",
    "cur.execute(\"insert into happydetails values ('rishiraj','five',54145155)\")\n",
    "cur.execute(\"insert into happydetails values ('rishiraj','five',54145155)\")\n",
    "cur.execute(\"insert into happydetails values ('rishiraj','five',54145155)\")\n",
    "cur.execute(\"insert into happydetails values ('rishiraj','five',54145155)\")\n",
    "\n",
    "mydb.commit()\n",
    "\n",
    "# We can enter multiples rows but we will have to put commit after each insertion."
   ]
  },
  {
   "cell_type": "code",
   "execution_count": null,
   "id": "26b2c872-4a79-4d35-b1bc-acc482be6d4f",
   "metadata": {},
   "outputs": [],
   "source": [
    "# Fetching the data from the database in the notebook"
   ]
  },
  {
   "cell_type": "code",
   "execution_count": null,
   "id": "b83a5dbb-4df2-4c4c-b2d2-8ba224d8693b",
   "metadata": {},
   "outputs": [],
   "source": [
    "try: \n",
    "    mydb = connection.connect(host = 'localhost',user = 'root',database = 'Happy',passwd = 'mysql',use_pure = True)\n",
    "    mydb.is_connected()\n",
    "\n",
    "    query = 'select * from happy'\n",
    "    \n",
    "    cursor = mydb.cursor()\n",
    "    cursor.execute(query)\n",
    "    for result in cursor.fetchall():\n",
    "        print(result)\n",
    "    mydata.close()\n",
    "except Exception as e:\n",
    "    print(e)"
   ]
  },
  {
   "cell_type": "code",
   "execution_count": 16,
   "id": "0208e95b-8dba-4ba8-aa4d-12c273244a92",
   "metadata": {},
   "outputs": [
    {
     "data": {
      "text/plain": [
       "[('rishiraj', '10B', 5658), ('rishiraj', '10B', 5658)]"
      ]
     },
     "execution_count": 16,
     "metadata": {},
     "output_type": "execute_result"
    }
   ],
   "source": [
    "mydb = connection.connect(host = 'localhost',user = 'root',database = 'happy',passwd = 'mysql',use_pure = True)\n",
    "query = 'select * from happydetails'\n",
    "cursor = mydb.cursor()\n",
    "cursor.execute(query)\n",
    "cursor.fetchall()\n"
   ]
  },
  {
   "cell_type": "code",
   "execution_count": null,
   "id": "21af9440-772c-47ab-b2c5-4c8af9fda146",
   "metadata": {},
   "outputs": [],
   "source": [
    "# we would like to get only specefic data not all"
   ]
  },
  {
   "cell_type": "code",
   "execution_count": 47,
   "id": "e1253680-037b-4402-877c-0bc142d4e668",
   "metadata": {},
   "outputs": [
    {
     "ename": "ProgrammingError",
     "evalue": "1146 (42S02): Table 'student.happydetails' doesn't exist",
     "output_type": "error",
     "traceback": [
      "\u001b[1;31m---------------------------------------------------------------------------\u001b[0m",
      "\u001b[1;31mProgrammingError\u001b[0m                          Traceback (most recent call last)",
      "Cell \u001b[1;32mIn[47], line 2\u001b[0m\n\u001b[0;32m      1\u001b[0m cur \u001b[38;5;241m=\u001b[39m mydb\u001b[38;5;241m.\u001b[39mcursor()\n\u001b[1;32m----> 2\u001b[0m cur\u001b[38;5;241m.\u001b[39mexecute(\u001b[38;5;124m\"\u001b[39m\u001b[38;5;124mSelect name class from happydetails\u001b[39m\u001b[38;5;124m\"\u001b[39m)\n",
      "File \u001b[1;32m~\\anaconda3\\Lib\\site-packages\\mysql\\connector\\cursor.py:748\u001b[0m, in \u001b[0;36mMySQLCursor.execute\u001b[1;34m(self, operation, params, multi)\u001b[0m\n\u001b[0;32m    745\u001b[0m     \u001b[38;5;28;01mreturn\u001b[39;00m \u001b[38;5;28mself\u001b[39m\u001b[38;5;241m.\u001b[39m_execute_iter(\u001b[38;5;28mself\u001b[39m\u001b[38;5;241m.\u001b[39m_connection\u001b[38;5;241m.\u001b[39mcmd_query_iter(stmt))\n\u001b[0;32m    747\u001b[0m \u001b[38;5;28;01mtry\u001b[39;00m:\n\u001b[1;32m--> 748\u001b[0m     \u001b[38;5;28mself\u001b[39m\u001b[38;5;241m.\u001b[39m_handle_result(\u001b[38;5;28mself\u001b[39m\u001b[38;5;241m.\u001b[39m_connection\u001b[38;5;241m.\u001b[39mcmd_query(stmt))\n\u001b[0;32m    749\u001b[0m \u001b[38;5;28;01mexcept\u001b[39;00m InterfaceError \u001b[38;5;28;01mas\u001b[39;00m err:\n\u001b[0;32m    750\u001b[0m     \u001b[38;5;28;01mif\u001b[39;00m \u001b[38;5;28mself\u001b[39m\u001b[38;5;241m.\u001b[39m_connection\u001b[38;5;241m.\u001b[39mhave_next_result:\n",
      "File \u001b[1;32m~\\anaconda3\\Lib\\site-packages\\mysql\\connector\\opentelemetry\\context_propagation.py:74\u001b[0m, in \u001b[0;36mwith_context_propagation.<locals>.wrapper\u001b[1;34m(cnx, *args, **kwargs)\u001b[0m\n\u001b[0;32m     72\u001b[0m \u001b[38;5;250m\u001b[39m\u001b[38;5;124;03m\"\"\"Context propagation decorator.\"\"\"\u001b[39;00m\n\u001b[0;32m     73\u001b[0m \u001b[38;5;28;01mif\u001b[39;00m \u001b[38;5;129;01mnot\u001b[39;00m OTEL_ENABLED \u001b[38;5;129;01mor\u001b[39;00m \u001b[38;5;129;01mnot\u001b[39;00m cnx\u001b[38;5;241m.\u001b[39motel_context_propagation:\n\u001b[1;32m---> 74\u001b[0m     \u001b[38;5;28;01mreturn\u001b[39;00m method(cnx, \u001b[38;5;241m*\u001b[39margs, \u001b[38;5;241m*\u001b[39m\u001b[38;5;241m*\u001b[39mkwargs)\n\u001b[0;32m     76\u001b[0m current_span \u001b[38;5;241m=\u001b[39m trace\u001b[38;5;241m.\u001b[39mget_current_span()\n\u001b[0;32m     77\u001b[0m tp_header \u001b[38;5;241m=\u001b[39m \u001b[38;5;28;01mNone\u001b[39;00m\n",
      "File \u001b[1;32m~\\anaconda3\\Lib\\site-packages\\mysql\\connector\\connection.py:855\u001b[0m, in \u001b[0;36mMySQLConnection.cmd_query\u001b[1;34m(self, query, raw, buffered, raw_as_string)\u001b[0m\n\u001b[0;32m    853\u001b[0m query \u001b[38;5;241m=\u001b[39m \u001b[38;5;28mbytes\u001b[39m(packet)\n\u001b[0;32m    854\u001b[0m \u001b[38;5;28;01mtry\u001b[39;00m:\n\u001b[1;32m--> 855\u001b[0m     result \u001b[38;5;241m=\u001b[39m \u001b[38;5;28mself\u001b[39m\u001b[38;5;241m.\u001b[39m_handle_result(\u001b[38;5;28mself\u001b[39m\u001b[38;5;241m.\u001b[39m_send_cmd(ServerCmd\u001b[38;5;241m.\u001b[39mQUERY, query))\n\u001b[0;32m    856\u001b[0m \u001b[38;5;28;01mexcept\u001b[39;00m ProgrammingError \u001b[38;5;28;01mas\u001b[39;00m err:\n\u001b[0;32m    857\u001b[0m     \u001b[38;5;28;01mif\u001b[39;00m err\u001b[38;5;241m.\u001b[39merrno \u001b[38;5;241m==\u001b[39m \u001b[38;5;241m3948\u001b[39m \u001b[38;5;129;01mand\u001b[39;00m \u001b[38;5;124m\"\u001b[39m\u001b[38;5;124mLoading local data is disabled\u001b[39m\u001b[38;5;124m\"\u001b[39m \u001b[38;5;129;01min\u001b[39;00m err\u001b[38;5;241m.\u001b[39mmsg:\n",
      "File \u001b[1;32m~\\anaconda3\\Lib\\site-packages\\mysql\\connector\\connection.py:631\u001b[0m, in \u001b[0;36mMySQLConnection._handle_result\u001b[1;34m(self, packet)\u001b[0m\n\u001b[0;32m    629\u001b[0m     \u001b[38;5;28;01mreturn\u001b[39;00m \u001b[38;5;28mself\u001b[39m\u001b[38;5;241m.\u001b[39m_handle_eof(packet)\n\u001b[0;32m    630\u001b[0m \u001b[38;5;28;01mif\u001b[39;00m packet[\u001b[38;5;241m4\u001b[39m] \u001b[38;5;241m==\u001b[39m \u001b[38;5;241m255\u001b[39m:\n\u001b[1;32m--> 631\u001b[0m     \u001b[38;5;28;01mraise\u001b[39;00m get_exception(packet)\n\u001b[0;32m    633\u001b[0m \u001b[38;5;66;03m# We have a text result set\u001b[39;00m\n\u001b[0;32m    634\u001b[0m column_count \u001b[38;5;241m=\u001b[39m \u001b[38;5;28mself\u001b[39m\u001b[38;5;241m.\u001b[39m_protocol\u001b[38;5;241m.\u001b[39mparse_column_count(packet)\n",
      "\u001b[1;31mProgrammingError\u001b[0m: 1146 (42S02): Table 'student.happydetails' doesn't exist"
     ]
    }
   ],
   "source": [
    "cur = mydb.cursor()\n",
    "cur.execute(\"Select name class from happydetails\")"
   ]
  },
  {
   "cell_type": "code",
   "execution_count": 48,
   "id": "a9f10f64-322f-4dc7-be94-0b17193dd431",
   "metadata": {},
   "outputs": [],
   "source": [
    "for i in cur.fetchall():\n",
    "    print(i)"
   ]
  },
  {
   "cell_type": "code",
   "execution_count": 49,
   "id": "d4448485-50af-416b-a9dd-1ec48cbbce7b",
   "metadata": {},
   "outputs": [
    {
     "ename": "SyntaxError",
     "evalue": "invalid syntax (4238141572.py, line 2)",
     "output_type": "error",
     "traceback": [
      "\u001b[1;36m  Cell \u001b[1;32mIn[49], line 2\u001b[1;36m\u001b[0m\n\u001b[1;33m    select * from Happy.happydetails;\u001b[0m\n\u001b[1;37m             ^\u001b[0m\n\u001b[1;31mSyntaxError\u001b[0m\u001b[1;31m:\u001b[0m invalid syntax\n"
     ]
    }
   ],
   "source": [
    "# sometimes it does not return output because of the cursor concept, if the cursor is at the last location, we won't be able to see data.\n",
    "select * from Happy.happydetails;\n",
    "To fetch data\n",
    "\n",
    "# we will have to recreate the cursor object, it will reset it by default."
   ]
  },
  {
   "cell_type": "code",
   "execution_count": 50,
   "id": "9475a3fa-98af-40fe-8761-f638bedf4f32",
   "metadata": {},
   "outputs": [],
   "source": [
    "# to feth data in a table/proper structure format\n",
    "# pandas is the library used to manipulate file.\n",
    "import pandas as pd"
   ]
  },
  {
   "cell_type": "code",
   "execution_count": 51,
   "id": "a3283a57-dbe3-4fa5-a22a-131e05c01c37",
   "metadata": {},
   "outputs": [
    {
     "name": "stdout",
     "output_type": "stream",
     "text": [
      "       name      name class\n",
      "0  rishiraj  rishiraj   10B\n",
      "1  rishiraj  rishiraj   10B\n"
     ]
    },
    {
     "name": "stderr",
     "output_type": "stream",
     "text": [
      "C:\\Users\\USER\\AppData\\Local\\Temp\\ipykernel_6472\\3142577131.py:5: UserWarning: pandas only supports SQLAlchemy connectable (engine/connection) or database string URI or sqlite3 DBAPI2 connection. Other DBAPI2 objects are not tested. Please consider using SQLAlchemy.\n",
      "  result = pd.read_sql(query,mydb) # it takes sql query and connection. # we don't have to write cursor, execute, fetch all. WE DONT EVEN TO WORRY ABOUT CURSOR ISSUE AND CURSOR LOCATION.\n"
     ]
    }
   ],
   "source": [
    "try:\n",
    "    mydb = connection.connect(host = 'localhost',user = 'root',passwd = 'mysql',use_pure = True, database = 'happy')\n",
    "\n",
    "    query = 'SELECT name,name,class FROM happydetails'\n",
    "    result = pd.read_sql(query,mydb) # it takes sql query and connection. # we don't have to write cursor, execute, fetch all. WE DONT EVEN TO WORRY ABOUT CURSOR ISSUE AND CURSOR LOCATION.\n",
    "    print(result)\n",
    "    mydb.close() # close the connection\n",
    "except Exception as e:\n",
    "    print(e)\n",
    "    "
   ]
  },
  {
   "cell_type": "code",
   "execution_count": 52,
   "id": "7db65013-8743-4f4d-865f-373d74b71277",
   "metadata": {},
   "outputs": [],
   "source": [
    "query = 'SELECT name,name,class FROM happydetails'\n",
    "query = 'SELECT * FROM happydetails'\n"
   ]
  },
  {
   "cell_type": "code",
   "execution_count": 53,
   "id": "c41cb54f-0411-49fa-99f7-12345219e2ca",
   "metadata": {},
   "outputs": [],
   "source": [
    "#result.to_sql # in a single shot we can give data to sql."
   ]
  },
  {
   "cell_type": "code",
   "execution_count": 54,
   "id": "e381f374-89aa-479d-bd3b-91d6987c9f3f",
   "metadata": {},
   "outputs": [
    {
     "data": {
      "text/html": [
       "<div>\n",
       "<style scoped>\n",
       "    .dataframe tbody tr th:only-of-type {\n",
       "        vertical-align: middle;\n",
       "    }\n",
       "\n",
       "    .dataframe tbody tr th {\n",
       "        vertical-align: top;\n",
       "    }\n",
       "\n",
       "    .dataframe thead th {\n",
       "        text-align: right;\n",
       "    }\n",
       "</style>\n",
       "<table border=\"1\" class=\"dataframe\">\n",
       "  <thead>\n",
       "    <tr style=\"text-align: right;\">\n",
       "      <th></th>\n",
       "      <th>name</th>\n",
       "      <th>name</th>\n",
       "      <th>class</th>\n",
       "    </tr>\n",
       "  </thead>\n",
       "  <tbody>\n",
       "    <tr>\n",
       "      <th>0</th>\n",
       "      <td>rishiraj</td>\n",
       "      <td>rishiraj</td>\n",
       "      <td>10B</td>\n",
       "    </tr>\n",
       "    <tr>\n",
       "      <th>1</th>\n",
       "      <td>rishiraj</td>\n",
       "      <td>rishiraj</td>\n",
       "      <td>10B</td>\n",
       "    </tr>\n",
       "  </tbody>\n",
       "</table>\n",
       "</div>"
      ],
      "text/plain": [
       "       name      name class\n",
       "0  rishiraj  rishiraj   10B\n",
       "1  rishiraj  rishiraj   10B"
      ]
     },
     "execution_count": 54,
     "metadata": {},
     "output_type": "execute_result"
    }
   ],
   "source": [
    "result"
   ]
  },
  {
   "cell_type": "code",
   "execution_count": 55,
   "id": "4943c871-0a00-413c-a4d4-6e69c1e170e2",
   "metadata": {},
   "outputs": [],
   "source": [
    "#to save file into csv file\n",
    "result.to_csv('mydata.csv')"
   ]
  },
  {
   "cell_type": "code",
   "execution_count": 56,
   "id": "cfb1537b-8ba3-46b3-b510-b3171d26e61d",
   "metadata": {},
   "outputs": [
    {
     "ename": "ProgrammingError",
     "evalue": "1050 (42S01): Table 'mydata' already exists",
     "output_type": "error",
     "traceback": [
      "\u001b[1;31m---------------------------------------------------------------------------\u001b[0m",
      "\u001b[1;31mProgrammingError\u001b[0m                          Traceback (most recent call last)",
      "Cell \u001b[1;32mIn[56], line 7\u001b[0m\n\u001b[0;32m      4\u001b[0m query \u001b[38;5;241m=\u001b[39m \u001b[38;5;124m\"\u001b[39m\u001b[38;5;124mcreate table mydata(n1 int(10),n2 varchar(20), n3 varchar(30))\u001b[39m\u001b[38;5;124m\"\u001b[39m\n\u001b[0;32m      6\u001b[0m cur \u001b[38;5;241m=\u001b[39m mydb\u001b[38;5;241m.\u001b[39mcursor()\n\u001b[1;32m----> 7\u001b[0m cur\u001b[38;5;241m.\u001b[39mexecute(query)\n",
      "File \u001b[1;32m~\\anaconda3\\Lib\\site-packages\\mysql\\connector\\cursor.py:748\u001b[0m, in \u001b[0;36mMySQLCursor.execute\u001b[1;34m(self, operation, params, multi)\u001b[0m\n\u001b[0;32m    745\u001b[0m     \u001b[38;5;28;01mreturn\u001b[39;00m \u001b[38;5;28mself\u001b[39m\u001b[38;5;241m.\u001b[39m_execute_iter(\u001b[38;5;28mself\u001b[39m\u001b[38;5;241m.\u001b[39m_connection\u001b[38;5;241m.\u001b[39mcmd_query_iter(stmt))\n\u001b[0;32m    747\u001b[0m \u001b[38;5;28;01mtry\u001b[39;00m:\n\u001b[1;32m--> 748\u001b[0m     \u001b[38;5;28mself\u001b[39m\u001b[38;5;241m.\u001b[39m_handle_result(\u001b[38;5;28mself\u001b[39m\u001b[38;5;241m.\u001b[39m_connection\u001b[38;5;241m.\u001b[39mcmd_query(stmt))\n\u001b[0;32m    749\u001b[0m \u001b[38;5;28;01mexcept\u001b[39;00m InterfaceError \u001b[38;5;28;01mas\u001b[39;00m err:\n\u001b[0;32m    750\u001b[0m     \u001b[38;5;28;01mif\u001b[39;00m \u001b[38;5;28mself\u001b[39m\u001b[38;5;241m.\u001b[39m_connection\u001b[38;5;241m.\u001b[39mhave_next_result:\n",
      "File \u001b[1;32m~\\anaconda3\\Lib\\site-packages\\mysql\\connector\\opentelemetry\\context_propagation.py:74\u001b[0m, in \u001b[0;36mwith_context_propagation.<locals>.wrapper\u001b[1;34m(cnx, *args, **kwargs)\u001b[0m\n\u001b[0;32m     72\u001b[0m \u001b[38;5;250m\u001b[39m\u001b[38;5;124;03m\"\"\"Context propagation decorator.\"\"\"\u001b[39;00m\n\u001b[0;32m     73\u001b[0m \u001b[38;5;28;01mif\u001b[39;00m \u001b[38;5;129;01mnot\u001b[39;00m OTEL_ENABLED \u001b[38;5;129;01mor\u001b[39;00m \u001b[38;5;129;01mnot\u001b[39;00m cnx\u001b[38;5;241m.\u001b[39motel_context_propagation:\n\u001b[1;32m---> 74\u001b[0m     \u001b[38;5;28;01mreturn\u001b[39;00m method(cnx, \u001b[38;5;241m*\u001b[39margs, \u001b[38;5;241m*\u001b[39m\u001b[38;5;241m*\u001b[39mkwargs)\n\u001b[0;32m     76\u001b[0m current_span \u001b[38;5;241m=\u001b[39m trace\u001b[38;5;241m.\u001b[39mget_current_span()\n\u001b[0;32m     77\u001b[0m tp_header \u001b[38;5;241m=\u001b[39m \u001b[38;5;28;01mNone\u001b[39;00m\n",
      "File \u001b[1;32m~\\anaconda3\\Lib\\site-packages\\mysql\\connector\\connection.py:855\u001b[0m, in \u001b[0;36mMySQLConnection.cmd_query\u001b[1;34m(self, query, raw, buffered, raw_as_string)\u001b[0m\n\u001b[0;32m    853\u001b[0m query \u001b[38;5;241m=\u001b[39m \u001b[38;5;28mbytes\u001b[39m(packet)\n\u001b[0;32m    854\u001b[0m \u001b[38;5;28;01mtry\u001b[39;00m:\n\u001b[1;32m--> 855\u001b[0m     result \u001b[38;5;241m=\u001b[39m \u001b[38;5;28mself\u001b[39m\u001b[38;5;241m.\u001b[39m_handle_result(\u001b[38;5;28mself\u001b[39m\u001b[38;5;241m.\u001b[39m_send_cmd(ServerCmd\u001b[38;5;241m.\u001b[39mQUERY, query))\n\u001b[0;32m    856\u001b[0m \u001b[38;5;28;01mexcept\u001b[39;00m ProgrammingError \u001b[38;5;28;01mas\u001b[39;00m err:\n\u001b[0;32m    857\u001b[0m     \u001b[38;5;28;01mif\u001b[39;00m err\u001b[38;5;241m.\u001b[39merrno \u001b[38;5;241m==\u001b[39m \u001b[38;5;241m3948\u001b[39m \u001b[38;5;129;01mand\u001b[39;00m \u001b[38;5;124m\"\u001b[39m\u001b[38;5;124mLoading local data is disabled\u001b[39m\u001b[38;5;124m\"\u001b[39m \u001b[38;5;129;01min\u001b[39;00m err\u001b[38;5;241m.\u001b[39mmsg:\n",
      "File \u001b[1;32m~\\anaconda3\\Lib\\site-packages\\mysql\\connector\\connection.py:631\u001b[0m, in \u001b[0;36mMySQLConnection._handle_result\u001b[1;34m(self, packet)\u001b[0m\n\u001b[0;32m    629\u001b[0m     \u001b[38;5;28;01mreturn\u001b[39;00m \u001b[38;5;28mself\u001b[39m\u001b[38;5;241m.\u001b[39m_handle_eof(packet)\n\u001b[0;32m    630\u001b[0m \u001b[38;5;28;01mif\u001b[39;00m packet[\u001b[38;5;241m4\u001b[39m] \u001b[38;5;241m==\u001b[39m \u001b[38;5;241m255\u001b[39m:\n\u001b[1;32m--> 631\u001b[0m     \u001b[38;5;28;01mraise\u001b[39;00m get_exception(packet)\n\u001b[0;32m    633\u001b[0m \u001b[38;5;66;03m# We have a text result set\u001b[39;00m\n\u001b[0;32m    634\u001b[0m column_count \u001b[38;5;241m=\u001b[39m \u001b[38;5;28mself\u001b[39m\u001b[38;5;241m.\u001b[39m_protocol\u001b[38;5;241m.\u001b[39mparse_column_count(packet)\n",
      "\u001b[1;31mProgrammingError\u001b[0m: 1050 (42S01): Table 'mydata' already exists"
     ]
    }
   ],
   "source": [
    "# table has been created\n",
    "\n",
    "mydb = connection.connect(host = 'localhost',user = 'root',database = 'Happy',passwd = 'mysql',use_pure = True)\n",
    "query = \"create table mydata(n1 int(10),n2 varchar(20), n3 varchar(30))\"\n",
    "\n",
    "cur = mydb.cursor()\n",
    "cur.execute(query)"
   ]
  },
  {
   "cell_type": "code",
   "execution_count": 58,
   "id": "f6e512ca-9b1b-42e1-aab0-bbe94a9cc87e",
   "metadata": {},
   "outputs": [
    {
     "data": {
      "text/plain": [
       "<mysql.connector.connection.MySQLConnection at 0x19af3526610>"
      ]
     },
     "execution_count": 58,
     "metadata": {},
     "output_type": "execute_result"
    }
   ],
   "source": [
    "mydb"
   ]
  },
  {
   "cell_type": "code",
   "execution_count": 66,
   "id": "9d91ce06-3f8c-415c-8e8a-7282ce9a7e57",
   "metadata": {},
   "outputs": [
    {
     "name": "stdout",
     "output_type": "stream",
     "text": [
      "<bound method MySQLConnection.is_connected of <mysql.connector.connection.MySQLConnection object at 0x0000019AF46BA910>>\n",
      "1007 (HY000): Can't create database 'roy'; database exists\n"
     ]
    }
   ],
   "source": [
    "try:\n",
    "    mydb = connection.connect(host = 'localhost',user='root',passwd = 'mysql',use_pure = True)\n",
    "    print(mydb.is_connected)\n",
    "    query = \"create database roy\"\n",
    "    cur = mydb.cursor()\n",
    "    cur.execute(query)\n",
    "    mydb.close()\n",
    "    print('database created')\n",
    "except Exception as e:\n",
    "    print(e)"
   ]
  },
  {
   "cell_type": "code",
   "execution_count": 70,
   "id": "48e1e9e9-a61b-4b6c-af48-f98f0ccd6d1e",
   "metadata": {},
   "outputs": [
    {
     "name": "stdout",
     "output_type": "stream",
     "text": [
      "<bound method MySQLConnection.is_connected of <mysql.connector.connection.MySQLConnection object at 0x0000019AF46BA910>>\n",
      "table created\n"
     ]
    }
   ],
   "source": [
    "try:\n",
    "    mydb = connection.connect(host = 'localhost',user='root',passwd = 'mysql',use_pure = True, database = 'roy')\n",
    "    print(mydb.is_connected)\n",
    "    query = \"create table roydetails(r1 int(10), r2 varchar(20), r3 varchar(20))\"\n",
    "    cur = mydb.cursor()\n",
    "    cur.execute(query)\n",
    "    mydb.close()\n",
    "    print('table created')\n",
    "except Exception as e:\n",
    "    print(e)"
   ]
  },
  {
   "cell_type": "code",
   "execution_count": 77,
   "id": "20f23127-ddae-4f61-9b52-57c81777755f",
   "metadata": {},
   "outputs": [
    {
     "name": "stdout",
     "output_type": "stream",
     "text": [
      "<bound method MySQLConnection.is_connected of <mysql.connector.connection.MySQLConnection object at 0x0000019AF5FC2B90>>\n"
     ]
    }
   ],
   "source": [
    "try:\n",
    "    mydb = connection.connect(host = 'localhost',user='root',passwd = 'mysql',use_pure = True, database = 'roy')\n",
    "    print(mydb.is_connected)\n",
    "    query = \"insert into roydetails values (12451,'happysingh','rishi')\"\n",
    "    cur = mydb.cursor()\n",
    "    cur.execute(query)\n",
    "    mydb.commit()\n",
    "    mydb.close()    \n",
    "except Exception as e:\n",
    "    print(e)"
   ]
  },
  {
   "cell_type": "code",
   "execution_count": 92,
   "id": "79c33921-d66e-4827-9e7f-ae33e77e401c",
   "metadata": {},
   "outputs": [
    {
     "name": "stdout",
     "output_type": "stream",
     "text": [
      "<bound method MySQLConnection.is_connected of <mysql.connector.connection.MySQLConnection object at 0x0000019AF76AF890>>\n",
      "      r1          r2     r3\n",
      "0  12451  happysingh  rishi\n"
     ]
    },
    {
     "name": "stderr",
     "output_type": "stream",
     "text": [
      "C:\\Users\\USER\\AppData\\Local\\Temp\\ipykernel_6472\\3670816623.py:5: UserWarning: pandas only supports SQLAlchemy connectable (engine/connection) or database string URI or sqlite3 DBAPI2 connection. Other DBAPI2 objects are not tested. Please consider using SQLAlchemy.\n",
      "  result1 = pd.read_sql(query,mydb)\n"
     ]
    }
   ],
   "source": [
    "try:\n",
    "    mydb = connection.connect(host = 'localhost',user='root',passwd = 'mysql',use_pure = True, database = 'roy')\n",
    "    print(mydb.is_connected)\n",
    "    query = \"select * from roydetails\"\n",
    "    result1 = pd.read_sql(query,mydb)\n",
    "    print(result1)\n",
    "    mydb.close()    \n",
    "except Exception as e:\n",
    "    print(e)"
   ]
  },
  {
   "cell_type": "code",
   "execution_count": 93,
   "id": "9842d38d-8821-4d4b-9ae1-00bb4c5ddb1c",
   "metadata": {},
   "outputs": [
    {
     "data": {
      "text/html": [
       "<div>\n",
       "<style scoped>\n",
       "    .dataframe tbody tr th:only-of-type {\n",
       "        vertical-align: middle;\n",
       "    }\n",
       "\n",
       "    .dataframe tbody tr th {\n",
       "        vertical-align: top;\n",
       "    }\n",
       "\n",
       "    .dataframe thead th {\n",
       "        text-align: right;\n",
       "    }\n",
       "</style>\n",
       "<table border=\"1\" class=\"dataframe\">\n",
       "  <thead>\n",
       "    <tr style=\"text-align: right;\">\n",
       "      <th></th>\n",
       "      <th>r1</th>\n",
       "      <th>r2</th>\n",
       "      <th>r3</th>\n",
       "    </tr>\n",
       "  </thead>\n",
       "  <tbody>\n",
       "    <tr>\n",
       "      <th>0</th>\n",
       "      <td>12451</td>\n",
       "      <td>happysingh</td>\n",
       "      <td>rishi</td>\n",
       "    </tr>\n",
       "  </tbody>\n",
       "</table>\n",
       "</div>"
      ],
      "text/plain": [
       "      r1          r2     r3\n",
       "0  12451  happysingh  rishi"
      ]
     },
     "execution_count": 93,
     "metadata": {},
     "output_type": "execute_result"
    }
   ],
   "source": [
    "result1"
   ]
  },
  {
   "cell_type": "code",
   "execution_count": 94,
   "id": "1f87e3b1-9e41-4c58-923d-90a6d3c01478",
   "metadata": {},
   "outputs": [],
   "source": [
    "result1.to_csv(\"result1.csv\") # we would like to write/dump this data in table."
   ]
  },
  {
   "cell_type": "code",
   "execution_count": 97,
   "id": "3ff3189d-80d3-40a7-8cd3-72614a04ab8c",
   "metadata": {},
   "outputs": [],
   "source": [
    "mydb = connection.connect(host = 'localhost',user='root',passwd = 'mysql',use_pure = True, database = 'roy')"
   ]
  },
  {
   "cell_type": "code",
   "execution_count": 99,
   "id": "c031b028-4077-4b9a-a041-6a2a74a9a629",
   "metadata": {},
   "outputs": [
    {
     "name": "stdout",
     "output_type": "stream",
     "text": [
      "table created\n"
     ]
    }
   ],
   "source": [
    "mydb = connection.connect(host = 'localhost',user='root',passwd = 'mysql',use_pure = True, database = 'roy')\n",
    "mydb.is_connected()\n",
    "query = \"create table dumpdata(d1 int(20),d2 int(21), d3 varchar(52))\"\n",
    "cur = mydb.cursor()\n",
    "cur.execute(query)\n",
    "print('table created')\n",
    "mydb.close()"
   ]
  },
  {
   "cell_type": "code",
   "execution_count": 100,
   "id": "acfbffa2-b50d-4557-999f-b0f97733287f",
   "metadata": {},
   "outputs": [],
   "source": [
    "# we have to now read the data available in our system with a name result1.csv"
   ]
  },
  {
   "cell_type": "code",
   "execution_count": 109,
   "id": "05f35752-6be3-470d-a3e2-70170f08bd3b",
   "metadata": {},
   "outputs": [],
   "source": [
    "readdata = pd.read_csv(\"result1.csv\")"
   ]
  },
  {
   "cell_type": "code",
   "execution_count": 110,
   "id": "bcd67a49-1891-4974-a19a-3ccbb384d41a",
   "metadata": {},
   "outputs": [
    {
     "data": {
      "text/html": [
       "<div>\n",
       "<style scoped>\n",
       "    .dataframe tbody tr th:only-of-type {\n",
       "        vertical-align: middle;\n",
       "    }\n",
       "\n",
       "    .dataframe tbody tr th {\n",
       "        vertical-align: top;\n",
       "    }\n",
       "\n",
       "    .dataframe thead th {\n",
       "        text-align: right;\n",
       "    }\n",
       "</style>\n",
       "<table border=\"1\" class=\"dataframe\">\n",
       "  <thead>\n",
       "    <tr style=\"text-align: right;\">\n",
       "      <th></th>\n",
       "      <th>0</th>\n",
       "      <th>12451</th>\n",
       "      <th>happysingh</th>\n",
       "      <th>rishi</th>\n",
       "    </tr>\n",
       "  </thead>\n",
       "  <tbody>\n",
       "  </tbody>\n",
       "</table>\n",
       "</div>"
      ],
      "text/plain": [
       "Empty DataFrame\n",
       "Columns: [0, 12451, happysingh, rishi]\n",
       "Index: []"
      ]
     },
     "execution_count": 110,
     "metadata": {},
     "output_type": "execute_result"
    }
   ],
   "source": [
    "readdata"
   ]
  },
  {
   "cell_type": "code",
   "execution_count": 111,
   "id": "212431dc-070b-4e10-9676-f03f321a1420",
   "metadata": {},
   "outputs": [],
   "source": [
    "mydb = connection.connect(host = 'localhost',user='root',passwd = 'mysql',use_pure = True, database = 'roy')"
   ]
  },
  {
   "cell_type": "code",
   "execution_count": 114,
   "id": "14121d8a-5717-4648-8d96-cdcc08549330",
   "metadata": {},
   "outputs": [
    {
     "name": "stderr",
     "output_type": "stream",
     "text": [
      "C:\\Users\\USER\\AppData\\Local\\Temp\\ipykernel_6472\\461836174.py:1: UserWarning: pandas only supports SQLAlchemy connectable (engine/connection) or database string URI or sqlite3 DBAPI2 connection. Other DBAPI2 objects are not tested. Please consider using SQLAlchemy.\n",
      "  writedata = readdata.to_sql(name = 'dumpdata',con = mydb) # putting data into sql\n"
     ]
    },
    {
     "ename": "DatabaseError",
     "evalue": "Execution failed on sql '\n        SELECT\n            name\n        FROM\n            sqlite_master\n        WHERE\n            type IN ('table', 'view')\n            AND name=?;\n        ': Not all parameters were used in the SQL statement",
     "output_type": "error",
     "traceback": [
      "\u001b[1;31m---------------------------------------------------------------------------\u001b[0m",
      "\u001b[1;31mProgrammingError\u001b[0m                          Traceback (most recent call last)",
      "File \u001b[1;32m~\\anaconda3\\Lib\\site-packages\\pandas\\io\\sql.py:2262\u001b[0m, in \u001b[0;36mSQLiteDatabase.execute\u001b[1;34m(self, sql, params)\u001b[0m\n\u001b[0;32m   2261\u001b[0m \u001b[38;5;28;01mtry\u001b[39;00m:\n\u001b[1;32m-> 2262\u001b[0m     cur\u001b[38;5;241m.\u001b[39mexecute(sql, \u001b[38;5;241m*\u001b[39margs)\n\u001b[0;32m   2263\u001b[0m     \u001b[38;5;28;01mreturn\u001b[39;00m cur\n",
      "File \u001b[1;32m~\\anaconda3\\Lib\\site-packages\\mysql\\connector\\cursor.py:733\u001b[0m, in \u001b[0;36mMySQLCursor.execute\u001b[1;34m(self, operation, params, multi)\u001b[0m\n\u001b[0;32m    732\u001b[0m     \u001b[38;5;28;01mif\u001b[39;00m psub\u001b[38;5;241m.\u001b[39mremaining \u001b[38;5;241m!=\u001b[39m \u001b[38;5;241m0\u001b[39m:\n\u001b[1;32m--> 733\u001b[0m         \u001b[38;5;28;01mraise\u001b[39;00m ProgrammingError(\n\u001b[0;32m    734\u001b[0m             \u001b[38;5;124m\"\u001b[39m\u001b[38;5;124mNot all parameters were used in the SQL statement\u001b[39m\u001b[38;5;124m\"\u001b[39m\n\u001b[0;32m    735\u001b[0m         )\n\u001b[0;32m    736\u001b[0m \u001b[38;5;28;01melse\u001b[39;00m:\n",
      "\u001b[1;31mProgrammingError\u001b[0m: Not all parameters were used in the SQL statement",
      "\nThe above exception was the direct cause of the following exception:\n",
      "\u001b[1;31mDatabaseError\u001b[0m                             Traceback (most recent call last)",
      "Cell \u001b[1;32mIn[114], line 1\u001b[0m\n\u001b[1;32m----> 1\u001b[0m writedata \u001b[38;5;241m=\u001b[39m readdata\u001b[38;5;241m.\u001b[39mto_sql(name \u001b[38;5;241m=\u001b[39m \u001b[38;5;124m'\u001b[39m\u001b[38;5;124mdumpdata\u001b[39m\u001b[38;5;124m'\u001b[39m,con \u001b[38;5;241m=\u001b[39m mydb)\n",
      "File \u001b[1;32m~\\anaconda3\\Lib\\site-packages\\pandas\\util\\_decorators.py:333\u001b[0m, in \u001b[0;36mdeprecate_nonkeyword_arguments.<locals>.decorate.<locals>.wrapper\u001b[1;34m(*args, **kwargs)\u001b[0m\n\u001b[0;32m    327\u001b[0m \u001b[38;5;28;01mif\u001b[39;00m \u001b[38;5;28mlen\u001b[39m(args) \u001b[38;5;241m>\u001b[39m num_allow_args:\n\u001b[0;32m    328\u001b[0m     warnings\u001b[38;5;241m.\u001b[39mwarn(\n\u001b[0;32m    329\u001b[0m         msg\u001b[38;5;241m.\u001b[39mformat(arguments\u001b[38;5;241m=\u001b[39m_format_argument_list(allow_args)),\n\u001b[0;32m    330\u001b[0m         \u001b[38;5;167;01mFutureWarning\u001b[39;00m,\n\u001b[0;32m    331\u001b[0m         stacklevel\u001b[38;5;241m=\u001b[39mfind_stack_level(),\n\u001b[0;32m    332\u001b[0m     )\n\u001b[1;32m--> 333\u001b[0m \u001b[38;5;28;01mreturn\u001b[39;00m func(\u001b[38;5;241m*\u001b[39margs, \u001b[38;5;241m*\u001b[39m\u001b[38;5;241m*\u001b[39mkwargs)\n",
      "File \u001b[1;32m~\\anaconda3\\Lib\\site-packages\\pandas\\core\\generic.py:3008\u001b[0m, in \u001b[0;36mNDFrame.to_sql\u001b[1;34m(self, name, con, schema, if_exists, index, index_label, chunksize, dtype, method)\u001b[0m\n\u001b[0;32m   2813\u001b[0m \u001b[38;5;250m\u001b[39m\u001b[38;5;124;03m\"\"\"\u001b[39;00m\n\u001b[0;32m   2814\u001b[0m \u001b[38;5;124;03mWrite records stored in a DataFrame to a SQL database.\u001b[39;00m\n\u001b[0;32m   2815\u001b[0m \n\u001b[1;32m   (...)\u001b[0m\n\u001b[0;32m   3004\u001b[0m \u001b[38;5;124;03m[(1,), (None,), (2,)]\u001b[39;00m\n\u001b[0;32m   3005\u001b[0m \u001b[38;5;124;03m\"\"\"\u001b[39;00m  \u001b[38;5;66;03m# noqa: E501\u001b[39;00m\n\u001b[0;32m   3006\u001b[0m \u001b[38;5;28;01mfrom\u001b[39;00m \u001b[38;5;21;01mpandas\u001b[39;00m\u001b[38;5;21;01m.\u001b[39;00m\u001b[38;5;21;01mio\u001b[39;00m \u001b[38;5;28;01mimport\u001b[39;00m sql\n\u001b[1;32m-> 3008\u001b[0m \u001b[38;5;28;01mreturn\u001b[39;00m sql\u001b[38;5;241m.\u001b[39mto_sql(\n\u001b[0;32m   3009\u001b[0m     \u001b[38;5;28mself\u001b[39m,\n\u001b[0;32m   3010\u001b[0m     name,\n\u001b[0;32m   3011\u001b[0m     con,\n\u001b[0;32m   3012\u001b[0m     schema\u001b[38;5;241m=\u001b[39mschema,\n\u001b[0;32m   3013\u001b[0m     if_exists\u001b[38;5;241m=\u001b[39mif_exists,\n\u001b[0;32m   3014\u001b[0m     index\u001b[38;5;241m=\u001b[39mindex,\n\u001b[0;32m   3015\u001b[0m     index_label\u001b[38;5;241m=\u001b[39mindex_label,\n\u001b[0;32m   3016\u001b[0m     chunksize\u001b[38;5;241m=\u001b[39mchunksize,\n\u001b[0;32m   3017\u001b[0m     dtype\u001b[38;5;241m=\u001b[39mdtype,\n\u001b[0;32m   3018\u001b[0m     method\u001b[38;5;241m=\u001b[39mmethod,\n\u001b[0;32m   3019\u001b[0m )\n",
      "File \u001b[1;32m~\\anaconda3\\Lib\\site-packages\\pandas\\io\\sql.py:788\u001b[0m, in \u001b[0;36mto_sql\u001b[1;34m(frame, name, con, schema, if_exists, index, index_label, chunksize, dtype, method, engine, **engine_kwargs)\u001b[0m\n\u001b[0;32m    783\u001b[0m     \u001b[38;5;28;01mraise\u001b[39;00m \u001b[38;5;167;01mNotImplementedError\u001b[39;00m(\n\u001b[0;32m    784\u001b[0m         \u001b[38;5;124m\"\u001b[39m\u001b[38;5;124m'\u001b[39m\u001b[38;5;124mframe\u001b[39m\u001b[38;5;124m'\u001b[39m\u001b[38;5;124m argument should be either a Series or a DataFrame\u001b[39m\u001b[38;5;124m\"\u001b[39m\n\u001b[0;32m    785\u001b[0m     )\n\u001b[0;32m    787\u001b[0m \u001b[38;5;28;01mwith\u001b[39;00m pandasSQL_builder(con, schema\u001b[38;5;241m=\u001b[39mschema, need_transaction\u001b[38;5;241m=\u001b[39m\u001b[38;5;28;01mTrue\u001b[39;00m) \u001b[38;5;28;01mas\u001b[39;00m pandas_sql:\n\u001b[1;32m--> 788\u001b[0m     \u001b[38;5;28;01mreturn\u001b[39;00m pandas_sql\u001b[38;5;241m.\u001b[39mto_sql(\n\u001b[0;32m    789\u001b[0m         frame,\n\u001b[0;32m    790\u001b[0m         name,\n\u001b[0;32m    791\u001b[0m         if_exists\u001b[38;5;241m=\u001b[39mif_exists,\n\u001b[0;32m    792\u001b[0m         index\u001b[38;5;241m=\u001b[39mindex,\n\u001b[0;32m    793\u001b[0m         index_label\u001b[38;5;241m=\u001b[39mindex_label,\n\u001b[0;32m    794\u001b[0m         schema\u001b[38;5;241m=\u001b[39mschema,\n\u001b[0;32m    795\u001b[0m         chunksize\u001b[38;5;241m=\u001b[39mchunksize,\n\u001b[0;32m    796\u001b[0m         dtype\u001b[38;5;241m=\u001b[39mdtype,\n\u001b[0;32m    797\u001b[0m         method\u001b[38;5;241m=\u001b[39mmethod,\n\u001b[0;32m    798\u001b[0m         engine\u001b[38;5;241m=\u001b[39mengine,\n\u001b[0;32m    799\u001b[0m         \u001b[38;5;241m*\u001b[39m\u001b[38;5;241m*\u001b[39mengine_kwargs,\n\u001b[0;32m    800\u001b[0m     )\n",
      "File \u001b[1;32m~\\anaconda3\\Lib\\site-packages\\pandas\\io\\sql.py:2438\u001b[0m, in \u001b[0;36mSQLiteDatabase.to_sql\u001b[1;34m(self, frame, name, if_exists, index, index_label, schema, chunksize, dtype, method, engine, **engine_kwargs)\u001b[0m\n\u001b[0;32m   2427\u001b[0m             \u001b[38;5;28;01mraise\u001b[39;00m \u001b[38;5;167;01mValueError\u001b[39;00m(\u001b[38;5;124mf\u001b[39m\u001b[38;5;124m\"\u001b[39m\u001b[38;5;132;01m{\u001b[39;00mcol\u001b[38;5;132;01m}\u001b[39;00m\u001b[38;5;124m (\u001b[39m\u001b[38;5;132;01m{\u001b[39;00mmy_type\u001b[38;5;132;01m}\u001b[39;00m\u001b[38;5;124m) not a string\u001b[39m\u001b[38;5;124m\"\u001b[39m)\n\u001b[0;32m   2429\u001b[0m table \u001b[38;5;241m=\u001b[39m SQLiteTable(\n\u001b[0;32m   2430\u001b[0m     name,\n\u001b[0;32m   2431\u001b[0m     \u001b[38;5;28mself\u001b[39m,\n\u001b[1;32m   (...)\u001b[0m\n\u001b[0;32m   2436\u001b[0m     dtype\u001b[38;5;241m=\u001b[39mdtype,\n\u001b[0;32m   2437\u001b[0m )\n\u001b[1;32m-> 2438\u001b[0m table\u001b[38;5;241m.\u001b[39mcreate()\n\u001b[0;32m   2439\u001b[0m \u001b[38;5;28;01mreturn\u001b[39;00m table\u001b[38;5;241m.\u001b[39minsert(chunksize, method)\n",
      "File \u001b[1;32m~\\anaconda3\\Lib\\site-packages\\pandas\\io\\sql.py:925\u001b[0m, in \u001b[0;36mSQLTable.create\u001b[1;34m(self)\u001b[0m\n\u001b[0;32m    924\u001b[0m \u001b[38;5;28;01mdef\u001b[39;00m \u001b[38;5;21mcreate\u001b[39m(\u001b[38;5;28mself\u001b[39m) \u001b[38;5;241m-\u001b[39m\u001b[38;5;241m>\u001b[39m \u001b[38;5;28;01mNone\u001b[39;00m:\n\u001b[1;32m--> 925\u001b[0m     \u001b[38;5;28;01mif\u001b[39;00m \u001b[38;5;28mself\u001b[39m\u001b[38;5;241m.\u001b[39mexists():\n\u001b[0;32m    926\u001b[0m         \u001b[38;5;28;01mif\u001b[39;00m \u001b[38;5;28mself\u001b[39m\u001b[38;5;241m.\u001b[39mif_exists \u001b[38;5;241m==\u001b[39m \u001b[38;5;124m\"\u001b[39m\u001b[38;5;124mfail\u001b[39m\u001b[38;5;124m\"\u001b[39m:\n\u001b[0;32m    927\u001b[0m             \u001b[38;5;28;01mraise\u001b[39;00m \u001b[38;5;167;01mValueError\u001b[39;00m(\u001b[38;5;124mf\u001b[39m\u001b[38;5;124m\"\u001b[39m\u001b[38;5;124mTable \u001b[39m\u001b[38;5;124m'\u001b[39m\u001b[38;5;132;01m{\u001b[39;00m\u001b[38;5;28mself\u001b[39m\u001b[38;5;241m.\u001b[39mname\u001b[38;5;132;01m}\u001b[39;00m\u001b[38;5;124m'\u001b[39m\u001b[38;5;124m already exists.\u001b[39m\u001b[38;5;124m\"\u001b[39m)\n",
      "File \u001b[1;32m~\\anaconda3\\Lib\\site-packages\\pandas\\io\\sql.py:911\u001b[0m, in \u001b[0;36mSQLTable.exists\u001b[1;34m(self)\u001b[0m\n\u001b[0;32m    910\u001b[0m \u001b[38;5;28;01mdef\u001b[39;00m \u001b[38;5;21mexists\u001b[39m(\u001b[38;5;28mself\u001b[39m):\n\u001b[1;32m--> 911\u001b[0m     \u001b[38;5;28;01mreturn\u001b[39;00m \u001b[38;5;28mself\u001b[39m\u001b[38;5;241m.\u001b[39mpd_sql\u001b[38;5;241m.\u001b[39mhas_table(\u001b[38;5;28mself\u001b[39m\u001b[38;5;241m.\u001b[39mname, \u001b[38;5;28mself\u001b[39m\u001b[38;5;241m.\u001b[39mschema)\n",
      "File \u001b[1;32m~\\anaconda3\\Lib\\site-packages\\pandas\\io\\sql.py:2453\u001b[0m, in \u001b[0;36mSQLiteDatabase.has_table\u001b[1;34m(self, name, schema)\u001b[0m\n\u001b[0;32m   2442\u001b[0m wld \u001b[38;5;241m=\u001b[39m \u001b[38;5;124m\"\u001b[39m\u001b[38;5;124m?\u001b[39m\u001b[38;5;124m\"\u001b[39m\n\u001b[0;32m   2443\u001b[0m query \u001b[38;5;241m=\u001b[39m \u001b[38;5;124mf\u001b[39m\u001b[38;5;124m\"\"\"\u001b[39m\n\u001b[0;32m   2444\u001b[0m \u001b[38;5;124mSELECT\u001b[39m\n\u001b[0;32m   2445\u001b[0m \u001b[38;5;124m    name\u001b[39m\n\u001b[1;32m   (...)\u001b[0m\n\u001b[0;32m   2450\u001b[0m \u001b[38;5;124m    AND name=\u001b[39m\u001b[38;5;132;01m{\u001b[39;00mwld\u001b[38;5;132;01m}\u001b[39;00m\u001b[38;5;124m;\u001b[39m\n\u001b[0;32m   2451\u001b[0m \u001b[38;5;124m\u001b[39m\u001b[38;5;124m\"\"\"\u001b[39m\n\u001b[1;32m-> 2453\u001b[0m \u001b[38;5;28;01mreturn\u001b[39;00m \u001b[38;5;28mlen\u001b[39m(\u001b[38;5;28mself\u001b[39m\u001b[38;5;241m.\u001b[39mexecute(query, [name])\u001b[38;5;241m.\u001b[39mfetchall()) \u001b[38;5;241m>\u001b[39m \u001b[38;5;241m0\u001b[39m\n",
      "File \u001b[1;32m~\\anaconda3\\Lib\\site-packages\\pandas\\io\\sql.py:2274\u001b[0m, in \u001b[0;36mSQLiteDatabase.execute\u001b[1;34m(self, sql, params)\u001b[0m\n\u001b[0;32m   2271\u001b[0m     \u001b[38;5;28;01mraise\u001b[39;00m ex \u001b[38;5;28;01mfrom\u001b[39;00m \u001b[38;5;21;01minner_exc\u001b[39;00m\n\u001b[0;32m   2273\u001b[0m ex \u001b[38;5;241m=\u001b[39m DatabaseError(\u001b[38;5;124mf\u001b[39m\u001b[38;5;124m\"\u001b[39m\u001b[38;5;124mExecution failed on sql \u001b[39m\u001b[38;5;124m'\u001b[39m\u001b[38;5;132;01m{\u001b[39;00msql\u001b[38;5;132;01m}\u001b[39;00m\u001b[38;5;124m'\u001b[39m\u001b[38;5;124m: \u001b[39m\u001b[38;5;132;01m{\u001b[39;00mexc\u001b[38;5;132;01m}\u001b[39;00m\u001b[38;5;124m\"\u001b[39m)\n\u001b[1;32m-> 2274\u001b[0m \u001b[38;5;28;01mraise\u001b[39;00m ex \u001b[38;5;28;01mfrom\u001b[39;00m \u001b[38;5;21;01mexc\u001b[39;00m\n",
      "\u001b[1;31mDatabaseError\u001b[0m: Execution failed on sql '\n        SELECT\n            name\n        FROM\n            sqlite_master\n        WHERE\n            type IN ('table', 'view')\n            AND name=?;\n        ': Not all parameters were used in the SQL statement"
     ]
    }
   ],
   "source": [
    "writedata = readdata.to_sql(name = 'dumpdata',con = mydb) # putting data into sql\n",
    "#dumpdata = table where we want to save data.\n",
    "# mydb = connection\n",
    "\n",
    "# We will learn this in sqlalkymy"
   ]
  },
  {
   "cell_type": "code",
   "execution_count": 3,
   "id": "e8ac18fc-4b4a-4e11-b371-d2f3fd7c51b3",
   "metadata": {},
   "outputs": [],
   "source": [
    "import mysql.connector as connection\n",
    "import pandas as pd\n",
    "import csv"
   ]
  },
  {
   "cell_type": "code",
   "execution_count": 4,
   "id": "0b192f53-bfd9-4ea9-981c-902f28c81434",
   "metadata": {},
   "outputs": [
    {
     "ename": "ProgrammingError",
     "evalue": "1050 (42S01): Table 'roynewtable' already exists",
     "output_type": "error",
     "traceback": [
      "\u001b[1;31m---------------------------------------------------------------------------\u001b[0m",
      "\u001b[1;31mProgrammingError\u001b[0m                          Traceback (most recent call last)",
      "Cell \u001b[1;32mIn[4], line 4\u001b[0m\n\u001b[0;32m      2\u001b[0m query \u001b[38;5;241m=\u001b[39m \u001b[38;5;124m\"\u001b[39m\u001b[38;5;124mcreate table roynewtable(rr int(10), rr1 varchar(20), rr2 varchar(20))\u001b[39m\u001b[38;5;124m\"\u001b[39m\n\u001b[0;32m      3\u001b[0m cur \u001b[38;5;241m=\u001b[39m mydb\u001b[38;5;241m.\u001b[39mcursor()\n\u001b[1;32m----> 4\u001b[0m cur\u001b[38;5;241m.\u001b[39mexecute(query)\n\u001b[0;32m      5\u001b[0m \u001b[38;5;28mprint\u001b[39m(\u001b[38;5;124m'\u001b[39m\u001b[38;5;124mtable created\u001b[39m\u001b[38;5;124m'\u001b[39m)\n",
      "File \u001b[1;32m~\\anaconda3\\Lib\\site-packages\\mysql\\connector\\cursor.py:748\u001b[0m, in \u001b[0;36mMySQLCursor.execute\u001b[1;34m(self, operation, params, multi)\u001b[0m\n\u001b[0;32m    745\u001b[0m     \u001b[38;5;28;01mreturn\u001b[39;00m \u001b[38;5;28mself\u001b[39m\u001b[38;5;241m.\u001b[39m_execute_iter(\u001b[38;5;28mself\u001b[39m\u001b[38;5;241m.\u001b[39m_connection\u001b[38;5;241m.\u001b[39mcmd_query_iter(stmt))\n\u001b[0;32m    747\u001b[0m \u001b[38;5;28;01mtry\u001b[39;00m:\n\u001b[1;32m--> 748\u001b[0m     \u001b[38;5;28mself\u001b[39m\u001b[38;5;241m.\u001b[39m_handle_result(\u001b[38;5;28mself\u001b[39m\u001b[38;5;241m.\u001b[39m_connection\u001b[38;5;241m.\u001b[39mcmd_query(stmt))\n\u001b[0;32m    749\u001b[0m \u001b[38;5;28;01mexcept\u001b[39;00m InterfaceError \u001b[38;5;28;01mas\u001b[39;00m err:\n\u001b[0;32m    750\u001b[0m     \u001b[38;5;28;01mif\u001b[39;00m \u001b[38;5;28mself\u001b[39m\u001b[38;5;241m.\u001b[39m_connection\u001b[38;5;241m.\u001b[39mhave_next_result:\n",
      "File \u001b[1;32m~\\anaconda3\\Lib\\site-packages\\mysql\\connector\\opentelemetry\\context_propagation.py:74\u001b[0m, in \u001b[0;36mwith_context_propagation.<locals>.wrapper\u001b[1;34m(cnx, *args, **kwargs)\u001b[0m\n\u001b[0;32m     72\u001b[0m \u001b[38;5;250m\u001b[39m\u001b[38;5;124;03m\"\"\"Context propagation decorator.\"\"\"\u001b[39;00m\n\u001b[0;32m     73\u001b[0m \u001b[38;5;28;01mif\u001b[39;00m \u001b[38;5;129;01mnot\u001b[39;00m OTEL_ENABLED \u001b[38;5;129;01mor\u001b[39;00m \u001b[38;5;129;01mnot\u001b[39;00m cnx\u001b[38;5;241m.\u001b[39motel_context_propagation:\n\u001b[1;32m---> 74\u001b[0m     \u001b[38;5;28;01mreturn\u001b[39;00m method(cnx, \u001b[38;5;241m*\u001b[39margs, \u001b[38;5;241m*\u001b[39m\u001b[38;5;241m*\u001b[39mkwargs)\n\u001b[0;32m     76\u001b[0m current_span \u001b[38;5;241m=\u001b[39m trace\u001b[38;5;241m.\u001b[39mget_current_span()\n\u001b[0;32m     77\u001b[0m tp_header \u001b[38;5;241m=\u001b[39m \u001b[38;5;28;01mNone\u001b[39;00m\n",
      "File \u001b[1;32m~\\anaconda3\\Lib\\site-packages\\mysql\\connector\\connection.py:855\u001b[0m, in \u001b[0;36mMySQLConnection.cmd_query\u001b[1;34m(self, query, raw, buffered, raw_as_string)\u001b[0m\n\u001b[0;32m    853\u001b[0m query \u001b[38;5;241m=\u001b[39m \u001b[38;5;28mbytes\u001b[39m(packet)\n\u001b[0;32m    854\u001b[0m \u001b[38;5;28;01mtry\u001b[39;00m:\n\u001b[1;32m--> 855\u001b[0m     result \u001b[38;5;241m=\u001b[39m \u001b[38;5;28mself\u001b[39m\u001b[38;5;241m.\u001b[39m_handle_result(\u001b[38;5;28mself\u001b[39m\u001b[38;5;241m.\u001b[39m_send_cmd(ServerCmd\u001b[38;5;241m.\u001b[39mQUERY, query))\n\u001b[0;32m    856\u001b[0m \u001b[38;5;28;01mexcept\u001b[39;00m ProgrammingError \u001b[38;5;28;01mas\u001b[39;00m err:\n\u001b[0;32m    857\u001b[0m     \u001b[38;5;28;01mif\u001b[39;00m err\u001b[38;5;241m.\u001b[39merrno \u001b[38;5;241m==\u001b[39m \u001b[38;5;241m3948\u001b[39m \u001b[38;5;129;01mand\u001b[39;00m \u001b[38;5;124m\"\u001b[39m\u001b[38;5;124mLoading local data is disabled\u001b[39m\u001b[38;5;124m\"\u001b[39m \u001b[38;5;129;01min\u001b[39;00m err\u001b[38;5;241m.\u001b[39mmsg:\n",
      "File \u001b[1;32m~\\anaconda3\\Lib\\site-packages\\mysql\\connector\\connection.py:631\u001b[0m, in \u001b[0;36mMySQLConnection._handle_result\u001b[1;34m(self, packet)\u001b[0m\n\u001b[0;32m    629\u001b[0m     \u001b[38;5;28;01mreturn\u001b[39;00m \u001b[38;5;28mself\u001b[39m\u001b[38;5;241m.\u001b[39m_handle_eof(packet)\n\u001b[0;32m    630\u001b[0m \u001b[38;5;28;01mif\u001b[39;00m packet[\u001b[38;5;241m4\u001b[39m] \u001b[38;5;241m==\u001b[39m \u001b[38;5;241m255\u001b[39m:\n\u001b[1;32m--> 631\u001b[0m     \u001b[38;5;28;01mraise\u001b[39;00m get_exception(packet)\n\u001b[0;32m    633\u001b[0m \u001b[38;5;66;03m# We have a text result set\u001b[39;00m\n\u001b[0;32m    634\u001b[0m column_count \u001b[38;5;241m=\u001b[39m \u001b[38;5;28mself\u001b[39m\u001b[38;5;241m.\u001b[39m_protocol\u001b[38;5;241m.\u001b[39mparse_column_count(packet)\n",
      "\u001b[1;31mProgrammingError\u001b[0m: 1050 (42S01): Table 'roynewtable' already exists"
     ]
    }
   ],
   "source": [
    "mydb = connection.connect(host = 'localhost',user='root',passwd = 'mysql',use_pure = True, database = 'roy')\n",
    "query = \"create table roynewtable(rr int(10), rr1 varchar(20), rr2 varchar(20))\"\n",
    "cur = mydb.cursor()\n",
    "cur.execute(query)\n",
    "print('table created')"
   ]
  },
  {
   "cell_type": "code",
   "execution_count": null,
   "id": "105b86b8-dc66-4aea-8b0f-4bb90c252217",
   "metadata": {},
   "outputs": [],
   "source": [
    "mydb = connection.connect(host = 'localhost',user='root',passwd = 'mysql',use_pure = True, database = 'roy')\n",
    "query = \"insert into roynewtable values (454578,'rishiraj','happy')\"\n",
    "cur = mydb.cursor()\n",
    "cur.execute(query)\n",
    "mydb.commit()\n",
    "print('data inserted')"
   ]
  },
  {
   "cell_type": "code",
   "execution_count": null,
   "id": "f1e45147-ee1e-4c03-8611-6a2d3aaae5cf",
   "metadata": {},
   "outputs": [],
   "source": [
    "mydb = connection.connect(host = 'localhost',user='root',passwd = 'mysql',use_pure = True, database = 'roy')\n",
    "query = \"select * from roynewtable\"\n",
    "newdata = pd.read_sql(query,mydb)\n",
    "print(newdata)"
   ]
  },
  {
   "cell_type": "code",
   "execution_count": null,
   "id": "31835245-7081-4769-9b5f-b43c500ae9bf",
   "metadata": {},
   "outputs": [],
   "source": [
    "newdata"
   ]
  },
  {
   "cell_type": "code",
   "execution_count": null,
   "id": "ec939737-f289-4542-beeb-f8c74272abd5",
   "metadata": {},
   "outputs": [],
   "source": [
    "newdata.to_csv('newdata.csv')"
   ]
  },
  {
   "cell_type": "code",
   "execution_count": null,
   "id": "fca07a6f-6378-4892-b8a6-e580abad055e",
   "metadata": {},
   "outputs": [],
   "source": [
    "with open ('newdata.csv','r') as data:\n",
    "    data.read()"
   ]
  },
  {
   "cell_type": "code",
   "execution_count": 10,
   "id": "f1c45a6d-7b3a-4717-a815-397202cb6753",
   "metadata": {},
   "outputs": [
    {
     "name": "stdout",
     "output_type": "stream",
     "text": [
      "<_csv.reader object at 0x00000227D6043820>\n",
      "[',rr,rr1,rr2']\n",
      "['0,454578,rishiraj,happy']\n",
      "['1,454578,rishiraj,happy']\n"
     ]
    }
   ],
   "source": [
    "with open('newdata.csv','r') as data:\n",
    "    data_csv = csv.reader(data,delimiter = \"\\n\")\n",
    "    print(data_csv)\n",
    "    for i in (data_csv): # enumerate gives index and the data.\n",
    "        print(i)"
   ]
  },
  {
   "cell_type": "code",
   "execution_count": 151,
   "id": "b51fe83b-7527-4e63-b4af-1efe602c213d",
   "metadata": {},
   "outputs": [],
   "source": [
    "# we will have to convert data in such a way that we will be able to store data one by one in for loop.\n",
    "# we will use enumerate for this purpose, it returns index and the data."
   ]
  },
  {
   "cell_type": "code",
   "execution_count": 12,
   "id": "111e1ffe-e3a4-4c43-a3f0-fd37c0291203",
   "metadata": {},
   "outputs": [
    {
     "name": "stdout",
     "output_type": "stream",
     "text": [
      "<_csv.reader object at 0x00000227D6043340>\n",
      "(0, [',rr,rr1,rr2'])\n",
      "(1, ['0,454578,rishiraj,happy'])\n",
      "(2, ['1,454578,rishiraj,happy'])\n"
     ]
    }
   ],
   "source": [
    "with open('newdata.csv','r') as data:\n",
    "    data_csv = csv.reader(data,delimiter = \"\\n\")\n",
    "    print(data_csv)\n",
    "    for i in enumerate(data_csv): # enumerate gives index and the data.\n",
    "        print(i)\n",
    "        "
   ]
  },
  {
   "cell_type": "code",
   "execution_count": null,
   "id": "1bf75cc5-ec77-43f3-acfd-88a9dbd4606f",
   "metadata": {},
   "outputs": [],
   "source": [
    "# Repeat "
   ]
  },
  {
   "cell_type": "code",
   "execution_count": 1,
   "id": "90542d60-2dff-432d-9c41-0191ff98c809",
   "metadata": {},
   "outputs": [],
   "source": [
    "import pandas as pd"
   ]
  },
  {
   "cell_type": "code",
   "execution_count": 2,
   "id": "fa7dcded-3e88-4652-bfbd-debd835ac174",
   "metadata": {},
   "outputs": [],
   "source": [
    "# pandas is being used for the file manipulation."
   ]
  },
  {
   "cell_type": "code",
   "execution_count": 4,
   "id": "cc467cba-0bee-4a24-8012-1d36dc9d6d9e",
   "metadata": {},
   "outputs": [
    {
     "name": "stdout",
     "output_type": "stream",
     "text": [
      "database created\n"
     ]
    }
   ],
   "source": [
    "# create database\n",
    "try:\n",
    "    mydb = connection.connect(host = 'localhost',user ='root',passwd = 'mysql',use_pure = True)\n",
    "    mydb.is_connected()\n",
    "\n",
    "    query = \"create database schooldata\"\n",
    "    cur = mydb.cursor()\n",
    "    cur.execute(query)\n",
    "    print('database created')\n",
    "    mydb.close()\n",
    "except Exception as e:\n",
    "    print(e)"
   ]
  },
  {
   "cell_type": "code",
   "execution_count": 5,
   "id": "ae96c5e0-cc88-4b93-884f-9e2c14b121c4",
   "metadata": {},
   "outputs": [
    {
     "name": "stdout",
     "output_type": "stream",
     "text": [
      "table created\n"
     ]
    }
   ],
   "source": [
    "#create table\n",
    "try:\n",
    "    mydb = connection.connect(host = 'localhost',user='root',passwd='mysql',database='schooldata',use_pure = True)\n",
    "    mydb.is_connected()\n",
    "\n",
    "    query = \"create table schooldatatable (st int(10), st1 varchar(20), st2 varchar(20))\"\n",
    "    cur = mydb.cursor()\n",
    "    cur.execute(query)\n",
    "    print('table created')\n",
    "    mydb.close()\n",
    "\n",
    "except Exception as e:\n",
    "    print(e)\n",
    "    "
   ]
  },
  {
   "cell_type": "code",
   "execution_count": 7,
   "id": "0a93be0b-8ff3-457d-b170-139c002c0568",
   "metadata": {},
   "outputs": [
    {
     "name": "stdout",
     "output_type": "stream",
     "text": [
      "data inserted\n"
     ]
    }
   ],
   "source": [
    "#insert data\n",
    "try:\n",
    "    mydb = connection.connect(host = 'localhost',user='root',passwd='mysql',database='schooldata',use_pure = True)\n",
    "    mydb.is_connected()\n",
    "\n",
    "    cur = mydb.cursor()\n",
    "    cur.execute(\"insert into schooldatatable values (52545,'happy','rajusingh')\")\n",
    "    mydb.commit()\n",
    "    print('data inserted')\n",
    "    mydb.close()\n",
    "except Exception as e:\n",
    "    print(e)\n",
    "    "
   ]
  },
  {
   "cell_type": "code",
   "execution_count": 22,
   "id": "4ebb5389-e77f-42fa-90ef-1e07cf8a785f",
   "metadata": {},
   "outputs": [],
   "source": [
    "mydb = connection.connect(host = 'localhost',user='root',passwd='mysql',database='schooldata',use_pure = True)\n",
    "mydb.is_connected()\n",
    "cur = mydb.cursor()\n",
    "cur.execute(\"insert into schooldatatable values (52545,'happy','rajusingh')\")\n",
    "cur.execute(\"insert into schooldatatable values (52545,'happy','rajusingh')\")\n",
    "cur.execute(\"insert into schooldatatable values (52545,'happy','rajusingh')\")\n",
    "mydb.commit()"
   ]
  },
  {
   "cell_type": "code",
   "execution_count": 23,
   "id": "98e9e04d-1652-4108-9df7-7a08df23a142",
   "metadata": {},
   "outputs": [],
   "source": [
    "#fetch data\n",
    "try:\n",
    "    mydb = connection.connect(host = 'localhost',user='root',passwd='mysql',database='schooldata',use_pure = True)\n",
    "    mydb.is_connected()\n",
    "\n",
    "    cur = mydb.cursor()\n",
    "    cur.execute(\"select * from schooldatatable\")\n",
    "    cur.fetchall()\n",
    "    for result in cur.fetchall():\n",
    "        print(result)\n",
    "    mydb.close()\n",
    "except Exception as e:\n",
    "    print(e)\n",
    "        "
   ]
  },
  {
   "cell_type": "code",
   "execution_count": 24,
   "id": "585888a9-ac3b-435f-b4ed-74a329be1b7c",
   "metadata": {},
   "outputs": [
    {
     "data": {
      "text/plain": [
       "[]"
      ]
     },
     "execution_count": 24,
     "metadata": {},
     "output_type": "execute_result"
    }
   ],
   "source": [
    "cur.fetchall()"
   ]
  },
  {
   "cell_type": "code",
   "execution_count": 25,
   "id": "f5c47726-1ab3-42ca-aa6a-f3196c5f25a5",
   "metadata": {},
   "outputs": [],
   "source": [
    "import pandas as pd"
   ]
  },
  {
   "cell_type": "code",
   "execution_count": 27,
   "id": "0d02e032-cd01-4561-9d1d-b2dedf152fe8",
   "metadata": {},
   "outputs": [
    {
     "name": "stderr",
     "output_type": "stream",
     "text": [
      "C:\\Users\\USER\\AppData\\Local\\Temp\\ipykernel_19328\\2284261265.py:3: UserWarning: pandas only supports SQLAlchemy connectable (engine/connection) or database string URI or sqlite3 DBAPI2 connection. Other DBAPI2 objects are not tested. Please consider using SQLAlchemy.\n",
      "  pd.read_sql(\"select * from schooldata.schooldatatable\",mydb)\n"
     ]
    },
    {
     "data": {
      "text/html": [
       "<div>\n",
       "<style scoped>\n",
       "    .dataframe tbody tr th:only-of-type {\n",
       "        vertical-align: middle;\n",
       "    }\n",
       "\n",
       "    .dataframe tbody tr th {\n",
       "        vertical-align: top;\n",
       "    }\n",
       "\n",
       "    .dataframe thead th {\n",
       "        text-align: right;\n",
       "    }\n",
       "</style>\n",
       "<table border=\"1\" class=\"dataframe\">\n",
       "  <thead>\n",
       "    <tr style=\"text-align: right;\">\n",
       "      <th></th>\n",
       "      <th>st</th>\n",
       "      <th>st1</th>\n",
       "      <th>st2</th>\n",
       "    </tr>\n",
       "  </thead>\n",
       "  <tbody>\n",
       "    <tr>\n",
       "      <th>0</th>\n",
       "      <td>52545</td>\n",
       "      <td>happy</td>\n",
       "      <td>rajussing</td>\n",
       "    </tr>\n",
       "    <tr>\n",
       "      <th>1</th>\n",
       "      <td>52545</td>\n",
       "      <td>happy</td>\n",
       "      <td>rajusingh</td>\n",
       "    </tr>\n",
       "    <tr>\n",
       "      <th>2</th>\n",
       "      <td>52545</td>\n",
       "      <td>happy</td>\n",
       "      <td>rajusingh</td>\n",
       "    </tr>\n",
       "    <tr>\n",
       "      <th>3</th>\n",
       "      <td>52545</td>\n",
       "      <td>happy</td>\n",
       "      <td>rajusingh</td>\n",
       "    </tr>\n",
       "    <tr>\n",
       "      <th>4</th>\n",
       "      <td>52545</td>\n",
       "      <td>happy</td>\n",
       "      <td>rajusingh</td>\n",
       "    </tr>\n",
       "    <tr>\n",
       "      <th>5</th>\n",
       "      <td>52545</td>\n",
       "      <td>happy</td>\n",
       "      <td>rajusingh</td>\n",
       "    </tr>\n",
       "    <tr>\n",
       "      <th>6</th>\n",
       "      <td>52545</td>\n",
       "      <td>happy</td>\n",
       "      <td>rajusingh</td>\n",
       "    </tr>\n",
       "    <tr>\n",
       "      <th>7</th>\n",
       "      <td>52545</td>\n",
       "      <td>happy</td>\n",
       "      <td>rajusingh</td>\n",
       "    </tr>\n",
       "  </tbody>\n",
       "</table>\n",
       "</div>"
      ],
      "text/plain": [
       "      st    st1        st2\n",
       "0  52545  happy  rajussing\n",
       "1  52545  happy  rajusingh\n",
       "2  52545  happy  rajusingh\n",
       "3  52545  happy  rajusingh\n",
       "4  52545  happy  rajusingh\n",
       "5  52545  happy  rajusingh\n",
       "6  52545  happy  rajusingh\n",
       "7  52545  happy  rajusingh"
      ]
     },
     "execution_count": 27,
     "metadata": {},
     "output_type": "execute_result"
    }
   ],
   "source": [
    "mydb = connection.connect(host = 'localhost',user='root',passwd='mysql',database='schooldata',use_pure = True)\n",
    "# to read sql data in a tabular format, we use pandas read_sql feature. here we don't have to use cursor.execute,cursor, or fetch all option.\n",
    "pd.read_sql(\"select * from schooldata.schooldatatable\",mydb)"
   ]
  },
  {
   "cell_type": "code",
   "execution_count": 35,
   "id": "9050a883-457e-461e-9de0-699d3e4b6152",
   "metadata": {},
   "outputs": [
    {
     "name": "stderr",
     "output_type": "stream",
     "text": [
      "C:\\Users\\USER\\AppData\\Local\\Temp\\ipykernel_19328\\1810824113.py:1: UserWarning: pandas only supports SQLAlchemy connectable (engine/connection) or database string URI or sqlite3 DBAPI2 connection. Other DBAPI2 objects are not tested. Please consider using SQLAlchemy.\n",
      "  a = pd.read_sql(\"select * from schooldata.schooldatatable\",mydb)\n"
     ]
    }
   ],
   "source": [
    "a = pd.read_sql(\"select * from schooldata.schooldatatable\",mydb)"
   ]
  },
  {
   "cell_type": "code",
   "execution_count": 36,
   "id": "d22eb549-7da4-4220-9228-ca78f7a52001",
   "metadata": {},
   "outputs": [],
   "source": [
    "# it will save data in csv format\n",
    "a.to_csv('a.csv')"
   ]
  },
  {
   "cell_type": "code",
   "execution_count": 31,
   "id": "af1bf1f7-2765-4efd-b417-47661c26e787",
   "metadata": {},
   "outputs": [],
   "source": [
    "# insert from file\n",
    "# we would like to read and write data in table.\n"
   ]
  },
  {
   "cell_type": "code",
   "execution_count": 51,
   "id": "65bf3ccd-419b-47ad-9368-852c53bf1095",
   "metadata": {},
   "outputs": [
    {
     "name": "stdout",
     "output_type": "stream",
     "text": [
      "table created\n"
     ]
    }
   ],
   "source": [
    "mydb = connection.connect(host = 'localhost',user='root',passwd='mysql',database='roy',use_pure = True)\n",
    "mydb.is_connected()\n",
    "cur = mydb.cursor()\n",
    "cur.execute(\"create table a1 (a int(10), a1 varchar(20), a2 varchar(20))\")\n",
    "print('table created')\n",
    "mydb.close()"
   ]
  },
  {
   "cell_type": "code",
   "execution_count": 42,
   "id": "3a17e437-ed7a-45ae-85c3-e89b6653188a",
   "metadata": {},
   "outputs": [],
   "source": [
    "data = pd.read_csv('a.csv')"
   ]
  },
  {
   "cell_type": "code",
   "execution_count": 43,
   "id": "3fe09c50-848b-448c-84ad-0a878cd48ad1",
   "metadata": {},
   "outputs": [
    {
     "data": {
      "text/html": [
       "<div>\n",
       "<style scoped>\n",
       "    .dataframe tbody tr th:only-of-type {\n",
       "        vertical-align: middle;\n",
       "    }\n",
       "\n",
       "    .dataframe tbody tr th {\n",
       "        vertical-align: top;\n",
       "    }\n",
       "\n",
       "    .dataframe thead th {\n",
       "        text-align: right;\n",
       "    }\n",
       "</style>\n",
       "<table border=\"1\" class=\"dataframe\">\n",
       "  <thead>\n",
       "    <tr style=\"text-align: right;\">\n",
       "      <th></th>\n",
       "      <th>Unnamed: 0</th>\n",
       "      <th>st</th>\n",
       "      <th>st1</th>\n",
       "      <th>st2</th>\n",
       "    </tr>\n",
       "  </thead>\n",
       "  <tbody>\n",
       "    <tr>\n",
       "      <th>0</th>\n",
       "      <td>0</td>\n",
       "      <td>52545</td>\n",
       "      <td>happy</td>\n",
       "      <td>rajussing</td>\n",
       "    </tr>\n",
       "    <tr>\n",
       "      <th>1</th>\n",
       "      <td>1</td>\n",
       "      <td>52545</td>\n",
       "      <td>happy</td>\n",
       "      <td>rajusingh</td>\n",
       "    </tr>\n",
       "    <tr>\n",
       "      <th>2</th>\n",
       "      <td>2</td>\n",
       "      <td>52545</td>\n",
       "      <td>happy</td>\n",
       "      <td>rajusingh</td>\n",
       "    </tr>\n",
       "    <tr>\n",
       "      <th>3</th>\n",
       "      <td>3</td>\n",
       "      <td>52545</td>\n",
       "      <td>happy</td>\n",
       "      <td>rajusingh</td>\n",
       "    </tr>\n",
       "    <tr>\n",
       "      <th>4</th>\n",
       "      <td>4</td>\n",
       "      <td>52545</td>\n",
       "      <td>happy</td>\n",
       "      <td>rajusingh</td>\n",
       "    </tr>\n",
       "    <tr>\n",
       "      <th>5</th>\n",
       "      <td>5</td>\n",
       "      <td>52545</td>\n",
       "      <td>happy</td>\n",
       "      <td>rajusingh</td>\n",
       "    </tr>\n",
       "    <tr>\n",
       "      <th>6</th>\n",
       "      <td>6</td>\n",
       "      <td>52545</td>\n",
       "      <td>happy</td>\n",
       "      <td>rajusingh</td>\n",
       "    </tr>\n",
       "    <tr>\n",
       "      <th>7</th>\n",
       "      <td>7</td>\n",
       "      <td>52545</td>\n",
       "      <td>happy</td>\n",
       "      <td>rajusingh</td>\n",
       "    </tr>\n",
       "  </tbody>\n",
       "</table>\n",
       "</div>"
      ],
      "text/plain": [
       "   Unnamed: 0     st    st1        st2\n",
       "0           0  52545  happy  rajussing\n",
       "1           1  52545  happy  rajusingh\n",
       "2           2  52545  happy  rajusingh\n",
       "3           3  52545  happy  rajusingh\n",
       "4           4  52545  happy  rajusingh\n",
       "5           5  52545  happy  rajusingh\n",
       "6           6  52545  happy  rajusingh\n",
       "7           7  52545  happy  rajusingh"
      ]
     },
     "execution_count": 43,
     "metadata": {},
     "output_type": "execute_result"
    }
   ],
   "source": [
    "data"
   ]
  },
  {
   "cell_type": "code",
   "execution_count": 53,
   "id": "e8c1b284-1ffb-4af3-a1dd-ff1b639e7d24",
   "metadata": {},
   "outputs": [
    {
     "data": {
      "text/plain": [
       "<mysql.connector.connection.MySQLConnection at 0x2d042001690>"
      ]
     },
     "execution_count": 53,
     "metadata": {},
     "output_type": "execute_result"
    }
   ],
   "source": [
    "mydb = connection.connect(host = 'localhost',user='root',passwd='mysql',database='roy',use_pure = True)\n",
    "mydb"
   ]
  },
  {
   "cell_type": "code",
   "execution_count": 54,
   "id": "a0a1006d-ce75-4378-b88e-63ed8426e062",
   "metadata": {},
   "outputs": [
    {
     "name": "stderr",
     "output_type": "stream",
     "text": [
      "C:\\Users\\USER\\AppData\\Local\\Temp\\ipykernel_19328\\4175370429.py:2: UserWarning: pandas only supports SQLAlchemy connectable (engine/connection) or database string URI or sqlite3 DBAPI2 connection. Other DBAPI2 objects are not tested. Please consider using SQLAlchemy.\n",
      "  data.to_sql('a1',mydb) # tablename in which we want to save the data and the connection name\n"
     ]
    },
    {
     "ename": "DatabaseError",
     "evalue": "Execution failed on sql '\n        SELECT\n            name\n        FROM\n            sqlite_master\n        WHERE\n            type IN ('table', 'view')\n            AND name=?;\n        ': Not all parameters were used in the SQL statement",
     "output_type": "error",
     "traceback": [
      "\u001b[1;31m---------------------------------------------------------------------------\u001b[0m",
      "\u001b[1;31mProgrammingError\u001b[0m                          Traceback (most recent call last)",
      "File \u001b[1;32m~\\anaconda3\\Lib\\site-packages\\pandas\\io\\sql.py:2262\u001b[0m, in \u001b[0;36mSQLiteDatabase.execute\u001b[1;34m(self, sql, params)\u001b[0m\n\u001b[0;32m   2261\u001b[0m \u001b[38;5;28;01mtry\u001b[39;00m:\n\u001b[1;32m-> 2262\u001b[0m     cur\u001b[38;5;241m.\u001b[39mexecute(sql, \u001b[38;5;241m*\u001b[39margs)\n\u001b[0;32m   2263\u001b[0m     \u001b[38;5;28;01mreturn\u001b[39;00m cur\n",
      "File \u001b[1;32m~\\anaconda3\\Lib\\site-packages\\mysql\\connector\\cursor.py:733\u001b[0m, in \u001b[0;36mMySQLCursor.execute\u001b[1;34m(self, operation, params, multi)\u001b[0m\n\u001b[0;32m    732\u001b[0m     \u001b[38;5;28;01mif\u001b[39;00m psub\u001b[38;5;241m.\u001b[39mremaining \u001b[38;5;241m!=\u001b[39m \u001b[38;5;241m0\u001b[39m:\n\u001b[1;32m--> 733\u001b[0m         \u001b[38;5;28;01mraise\u001b[39;00m ProgrammingError(\n\u001b[0;32m    734\u001b[0m             \u001b[38;5;124m\"\u001b[39m\u001b[38;5;124mNot all parameters were used in the SQL statement\u001b[39m\u001b[38;5;124m\"\u001b[39m\n\u001b[0;32m    735\u001b[0m         )\n\u001b[0;32m    736\u001b[0m \u001b[38;5;28;01melse\u001b[39;00m:\n",
      "\u001b[1;31mProgrammingError\u001b[0m: Not all parameters were used in the SQL statement",
      "\nThe above exception was the direct cause of the following exception:\n",
      "\u001b[1;31mDatabaseError\u001b[0m                             Traceback (most recent call last)",
      "Cell \u001b[1;32mIn[54], line 2\u001b[0m\n\u001b[0;32m      1\u001b[0m \u001b[38;5;66;03m# to dump data in sql\u001b[39;00m\n\u001b[1;32m----> 2\u001b[0m data\u001b[38;5;241m.\u001b[39mto_sql(\u001b[38;5;124m'\u001b[39m\u001b[38;5;124ma1\u001b[39m\u001b[38;5;124m'\u001b[39m,mydb)\n",
      "File \u001b[1;32m~\\anaconda3\\Lib\\site-packages\\pandas\\util\\_decorators.py:333\u001b[0m, in \u001b[0;36mdeprecate_nonkeyword_arguments.<locals>.decorate.<locals>.wrapper\u001b[1;34m(*args, **kwargs)\u001b[0m\n\u001b[0;32m    327\u001b[0m \u001b[38;5;28;01mif\u001b[39;00m \u001b[38;5;28mlen\u001b[39m(args) \u001b[38;5;241m>\u001b[39m num_allow_args:\n\u001b[0;32m    328\u001b[0m     warnings\u001b[38;5;241m.\u001b[39mwarn(\n\u001b[0;32m    329\u001b[0m         msg\u001b[38;5;241m.\u001b[39mformat(arguments\u001b[38;5;241m=\u001b[39m_format_argument_list(allow_args)),\n\u001b[0;32m    330\u001b[0m         \u001b[38;5;167;01mFutureWarning\u001b[39;00m,\n\u001b[0;32m    331\u001b[0m         stacklevel\u001b[38;5;241m=\u001b[39mfind_stack_level(),\n\u001b[0;32m    332\u001b[0m     )\n\u001b[1;32m--> 333\u001b[0m \u001b[38;5;28;01mreturn\u001b[39;00m func(\u001b[38;5;241m*\u001b[39margs, \u001b[38;5;241m*\u001b[39m\u001b[38;5;241m*\u001b[39mkwargs)\n",
      "File \u001b[1;32m~\\anaconda3\\Lib\\site-packages\\pandas\\core\\generic.py:3008\u001b[0m, in \u001b[0;36mNDFrame.to_sql\u001b[1;34m(self, name, con, schema, if_exists, index, index_label, chunksize, dtype, method)\u001b[0m\n\u001b[0;32m   2813\u001b[0m \u001b[38;5;250m\u001b[39m\u001b[38;5;124;03m\"\"\"\u001b[39;00m\n\u001b[0;32m   2814\u001b[0m \u001b[38;5;124;03mWrite records stored in a DataFrame to a SQL database.\u001b[39;00m\n\u001b[0;32m   2815\u001b[0m \n\u001b[1;32m   (...)\u001b[0m\n\u001b[0;32m   3004\u001b[0m \u001b[38;5;124;03m[(1,), (None,), (2,)]\u001b[39;00m\n\u001b[0;32m   3005\u001b[0m \u001b[38;5;124;03m\"\"\"\u001b[39;00m  \u001b[38;5;66;03m# noqa: E501\u001b[39;00m\n\u001b[0;32m   3006\u001b[0m \u001b[38;5;28;01mfrom\u001b[39;00m \u001b[38;5;21;01mpandas\u001b[39;00m\u001b[38;5;21;01m.\u001b[39;00m\u001b[38;5;21;01mio\u001b[39;00m \u001b[38;5;28;01mimport\u001b[39;00m sql\n\u001b[1;32m-> 3008\u001b[0m \u001b[38;5;28;01mreturn\u001b[39;00m sql\u001b[38;5;241m.\u001b[39mto_sql(\n\u001b[0;32m   3009\u001b[0m     \u001b[38;5;28mself\u001b[39m,\n\u001b[0;32m   3010\u001b[0m     name,\n\u001b[0;32m   3011\u001b[0m     con,\n\u001b[0;32m   3012\u001b[0m     schema\u001b[38;5;241m=\u001b[39mschema,\n\u001b[0;32m   3013\u001b[0m     if_exists\u001b[38;5;241m=\u001b[39mif_exists,\n\u001b[0;32m   3014\u001b[0m     index\u001b[38;5;241m=\u001b[39mindex,\n\u001b[0;32m   3015\u001b[0m     index_label\u001b[38;5;241m=\u001b[39mindex_label,\n\u001b[0;32m   3016\u001b[0m     chunksize\u001b[38;5;241m=\u001b[39mchunksize,\n\u001b[0;32m   3017\u001b[0m     dtype\u001b[38;5;241m=\u001b[39mdtype,\n\u001b[0;32m   3018\u001b[0m     method\u001b[38;5;241m=\u001b[39mmethod,\n\u001b[0;32m   3019\u001b[0m )\n",
      "File \u001b[1;32m~\\anaconda3\\Lib\\site-packages\\pandas\\io\\sql.py:788\u001b[0m, in \u001b[0;36mto_sql\u001b[1;34m(frame, name, con, schema, if_exists, index, index_label, chunksize, dtype, method, engine, **engine_kwargs)\u001b[0m\n\u001b[0;32m    783\u001b[0m     \u001b[38;5;28;01mraise\u001b[39;00m \u001b[38;5;167;01mNotImplementedError\u001b[39;00m(\n\u001b[0;32m    784\u001b[0m         \u001b[38;5;124m\"\u001b[39m\u001b[38;5;124m'\u001b[39m\u001b[38;5;124mframe\u001b[39m\u001b[38;5;124m'\u001b[39m\u001b[38;5;124m argument should be either a Series or a DataFrame\u001b[39m\u001b[38;5;124m\"\u001b[39m\n\u001b[0;32m    785\u001b[0m     )\n\u001b[0;32m    787\u001b[0m \u001b[38;5;28;01mwith\u001b[39;00m pandasSQL_builder(con, schema\u001b[38;5;241m=\u001b[39mschema, need_transaction\u001b[38;5;241m=\u001b[39m\u001b[38;5;28;01mTrue\u001b[39;00m) \u001b[38;5;28;01mas\u001b[39;00m pandas_sql:\n\u001b[1;32m--> 788\u001b[0m     \u001b[38;5;28;01mreturn\u001b[39;00m pandas_sql\u001b[38;5;241m.\u001b[39mto_sql(\n\u001b[0;32m    789\u001b[0m         frame,\n\u001b[0;32m    790\u001b[0m         name,\n\u001b[0;32m    791\u001b[0m         if_exists\u001b[38;5;241m=\u001b[39mif_exists,\n\u001b[0;32m    792\u001b[0m         index\u001b[38;5;241m=\u001b[39mindex,\n\u001b[0;32m    793\u001b[0m         index_label\u001b[38;5;241m=\u001b[39mindex_label,\n\u001b[0;32m    794\u001b[0m         schema\u001b[38;5;241m=\u001b[39mschema,\n\u001b[0;32m    795\u001b[0m         chunksize\u001b[38;5;241m=\u001b[39mchunksize,\n\u001b[0;32m    796\u001b[0m         dtype\u001b[38;5;241m=\u001b[39mdtype,\n\u001b[0;32m    797\u001b[0m         method\u001b[38;5;241m=\u001b[39mmethod,\n\u001b[0;32m    798\u001b[0m         engine\u001b[38;5;241m=\u001b[39mengine,\n\u001b[0;32m    799\u001b[0m         \u001b[38;5;241m*\u001b[39m\u001b[38;5;241m*\u001b[39mengine_kwargs,\n\u001b[0;32m    800\u001b[0m     )\n",
      "File \u001b[1;32m~\\anaconda3\\Lib\\site-packages\\pandas\\io\\sql.py:2438\u001b[0m, in \u001b[0;36mSQLiteDatabase.to_sql\u001b[1;34m(self, frame, name, if_exists, index, index_label, schema, chunksize, dtype, method, engine, **engine_kwargs)\u001b[0m\n\u001b[0;32m   2427\u001b[0m             \u001b[38;5;28;01mraise\u001b[39;00m \u001b[38;5;167;01mValueError\u001b[39;00m(\u001b[38;5;124mf\u001b[39m\u001b[38;5;124m\"\u001b[39m\u001b[38;5;132;01m{\u001b[39;00mcol\u001b[38;5;132;01m}\u001b[39;00m\u001b[38;5;124m (\u001b[39m\u001b[38;5;132;01m{\u001b[39;00mmy_type\u001b[38;5;132;01m}\u001b[39;00m\u001b[38;5;124m) not a string\u001b[39m\u001b[38;5;124m\"\u001b[39m)\n\u001b[0;32m   2429\u001b[0m table \u001b[38;5;241m=\u001b[39m SQLiteTable(\n\u001b[0;32m   2430\u001b[0m     name,\n\u001b[0;32m   2431\u001b[0m     \u001b[38;5;28mself\u001b[39m,\n\u001b[1;32m   (...)\u001b[0m\n\u001b[0;32m   2436\u001b[0m     dtype\u001b[38;5;241m=\u001b[39mdtype,\n\u001b[0;32m   2437\u001b[0m )\n\u001b[1;32m-> 2438\u001b[0m table\u001b[38;5;241m.\u001b[39mcreate()\n\u001b[0;32m   2439\u001b[0m \u001b[38;5;28;01mreturn\u001b[39;00m table\u001b[38;5;241m.\u001b[39minsert(chunksize, method)\n",
      "File \u001b[1;32m~\\anaconda3\\Lib\\site-packages\\pandas\\io\\sql.py:925\u001b[0m, in \u001b[0;36mSQLTable.create\u001b[1;34m(self)\u001b[0m\n\u001b[0;32m    924\u001b[0m \u001b[38;5;28;01mdef\u001b[39;00m \u001b[38;5;21mcreate\u001b[39m(\u001b[38;5;28mself\u001b[39m) \u001b[38;5;241m-\u001b[39m\u001b[38;5;241m>\u001b[39m \u001b[38;5;28;01mNone\u001b[39;00m:\n\u001b[1;32m--> 925\u001b[0m     \u001b[38;5;28;01mif\u001b[39;00m \u001b[38;5;28mself\u001b[39m\u001b[38;5;241m.\u001b[39mexists():\n\u001b[0;32m    926\u001b[0m         \u001b[38;5;28;01mif\u001b[39;00m \u001b[38;5;28mself\u001b[39m\u001b[38;5;241m.\u001b[39mif_exists \u001b[38;5;241m==\u001b[39m \u001b[38;5;124m\"\u001b[39m\u001b[38;5;124mfail\u001b[39m\u001b[38;5;124m\"\u001b[39m:\n\u001b[0;32m    927\u001b[0m             \u001b[38;5;28;01mraise\u001b[39;00m \u001b[38;5;167;01mValueError\u001b[39;00m(\u001b[38;5;124mf\u001b[39m\u001b[38;5;124m\"\u001b[39m\u001b[38;5;124mTable \u001b[39m\u001b[38;5;124m'\u001b[39m\u001b[38;5;132;01m{\u001b[39;00m\u001b[38;5;28mself\u001b[39m\u001b[38;5;241m.\u001b[39mname\u001b[38;5;132;01m}\u001b[39;00m\u001b[38;5;124m'\u001b[39m\u001b[38;5;124m already exists.\u001b[39m\u001b[38;5;124m\"\u001b[39m)\n",
      "File \u001b[1;32m~\\anaconda3\\Lib\\site-packages\\pandas\\io\\sql.py:911\u001b[0m, in \u001b[0;36mSQLTable.exists\u001b[1;34m(self)\u001b[0m\n\u001b[0;32m    910\u001b[0m \u001b[38;5;28;01mdef\u001b[39;00m \u001b[38;5;21mexists\u001b[39m(\u001b[38;5;28mself\u001b[39m):\n\u001b[1;32m--> 911\u001b[0m     \u001b[38;5;28;01mreturn\u001b[39;00m \u001b[38;5;28mself\u001b[39m\u001b[38;5;241m.\u001b[39mpd_sql\u001b[38;5;241m.\u001b[39mhas_table(\u001b[38;5;28mself\u001b[39m\u001b[38;5;241m.\u001b[39mname, \u001b[38;5;28mself\u001b[39m\u001b[38;5;241m.\u001b[39mschema)\n",
      "File \u001b[1;32m~\\anaconda3\\Lib\\site-packages\\pandas\\io\\sql.py:2453\u001b[0m, in \u001b[0;36mSQLiteDatabase.has_table\u001b[1;34m(self, name, schema)\u001b[0m\n\u001b[0;32m   2442\u001b[0m wld \u001b[38;5;241m=\u001b[39m \u001b[38;5;124m\"\u001b[39m\u001b[38;5;124m?\u001b[39m\u001b[38;5;124m\"\u001b[39m\n\u001b[0;32m   2443\u001b[0m query \u001b[38;5;241m=\u001b[39m \u001b[38;5;124mf\u001b[39m\u001b[38;5;124m\"\"\"\u001b[39m\n\u001b[0;32m   2444\u001b[0m \u001b[38;5;124mSELECT\u001b[39m\n\u001b[0;32m   2445\u001b[0m \u001b[38;5;124m    name\u001b[39m\n\u001b[1;32m   (...)\u001b[0m\n\u001b[0;32m   2450\u001b[0m \u001b[38;5;124m    AND name=\u001b[39m\u001b[38;5;132;01m{\u001b[39;00mwld\u001b[38;5;132;01m}\u001b[39;00m\u001b[38;5;124m;\u001b[39m\n\u001b[0;32m   2451\u001b[0m \u001b[38;5;124m\u001b[39m\u001b[38;5;124m\"\"\"\u001b[39m\n\u001b[1;32m-> 2453\u001b[0m \u001b[38;5;28;01mreturn\u001b[39;00m \u001b[38;5;28mlen\u001b[39m(\u001b[38;5;28mself\u001b[39m\u001b[38;5;241m.\u001b[39mexecute(query, [name])\u001b[38;5;241m.\u001b[39mfetchall()) \u001b[38;5;241m>\u001b[39m \u001b[38;5;241m0\u001b[39m\n",
      "File \u001b[1;32m~\\anaconda3\\Lib\\site-packages\\pandas\\io\\sql.py:2274\u001b[0m, in \u001b[0;36mSQLiteDatabase.execute\u001b[1;34m(self, sql, params)\u001b[0m\n\u001b[0;32m   2271\u001b[0m     \u001b[38;5;28;01mraise\u001b[39;00m ex \u001b[38;5;28;01mfrom\u001b[39;00m \u001b[38;5;21;01minner_exc\u001b[39;00m\n\u001b[0;32m   2273\u001b[0m ex \u001b[38;5;241m=\u001b[39m DatabaseError(\u001b[38;5;124mf\u001b[39m\u001b[38;5;124m\"\u001b[39m\u001b[38;5;124mExecution failed on sql \u001b[39m\u001b[38;5;124m'\u001b[39m\u001b[38;5;132;01m{\u001b[39;00msql\u001b[38;5;132;01m}\u001b[39;00m\u001b[38;5;124m'\u001b[39m\u001b[38;5;124m: \u001b[39m\u001b[38;5;132;01m{\u001b[39;00mexc\u001b[38;5;132;01m}\u001b[39;00m\u001b[38;5;124m\"\u001b[39m)\n\u001b[1;32m-> 2274\u001b[0m \u001b[38;5;28;01mraise\u001b[39;00m ex \u001b[38;5;28;01mfrom\u001b[39;00m \u001b[38;5;21;01mexc\u001b[39;00m\n",
      "\u001b[1;31mDatabaseError\u001b[0m: Execution failed on sql '\n        SELECT\n            name\n        FROM\n            sqlite_master\n        WHERE\n            type IN ('table', 'view')\n            AND name=?;\n        ': Not all parameters were used in the SQL statement"
     ]
    }
   ],
   "source": [
    "# to dump data in sql\n",
    "data.to_sql('a1',mydb) # tablename in which we want to save the data and the connection name\n"
   ]
  },
  {
   "cell_type": "code",
   "execution_count": 55,
   "id": "a82934ab-8f04-4672-abb4-e6bcc27ea01f",
   "metadata": {},
   "outputs": [],
   "source": [
    "# read bulk data in the database."
   ]
  },
  {
   "cell_type": "code",
   "execution_count": 57,
   "id": "8ec7a78b-7fc4-4ade-9729-b058db44236f",
   "metadata": {},
   "outputs": [],
   "source": [
    "import mysql.connector as connection\n",
    "import pandas as pd\n",
    "import csv\n",
    "# step 1\n",
    "mydb = connection.connect(host = 'localhost',user='root',passwd='mysql',use_pure = True)"
   ]
  },
  {
   "cell_type": "code",
   "execution_count": 67,
   "id": "614df0ec-4dec-4381-9f76-3c3db307a937",
   "metadata": {},
   "outputs": [
    {
     "data": {
      "text/plain": [
       "True"
      ]
     },
     "execution_count": 67,
     "metadata": {},
     "output_type": "execute_result"
    }
   ],
   "source": [
    "# step 2 (Save data in existing database but new table)\n",
    "mydb = connection.connect(host = 'localhost',user='root',passwd='mysql',database = 'roy',use_pure = True)\n",
    "mydb.is_connected()"
   ]
  },
  {
   "cell_type": "code",
   "execution_count": 72,
   "id": "5827574f-39b8-44d0-acfa-4352c66653d7",
   "metadata": {},
   "outputs": [],
   "source": [
    "\n",
    "cur = mydb.cursor()\n",
    "cur.execute(\"create table roy.newtable (FirstName varchar(30),LastName varchar(30),Phone int(10),Email varchar(50) ,Marks int(10) )\")\n"
   ]
  },
  {
   "cell_type": "code",
   "execution_count": 73,
   "id": "07e715a6-e670-4b17-8b02-c7e82bfdc774",
   "metadata": {},
   "outputs": [],
   "source": [
    "# step 3\n",
    "# we need to read a data and dump into sql table"
   ]
  },
  {
   "cell_type": "code",
   "execution_count": 111,
   "id": "ec6b15a9-62ac-4667-b189-03295d1360e6",
   "metadata": {},
   "outputs": [
    {
     "name": "stdout",
     "output_type": "stream",
     "text": [
      "<_csv.reader object at 0x000002D04684C820>\n",
      "(0, ['Rishiraj,Singh,652452,test@test.com,5'])\n"
     ]
    },
    {
     "ename": "KeyError",
     "evalue": "'data_csv'",
     "output_type": "error",
     "traceback": [
      "\u001b[1;31m---------------------------------------------------------------------------\u001b[0m",
      "\u001b[1;31mKeyError\u001b[0m                                  Traceback (most recent call last)",
      "Cell \u001b[1;32mIn[111], line 8\u001b[0m\n\u001b[0;32m      6\u001b[0m         \u001b[38;5;28mprint\u001b[39m(i)\n\u001b[0;32m      7\u001b[0m         \u001b[38;5;28;01mfor\u001b[39;00m j \u001b[38;5;129;01min\u001b[39;00m i[\u001b[38;5;241m1\u001b[39m]:\n\u001b[1;32m----> 8\u001b[0m             cur\u001b[38;5;241m.\u001b[39mexecute(\u001b[38;5;124m\"\u001b[39m\u001b[38;5;124minsert into roy.newtable values(\u001b[39m\u001b[38;5;132;01m{data_csv}\u001b[39;00m\u001b[38;5;124m)\u001b[39m\u001b[38;5;124m\"\u001b[39m\u001b[38;5;241m.\u001b[39mformat(j))\n\u001b[0;32m      9\u001b[0m     \u001b[38;5;28mprint\u001b[39m(\u001b[38;5;124m'\u001b[39m\u001b[38;5;124mdata inserted\u001b[39m\u001b[38;5;124m'\u001b[39m)\n\u001b[0;32m     10\u001b[0m mydb\u001b[38;5;241m.\u001b[39mcommit()\n",
      "\u001b[1;31mKeyError\u001b[0m: 'data_csv'"
     ]
    }
   ],
   "source": [
    "with open('Salesforce Practise.csv','r') as data:\n",
    "    next(data)\n",
    "    data_csv = csv.reader(data,delimiter = \"\\n\")\n",
    "    print(data_csv) # object has been created, now we can iterate using forloop\n",
    "    for i in enumerate(data_csv):\n",
    "        print(i)\n",
    "        for j in i[1]:\n",
    "            cur.execute(\"insert into roy.newtable values({data_csv})\".format(j))\n",
    "    print('data inserted')\n",
    "mydb.commit()\n",
    "        \n",
    "        "
   ]
  },
  {
   "cell_type": "code",
   "execution_count": 113,
   "id": "c83f0e7b-77aa-409d-81f4-446ba9ce1ccc",
   "metadata": {},
   "outputs": [
    {
     "name": "stdout",
     "output_type": "stream",
     "text": [
      "<_csv.reader object at 0x000002D046D26DA0>\n",
      "['Rishiraj,Singh,652452,test@test.com,5']\n",
      "['Raj,Rajawat,554521,test1@test.com,10']\n",
      "['Pawan,Singh,22455,test2@test.com,8']\n",
      "['Mehul,Choksi,,test3@test.com,7']\n",
      "['Vijay,Maliya,52583,test4@test.com,9']\n",
      "['Vijay,Maliya,52608,test4@test.com,67']\n",
      "['Vijay,Maliya,52633,test4@test.com,125']\n",
      "['Vijay,Maliya,52658,test4@test.com,183']\n",
      "['Vijay,Maliya,52683,test4@test.com,241']\n",
      "['Vijay,Maliya,52708,test4@test.com,299']\n",
      "['Vijay,Maliya,52733,test4@test.com,357']\n",
      "['Vijay,Maliya,52758,test4@test.com,415']\n",
      "['Vijay,Maliya,52783,test4@test.com,473']\n",
      "['Vijay,Maliya,52808,test4@test.com,531']\n",
      "['Vijay,Maliya,52833,test4@test.com,589']\n",
      "['Vijay,Maliya,52858,test4@test.com,647']\n",
      "['Vijay,Maliya,52883,test4@test.com,705']\n",
      "['Vijay,Maliya,52908,test4@test.com,763']\n",
      "['Vijay,Maliya,52933,test4@test.com,821']\n",
      "['Vijay,Maliya,52958,test4@test.com,879']\n",
      "['Vijay,Maliya,52983,test4@test.com,937']\n",
      "['Vijay,Maliya,53008,test4@test.com,995']\n",
      "['Vijay,Maliya,53033,test4@test.com,1053']\n",
      "['Vijay,Maliya,53058,test4@test.com,1111']\n",
      "['Vijay,Maliya,53083,test4@test.com,1169']\n",
      "['Vijay,Maliya,53108,test4@test.com,1227']\n",
      "['Vijay,Maliya,53133,test4@test.com,1285']\n",
      "['Vijay,Maliya,53158,test4@test.com,1343']\n",
      "['Vijay,Maliya,53183,test4@test.com,1401']\n",
      "['Vijay,Maliya,53208,test4@test.com,1459']\n",
      "['Vijay,Maliya,53233,test4@test.com,1517']\n",
      "['Vijay,Maliya,53258,test4@test.com,1575']\n",
      "['Vijay,Maliya,53283,test4@test.com,1633']\n",
      "['Vijay,Maliya,53308,test4@test.com,1691']\n",
      "['Vijay,Maliya,53333,test4@test.com,1749']\n",
      "['Vijay,Maliya,53358,test4@test.com,1807']\n",
      "['Vijay,Maliya,53383,test4@test.com,1865']\n"
     ]
    }
   ],
   "source": [
    "with open('Salesforce Practise.csv','r') as data:\n",
    "    next(data)\n",
    "    data_csv = csv.reader(data,delimiter = \"\\n\")\n",
    "    print(data_csv) # object has been created, now we can iterate using forloop\n",
    "    for j in data_csv:        \n",
    "        #cur.execute(\"insert into roy.newtable values(data)\".format(data))\n",
    "        print(j)\n",
    "mydb.commit()\n",
    "        \n",
    "        "
   ]
  },
  {
   "cell_type": "code",
   "execution_count": 114,
   "id": "88f2224b-ba1f-4abb-a22b-2c538c6f5281",
   "metadata": {},
   "outputs": [
    {
     "name": "stdout",
     "output_type": "stream",
     "text": [
      "<_csv.reader object at 0x000002D04677B2E0>\n"
     ]
    },
    {
     "ename": "DataError",
     "evalue": "1136 (21S01): Column count doesn't match value count at row 1",
     "output_type": "error",
     "traceback": [
      "\u001b[1;31m---------------------------------------------------------------------------\u001b[0m",
      "\u001b[1;31mDataError\u001b[0m                                 Traceback (most recent call last)",
      "Cell \u001b[1;32mIn[114], line 6\u001b[0m\n\u001b[0;32m      4\u001b[0m     \u001b[38;5;28mprint\u001b[39m(data_csv) \u001b[38;5;66;03m# object has been created, now we can iterate using forloop\u001b[39;00m\n\u001b[0;32m      5\u001b[0m     \u001b[38;5;28;01mfor\u001b[39;00m j \u001b[38;5;129;01min\u001b[39;00m data_csv:        \n\u001b[1;32m----> 6\u001b[0m         cur\u001b[38;5;241m.\u001b[39mexecute(\u001b[38;5;124m\"\u001b[39m\u001b[38;5;124minsert into roy.newtable values(data)\u001b[39m\u001b[38;5;124m\"\u001b[39m\u001b[38;5;241m.\u001b[39mformat(data\u001b[38;5;241m=\u001b[39m\u001b[38;5;28mstr\u001b[39m(j[\u001b[38;5;241m0\u001b[39m])))\n\u001b[0;32m      7\u001b[0m         \u001b[38;5;28mprint\u001b[39m(j)\n\u001b[0;32m      8\u001b[0m mydb\u001b[38;5;241m.\u001b[39mcommit()\n",
      "File \u001b[1;32m~\\anaconda3\\Lib\\site-packages\\mysql\\connector\\cursor.py:748\u001b[0m, in \u001b[0;36mMySQLCursor.execute\u001b[1;34m(self, operation, params, multi)\u001b[0m\n\u001b[0;32m    745\u001b[0m     \u001b[38;5;28;01mreturn\u001b[39;00m \u001b[38;5;28mself\u001b[39m\u001b[38;5;241m.\u001b[39m_execute_iter(\u001b[38;5;28mself\u001b[39m\u001b[38;5;241m.\u001b[39m_connection\u001b[38;5;241m.\u001b[39mcmd_query_iter(stmt))\n\u001b[0;32m    747\u001b[0m \u001b[38;5;28;01mtry\u001b[39;00m:\n\u001b[1;32m--> 748\u001b[0m     \u001b[38;5;28mself\u001b[39m\u001b[38;5;241m.\u001b[39m_handle_result(\u001b[38;5;28mself\u001b[39m\u001b[38;5;241m.\u001b[39m_connection\u001b[38;5;241m.\u001b[39mcmd_query(stmt))\n\u001b[0;32m    749\u001b[0m \u001b[38;5;28;01mexcept\u001b[39;00m InterfaceError \u001b[38;5;28;01mas\u001b[39;00m err:\n\u001b[0;32m    750\u001b[0m     \u001b[38;5;28;01mif\u001b[39;00m \u001b[38;5;28mself\u001b[39m\u001b[38;5;241m.\u001b[39m_connection\u001b[38;5;241m.\u001b[39mhave_next_result:\n",
      "File \u001b[1;32m~\\anaconda3\\Lib\\site-packages\\mysql\\connector\\opentelemetry\\context_propagation.py:74\u001b[0m, in \u001b[0;36mwith_context_propagation.<locals>.wrapper\u001b[1;34m(cnx, *args, **kwargs)\u001b[0m\n\u001b[0;32m     72\u001b[0m \u001b[38;5;250m\u001b[39m\u001b[38;5;124;03m\"\"\"Context propagation decorator.\"\"\"\u001b[39;00m\n\u001b[0;32m     73\u001b[0m \u001b[38;5;28;01mif\u001b[39;00m \u001b[38;5;129;01mnot\u001b[39;00m OTEL_ENABLED \u001b[38;5;129;01mor\u001b[39;00m \u001b[38;5;129;01mnot\u001b[39;00m cnx\u001b[38;5;241m.\u001b[39motel_context_propagation:\n\u001b[1;32m---> 74\u001b[0m     \u001b[38;5;28;01mreturn\u001b[39;00m method(cnx, \u001b[38;5;241m*\u001b[39margs, \u001b[38;5;241m*\u001b[39m\u001b[38;5;241m*\u001b[39mkwargs)\n\u001b[0;32m     76\u001b[0m current_span \u001b[38;5;241m=\u001b[39m trace\u001b[38;5;241m.\u001b[39mget_current_span()\n\u001b[0;32m     77\u001b[0m tp_header \u001b[38;5;241m=\u001b[39m \u001b[38;5;28;01mNone\u001b[39;00m\n",
      "File \u001b[1;32m~\\anaconda3\\Lib\\site-packages\\mysql\\connector\\connection.py:855\u001b[0m, in \u001b[0;36mMySQLConnection.cmd_query\u001b[1;34m(self, query, raw, buffered, raw_as_string)\u001b[0m\n\u001b[0;32m    853\u001b[0m query \u001b[38;5;241m=\u001b[39m \u001b[38;5;28mbytes\u001b[39m(packet)\n\u001b[0;32m    854\u001b[0m \u001b[38;5;28;01mtry\u001b[39;00m:\n\u001b[1;32m--> 855\u001b[0m     result \u001b[38;5;241m=\u001b[39m \u001b[38;5;28mself\u001b[39m\u001b[38;5;241m.\u001b[39m_handle_result(\u001b[38;5;28mself\u001b[39m\u001b[38;5;241m.\u001b[39m_send_cmd(ServerCmd\u001b[38;5;241m.\u001b[39mQUERY, query))\n\u001b[0;32m    856\u001b[0m \u001b[38;5;28;01mexcept\u001b[39;00m ProgrammingError \u001b[38;5;28;01mas\u001b[39;00m err:\n\u001b[0;32m    857\u001b[0m     \u001b[38;5;28;01mif\u001b[39;00m err\u001b[38;5;241m.\u001b[39merrno \u001b[38;5;241m==\u001b[39m \u001b[38;5;241m3948\u001b[39m \u001b[38;5;129;01mand\u001b[39;00m \u001b[38;5;124m\"\u001b[39m\u001b[38;5;124mLoading local data is disabled\u001b[39m\u001b[38;5;124m\"\u001b[39m \u001b[38;5;129;01min\u001b[39;00m err\u001b[38;5;241m.\u001b[39mmsg:\n",
      "File \u001b[1;32m~\\anaconda3\\Lib\\site-packages\\mysql\\connector\\connection.py:631\u001b[0m, in \u001b[0;36mMySQLConnection._handle_result\u001b[1;34m(self, packet)\u001b[0m\n\u001b[0;32m    629\u001b[0m     \u001b[38;5;28;01mreturn\u001b[39;00m \u001b[38;5;28mself\u001b[39m\u001b[38;5;241m.\u001b[39m_handle_eof(packet)\n\u001b[0;32m    630\u001b[0m \u001b[38;5;28;01mif\u001b[39;00m packet[\u001b[38;5;241m4\u001b[39m] \u001b[38;5;241m==\u001b[39m \u001b[38;5;241m255\u001b[39m:\n\u001b[1;32m--> 631\u001b[0m     \u001b[38;5;28;01mraise\u001b[39;00m get_exception(packet)\n\u001b[0;32m    633\u001b[0m \u001b[38;5;66;03m# We have a text result set\u001b[39;00m\n\u001b[0;32m    634\u001b[0m column_count \u001b[38;5;241m=\u001b[39m \u001b[38;5;28mself\u001b[39m\u001b[38;5;241m.\u001b[39m_protocol\u001b[38;5;241m.\u001b[39mparse_column_count(packet)\n",
      "\u001b[1;31mDataError\u001b[0m: 1136 (21S01): Column count doesn't match value count at row 1"
     ]
    }
   ],
   "source": [
    "with open('Salesforce Practise.csv','r') as data:\n",
    "    next(data)\n",
    "    data_csv = csv.reader(data,delimiter = \"\\n\")\n",
    "    print(data_csv) # object has been created, now we can iterate using forloop\n",
    "    for j in data_csv:        \n",
    "        cur.execute(\"insert into roy.newtable values(data)\".format(data=str(j[0])))\n",
    "        print(j)\n",
    "mydb.commit()\n",
    "        \n",
    "        "
   ]
  },
  {
   "cell_type": "code",
   "execution_count": null,
   "id": "057fd360-ca00-4f43-bcbd-43f8c5d30427",
   "metadata": {},
   "outputs": [],
   "source": [
    "# TASK \n",
    "\n",
    "INSERT BIG DATA IN THE TABLE IN SQL \n",
    "DATA SOURCE: UCI"
   ]
  },
  {
   "cell_type": "code",
   "execution_count": 19,
   "id": "d964df4f-6e11-483c-bf4a-0d560aaf00bc",
   "metadata": {},
   "outputs": [],
   "source": [
    "mydb = connection.connect(host = 'localhost',user='root',passwd = 'mysql',use_pure = True)\n",
    "mydb.is_connected()\n",
    "query = \"delete from happy.happydetails where name = 'rishiraj'\"\n",
    "cur = mydb.cursor()\n",
    "cur.execute(query)\n",
    "mydb.commit() # in case of delete also we shall use commit function.\n",
    "\n",
    "# to check if the above action has been performed.\n",
    "query = \"select * from happy.happydetails where name = 'rishiraj'\"\n",
    "cur = mydb.cursor()\n",
    "cur.execute(query)\n",
    "for result in cur.fetchall():\n",
    "    print(result)\n",
    "mydb.close()"
   ]
  },
  {
   "cell_type": "code",
   "execution_count": 18,
   "id": "75b0da57-1629-40e4-9376-b78d2b6614ce",
   "metadata": {},
   "outputs": [],
   "source": [
    "mydb = connection.connect(host = 'localhost',user='root',passwd = 'mysql',database = 'happy',use_pure = True)\n",
    "mydb.is_connected()\n",
    "query = \"delete from happydetails WHERE name = 'rishiraj'\" # put it under semi coluns if it's a string.\n",
    "cur = mydb.cursor()\n",
    "cur.execute(query)\n",
    "mydb.commit()"
   ]
  },
  {
   "cell_type": "code",
   "execution_count": 20,
   "id": "a4148ad0-a3cf-46ac-a264-3bd6b7ad7970",
   "metadata": {},
   "outputs": [
    {
     "data": {
      "text/plain": [
       "<mysql.connector.connection.MySQLConnection at 0x26ec4e89c50>"
      ]
     },
     "execution_count": 20,
     "metadata": {},
     "output_type": "execute_result"
    }
   ],
   "source": [
    "mydb"
   ]
  },
  {
   "cell_type": "code",
   "execution_count": 25,
   "id": "2c164e1a-a943-4509-95e2-356abac6aaf3",
   "metadata": {},
   "outputs": [],
   "source": [
    "mydb = connection.connect(host = 'localhost',user='root',passwd = 'mysql',database = 'happy',use_pure = True)\n",
    "\n",
    "query = \"update happydetails set name ='happy', Rollnumber = 100 where class = ' '\"\n",
    "cursor = mydb.cursor()\n",
    "cursor.execute(query)\n",
    "mydb.commit()"
   ]
  },
  {
   "cell_type": "code",
   "execution_count": null,
   "id": "a1fe9467-dd24-4d3c-b49a-05e366959205",
   "metadata": {},
   "outputs": [],
   "source": [
    "# Create, insert, update, delete, fetch\n",
    "\n"
   ]
  }
 ],
 "metadata": {
  "kernelspec": {
   "display_name": "Python 3 (ipykernel)",
   "language": "python",
   "name": "python3"
  },
  "language_info": {
   "codemirror_mode": {
    "name": "ipython",
    "version": 3
   },
   "file_extension": ".py",
   "mimetype": "text/x-python",
   "name": "python",
   "nbconvert_exporter": "python",
   "pygments_lexer": "ipython3",
   "version": "3.11.7"
  }
 },
 "nbformat": 4,
 "nbformat_minor": 5
}
