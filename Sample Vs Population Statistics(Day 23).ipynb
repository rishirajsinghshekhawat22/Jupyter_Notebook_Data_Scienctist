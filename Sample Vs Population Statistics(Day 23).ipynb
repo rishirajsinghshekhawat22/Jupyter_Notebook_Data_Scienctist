{
 "cells": [
  {
   "cell_type": "code",
   "execution_count": 1,
   "id": "6f7076c1-a90b-48eb-8c23-e83131e004cd",
   "metadata": {},
   "outputs": [],
   "source": [
    "# Mean\n",
    "# It is an average or summation of all the data. \n",
    "# Example : 1,2,8,10,12,13 (Mean will total of data divided by number of data). "
   ]
  },
  {
   "cell_type": "code",
   "execution_count": 2,
   "id": "521f60f0-96b2-4d2e-ad14-dad28811cffc",
   "metadata": {},
   "outputs": [],
   "source": [
    "# Median\n",
    "# Example : 1,2,4,3,8,9\n",
    "# We shall arrange the data in the ascending order and then we have to pick the middle value. In case of even number we shall add middle values divided by 2.\n",
    "# Even example: \n",
    "# 1,2,3,4,5,6\n",
    "# 3+4/2 = Median"
   ]
  },
  {
   "cell_type": "code",
   "execution_count": null,
   "id": "fc03a0c0-7e13-40fa-9566-ccf4167c8ea2",
   "metadata": {},
   "outputs": [],
   "source": [
    "# Mode\n",
    "# Mode always try to represent the frequency of the dataset.\n",
    "# If the data is available, we will try to find the data which is occuring more frequently.\n",
    "# Example = 1,2,3,5,2,8,2,10,2\n",
    "#  Mode of the above example is 2 and for the second position it would be none as no other data is occurring more than 1 times.\n"
   ]
  },
  {
   "cell_type": "code",
   "execution_count": null,
   "id": "9a312517-b2ad-4faf-8831-e312c53d804f",
   "metadata": {},
   "outputs": [],
   "source": [
    "# Mean, mode and median always shows central tendencies of the dataset.\n",
    "# What is central tendencies of the dataset?\n",
    "# Skew dataset and Non skew dataset.\n"
   ]
  },
  {
   "cell_type": "code",
   "execution_count": 4,
   "id": "7912b37f-3ece-4dec-a5c0-bef8e13a5560",
   "metadata": {},
   "outputs": [],
   "source": [
    "# Standar Deviation: \n",
    "# It's a measure of a dispersion of a data set from a mean. Means from the average of the data we are going to check from what to what range I have my dataset from the mean.\n",
    "# It measures the distance of the data from the mean."
   ]
  },
  {
   "cell_type": "code",
   "execution_count": 7,
   "id": "c27afe0a-b3ba-4f24-8556-96fd4b56575a",
   "metadata": {},
   "outputs": [],
   "source": [
    "from IPython.display import Image"
   ]
  },
  {
   "cell_type": "code",
   "execution_count": 10,
   "id": "59dcac45-c64f-47c0-a190-ec3c7004c4a7",
   "metadata": {},
   "outputs": [
    {
     "data": {
      "text/html": [
       "<img src=\"Screenshot 2024-05-23 062909.png\" width=\"500\" height=\"300\"/>"
      ],
      "text/plain": [
       "<IPython.core.display.Image object>"
      ]
     },
     "execution_count": 10,
     "metadata": {},
     "output_type": "execute_result"
    }
   ],
   "source": [
    "Image(url=\"Screenshot 2024-05-23 062909.png\", width=500,height=300)"
   ]
  },
  {
   "cell_type": "code",
   "execution_count": null,
   "id": "557bb24f-6375-424e-80d6-67ce0b40a6df",
   "metadata": {},
   "outputs": [],
   "source": [
    "# Normal distributed data.\n",
    "# Mean, mode and median will be on the same line.\n",
    "\n",
    "# if mean is greater than median it means we have positive outliers.(Positive outliers == high values). Graph will be rightly skewed.\n",
    "# We can do the square root, cube root, find mean/average or by dividing data by high value of the data to normalize the data and in this case the graph will be normally distributed.\n",
    "\n",
    "# Mean is greater than median == right skewness/positive skewness data.\n"
   ]
  },
  {
   "cell_type": "code",
   "execution_count": null,
   "id": "9ee04e48-3ee0-4ae8-981a-eabfe94f34d6",
   "metadata": {},
   "outputs": [],
   "source": [
    "# Left skewness/ Negative Skewness\n",
    "\n",
    "# Median> Mean\n",
    "# Data Set : 1,2,3,110,100,110,90,100,100,110,110\n",
    "\n",
    "# We need to handle positive skewness more severly than negative skewness. But attention to negative skewness is also required."
   ]
  },
  {
   "cell_type": "code",
   "execution_count": null,
   "id": "624fd6f8-a0f4-4f08-b7d8-9b58b2300a3d",
   "metadata": {},
   "outputs": [],
   "source": [
    "# Range \n",
    "# What is Range?\n",
    "\n",
    "# Data = 1,2,3,2,1,1,4,5,6,7,8,9\n",
    "\n",
    "# Range = Xmin -Xmax\n",
    "# Range = 1-9 = 8\n",
    "# It will give a lenght of the scale."
   ]
  },
  {
   "cell_type": "code",
   "execution_count": null,
   "id": "b3745250-eae4-4dbc-bee8-5c1c70d1509f",
   "metadata": {},
   "outputs": [],
   "source": [
    "# Standard Deviation.\n",
    "# How dispered our data is across the mean.\n",
    "# Example: 1,2,3,4,8,2,3,4,2\n",
    "# Standard Deviation = 1.93\n",
    "# Mean = 3.2\n",
    "\n",
    "# 1st Standard Deviation = 3.2+-1.93\n",
    "# 2nd Standard Deviation = 3.2+-2*1.93 (Range = -0.66 To 7.06 ) (It will represent approx 95% of data.)\n",
    "# 3rd Standard Deviation = 3.2+-3*1.93 (It will represent 99.7% of the data.)"
   ]
  },
  {
   "cell_type": "code",
   "execution_count": null,
   "id": "5f8c5d01-6870-4474-8841-0b8dc1cc98bb",
   "metadata": {},
   "outputs": [],
   "source": [
    "# Difference between normal distribution and standard normal distribution.\n",
    "\n",
    "# SND = mean = 0, SD = 1\n",
    "# ND = mean = can be anything, SD = can be anything."
   ]
  }
 ],
 "metadata": {
  "kernelspec": {
   "display_name": "Python 3 (ipykernel)",
   "language": "python",
   "name": "python3"
  },
  "language_info": {
   "codemirror_mode": {
    "name": "ipython",
    "version": 3
   },
   "file_extension": ".py",
   "mimetype": "text/x-python",
   "name": "python",
   "nbconvert_exporter": "python",
   "pygments_lexer": "ipython3",
   "version": "3.11.7"
  }
 },
 "nbformat": 4,
 "nbformat_minor": 5
}
