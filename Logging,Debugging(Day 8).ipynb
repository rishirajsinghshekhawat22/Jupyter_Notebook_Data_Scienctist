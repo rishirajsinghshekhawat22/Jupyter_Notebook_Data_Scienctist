{
 "cells": [
  {
   "cell_type": "code",
   "execution_count": 38,
   "id": "07a938d9-3e4b-48d2-9f39-9c4329036d21",
   "metadata": {},
   "outputs": [],
   "source": [
    "import os\n",
    "import logging as lg"
   ]
  },
  {
   "cell_type": "code",
   "execution_count": 39,
   "id": "dbc383a6-cf65-447e-a06e-edb0f0650928",
   "metadata": {},
   "outputs": [],
   "source": [
    "# Logging, Debugging, Modules, Package\n",
    "\n",
    "# Logging\n",
    "# Importance of logging: \n",
    "# Whatever activity we do, we capture or log it into a database/file/cloud to keep track of the any error if occured in future. \n",
    "# As a best practise, it's our responsibility to create logging for each and every instance, so that the other person or ourselves do not face any issues in future.\n",
    "\n",
    "# We can log Debug.\n",
    "# We can log Info.\n",
    "# We can log Warning.\n",
    "# We can log Error.\n",
    "# We can log Critical."
   ]
  },
  {
   "cell_type": "code",
   "execution_count": 40,
   "id": "205779cf-453b-40a2-9e2c-0d54fd9f84f4",
   "metadata": {},
   "outputs": [],
   "source": [
    "#os.mkdir('logging')"
   ]
  },
  {
   "cell_type": "code",
   "execution_count": 41,
   "id": "7263c576-fe2b-474a-baea-15284fa55fa0",
   "metadata": {},
   "outputs": [
    {
     "data": {
      "text/plain": [
       "'C:\\\\Users\\\\USER\\\\Full Stack Data Science (Ineuron)\\\\logging'"
      ]
     },
     "execution_count": 41,
     "metadata": {},
     "output_type": "execute_result"
    }
   ],
   "source": [
    "os.getcwd()"
   ]
  },
  {
   "cell_type": "code",
   "execution_count": 42,
   "id": "264acbe1-03cc-4772-a504-1f2efd577dc1",
   "metadata": {},
   "outputs": [],
   "source": [
    "os.chdir('C:\\\\Users\\\\USER\\\\Full Stack Data Science (Ineuron)\\\\logging')"
   ]
  },
  {
   "cell_type": "code",
   "execution_count": 43,
   "id": "bee6fe04-73c6-4829-ad0b-d38bf089a762",
   "metadata": {},
   "outputs": [
    {
     "data": {
      "text/plain": [
       "'C:\\\\Users\\\\USER\\\\Full Stack Data Science (Ineuron)\\\\logging'"
      ]
     },
     "execution_count": 43,
     "metadata": {},
     "output_type": "execute_result"
    }
   ],
   "source": [
    "os.getcwd()"
   ]
  },
  {
   "cell_type": "code",
   "execution_count": 44,
   "id": "0f52b913-5b3c-49ff-84fb-5949a94e73f6",
   "metadata": {},
   "outputs": [],
   "source": [
    "lg.basicConfig(filename = 'logger.log',level=lg.ERROR, format = '%(asctime)s %(message)s')"
   ]
  },
  {
   "cell_type": "code",
   "execution_count": 45,
   "id": "297a7cce-80d6-4ada-b52c-700cd31866f4",
   "metadata": {},
   "outputs": [],
   "source": [
    "lg.debug('just a debug')"
   ]
  },
  {
   "cell_type": "code",
   "execution_count": 46,
   "id": "02c99fbb-3720-4db1-a5ee-2b9c7c62f413",
   "metadata": {},
   "outputs": [
    {
     "name": "stderr",
     "output_type": "stream",
     "text": [
      "%(asctime)s %(levelname)s %(message)s\n"
     ]
    }
   ],
   "source": [
    "lg.info('this is a info log and I could successfully created this')"
   ]
  },
  {
   "cell_type": "code",
   "execution_count": 47,
   "id": "7f0f6a58-be0f-4b40-8c15-084b4e73de61",
   "metadata": {},
   "outputs": [
    {
     "name": "stderr",
     "output_type": "stream",
     "text": [
      "%(asctime)s %(levelname)s %(message)s\n"
     ]
    }
   ],
   "source": [
    "lg.info('here comes another line of code')"
   ]
  },
  {
   "cell_type": "code",
   "execution_count": 48,
   "id": "2e01c359-081e-40f5-a89a-8cf19c090499",
   "metadata": {},
   "outputs": [
    {
     "name": "stderr",
     "output_type": "stream",
     "text": [
      "%(asctime)s %(levelname)s %(message)s\n"
     ]
    }
   ],
   "source": [
    "lg.warning('this is the first warning of my program to modify')\n"
   ]
  },
  {
   "cell_type": "code",
   "execution_count": 49,
   "id": "2198a479-6104-48dd-b626-1d57b30644e8",
   "metadata": {},
   "outputs": [
    {
     "name": "stderr",
     "output_type": "stream",
     "text": [
      "%(asctime)s %(levelname)s %(message)s\n"
     ]
    }
   ],
   "source": [
    "lg.error('this is an error')"
   ]
  },
  {
   "cell_type": "code",
   "execution_count": 50,
   "id": "849f4de1-abe0-4745-af38-335fd40ade1d",
   "metadata": {},
   "outputs": [],
   "source": [
    "# Level = lg.info (It means automatically save data whether we save it or not.)"
   ]
  },
  {
   "cell_type": "code",
   "execution_count": null,
   "id": "0f9105aa-a584-44a3-b7b7-ce920f0b05fa",
   "metadata": {},
   "outputs": [],
   "source": []
  },
  {
   "cell_type": "code",
   "execution_count": 51,
   "id": "0310e8ed-0c02-498f-8928-b20f5325970b",
   "metadata": {},
   "outputs": [
    {
     "ename": "SyntaxError",
     "evalue": "invalid syntax (2823257944.py, line 1)",
     "output_type": "error",
     "traceback": [
      "\u001b[1;36m  Cell \u001b[1;32mIn[51], line 1\u001b[1;36m\u001b[0m\n\u001b[1;33m    dsjkhkjshf +''sfjksdfkjdf\u001b[0m\n\u001b[1;37m                  ^\u001b[0m\n\u001b[1;31mSyntaxError\u001b[0m\u001b[1;31m:\u001b[0m invalid syntax\n"
     ]
    }
   ],
   "source": [
    "dsjkhkjshf +''sfjksdfkjdf"
   ]
  },
  {
   "cell_type": "code",
   "execution_count": null,
   "id": "14d7bb76-51e4-41a1-8cd1-c38db0ee597f",
   "metadata": {},
   "outputs": [],
   "source": [
    "def test(a,b):\n",
    "\n",
    "    try:\n",
    "        lg.info(str(a)+str(b))\n",
    "        div = a/b\n",
    "        return div\n",
    "    except Exception as e:\n",
    "        print('you can check your log for more info if you code fails')\n",
    "        lg.error('error has occured')\n",
    "        lg.exception(str(e))\n",
    "        "
   ]
  },
  {
   "cell_type": "code",
   "execution_count": null,
   "id": "7e31be03-5c0a-4d94-b211-a0e424fa2df6",
   "metadata": {},
   "outputs": [],
   "source": [
    "test(4,0)"
   ]
  },
  {
   "cell_type": "code",
   "execution_count": null,
   "id": "48b98822-da9b-4f20-b85f-d2007148da0f",
   "metadata": {},
   "outputs": [],
   "source": [
    "import logging as lg\n",
    "lg.basicConfig(filename ='C:\\\\Users\\\\USER\\\\Full Stack Data Science (Ineuron)\\\\logging\\\\practise.log',level = lg.INFO, format = '%(asctime)s %(message)s')\n",
    "def test(a,b):\n",
    "    lg.info('this is a start of the function')\n",
    "    add = a+b\n",
    "    return add\n",
    "\n",
    "test(2,88)\n",
    "\n",
    "\n",
    "# instead of print we will use logging.\n",
    "\n",
    "# We can turn off logging. \n",
    "\n",
    "lg.shutdown()"
   ]
  },
  {
   "cell_type": "code",
   "execution_count": null,
   "id": "c3634610-0a85-4988-9429-408320826b26",
   "metadata": {},
   "outputs": [],
   "source": [
    "lg.debug('this is for debugging')\n",
    "lg.info('this is a info log')\n",
    "lg.warning('this is a warning log')\n",
    "lg.error('this is an error log')\n",
    "lg.exception('this is an exception log')\n",
    "lg.critical('this is a critial log')"
   ]
  },
  {
   "cell_type": "code",
   "execution_count": null,
   "id": "1f7e405d-8898-4cc8-8cde-73b34d28d83e",
   "metadata": {},
   "outputs": [],
   "source": [
    "# Task\n",
    "#.1 Create a logger in your code.\n",
    "#.2 Create one function which can take any number of arguments and it will be able to return sum of it.\n",
    "#.3 Capture user input in log.\n",
    "#.4 Give user instruction in log file.\n",
    "#.5 Read a log file from python code and show all logs in in console."
   ]
  },
  {
   "cell_type": "code",
   "execution_count": null,
   "id": "8edff774-fcf6-41dc-9699-cbf32bb40764",
   "metadata": {},
   "outputs": [],
   "source": [
    "os.getcwd()"
   ]
  },
  {
   "cell_type": "code",
   "execution_count": null,
   "id": "c037b906-0a85-428c-9e42-392868586381",
   "metadata": {},
   "outputs": [],
   "source": [
    "lg.basicConfig(filename = 'task.log',level=lg.INFO,format = \"%(asctime)s %(message)s\")"
   ]
  },
  {
   "cell_type": "code",
   "execution_count": null,
   "id": "32eb1b6e-56c6-4413-91be-ebbe5ebf6441",
   "metadata": {},
   "outputs": [],
   "source": [
    "lg.info('Kinldy give your input in the func function')\n",
    "\n",
    "def func(*args):\n",
    "    lg.info(f'the function has been started and the user has input {args}')\n",
    "    result = sum(args)\n",
    "    return result\n",
    "    lg.info(f'the result of this func is {result}')"
   ]
  },
  {
   "cell_type": "code",
   "execution_count": null,
   "id": "2aaf3fe2-453a-4f39-bb96-c62c7c36a7ca",
   "metadata": {},
   "outputs": [],
   "source": [
    "func(5,2)"
   ]
  },
  {
   "cell_type": "code",
   "execution_count": null,
   "id": "330c95ec-9b41-4474-98b8-718bcd3b2fe4",
   "metadata": {},
   "outputs": [],
   "source": [
    "with open ('task.log','r') as file:\n",
    "    logfile = file.readlines()\n",
    "    for i in logfile:\n",
    "        print(i)"
   ]
  },
  {
   "cell_type": "code",
   "execution_count": 58,
   "id": "2ab57f28-5cc2-40fd-9a1b-e4a8c6397408",
   "metadata": {},
   "outputs": [],
   "source": [
    "import logging "
   ]
  },
  {
   "cell_type": "code",
   "execution_count": 59,
   "id": "2e00662f-8152-4c79-a2a1-2e17953e4762",
   "metadata": {},
   "outputs": [],
   "source": [
    "logging.basicConfig(filename = 'test3.log',level = logging.DEBUG,format = \"%(asctime)s %(levelname)s %(message)s\")"
   ]
  },
  {
   "cell_type": "code",
   "execution_count": 60,
   "id": "21cf0e8b-c842-423d-822f-3c27848e1295",
   "metadata": {},
   "outputs": [],
   "source": [
    "# to read logger we can use streamhandler which we can find it in the logger.\n"
   ]
  },
  {
   "cell_type": "code",
   "execution_count": 61,
   "id": "d08484ed-06e5-40c5-8af9-be9a98338098",
   "metadata": {},
   "outputs": [],
   "source": [
    "#.5 Read a log file from python code and show all logs in in console.\n",
    "\n",
    "console_log = logging.StreamHandler() # calling the stream handler. IT will help print the details in console.\n",
    "console_log.setLevel(logging.INFO) #Setting streamhandler level to logging.Info so it will give only logging.info details here in the console.\n"
   ]
  },
  {
   "cell_type": "code",
   "execution_count": 62,
   "id": "6cfedc62-4961-45d7-9310-36aa6f9b9450",
   "metadata": {},
   "outputs": [],
   "source": [
    "# It will show only info log as we have given level above as INFO\n",
    "\n",
    "format = '%(asctime)s %(levelname)s %(message)s' # format \n",
    "\n",
    "console_log.setFormatter(format) # setting up format for stream handler."
   ]
  },
  {
   "cell_type": "code",
   "execution_count": 63,
   "id": "a6aec71b-6c6b-4f09-8fb8-2957af3a07da",
   "metadata": {},
   "outputs": [],
   "source": [
    "logging.getLogger('').addHandler(console_log) # getLogger will get the logger class. "
   ]
  },
  {
   "cell_type": "code",
   "execution_count": 64,
   "id": "17fe0561-89d6-4561-9614-25856a12beaa",
   "metadata": {},
   "outputs": [
    {
     "name": "stderr",
     "output_type": "stream",
     "text": [
      "%(asctime)s %(levelname)s %(message)s\n",
      "%(asctime)s %(levelname)s %(message)s\n",
      "%(asctime)s %(levelname)s %(message)s\n"
     ]
    }
   ],
   "source": [
    "logging.info('this is my first code for log') # logging information"
   ]
  },
  {
   "cell_type": "code",
   "execution_count": 65,
   "id": "eb09af8a-301a-4214-a895-5ec2dc2277bc",
   "metadata": {},
   "outputs": [],
   "source": [
    "logger1 = logging.getLogger('logger1.area1')\n",
    "logger2 = logging.getLogger('logger2.area2')"
   ]
  },
  {
   "cell_type": "code",
   "execution_count": 66,
   "id": "36c9280c-2b5f-4cf4-8056-9c6d21f30568",
   "metadata": {},
   "outputs": [
    {
     "name": "stderr",
     "output_type": "stream",
     "text": [
      "%(asctime)s %(levelname)s %(message)s\n",
      "%(asctime)s %(levelname)s %(message)s\n",
      "%(asctime)s %(levelname)s %(message)s\n",
      "%(asctime)s %(levelname)s %(message)s\n",
      "%(asctime)s %(levelname)s %(message)s\n",
      "%(asctime)s %(levelname)s %(message)s\n"
     ]
    }
   ],
   "source": [
    "logger1.info('this is info for logger one')\n",
    "logger2.debug('this is a debug for logger two')\n",
    "logger2.info('this is info for logger two')"
   ]
  },
  {
   "cell_type": "code",
   "execution_count": 67,
   "id": "f8beca6c-72af-497d-abbb-7b05b6d6eeb9",
   "metadata": {},
   "outputs": [],
   "source": [
    "# Stream = Console"
   ]
  },
  {
   "cell_type": "code",
   "execution_count": 80,
   "id": "f23dada3-6461-4504-bcfc-6b9304612961",
   "metadata": {},
   "outputs": [
    {
     "name": "stderr",
     "output_type": "stream",
     "text": [
      "%(asctime)s %(levelname)s %(message)s\n",
      "%(asctime)s %(levelname)s %(message)s\n",
      "%(asctime)s %(levelname)s %(message)s\n",
      "%(asctime)s %(levelname)s %(message)s\n",
      "%(asctime)s %(levelname)s %(message)s\n",
      "%(asctime)s %(levelname)s %(message)s\n",
      "%(asctime)s %(levelname)s %(message)s\n",
      "%(asctime)s %(levelname)s %(message)s\n",
      "%(asctime)s %(levelname)s %(message)s\n",
      "%(asctime)s %(levelname)s %(message)s\n",
      "%(asctime)s %(levelname)s %(message)s\n",
      "2024-04-01 05:43:38,959 INFO I am practising logging\n",
      "2024-04-01 05:43:38,959 INFO I am practising logging\n",
      "2024-04-01 05:43:38,959 INFO I am practising logging\n",
      "%(asctime)s %(levelname)s %(message)s\n",
      "%(asctime)s %(levelname)s %(message)s\n",
      "%(asctime)s %(levelname)s %(message)s\n",
      "%(asctime)s %(levelname)s %(message)s\n",
      "%(asctime)s %(levelname)s %(message)s\n",
      "%(asctime)s %(levelname)s %(message)s\n",
      "%(asctime)s %(levelname)s %(message)s\n",
      "%(asctime)s %(levelname)s %(message)s\n",
      "%(asctime)s %(levelname)s %(message)s\n",
      "%(asctime)s %(levelname)s %(message)s\n",
      "%(asctime)s %(levelname)s %(message)s\n",
      "2024-04-01 05:43:38,969 INFO This is a debug\n",
      "2024-04-01 05:43:38,969 INFO This is a debug\n",
      "2024-04-01 05:43:38,969 INFO This is a debug\n",
      "%(asctime)s %(levelname)s %(message)s\n",
      "%(asctime)s %(levelname)s %(message)s\n",
      "%(asctime)s %(levelname)s %(message)s\n",
      "%(asctime)s %(levelname)s %(message)s\n",
      "%(asctime)s %(levelname)s %(message)s\n",
      "%(asctime)s %(levelname)s %(message)s\n",
      "%(asctime)s %(levelname)s %(message)s\n",
      "%(asctime)s %(levelname)s %(message)s\n",
      "%(asctime)s %(levelname)s %(message)s\n",
      "%(asctime)s %(levelname)s %(message)s\n",
      "%(asctime)s %(levelname)s %(message)s\n",
      "2024-04-01 05:43:38,976 INFO This is a info\n",
      "2024-04-01 05:43:38,976 INFO This is a info\n",
      "2024-04-01 05:43:38,976 INFO This is a info\n",
      "%(asctime)s %(levelname)s %(message)s\n",
      "%(asctime)s %(levelname)s %(message)s\n",
      "%(asctime)s %(levelname)s %(message)s\n",
      "%(asctime)s %(levelname)s %(message)s\n",
      "%(asctime)s %(levelname)s %(message)s\n",
      "%(asctime)s %(levelname)s %(message)s\n",
      "%(asctime)s %(levelname)s %(message)s\n",
      "%(asctime)s %(levelname)s %(message)s\n",
      "%(asctime)s %(levelname)s %(message)s\n",
      "%(asctime)s %(levelname)s %(message)s\n",
      "%(asctime)s %(levelname)s %(message)s\n",
      "2024-04-01 05:43:38,987 INFO info\n",
      "2024-04-01 05:43:38,987 INFO info\n",
      "2024-04-01 05:43:38,987 INFO info\n"
     ]
    }
   ],
   "source": [
    "#.5 Read a log file from python code and show all logs in in console.\n",
    "logging.basicConfig(filename = 'test3.log',level = logging.DEBUG,format = \"%(asctime)s %(levelname)s %(message)s\")\n",
    "consolelog_practise = logging.StreamHandler()\n",
    "consolelog_practise.setLevel(logging.INFO)\n",
    "format = logging.Formatter('%(asctime)s %(levelname)s %(message)s')\n",
    "consolelog_practise.setFormatter(format)\n",
    "logging.getLogger('').addHandler(consolelog_practise)\n",
    "logging.info('I am practising logging')\n",
    "User1 = logging.getLogger('user1') # Specifing the name with which it will insert data in log file. It makes easy for us to understand which user logged an issue.\n",
    "User2 = logging.getLogger('user2')\n",
    "User1.info('This is a debug')\n",
    "User2.info('This is a info')\n",
    "User1.info('info')\n",
    "User2.debug('debug')"
   ]
  },
  {
   "cell_type": "code",
   "execution_count": 90,
   "id": "548400ec-5914-4b8a-bee5-9c5fd0e05868",
   "metadata": {},
   "outputs": [],
   "source": [
    "# Debug\n",
    "\n",
    "l = []\n",
    "\n",
    "def testdebug(n):\n",
    "    l = []\n",
    "    for i in range(n):\n",
    "        l.append(i)\n",
    "        print('the data has been appended in list')\n",
    "    return l"
   ]
  },
  {
   "cell_type": "code",
   "execution_count": 91,
   "id": "3271ebbf-94ce-4dd4-a555-91d61eedb294",
   "metadata": {},
   "outputs": [
    {
     "name": "stdout",
     "output_type": "stream",
     "text": [
      "the data has been appended in list\n",
      "the data has been appended in list\n",
      "the data has been appended in list\n",
      "the data has been appended in list\n",
      "the data has been appended in list\n"
     ]
    },
    {
     "data": {
      "text/plain": [
       "[0, 1, 2, 3, 4]"
      ]
     },
     "execution_count": 91,
     "metadata": {},
     "output_type": "execute_result"
    }
   ],
   "source": [
    "testdebug(5)"
   ]
  },
  {
   "cell_type": "code",
   "execution_count": 98,
   "id": "964abfee-4310-401f-b97f-d042a942ed55",
   "metadata": {},
   "outputs": [
    {
     "name": "stdout",
     "output_type": "stream",
     "text": [
      "Requirement already satisfied: ipdb in c:\\users\\user\\anaconda3\\lib\\site-packages (0.13.13)\n",
      "Requirement already satisfied: ipython>=7.31.1 in c:\\users\\user\\anaconda3\\lib\\site-packages (from ipdb) (8.20.0)\n",
      "Requirement already satisfied: decorator in c:\\users\\user\\anaconda3\\lib\\site-packages (from ipdb) (5.1.1)\n",
      "Requirement already satisfied: jedi>=0.16 in c:\\users\\user\\anaconda3\\lib\\site-packages (from ipython>=7.31.1->ipdb) (0.18.1)\n",
      "Requirement already satisfied: matplotlib-inline in c:\\users\\user\\anaconda3\\lib\\site-packages (from ipython>=7.31.1->ipdb) (0.1.6)\n",
      "Requirement already satisfied: prompt-toolkit<3.1.0,>=3.0.41 in c:\\users\\user\\anaconda3\\lib\\site-packages (from ipython>=7.31.1->ipdb) (3.0.43)\n",
      "Requirement already satisfied: pygments>=2.4.0 in c:\\users\\user\\anaconda3\\lib\\site-packages (from ipython>=7.31.1->ipdb) (2.15.1)\n",
      "Requirement already satisfied: stack-data in c:\\users\\user\\anaconda3\\lib\\site-packages (from ipython>=7.31.1->ipdb) (0.2.0)\n",
      "Requirement already satisfied: traitlets>=5 in c:\\users\\user\\anaconda3\\lib\\site-packages (from ipython>=7.31.1->ipdb) (5.7.1)\n",
      "Requirement already satisfied: colorama in c:\\users\\user\\anaconda3\\lib\\site-packages (from ipython>=7.31.1->ipdb) (0.4.6)\n",
      "Requirement already satisfied: parso<0.9.0,>=0.8.0 in c:\\users\\user\\anaconda3\\lib\\site-packages (from jedi>=0.16->ipython>=7.31.1->ipdb) (0.8.3)\n",
      "Requirement already satisfied: wcwidth in c:\\users\\user\\anaconda3\\lib\\site-packages (from prompt-toolkit<3.1.0,>=3.0.41->ipython>=7.31.1->ipdb) (0.2.5)\n",
      "Requirement already satisfied: executing in c:\\users\\user\\anaconda3\\lib\\site-packages (from stack-data->ipython>=7.31.1->ipdb) (0.8.3)\n",
      "Requirement already satisfied: asttokens in c:\\users\\user\\anaconda3\\lib\\site-packages (from stack-data->ipython>=7.31.1->ipdb) (2.0.5)\n",
      "Requirement already satisfied: pure-eval in c:\\users\\user\\anaconda3\\lib\\site-packages (from stack-data->ipython>=7.31.1->ipdb) (0.2.2)\n",
      "Requirement already satisfied: six in c:\\users\\user\\anaconda3\\lib\\site-packages (from asttokens->stack-data->ipython>=7.31.1->ipdb) (1.16.0)\n"
     ]
    }
   ],
   "source": [
    "# pip and conda (respositary) for installation. On pip and conda we will be able to write codes so that people can use.\n",
    "# We are going to install ipdb( python debugger). # Jupyternotebook python debugger. i = jupyter, pdb = python debugger\n",
    "# pip install package name (! pip install ipdb || ! pip install )\n",
    "# conda install package name (! conda install ipdb || ! pip install )\n",
    "# We can do it through Anaconda console as well. (pip install ipdb)\n",
    "# We can do it from Anaconda UI as well.\n",
    "\n",
    "# jupyter notebook is also called ipython.\n",
    "\n",
    "!pip install ipdb\n",
    "\n"
   ]
  },
  {
   "cell_type": "code",
   "execution_count": 2,
   "id": "af35aece-1670-4436-8b9e-3571cbd5425c",
   "metadata": {},
   "outputs": [],
   "source": [
    "import ipdb\n",
    "\n",
    "# with debugger we can check flow of the code.\n",
    " \n",
    "def testdebug():\n",
    "    ipdb.set_trace()\n",
    "    l = []\n",
    "    for i in range(6):\n",
    "        l.append(i)\n",
    "        print('the data has been appended in list')\n",
    "    return l"
   ]
  },
  {
   "cell_type": "code",
   "execution_count": 3,
   "id": "ee9a176d-7e62-4211-915e-80afaebb8eb5",
   "metadata": {},
   "outputs": [
    {
     "name": "stdout",
     "output_type": "stream",
     "text": [
      "> \u001b[1;32mc:\\users\\user\\appdata\\local\\temp\\ipykernel_13680\\3934146825.py\u001b[0m(7)\u001b[0;36mtestdebug\u001b[1;34m()\u001b[0m\n",
      "\n"
     ]
    },
    {
     "name": "stdin",
     "output_type": "stream",
     "text": [
      "ipdb>  h\n"
     ]
    },
    {
     "name": "stdout",
     "output_type": "stream",
     "text": [
      "\n",
      "Documented commands (type help <topic>):\n",
      "========================================\n",
      "EOF    commands   enable      list      pinfo2   rv               unt   \n",
      "a      condition  exceptions  ll        pp       s                until \n",
      "alias  cont       exit        longlist  psource  skip_hidden      up    \n",
      "args   context    h           n         q        skip_predicates  w     \n",
      "b      continue   help        next      quit     source           whatis\n",
      "break  d          ignore      p         r        step             where \n",
      "bt     debug      interact    pdef      restart  tbreak         \n",
      "c      disable    j           pdoc      return   u              \n",
      "cl     display    jump        pfile     retval   unalias        \n",
      "clear  down       l           pinfo     run      undisplay      \n",
      "\n",
      "Miscellaneous help topics:\n",
      "==========================\n",
      "exec  pdb\n",
      "\n"
     ]
    },
    {
     "name": "stdin",
     "output_type": "stream",
     "text": [
      "ipdb>  next\n"
     ]
    },
    {
     "name": "stdout",
     "output_type": "stream",
     "text": [
      "> \u001b[1;32mc:\\users\\user\\appdata\\local\\temp\\ipykernel_13680\\3934146825.py\u001b[0m(8)\u001b[0;36mtestdebug\u001b[1;34m()\u001b[0m\n",
      "\n"
     ]
    },
    {
     "name": "stdin",
     "output_type": "stream",
     "text": [
      "ipdb>  next\n"
     ]
    },
    {
     "name": "stdout",
     "output_type": "stream",
     "text": [
      "> \u001b[1;32mc:\\users\\user\\appdata\\local\\temp\\ipykernel_13680\\3934146825.py\u001b[0m(9)\u001b[0;36mtestdebug\u001b[1;34m()\u001b[0m\n",
      "\n"
     ]
    },
    {
     "name": "stdin",
     "output_type": "stream",
     "text": [
      "ipdb>  next\n"
     ]
    },
    {
     "name": "stdout",
     "output_type": "stream",
     "text": [
      "> \u001b[1;32mc:\\users\\user\\appdata\\local\\temp\\ipykernel_13680\\3934146825.py\u001b[0m(10)\u001b[0;36mtestdebug\u001b[1;34m()\u001b[0m\n",
      "\n"
     ]
    },
    {
     "name": "stdin",
     "output_type": "stream",
     "text": [
      "ipdb>  next\n"
     ]
    },
    {
     "name": "stdout",
     "output_type": "stream",
     "text": [
      "the data has been appended in list\n",
      "> \u001b[1;32mc:\\users\\user\\appdata\\local\\temp\\ipykernel_13680\\3934146825.py\u001b[0m(8)\u001b[0;36mtestdebug\u001b[1;34m()\u001b[0m\n",
      "\n"
     ]
    },
    {
     "name": "stdin",
     "output_type": "stream",
     "text": [
      "ipdb>  i\n"
     ]
    },
    {
     "name": "stdout",
     "output_type": "stream",
     "text": [
      "0\n"
     ]
    },
    {
     "name": "stdin",
     "output_type": "stream",
     "text": [
      "ipdb>  next\n"
     ]
    },
    {
     "name": "stdout",
     "output_type": "stream",
     "text": [
      "> \u001b[1;32mc:\\users\\user\\appdata\\local\\temp\\ipykernel_13680\\3934146825.py\u001b[0m(9)\u001b[0;36mtestdebug\u001b[1;34m()\u001b[0m\n",
      "\n"
     ]
    },
    {
     "name": "stdin",
     "output_type": "stream",
     "text": [
      "ipdb>  i\n"
     ]
    },
    {
     "name": "stdout",
     "output_type": "stream",
     "text": [
      "1\n"
     ]
    },
    {
     "name": "stdin",
     "output_type": "stream",
     "text": [
      "ipdb>  next\n"
     ]
    },
    {
     "name": "stdout",
     "output_type": "stream",
     "text": [
      "> \u001b[1;32mc:\\users\\user\\appdata\\local\\temp\\ipykernel_13680\\3934146825.py\u001b[0m(10)\u001b[0;36mtestdebug\u001b[1;34m()\u001b[0m\n",
      "\n"
     ]
    },
    {
     "name": "stdin",
     "output_type": "stream",
     "text": [
      "ipdb>  i\n"
     ]
    },
    {
     "name": "stdout",
     "output_type": "stream",
     "text": [
      "1\n"
     ]
    },
    {
     "name": "stdin",
     "output_type": "stream",
     "text": [
      "ipdb>  next\n"
     ]
    },
    {
     "name": "stdout",
     "output_type": "stream",
     "text": [
      "the data has been appended in list\n",
      "> \u001b[1;32mc:\\users\\user\\appdata\\local\\temp\\ipykernel_13680\\3934146825.py\u001b[0m(8)\u001b[0;36mtestdebug\u001b[1;34m()\u001b[0m\n",
      "\n"
     ]
    },
    {
     "name": "stdin",
     "output_type": "stream",
     "text": [
      "ipdb>  i\n"
     ]
    },
    {
     "name": "stdout",
     "output_type": "stream",
     "text": [
      "1\n"
     ]
    },
    {
     "name": "stdin",
     "output_type": "stream",
     "text": [
      "ipdb>  c\n"
     ]
    },
    {
     "name": "stdout",
     "output_type": "stream",
     "text": [
      "the data has been appended in list\n",
      "the data has been appended in list\n",
      "the data has been appended in list\n",
      "the data has been appended in list\n"
     ]
    },
    {
     "data": {
      "text/plain": [
       "[0, 1, 2, 3, 4, 5]"
      ]
     },
     "execution_count": 3,
     "metadata": {},
     "output_type": "execute_result"
    }
   ],
   "source": [
    "testdebug()\n",
    "\n",
    "# h = help in ipdb\n",
    "# c = continue\n",
    "# n = next\n",
    "# help j OR help jump will give details of jump command"
   ]
  },
  {
   "cell_type": "code",
   "execution_count": 6,
   "id": "6901b24b-e69a-4882-bd39-9d1efc802c47",
   "metadata": {},
   "outputs": [],
   "source": [
    "def testdebug1():\n",
    "    ipdb.set_trace()\n",
    "    l = []\n",
    "    for i in range(10):\n",
    "        for j in range(5):\n",
    "            l.append(i)\n",
    "            if i ==4:\n",
    "                continue\n",
    "            print('we have appended your data in list')\n",
    "    return l"
   ]
  },
  {
   "cell_type": "code",
   "execution_count": 7,
   "id": "e0aa7e72-9807-43d7-a1b3-907b7143cbda",
   "metadata": {},
   "outputs": [
    {
     "name": "stdout",
     "output_type": "stream",
     "text": [
      "> \u001b[1;32mc:\\users\\user\\appdata\\local\\temp\\ipykernel_13680\\527361140.py\u001b[0m(3)\u001b[0;36mtestdebug1\u001b[1;34m()\u001b[0m\n",
      "\n"
     ]
    },
    {
     "name": "stdin",
     "output_type": "stream",
     "text": [
      "ipdb>  n\n"
     ]
    },
    {
     "name": "stdout",
     "output_type": "stream",
     "text": [
      "> \u001b[1;32mc:\\users\\user\\appdata\\local\\temp\\ipykernel_13680\\527361140.py\u001b[0m(4)\u001b[0;36mtestdebug1\u001b[1;34m()\u001b[0m\n",
      "\n"
     ]
    },
    {
     "name": "stdin",
     "output_type": "stream",
     "text": [
      "ipdb>  n\n"
     ]
    },
    {
     "name": "stdout",
     "output_type": "stream",
     "text": [
      "> \u001b[1;32mc:\\users\\user\\appdata\\local\\temp\\ipykernel_13680\\527361140.py\u001b[0m(5)\u001b[0;36mtestdebug1\u001b[1;34m()\u001b[0m\n",
      "\n"
     ]
    },
    {
     "name": "stdin",
     "output_type": "stream",
     "text": [
      "ipdb>  n\n"
     ]
    },
    {
     "name": "stdout",
     "output_type": "stream",
     "text": [
      "> \u001b[1;32mc:\\users\\user\\appdata\\local\\temp\\ipykernel_13680\\527361140.py\u001b[0m(6)\u001b[0;36mtestdebug1\u001b[1;34m()\u001b[0m\n",
      "\n"
     ]
    },
    {
     "name": "stdin",
     "output_type": "stream",
     "text": [
      "ipdb>  n\n"
     ]
    },
    {
     "name": "stdout",
     "output_type": "stream",
     "text": [
      "> \u001b[1;32mc:\\users\\user\\appdata\\local\\temp\\ipykernel_13680\\527361140.py\u001b[0m(7)\u001b[0;36mtestdebug1\u001b[1;34m()\u001b[0m\n",
      "\n"
     ]
    },
    {
     "name": "stdin",
     "output_type": "stream",
     "text": [
      "ipdb>  n\n"
     ]
    },
    {
     "name": "stdout",
     "output_type": "stream",
     "text": [
      "> \u001b[1;32mc:\\users\\user\\appdata\\local\\temp\\ipykernel_13680\\527361140.py\u001b[0m(9)\u001b[0;36mtestdebug1\u001b[1;34m()\u001b[0m\n",
      "\n"
     ]
    },
    {
     "name": "stdin",
     "output_type": "stream",
     "text": [
      "ipdb>  n\n"
     ]
    },
    {
     "name": "stdout",
     "output_type": "stream",
     "text": [
      "we have appended your data in list\n",
      "> \u001b[1;32mc:\\users\\user\\appdata\\local\\temp\\ipykernel_13680\\527361140.py\u001b[0m(5)\u001b[0;36mtestdebug1\u001b[1;34m()\u001b[0m\n",
      "\n"
     ]
    },
    {
     "name": "stdin",
     "output_type": "stream",
     "text": [
      "ipdb>  n\n"
     ]
    },
    {
     "name": "stdout",
     "output_type": "stream",
     "text": [
      "> \u001b[1;32mc:\\users\\user\\appdata\\local\\temp\\ipykernel_13680\\527361140.py\u001b[0m(6)\u001b[0;36mtestdebug1\u001b[1;34m()\u001b[0m\n",
      "\n"
     ]
    },
    {
     "name": "stdin",
     "output_type": "stream",
     "text": [
      "ipdb>  n\n"
     ]
    },
    {
     "name": "stdout",
     "output_type": "stream",
     "text": [
      "> \u001b[1;32mc:\\users\\user\\appdata\\local\\temp\\ipykernel_13680\\527361140.py\u001b[0m(7)\u001b[0;36mtestdebug1\u001b[1;34m()\u001b[0m\n",
      "\n"
     ]
    },
    {
     "name": "stdin",
     "output_type": "stream",
     "text": [
      "ipdb>  n\n"
     ]
    },
    {
     "name": "stdout",
     "output_type": "stream",
     "text": [
      "> \u001b[1;32mc:\\users\\user\\appdata\\local\\temp\\ipykernel_13680\\527361140.py\u001b[0m(9)\u001b[0;36mtestdebug1\u001b[1;34m()\u001b[0m\n",
      "\n"
     ]
    },
    {
     "name": "stdin",
     "output_type": "stream",
     "text": [
      "ipdb>  n\n"
     ]
    },
    {
     "name": "stdout",
     "output_type": "stream",
     "text": [
      "we have appended your data in list\n",
      "> \u001b[1;32mc:\\users\\user\\appdata\\local\\temp\\ipykernel_13680\\527361140.py\u001b[0m(5)\u001b[0;36mtestdebug1\u001b[1;34m()\u001b[0m\n",
      "\n"
     ]
    },
    {
     "name": "stdin",
     "output_type": "stream",
     "text": [
      "ipdb>  c\n"
     ]
    },
    {
     "name": "stdout",
     "output_type": "stream",
     "text": [
      "we have appended your data in list\n",
      "we have appended your data in list\n",
      "we have appended your data in list\n",
      "we have appended your data in list\n",
      "we have appended your data in list\n",
      "we have appended your data in list\n",
      "we have appended your data in list\n",
      "we have appended your data in list\n",
      "we have appended your data in list\n",
      "we have appended your data in list\n",
      "we have appended your data in list\n",
      "we have appended your data in list\n",
      "we have appended your data in list\n",
      "we have appended your data in list\n",
      "we have appended your data in list\n",
      "we have appended your data in list\n",
      "we have appended your data in list\n",
      "we have appended your data in list\n",
      "we have appended your data in list\n",
      "we have appended your data in list\n",
      "we have appended your data in list\n",
      "we have appended your data in list\n",
      "we have appended your data in list\n",
      "we have appended your data in list\n",
      "we have appended your data in list\n",
      "we have appended your data in list\n",
      "we have appended your data in list\n",
      "we have appended your data in list\n",
      "we have appended your data in list\n",
      "we have appended your data in list\n",
      "we have appended your data in list\n",
      "we have appended your data in list\n",
      "we have appended your data in list\n",
      "we have appended your data in list\n",
      "we have appended your data in list\n",
      "we have appended your data in list\n",
      "we have appended your data in list\n",
      "we have appended your data in list\n",
      "we have appended your data in list\n",
      "we have appended your data in list\n",
      "we have appended your data in list\n",
      "we have appended your data in list\n",
      "we have appended your data in list\n"
     ]
    },
    {
     "data": {
      "text/plain": [
       "[0,\n",
       " 0,\n",
       " 0,\n",
       " 0,\n",
       " 0,\n",
       " 1,\n",
       " 1,\n",
       " 1,\n",
       " 1,\n",
       " 1,\n",
       " 2,\n",
       " 2,\n",
       " 2,\n",
       " 2,\n",
       " 2,\n",
       " 3,\n",
       " 3,\n",
       " 3,\n",
       " 3,\n",
       " 3,\n",
       " 4,\n",
       " 4,\n",
       " 4,\n",
       " 4,\n",
       " 4,\n",
       " 5,\n",
       " 5,\n",
       " 5,\n",
       " 5,\n",
       " 5,\n",
       " 6,\n",
       " 6,\n",
       " 6,\n",
       " 6,\n",
       " 6,\n",
       " 7,\n",
       " 7,\n",
       " 7,\n",
       " 7,\n",
       " 7,\n",
       " 8,\n",
       " 8,\n",
       " 8,\n",
       " 8,\n",
       " 8,\n",
       " 9,\n",
       " 9,\n",
       " 9,\n",
       " 9,\n",
       " 9]"
      ]
     },
     "execution_count": 7,
     "metadata": {},
     "output_type": "execute_result"
    }
   ],
   "source": [
    "testdebug1()"
   ]
  },
  {
   "cell_type": "code",
   "execution_count": null,
   "id": "4e7b62a4-8b2e-4549-a959-597ce513458c",
   "metadata": {},
   "outputs": [],
   "source": [
    "# Challenge\n",
    "\n",
    "# TinkerKT, kivy (For creating App)"
   ]
  },
  {
   "cell_type": "code",
   "execution_count": null,
   "id": "9e436370-b696-409f-b8b1-f95c355bc7bd",
   "metadata": {},
   "outputs": [],
   "source": []
  }
 ],
 "metadata": {
  "kernelspec": {
   "display_name": "Python 3 (ipykernel)",
   "language": "python",
   "name": "python3"
  },
  "language_info": {
   "codemirror_mode": {
    "name": "ipython",
    "version": 3
   },
   "file_extension": ".py",
   "mimetype": "text/x-python",
   "name": "python",
   "nbconvert_exporter": "python",
   "pygments_lexer": "ipython3",
   "version": "3.11.7"
  }
 },
 "nbformat": 4,
 "nbformat_minor": 5
}
