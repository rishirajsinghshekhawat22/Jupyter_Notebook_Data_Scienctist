{
 "cells": [
  {
   "cell_type": "code",
   "execution_count": 6,
   "id": "8094fb4e-f402-43b2-b96a-e0a32c7b4baa",
   "metadata": {},
   "outputs": [
    {
     "name": "stdout",
     "output_type": "stream",
     "text": [
      "rishi\n",
      "123\n",
      "12.34\n",
      "[1, 2, 3, 4, 'r', 52.22]\n",
      "True\n"
     ]
    }
   ],
   "source": [
    "# We will learn list manipulation.\n",
    "\n",
    "l = ['rishi',123,12.34,[1,2,3,4,'r',52.22],True]\n",
    "for i in l:\n",
    "    print(i)\n",
    "l[0]\n",
    "\n",
    "l[::-1]\n",
    "\n",
    "\n",
    "    "
   ]
  },
  {
   "cell_type": "code",
   "execution_count": 14,
   "id": "4852f536-f378-4772-bb5b-9e43b92d432f",
   "metadata": {},
   "outputs": [
    {
     "name": "stdout",
     "output_type": "stream",
     "text": [
      "this isn't a list rishi\n",
      "this isn't a list 123\n",
      "this isn't a list 12.34\n",
      "this is a list [1, 2, 3, 4, 'r', 52.22]\n",
      "this isn't a list True\n"
     ]
    }
   ],
   "source": [
    "l = ['rishi',123,12.34,[1,2,3,4,'r',52.22],True]\n",
    "\n",
    "for i in l:\n",
    "    if type(i) == list:\n",
    "        print(f\"this is a list {i}\")\n",
    "    else:\n",
    "        print(f\"this isn't a list {i}\")\n",
    "    \n",
    "    \n",
    "        "
   ]
  },
  {
   "cell_type": "code",
   "execution_count": 15,
   "id": "dd0d7eac-6fc1-4122-8f06-7ec41ad164eb",
   "metadata": {},
   "outputs": [
    {
     "data": {
      "text/plain": [
       "['rishi',\n",
       " 123,\n",
       " 12.34,\n",
       " [1, 2, 3, 4, 'r', 52.22],\n",
       " True,\n",
       " 123,\n",
       " 345,\n",
       " 'rishi',\n",
       " 'happy']"
      ]
     },
     "execution_count": 15,
     "metadata": {},
     "output_type": "execute_result"
    }
   ],
   "source": [
    "l1 = [123,345,'rishi','happy']\n",
    "\n",
    "l+l1"
   ]
  },
  {
   "cell_type": "code",
   "execution_count": 17,
   "id": "bae27a79-8d7b-47ad-a0eb-2ac1ae9b790b",
   "metadata": {},
   "outputs": [
    {
     "name": "stdout",
     "output_type": "stream",
     "text": [
      "[123, 345, 'rishi', 'happy', 'rishiraj', 'rishiraj']\n"
     ]
    }
   ],
   "source": [
    "l1.append('rishiraj')\n",
    "print(l1)"
   ]
  },
  {
   "cell_type": "code",
   "execution_count": 18,
   "id": "948cbf65-607d-4624-9db2-ef194ba14eb8",
   "metadata": {},
   "outputs": [
    {
     "data": {
      "text/plain": [
       "6"
      ]
     },
     "execution_count": 18,
     "metadata": {},
     "output_type": "execute_result"
    }
   ],
   "source": [
    "len(l1)"
   ]
  },
  {
   "cell_type": "code",
   "execution_count": 20,
   "id": "a66a45d8-5755-44bd-82a4-e0c925cb17d3",
   "metadata": {},
   "outputs": [
    {
     "data": {
      "text/plain": [
       "False"
      ]
     },
     "execution_count": 20,
     "metadata": {},
     "output_type": "execute_result"
    }
   ],
   "source": [
    "345 in l1\n",
    "\n",
    "'happy' in l"
   ]
  },
  {
   "cell_type": "code",
   "execution_count": 34,
   "id": "3c9ac3a2-56cc-4dc8-be31-138fa9c03992",
   "metadata": {},
   "outputs": [
    {
     "data": {
      "text/plain": [
       "'azz'"
      ]
     },
     "execution_count": 34,
     "metadata": {},
     "output_type": "execute_result"
    }
   ],
   "source": [
    "c = [1,2,34,5,6,7]\n",
    "\n",
    "sum(c)\n",
    "max(c)\n",
    "min(c)\n",
    "\n",
    "d = ['azz','ri','z','zz'] # it gives result basis on the ASII table, every alphabet has a number. \n",
    "max(d)\n",
    "min(d)\n"
   ]
  },
  {
   "cell_type": "code",
   "execution_count": 42,
   "id": "3d1d3c1b-cfd9-41eb-804b-ca4283198a2e",
   "metadata": {},
   "outputs": [
    {
     "data": {
      "text/plain": [
       "['rishi', 2, 'rishiraj singh', 3, 4, 5, 'happy', [1, 2, 3, 4, 5, 6]]"
      ]
     },
     "execution_count": 42,
     "metadata": {},
     "output_type": "execute_result"
    }
   ],
   "source": [
    "r = [1,2,3,4,5]\n",
    "r.append('happy')\n",
    "r.append([1,2,3,4,5,6])\n",
    "r[0] = 'rishi'\n",
    "r.insert(2,'rishiraj singh')\n",
    "r"
   ]
  },
  {
   "cell_type": "code",
   "execution_count": 54,
   "id": "0c5dec8a-9cd6-4c9d-9e32-5a10fdd15ee9",
   "metadata": {},
   "outputs": [
    {
     "data": {
      "text/plain": [
       "'jaipur'"
      ]
     },
     "execution_count": 54,
     "metadata": {},
     "output_type": "execute_result"
    }
   ],
   "source": [
    "r = [1,2,3,4,5]\n",
    "r.insert(3,52.22)\n",
    "r.insert(-1,505)\n",
    "r.append('jaipur')\n",
    "r.append('jaipur')\n",
    "r.append('jaipur')\n",
    "r[-1]\n",
    "\n"
   ]
  },
  {
   "cell_type": "code",
   "execution_count": 55,
   "id": "463cc997-1f17-4511-9b62-b9906c4dcc82",
   "metadata": {},
   "outputs": [
    {
     "data": {
      "text/plain": [
       "3"
      ]
     },
     "execution_count": 55,
     "metadata": {},
     "output_type": "execute_result"
    }
   ],
   "source": [
    "r\n",
    "r.count('jaipur')"
   ]
  },
  {
   "cell_type": "code",
   "execution_count": 62,
   "id": "a57e4e25-1b71-441d-8b4a-9da6c477cd05",
   "metadata": {},
   "outputs": [
    {
     "data": {
      "text/plain": [
       "[1, 2, 3, 4, 5, 6, 'rishi', [1, 2, 3], 'h', 'a', 'p', 'p', 'y', 1, 2, 3]"
      ]
     },
     "execution_count": 62,
     "metadata": {},
     "output_type": "execute_result"
    }
   ],
   "source": [
    "t = [1,2,3,4,5,6]\n",
    "t.append('rishi')\n",
    "t.append([1,2,3])\n",
    "t.extend('happy') # it will put data in a iterable form, extend unwraps it and then insert at the tail. extend always look for iteral object that is string not an integer.\n",
    "t.extend([1,2,3])\n",
    "t"
   ]
  },
  {
   "cell_type": "code",
   "execution_count": 104,
   "id": "84347f2a-9f68-4221-b4e7-8ea04017ee0a",
   "metadata": {},
   "outputs": [
    {
     "name": "stdout",
     "output_type": "stream",
     "text": [
      "[1, 2]\n"
     ]
    }
   ],
   "source": [
    "h = [1,2,2,3,3,3,4,4,4,4,]\n",
    "\n",
    "\n",
    "\n",
    "indices_of_2 =[]\n",
    "\n",
    "for i in range(len(h)):\n",
    "    if h[i] ==2:\n",
    "        indices_of_2.append(i)\n",
    "\n",
    "print(indices_of_2)\n",
    "\n",
    "\n",
    "\n"
   ]
  },
  {
   "cell_type": "code",
   "execution_count": 112,
   "id": "1f24b635-7c01-444a-9a5d-46c76a8d9be8",
   "metadata": {},
   "outputs": [
    {
     "data": {
      "text/plain": [
       "[3, 5, 7, 8, 9]"
      ]
     },
     "execution_count": 112,
     "metadata": {},
     "output_type": "execute_result"
    }
   ],
   "source": [
    "# Delete Dat\n",
    "\n",
    "p =[2,3,4,5,7,8,9]\n",
    "p.pop(2)\n",
    "p.remove(2)\n",
    "p.reverse()\n",
    "p.sort()\n",
    "p"
   ]
  },
  {
   "cell_type": "code",
   "execution_count": 115,
   "id": "8085f337-038b-4ca7-a91d-1e784d174679",
   "metadata": {},
   "outputs": [
    {
     "data": {
      "text/plain": [
       "[0.25, 1, 2, 3, 4, 5]"
      ]
     },
     "execution_count": 115,
     "metadata": {},
     "output_type": "execute_result"
    }
   ],
   "source": [
    "r = [1,2,3,4,5,.25]\n",
    "r.sort()\n",
    "r"
   ]
  },
  {
   "cell_type": "code",
   "execution_count": 195,
   "id": "af35b8c4-4c60-42d6-85fb-61fb70f279a2",
   "metadata": {},
   "outputs": [
    {
     "data": {
      "text/plain": [
       "[[2, 2], [1, 2], 25.65j, [3, 3], [3, 4], [5, 6, 'string']]"
      ]
     },
     "execution_count": 195,
     "metadata": {},
     "output_type": "execute_result"
    }
   ],
   "source": [
    "# Practise Question\n",
    "\n",
    "l = [[1,2],[3,4],[5,6,'string']]\n",
    "\n",
    "# Q1: append 2 more lists and one complex number in between. # Done\n",
    "# Q2: nested list contain string then find out it's index in nested list and print it than remove the string.\n",
    "# Q3: you have to extract second element of each nested list. Done\n",
    "\n",
    "l\n",
    "l.insert(1,[3,3])\n",
    "l.insert(0,[2,2])\n",
    "l.insert(2,25.65j)\n",
    "\n",
    "for i in range(len(l)):\n",
    "    if type(i) == list:\n",
    "        print(i)\n",
    "    \n",
    "\n"
   ]
  },
  {
   "cell_type": "code",
   "execution_count": 196,
   "id": "d688ff04-8dc0-4347-875f-f23fd31f8175",
   "metadata": {},
   "outputs": [
    {
     "name": "stdout",
     "output_type": "stream",
     "text": [
      "1\n"
     ]
    }
   ],
   "source": [
    "# Q2: nested list contain string then find out it's index in nested list and print it than remove the string.\n",
    "l = [[1,2],[3,4],[5,'s']]\n",
    "\n",
    "l.index([1,2])\n",
    "\n",
    "for i in l:\n",
    "    if type(i)  == list:\n",
    "        for j in i:\n",
    "            if type(j) == str:\n",
    "                print(i.index(j))"
   ]
  },
  {
   "cell_type": "code",
   "execution_count": 181,
   "id": "17c23db0-bee2-4b05-8ffe-70582b5ba360",
   "metadata": {},
   "outputs": [
    {
     "data": {
      "text/plain": [
       "2"
      ]
     },
     "execution_count": 181,
     "metadata": {},
     "output_type": "execute_result"
    }
   ],
   "source": [
    "# Q3: you have to extract second element of each nested list.\n",
    "l = [[1,2],[3,4],[5,6,'s']]\n",
    "\n",
    "l[0][1]\n"
   ]
  },
  {
   "cell_type": "code",
   "execution_count": 198,
   "id": "92da93ee-5186-4c19-b25a-857893d815fb",
   "metadata": {},
   "outputs": [
    {
     "name": "stdout",
     "output_type": "stream",
     "text": [
      "1\n"
     ]
    }
   ],
   "source": [
    "r = [[1,2],[3,4],[5,'s']]\n",
    "\n",
    "for i in r:\n",
    "    if type(i) == list:\n",
    "        for j in i:\n",
    "            if type(j) == str:\n",
    "                print(i.index(j))\n",
    "                "
   ]
  },
  {
   "cell_type": "code",
   "execution_count": 1,
   "id": "51256639-0b9c-4b3b-97c2-4236443091d0",
   "metadata": {},
   "outputs": [
    {
     "name": "stdout",
     "output_type": "stream",
     "text": [
      "[1, 2]\n",
      "[3, 4]\n",
      "[5, 's', 's', 's']\n"
     ]
    }
   ],
   "source": [
    "# Q2: nested list contain string then find out it's index in nested list and print it than remove the string.\n",
    "l = [[1,2],[3,4],[5,'s','s','s']]\n",
    "\n",
    "for i in l:\n",
    "    print(i)"
   ]
  },
  {
   "cell_type": "code",
   "execution_count": 3,
   "id": "c2e5ed79-d06e-4082-bb4b-a1ced67a5534",
   "metadata": {},
   "outputs": [
    {
     "ename": "IndentationError",
     "evalue": "unexpected indent (4193211716.py, line 15)",
     "output_type": "error",
     "traceback": [
      "\u001b[1;36m  Cell \u001b[1;32mIn[3], line 15\u001b[1;36m\u001b[0m\n\u001b[1;33m    i.remove(i[j])\u001b[0m\n\u001b[1;37m    ^\u001b[0m\n\u001b[1;31mIndentationError\u001b[0m\u001b[1;31m:\u001b[0m unexpected indent\n"
     ]
    }
   ],
   "source": [
    "l = [[1,2],[3,4],[5,'s','s','s']]\n",
    "\n",
    "\n",
    "for i in l:\n",
    "    if type(i) is list:\n",
    "        j =0\n",
    "        while j<len(i):\n",
    "            if type(i[j]) is str:\n",
    "                print(\"index of string is{}\".format(i[j]),j)\n",
    "            j +=1\n",
    "        j = 0\n",
    "        while j<len(i):\n",
    "            if type(i[j]) is str:\n",
    "                print(\"string in nested list {}\".format(i[j]))\n",
    "                      i.remove(i[j])\n",
    "                      continue\n",
    "            j +=1\n",
    "            \n",
    "                    \n",
    "        \n",
    "            "
   ]
  },
  {
   "cell_type": "code",
   "execution_count": 1,
   "id": "8ee10124-061f-4d15-9a5e-0607d3382a53",
   "metadata": {},
   "outputs": [
    {
     "data": {
      "text/plain": [
       "['r', 'i', 's', 'h', 'i']"
      ]
     },
     "execution_count": 1,
     "metadata": {},
     "output_type": "execute_result"
    }
   ],
   "source": [
    "k = [1,2,3,4,5,6,7,8]\n",
    "k1 = []\n",
    "\n",
    "for i in 'rishi':\n",
    "    k1.append(i)\n",
    "\n",
    "k1"
   ]
  },
  {
   "cell_type": "code",
   "execution_count": 5,
   "id": "d2ce1c45-5cdb-4af4-8566-16da1d8d5431",
   "metadata": {},
   "outputs": [
    {
     "ename": "SyntaxError",
     "evalue": "invalid syntax (1334920010.py, line 1)",
     "output_type": "error",
     "traceback": [
      "\u001b[1;36m  Cell \u001b[1;32mIn[5], line 1\u001b[1;36m\u001b[0m\n\u001b[1;33m    [ i for i in 'rishi': k1.append(i)]\u001b[0m\n\u001b[1;37m                        ^\u001b[0m\n\u001b[1;31mSyntaxError\u001b[0m\u001b[1;31m:\u001b[0m invalid syntax\n"
     ]
    }
   ],
   "source": []
  },
  {
   "cell_type": "code",
   "execution_count": 14,
   "id": "3716566a-2f3b-4f11-9faa-828fab6b8eac",
   "metadata": {},
   "outputs": [
    {
     "data": {
      "text/plain": [
       "[['rr'], ['ii'], ['ss'], ['hh'], ['ii']]"
      ]
     },
     "execution_count": 14,
     "metadata": {},
     "output_type": "execute_result"
    }
   ],
   "source": [
    "k1 = []\n",
    "\n",
    "k1 = [ [i*2] for i in 'rishi'] # list compreshension\n",
    "k1"
   ]
  },
  {
   "cell_type": "code",
   "execution_count": 18,
   "id": "3049ec6a-fa86-4a3e-8327-8c186b052ebb",
   "metadata": {},
   "outputs": [
    {
     "data": {
      "text/plain": [
       "[0, 2, 4, 6, 8]"
      ]
     },
     "execution_count": 18,
     "metadata": {},
     "output_type": "execute_result"
    }
   ],
   "source": [
    "l = []\n",
    "for i in range(10):\n",
    "    if i%2 == 0:\n",
    "        l.append(i)\n",
    "l\n",
    "        "
   ]
  },
  {
   "cell_type": "code",
   "execution_count": 20,
   "id": "5d814883-9104-4670-bfae-8e1cf94de305",
   "metadata": {},
   "outputs": [
    {
     "data": {
      "text/plain": [
       "[0, 2, 4, 6, 8]"
      ]
     },
     "execution_count": 20,
     "metadata": {},
     "output_type": "execute_result"
    }
   ],
   "source": [
    "l = [i for i in range(10) if i%2 ==0]\n",
    "l"
   ]
  },
  {
   "cell_type": "code",
   "execution_count": 37,
   "id": "1ae785e9-beda-4256-8cd2-065518286b44",
   "metadata": {},
   "outputs": [
    {
     "data": {
      "text/plain": [
       "['even', 'odd', 'even', 'odd', 'even', 'odd', 'even', 'odd', 'even', 'odd']"
      ]
     },
     "execution_count": 37,
     "metadata": {},
     "output_type": "execute_result"
    }
   ],
   "source": [
    "l_odd = []\n",
    "l_even = []\n",
    "\n",
    "for i in range(10):\n",
    "    if i%2 != 0:\n",
    "        l_odd.append(i)\n",
    "    else:\n",
    "        l_even.append(i)\n",
    "\n",
    "l_odd\n",
    "l_even\n",
    "\n",
    "['odd' if i%2 !=0 else 'even' for i in range(10)]"
   ]
  },
  {
   "cell_type": "code",
   "execution_count": 45,
   "id": "1982626f-5ce1-439d-a3a0-629b8137ba14",
   "metadata": {},
   "outputs": [
    {
     "data": {
      "text/plain": [
       "[[0, 1, 2], [0, 1, 2], [0, 1, 2]]"
      ]
     },
     "execution_count": 45,
     "metadata": {},
     "output_type": "execute_result"
    }
   ],
   "source": [
    "mat = []\n",
    "\n",
    "for i in range(3):\n",
    "    mat.append([])\n",
    "    for j in range(3):\n",
    "        mat[i].append(j)\n",
    "        \n",
    "\n",
    "mat\n",
    "\n",
    "\n"
   ]
  },
  {
   "cell_type": "code",
   "execution_count": 50,
   "id": "2b472e75-4b2a-4438-b7d8-dc48ce74a279",
   "metadata": {},
   "outputs": [
    {
     "data": {
      "text/plain": [
       "[[0, 1, 2], [0, 1, 2], [0, 1, 2]]"
      ]
     },
     "execution_count": 50,
     "metadata": {},
     "output_type": "execute_result"
    }
   ],
   "source": [
    "[[j for j in range(3)] for i in range(3)]"
   ]
  },
  {
   "cell_type": "code",
   "execution_count": 59,
   "id": "f81a1a57-d7b4-4b06-8dcd-25d9be07592b",
   "metadata": {},
   "outputs": [
    {
     "data": {
      "text/plain": [
       "[0, 6]"
      ]
     },
     "execution_count": 59,
     "metadata": {},
     "output_type": "execute_result"
    }
   ],
   "source": [
    "[ i for i in range(8) if i%2 ==0 if i%3 ==0 ] # We can also put two conditions two if statements. elif won't work."
   ]
  },
  {
   "cell_type": "code",
   "execution_count": 62,
   "id": "3d1f4c12-6a4b-4f95-b753-45048be9fbfc",
   "metadata": {},
   "outputs": [
    {
     "data": {
      "text/plain": [
       "[0, 6]"
      ]
     },
     "execution_count": 62,
     "metadata": {},
     "output_type": "execute_result"
    }
   ],
   "source": [
    "l = []\n",
    "\n",
    "for i in range(8):\n",
    "    if i%2 == 0 and i%3 ==0:\n",
    "        l.append(i)\n",
    "\n",
    "l\n",
    "        \n"
   ]
  },
  {
   "cell_type": "code",
   "execution_count": 67,
   "id": "04c0e300-fa38-48e8-9a30-5f5dedb02112",
   "metadata": {},
   "outputs": [
    {
     "data": {
      "text/plain": [
       "['test', 'yes', '2', 'test', 'test', 'test', 'test', 'test', 'test', 'test']"
      ]
     },
     "execution_count": 67,
     "metadata": {},
     "output_type": "execute_result"
    }
   ],
   "source": [
    "l = []\n",
    "for i in range(10):\n",
    "    l.append(i)\n",
    "\n",
    "['yes' if i==1 else '2' if i ==2 else 'test' for i in range(10)] # in this place if can be considered as elif. "
   ]
  },
  {
   "cell_type": "code",
   "execution_count": 74,
   "id": "9ae3874e-c79f-420a-abd3-9b12e5a3599e",
   "metadata": {},
   "outputs": [
    {
     "name": "stdout",
     "output_type": "stream",
     "text": [
      "CPU times: total: 0 ns\n",
      "Wall time: 1.08 ms\n"
     ]
    },
    {
     "data": {
      "text/plain": [
       "['test', 'yes', '2', 'test', 'test', 'test', 'test', 'test', 'test', 'test']"
      ]
     },
     "execution_count": 74,
     "metadata": {},
     "output_type": "execute_result"
    }
   ],
   "source": [
    "%%time # to check time taken in the code.\n",
    "l = []\n",
    "for i in range(10):\n",
    "    if i==1:\n",
    "        l.append('yes')\n",
    "    elif i==2:\n",
    "        l.append('2')\n",
    "    else:\n",
    "        l.append('test')\n",
    "\n",
    "l"
   ]
  },
  {
   "cell_type": "code",
   "execution_count": null,
   "id": "9754938e-2c86-4f77-aa58-0f7c2979a73e",
   "metadata": {},
   "outputs": [],
   "source": []
  }
 ],
 "metadata": {
  "kernelspec": {
   "display_name": "Python 3 (ipykernel)",
   "language": "python",
   "name": "python3"
  },
  "language_info": {
   "codemirror_mode": {
    "name": "ipython",
    "version": 3
   },
   "file_extension": ".py",
   "mimetype": "text/x-python",
   "name": "python",
   "nbconvert_exporter": "python",
   "pygments_lexer": "ipython3",
   "version": "3.11.7"
  }
 },
 "nbformat": 4,
 "nbformat_minor": 5
}
