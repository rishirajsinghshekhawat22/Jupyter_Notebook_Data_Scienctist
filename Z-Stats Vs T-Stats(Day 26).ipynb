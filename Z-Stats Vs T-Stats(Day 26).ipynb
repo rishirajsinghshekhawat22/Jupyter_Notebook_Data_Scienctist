{
 "cells": [
  {
   "cell_type": "markdown",
   "id": "7014cff0-c66f-4bdc-9e9b-f87a183d9448",
   "metadata": {},
   "source": [
    "# Central Limit Theoram and it's usage."
   ]
  },
  {
   "cell_type": "markdown",
   "id": "5f13b9c0-d926-4ff5-b141-614de9082480",
   "metadata": {},
   "source": [
    "Central Limit Theoram (CLT)\n",
    "When we collect the data, there are possibilty that we will not be able to see the normal distribution inside the dataset. CLT says that sampling of the distribution of a mean of a random sample drawn from any popultion is approximately normal for a sufficient large sample a large sample the more closely the sampling distribution of x will be resembled with the normal distribution."
   ]
  },
  {
   "cell_type": "markdown",
   "id": "ea7e9bfc-89bb-4a0c-abc6-a3bf7ba54f12",
   "metadata": {},
   "source": [
    "Problem Statement: When we roll 2 dices: we can get 1,2,3,4,5,6 from one dice and same from the second dice.\n",
    "Combinations And Mean\n",
    "1,1 1\n",
    "1,2 1.5 \n",
    "1,3 2\n",
    "1,4 2.5\n",
    "1,5 3\n",
    "1,6 3.5\n",
    "2,1 1.5\n",
    "2,2 2\n",
    "2,3 2.5\n",
    "2,4 3\n",
    "2,5 3.5\n",
    "2,6 4\n",
    "3,1 2\n",
    "3,2 2.5\n",
    "3,3 3\n",
    "3,4 3.5\n",
    "3,5 4\n",
    "3,6 4.5\n",
    "4,1 2.5\n",
    "4,2 3\n",
    "4,3 3.5\n",
    "4,4 4\n",
    "4,5 4.5\n",
    "4,6 5\n",
    "5,1 3\n",
    "5,2 3.5 \n",
    "5,3 4\n",
    "5,4 4.5\n",
    "5,5 5\n",
    "5,6 5.5\n",
    "6,1 3.5\n",
    "6,2 4\n",
    "6,3 4.5\n",
    "6,4 5\n",
    "6,5 5.5\n",
    "6,6 6\n",
    "\n",
    "CLT says that if we are not able get the normal distribution tendency from dices, we can do one thing, try to collect sample out of the population of a sufficent large size then if we are trying to draw mean of the sample . Mean will show you normal distribution. It called CLT\n"
   ]
  },
  {
   "cell_type": "markdown",
   "id": "dca2178f-0fb9-430e-8eb0-7c52b64e1402",
   "metadata": {},
   "source": [
    "Histogram \n",
    "x axis = Distribution range.\n",
    "y axis = frequency of the distribution.\n",
    "\n",
    "When we will make a histogram of the data, it will create normal distribution curve.\n",
    "\n",
    "CLT says we should get the mean of the data and then when we create histogram, it will give normal distributed curve.\n",
    "\n",
    "We should take large number of sample, at least 30+ data."
   ]
  },
  {
   "cell_type": "markdown",
   "id": "fd8920a7-7618-4928-b400-44a33cdbfac5",
   "metadata": {},
   "source": [
    "Mean Claimed = 500\n",
    "Sample = 100\n",
    "Actual Mean And SD = 490 & 30\n",
    "Significance level/Alpha = 5%\n",
    "Confidence = 1- Alpha 0.95"
   ]
  },
  {
   "cell_type": "markdown",
   "id": "e74ab97e-d9f6-4ad9-a8f1-1b09fa3744fa",
   "metadata": {},
   "source": [
    "# What is hypothesis \n",
    "\n",
    "When we have a agree, disagree situation. We build two hypothesis, null and alternate hypothesis. Null is claimed and is positive and alternative hypothesis is negative.\n",
    "\n",
    "Examples: 100k 0.5 mm straw. \n",
    "There are two ways to do hypothesis test : One tailed test and two tailed test.\n",
    "\n",
    "If null is Lesser than 0.5mm, we will check only more than 0.5mm, it is a one tailed test.\n",
    "\n",
    "If null is 0.5mm, we will check lesser and more than 0.5mm, it is a two tailed test.\n",
    "\n",
    "\n",
    "# Crtitical Region == Alpha\n",
    "It is a region in a sample space in which if calculated value lies then we reject null hypothesis.\n",
    "\n",
    "If something lies inside critical region we will reject null hypothesis if it lies outside the critical region, we will approve null hypothesis and will reject alternate one.\n",
    "\n",
    "In two tailed test, we will use alpha/2. In one tailed test, we will use alpha.\n",
    "\n",
    "# Confusion Matrix: \n",
    "\n",
    "# Type One Error And Type Two Error\n",
    "\n",
    "False Positive Error == Type One Error \n",
    "False Negative Error == Type Two Error\n",
    "\n",
    "Alpha == Size of critical region == Significance level.\n",
    "Power Of test = 1- Beta\n",
    "\n",
    "Alpha  ==  Probability of committing Type 1 error.\n",
    "Beta == Probability of committing Type 2 error.\n"
   ]
  },
  {
   "cell_type": "markdown",
   "id": "e1dad27e-805d-4d79-9ff9-173e155e20ab",
   "metadata": {},
   "source": [
    "# Problem Statement \n",
    "1:57\n"
   ]
  },
  {
   "cell_type": "code",
   "execution_count": null,
   "id": "b387d618-95f7-4db7-81b5-a39bddf2de89",
   "metadata": {},
   "outputs": [],
   "source": [
    "Mean Claimed = 500 # Population Mean\n",
    "Sample = 100 # Sample Size\n",
    "Actual Mean And SD = 490 & 30 # Sample Mean\n",
    "Significance level/Alpha = 5% || o.o5%\n",
    "Confidence = 1- Alpha 0.95\n",
    "\n"
   ]
  }
 ],
 "metadata": {
  "kernelspec": {
   "display_name": "Python 3 (ipykernel)",
   "language": "python",
   "name": "python3"
  },
  "language_info": {
   "codemirror_mode": {
    "name": "ipython",
    "version": 3
   },
   "file_extension": ".py",
   "mimetype": "text/x-python",
   "name": "python",
   "nbconvert_exporter": "python",
   "pygments_lexer": "ipython3",
   "version": "3.11.7"
  }
 },
 "nbformat": 4,
 "nbformat_minor": 5
}
