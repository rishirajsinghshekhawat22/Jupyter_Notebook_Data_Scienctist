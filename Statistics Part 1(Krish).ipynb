{
 "cells": [
  {
   "cell_type": "markdown",
   "id": "76325e84-e486-43c1-898d-e69b1f030561",
   "metadata": {},
   "source": [
    "# What is Statistics:\n",
    "\n",
    "Branch of science which involves collecting,exploring, visualizing, anaylyzing data in large quantities, so that we can come up with solving various use cases and conclusions.\n",
    "\n",
    "Final goal is to come up with meaningful information."
   ]
  },
  {
   "cell_type": "markdown",
   "id": "506a26bd-1adb-4f6d-a5a2-dd464b182e73",
   "metadata": {},
   "source": [
    "# We will learn today:\n",
    "1. Statistics\n",
    "2. Descriptive and Inferential Statistics\n",
    "3. Population\n",
    "4. Sample\n",
    "5. Sampling Techniques\n",
    "6. Measure of Central Tendency\n",
    "7. Measure of Dispersion\n",
    "8. Probability\n",
    "9. Permutaion And Combination\n",
    "\n"
   ]
  },
  {
   "cell_type": "markdown",
   "id": "680ee320-b7c3-481e-90d0-304c93f2194d",
   "metadata": {},
   "source": [
    "# Types of Statistics:\n",
    "1. Descriptive : It focuses on analyzing, exploring, visualizing the data using different techniques **to understand the data**. (Organizing and summarizing the data)\n",
    "e.g., Histogram, bar, pie graph, pdf, scatter plots, different graphs.\n",
    "PowerBI, Tableau, Matplotlip, Seaborn work on this concept.\n",
    "\n",
    "2. Inferential : From population of data, from it we take sample of data and then we perform different **experiments** and give **conclusion**\n",
    "e.g., Hypothesis testing(Null and Alternate Hypothesis), p-value, t-test, f-test, z-test, chi square test.\n",
    "e.g., Class A in an University A has an average age of 23.\n",
    "We will perform techniques and reach to the conclusion whether University B's Class A has same age group.\n",
    "\n",
    "With both these techniques, we can make decision."
   ]
  },
  {
   "cell_type": "markdown",
   "id": "447d887b-69c6-41f0-9776-20b218233a24",
   "metadata": {},
   "source": [
    "# Population And Sample\n",
    "\n",
    "Exit Poll : In case of election, we do not reach out to entire population but they will pick up samples from various regions. It may go wrong, that's why we go for Hypothesis Testing.\n",
    "\n",
    "Population is denoted by **N**.\n",
    "Sample if denoted by **n**."
   ]
  },
  {
   "cell_type": "markdown",
   "id": "f1688b48-63ce-4d53-b8ca-b7aa65bdc309",
   "metadata": {},
   "source": [
    "# Sampling Techniques\n",
    "1. **Random Sampling** : When we choose samples randomly. Disadvantages: Overlapping (Repeatation), For specefic usecase this won't work (Like Data Science survey or any specefic domain survey.)\n",
    "2. **Stratified Sampling**: Population is divided into **STRATAS**.Stratified = Layers. Division of the population basis on **sub groups**. e.g., Cosmetic survey will happen on Women, exit poll will occurr on Men. Sub Groups e.g., Male, Female\n",
    "3. **Systematic Sampling**: e.g., Person standing outside the mall asking **details from the Nth person**. It means, they will ask the details from the Nth person.\n",
    "4. **Clustering Sampling**: We will be having **set of groups**. We will create set of groups basis on attributes. e.g., We are an Ecommerce Company and wants to give promotional activity based on expenditure. We can create set of groups basis on thier expense behaviour. Here we are targeting cluster of customers."
   ]
  },
  {
   "cell_type": "markdown",
   "id": "2440f4e6-cd94-443f-81a5-3af8841d3a71",
   "metadata": {},
   "source": [
    "Primary ask of Machine Learning is Data.\n",
    "We can't have entire population data but sample data.\n",
    "{Train Test Split}: Our models will be train on training data and test will be on testing data.\n",
    "We can also do \n",
    "Random Split, Stratified Split, Cluster Split, Cross Validation Split."
   ]
  },
  {
   "cell_type": "markdown",
   "id": "823bab8b-3eeb-4fbf-817b-a93d3ad10d89",
   "metadata": {},
   "source": [
    "# Measure Of Central Tendency\n",
    "1. Mean\n",
    "2. Median\n",
    "3. Mode\n",
    "\n",
    "Data1 = 1,2,3,4,5\n",
    "Mean = 3\n",
    "\n",
    "Data2=1,2,3,4,5,100\n",
    "Mean = 19.16\n",
    "\n",
    "100 is an outlier here. Outlier mean which is totally different than the existing data.\n",
    "\n",
    "e.g., once a million transaction that is fraud.\n",
    "\n",
    "Whenever we have Outliers, we do not use mean to find out the average.\n",
    "\n",
    "Data2 = 1,2,3,4,5,100\n",
    "\n",
    "We will use Median in case of outliers instead Mean. Arrange the data in the ascending order and then take the center value.\n",
    "Median = 3.5\n",
    "**Median doesn't get impacted by outliers.**\n",
    "\n",
    "\n",
    "Median_example = 1,5,4,3,7,8,100\n",
    "Sorted = 1,3,4,5,7,8,100\n",
    "Median = 5\n",
    "\n",
    "Data = 13,5,7,10,100,110,115,120\n",
    "Mean = 68.75\n",
    "Sorted_Data = 5,7,10,13,100,110,115,120\n",
    "Median = 56.5\n",
    "\n",
    "**Mode**\n",
    "\n",
    "Data = 3,3,3,4,4,4,5,1,2,100\n",
    "In mode we find most frequent Occurring element.\n",
    "Mode = 3 And 4"
   ]
  },
  {
   "cell_type": "markdown",
   "id": "121c6b37-a831-4ad6-9211-326e358155c7",
   "metadata": {},
   "source": [
    "# Random Variable\n",
    "\n",
    "Example: \n",
    "We have a pack of cards. When we distribute it amonst two people, chances of one getting king of heart is random phenomenon. \n",
    "\n",
    "Tossing a coin: Output head or tail is a random phenomenon.\n",
    "\n",
    "Types of Random Variable:\n",
    "1. ****Catergorical Variable/Qualitative Variable*** : Gender (Male, Female), Tossing a coin (Head, Tail),\n",
    "   There are two types of Categorical Variables:\n",
    "   1. **Nominal**: Where ranking is not important.\n",
    "   2. **Ordinal**: Ranking is important.\n",
    "3. ***Continous Variable/Quantative Variable*** : Where we have continous values.\n",
    "   e.g. time, weight.\n",
    "Types of continous variable:\n",
    "* **Discrete quantative variable** : We don't have fraction here. e.g., Age {27,88,96,100}\n",
    "* **Continous quantative variable** : Value should be a real number. It can have fractional values.(e.g., Height, Weight)\n",
    "  "
   ]
  },
  {
   "cell_type": "markdown",
   "id": "cc976559-c7dd-459b-88d3-23ac10f41c30",
   "metadata": {},
   "source": [
    "# When should we use Mode & Median\n",
    "\n",
    "Median can only be applied for numeric values. Mode we can use categorical values as well. We can find the most occurring value and replace it with NAN using Mode.\n",
    "\n",
    "Data with outliers we can use Median. For Mean, we should remove outliers.\n"
   ]
  },
  {
   "cell_type": "markdown",
   "id": "362de61c-c680-40f6-bf85-0d3e523d0d20",
   "metadata": {},
   "source": [
    "# Independent And Dependent Samples\n",
    "\n",
    "In AQI(Air Quality Index) we may be multiple features.\n",
    "**Independent Features**: Temperature, Rainfall, CO2, CO, NO2, Humidity\n",
    "**Dependent Features**: AQI output. It's called dependent feature because it depends on Independent features."
   ]
  },
  {
   "cell_type": "code",
   "execution_count": null,
   "id": "5af0c049-07fa-49b5-ab5a-dc4350247ffd",
   "metadata": {},
   "outputs": [],
   "source": []
  }
 ],
 "metadata": {
  "kernelspec": {
   "display_name": "Python 3 (ipykernel)",
   "language": "python",
   "name": "python3"
  },
  "language_info": {
   "codemirror_mode": {
    "name": "ipython",
    "version": 3
   },
   "file_extension": ".py",
   "mimetype": "text/x-python",
   "name": "python",
   "nbconvert_exporter": "python",
   "pygments_lexer": "ipython3",
   "version": "3.11.7"
  }
 },
 "nbformat": 4,
 "nbformat_minor": 5
}
