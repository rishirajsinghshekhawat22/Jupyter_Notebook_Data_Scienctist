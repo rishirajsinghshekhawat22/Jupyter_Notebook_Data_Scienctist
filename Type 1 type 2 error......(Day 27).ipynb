{
 "cells": [
  {
   "cell_type": "markdown",
   "id": "abb8ee2b-d76c-42f1-8397-4f833d4c2d88",
   "metadata": {},
   "source": [
    "Now that we have got the theory behind Hypothesis testing, let's see different types of tests that are used for testing. We have already seen exaples on finding z-scores and t-score, we will see how they are used in the testing scenario.\n",
    "\n",
    "General points for selection type of tests:\n",
    "samplesize     PopulationVariance     Normalityofsample                 samplevariance                        TypeOfTest\n",
    "Large(>30)           Known              Normal/Non Normal                                                      Z-Test\n",
    "Large(>30)           Unknown            Normal                               T-Score                           T-Test\n",
    "Large(>30)           Unknown            Unknown                              Z-Score                           Z-Test\n",
    "Small(<30)           Known              Normal                                                                 Z-Test\n",
    "Small(<30)           Unknown            Normal                               T-Score                           T-Test"
   ]
  },
  {
   "cell_type": "markdown",
   "id": "cee95d92-0fcd-4ad3-9c27-4b5bed308676",
   "metadata": {},
   "source": [
    "# T-Test / T-Table || Student T Distribution."
   ]
  },
  {
   "cell_type": "markdown",
   "id": "ae01dca8-01e5-41d5-b76f-762744fae590",
   "metadata": {},
   "source": [
    "# Problem Statement\n",
    "\n",
    "Mean = 1000 hours (Old Company) Population Mean.\n",
    "Sample = 120 with an average = 1100 hours, SD = 90 hours. (New Company) Sample Mean.\n",
    "Should the company give the contract to this new company at a 1% significance level?\n",
    "\n",
    "\n",
    "Null Hypothesis = If new company is giving better than 100 hours expectancy.\n",
    "\n",
    "Alternate Hypothesis = Not giving >1000 hours.\n",
    "\n",
    "Based on Z-Statistics, we can solve it.\n",
    "\n",
    "# Solution\n",
    "\n",
    "z = Sample Mean-Population Mean/Standard Error\n",
    "= 1100-1000/8.22\n",
    "12.16\n",
    "\n",
    "Standard Error = SD/Root of n\n",
    "90/root of 120 = 8.22\n",
    "\n",
    "# Now we have to find out which test to do, Left or right?\n",
    "\n",
    "Z(0.01) =  -2.3 (We searched it in the Z Table.) # Critical Area\n",
    "z(Test) = 12.16\n",
    "\n",
    "We will reject null hypothesis only when we get z(test) inside critical area.  critical area == z(0.01)\n",
    "\n",
    "Z(test) > z(critical region)\n"
   ]
  },
  {
   "cell_type": "markdown",
   "id": "ba1b2426-06ab-41bd-bed7-7151aef6d6d5",
   "metadata": {},
   "source": [
    "# T-Table\n",
    "\n",
    "Two samples from state A & B, \n",
    "Height of 1000 men and 2000 men == 76.5 and 77 inches.\n",
    "SD for both = 7\n",
    "Can we assume the mean height of both sample can be regard same at 5% level of significance?\n",
    "\n",
    "Sample A = 1000\n",
    "Sample B = 2000\n",
    "Mean A = 76.5\n",
    "Mean B = 77\n",
    "SD = 7\n",
    "\n",
    "Null Hypothesis == Sample A Mean == Sample B Mean\n",
    "Alternate Hypothesis == A Mean != B Mean\n",
    "\n",
    "Z_Test = Sample Mean - Population Mean/Standard Error\n",
    "=76.5-77/0.27 = -1.85\n",
    "\n",
    "z()\n",
    "\n",
    "Combined Standard Error in this case == Root of sample1 square/n1 + Root of sample2 square/n2\n",
    "\n",
    "= root ot 7 square/1000 + 7 square/2000\n",
    "= 0.27"
   ]
  },
  {
   "cell_type": "markdown",
   "id": "16c6b4a8-9230-493c-ab40-8e2c82f6d7b8",
   "metadata": {},
   "source": [
    "# Problem Statement\n",
    "Population Mean of tyres = 18000KM when used under normal driving condition.\n",
    "Sample = 16\n",
    "Alpha = 1%\n",
    "Confidencce Level = 99%\n",
    "\n",
    "Sample Mean and SD == 20000km and 6000km \n",
    "\n",
    "Assuming that the life of the tyres is normally distributed, test the claim of the manufacture at 1% level significance. Construct the confidence interval also.\n",
    "\n",
    "Null Hypothesis == Mean == 18000km\n",
    "Alternate Hypothesis == Mean !=18000km\n",
    "\n",
    "In this we shall do T Test.\n",
    "\n",
    "T_Test = Sample_Mean-Population_Mean/Standard Error  = 20000-18000/1500\n",
    "= 1.33 (We will look this into T Table)\n",
    "\n",
    "\n",
    "SE = SD/Root of n = 6000/root of 16 = 1500\n",
    "\n",
    "In T Table\n",
    "df = Degree Of Freedom. == sample-1 == 16-1 =15 We will see the intersection of df and alpha\n",
    "\n",
    "t(1%)=2.947\n"
   ]
  },
  {
   "cell_type": "markdown",
   "id": "0da928d0-77fd-4251-97d0-cc0f278914c6",
   "metadata": {},
   "source": [
    "# Problem Statement\n",
    "\n",
    "Mean of two samples 10 and 8 are 210.40 and 208.92 respectively.\n",
    "\n",
    "Sample_1 = 10, Mean = 210., Square of Deviation == 26.94\n",
    "Sample_2 = 8,  Mean = 208.92. Square of Deviation == 24.50\n",
    "Assuming population with equal variance, can we consider the normal population have an equal mean? (Significance level = 5%)\n"
   ]
  },
  {
   "cell_type": "markdown",
   "id": "c01b737f-4d9b-4c8d-8fbd-0e44906e6349",
   "metadata": {},
   "source": [
    "# Value which we get inside Z and T table is called P-Value(Probability Value)"
   ]
  }
 ],
 "metadata": {
  "kernelspec": {
   "display_name": "Python 3 (ipykernel)",
   "language": "python",
   "name": "python3"
  },
  "language_info": {
   "codemirror_mode": {
    "name": "ipython",
    "version": 3
   },
   "file_extension": ".py",
   "mimetype": "text/x-python",
   "name": "python",
   "nbconvert_exporter": "python",
   "pygments_lexer": "ipython3",
   "version": "3.11.7"
  }
 },
 "nbformat": 4,
 "nbformat_minor": 5
}
