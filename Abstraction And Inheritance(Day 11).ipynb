{
 "cells": [
  {
   "cell_type": "code",
   "execution_count": 1,
   "id": "47ace927-3829-445d-a6df-2c1a19c3ee33",
   "metadata": {},
   "outputs": [],
   "source": [
    "#Abscration And Inheritance"
   ]
  },
  {
   "cell_type": "code",
   "execution_count": 2,
   "id": "fdec5843-d38b-4629-a9ca-d661ec351f0f",
   "metadata": {},
   "outputs": [],
   "source": [
    "# Abscration: Private, Public, Protected (We can control the code in other languages).\n",
    "# In Python\n",
    "# Tying to keep the abstraction safe."
   ]
  },
  {
   "cell_type": "code",
   "execution_count": 38,
   "id": "efefa6d6-3fe2-4555-9b6d-e01b381eafff",
   "metadata": {},
   "outputs": [],
   "source": [
    "class test:\n",
    "    def __init__(self,a,b,c,d):\n",
    "        self.__a = a # double underscore before a variable will make it a private variable, a single underscore will make it a protected variable. (like other programming language, python doesn't have private, public, protected concept).\n",
    "        self.b = b\n",
    "        self.c = c\n",
    "        self.d = d\n",
    "    def test_custom(self,v,):\n",
    "        return v-self.__a\n",
    "    def __str__(self):\n",
    "        return \"this is my test code for abstraction\"\n",
    "\n"
   ]
  },
  {
   "cell_type": "code",
   "execution_count": 39,
   "id": "c66cb468-8246-47e1-83e5-116e80dca267",
   "metadata": {},
   "outputs": [
    {
     "data": {
      "text/plain": [
       "5"
      ]
     },
     "execution_count": 39,
     "metadata": {},
     "output_type": "execute_result"
    }
   ],
   "source": [
    "o = test(5,4,5,6)\n",
    "o.test_custom(10)"
   ]
  },
  {
   "cell_type": "code",
   "execution_count": 40,
   "id": "5de7a8a4-7c36-42b7-8459-77d7e2e3b982",
   "metadata": {},
   "outputs": [
    {
     "name": "stdout",
     "output_type": "stream",
     "text": [
      "this is my test code for abstraction\n"
     ]
    }
   ],
   "source": [
    "print(o)"
   ]
  },
  {
   "cell_type": "code",
   "execution_count": 41,
   "id": "b000e09e-32f2-4f27-ba91-037974299757",
   "metadata": {},
   "outputs": [
    {
     "ename": "AttributeError",
     "evalue": "'test' object has no attribute '__a'",
     "output_type": "error",
     "traceback": [
      "\u001b[1;31m---------------------------------------------------------------------------\u001b[0m",
      "\u001b[1;31mAttributeError\u001b[0m                            Traceback (most recent call last)",
      "Cell \u001b[1;32mIn[41], line 1\u001b[0m\n\u001b[1;32m----> 1\u001b[0m o\u001b[38;5;241m.\u001b[39m__a\n",
      "\u001b[1;31mAttributeError\u001b[0m: 'test' object has no attribute '__a'"
     ]
    }
   ],
   "source": [
    "o.__a"
   ]
  },
  {
   "cell_type": "code",
   "execution_count": 42,
   "id": "49897860-9217-44bd-ab2f-07da85731865",
   "metadata": {},
   "outputs": [],
   "source": [
    "# Notes\n",
    "# single underscore before a variable will make it protected.\n",
    "# double underscore before a variable will make it private."
   ]
  },
  {
   "cell_type": "code",
   "execution_count": 43,
   "id": "9b36692f-5f94-4fb0-a8d5-380cc3baaacc",
   "metadata": {},
   "outputs": [
    {
     "data": {
      "text/plain": [
       "5"
      ]
     },
     "execution_count": 43,
     "metadata": {},
     "output_type": "execute_result"
    }
   ],
   "source": [
    "# To call a private variable \n",
    "\n",
    "o._test__a # We can call the private variable with class not solely. We need to put _class__variablename"
   ]
  },
  {
   "cell_type": "code",
   "execution_count": 44,
   "id": "b3ea7cc5-9634-4f29-a8d6-97b233f38f26",
   "metadata": {},
   "outputs": [],
   "source": [
    "# Inheritance\n",
    "# Inherit class always to child class to take properties of parent class. (all the variables, functions, methods etc)"
   ]
  },
  {
   "cell_type": "code",
   "execution_count": 52,
   "id": "a856635a-0d46-432c-ab20-4db1c4a90868",
   "metadata": {},
   "outputs": [
    {
     "data": {
      "text/plain": [
       "4"
      ]
     },
     "execution_count": 52,
     "metadata": {},
     "output_type": "execute_result"
    }
   ],
   "source": [
    "class test1(test): # new class test1 is calling test(old class)\n",
    "    def __init__(self, j, *args): # meaning of *args here in this line of code is that it will inherit all the parameters of parent class give above. We can also write same variables as well like a,b,c,d\n",
    "        super(test1,self).__init__(*args) # super of test1 is test. super(test,self) = we are considering this a test(parent class). In the line second we have called parent class variables and to initialize them we should use __init__(*args) [1st part super(test1,self) = test(parent class) 2nd __init__(*args) is to initialize parent class variables.] \n",
    "        self.j = j\n",
    "        \n",
    "m = test1(3,4,5,6,7) # we are calling test1 and it will call test internally and will invoke all features of parent class.\n",
    "m._test__a"
   ]
  },
  {
   "cell_type": "code",
   "execution_count": 66,
   "id": "b0ad0d01-66f6-4573-90ce-f25e157f3a50",
   "metadata": {},
   "outputs": [],
   "source": [
    "class school:\n",
    "    def __init__(self,a,b,c,d):\n",
    "        self.__a = a\n",
    "        self.b = b\n",
    "        self.c = c\n",
    "        self.d = d"
   ]
  },
  {
   "cell_type": "code",
   "execution_count": 67,
   "id": "50bb72f7-3d39-4eba-9eed-19e04d3b2cfc",
   "metadata": {},
   "outputs": [],
   "source": [
    "springdales = school('rishi','happy','mohan','ram')"
   ]
  },
  {
   "cell_type": "code",
   "execution_count": 72,
   "id": "6ac445db-51f4-48ee-90b7-f89225933f26",
   "metadata": {},
   "outputs": [
    {
     "data": {
      "text/plain": [
       "'rishi'"
      ]
     },
     "execution_count": 72,
     "metadata": {},
     "output_type": "execute_result"
    }
   ],
   "source": [
    "springdales._school__a"
   ]
  },
  {
   "cell_type": "code",
   "execution_count": 69,
   "id": "57f8bd8a-e813-4d8c-ac10-2c21e7b1c07d",
   "metadata": {},
   "outputs": [],
   "source": [
    "class student(school):\n",
    "    def __init__(self,r, *args):\n",
    "        super(student,self).__init__(*args)\n",
    "        self.r = r\n",
    "    "
   ]
  },
  {
   "cell_type": "code",
   "execution_count": 70,
   "id": "59f69822-9f15-4e25-a3ae-3ba81ff3980e",
   "metadata": {},
   "outputs": [],
   "source": [
    "rishiraj = student(5,4,6,7,7)"
   ]
  },
  {
   "cell_type": "code",
   "execution_count": 64,
   "id": "e3b7637b-c8f6-46f8-8762-33a4e995de0f",
   "metadata": {},
   "outputs": [
    {
     "data": {
      "text/plain": [
       "5"
      ]
     },
     "execution_count": 64,
     "metadata": {},
     "output_type": "execute_result"
    }
   ],
   "source": [
    "rishiraj.r"
   ]
  },
  {
   "cell_type": "code",
   "execution_count": 76,
   "id": "53f0722e-5753-4e19-926d-80b0943ca09c",
   "metadata": {},
   "outputs": [
    {
     "data": {
      "text/plain": [
       "4"
      ]
     },
     "execution_count": 76,
     "metadata": {},
     "output_type": "execute_result"
    }
   ],
   "source": [
    "rishiraj._school__a"
   ]
  },
  {
   "cell_type": "code",
   "execution_count": 77,
   "id": "c9b85854-008e-4370-871a-b91605465a3a",
   "metadata": {},
   "outputs": [],
   "source": [
    "# types of inheritance\n",
    "# one to one\n",
    "# A and B is being inherited by Class C\n",
    "# A is being inherited by B and C\n",
    "# A is being inherited by B and B is inherited by C"
   ]
  },
  {
   "cell_type": "code",
   "execution_count": 78,
   "id": "3da81453-8034-4cbe-8ab3-158b12b42537",
   "metadata": {},
   "outputs": [],
   "source": [
    "# task \n",
    "# crate test(create a function name a()), test1(create a function name a()) and test2 class and inherit\n",
    "\n",
    "# create 3 classes and functions in first 2 classes, create new class and inherit 1st class properties and function and then inherit second class function as well"
   ]
  },
  {
   "cell_type": "code",
   "execution_count": 50,
   "id": "62f2b7c1-6ace-40bc-9b51-fd077c135eef",
   "metadata": {},
   "outputs": [],
   "source": [
    "# __init__ is required only when variable passing is required\n",
    "\n",
    "class rishi:\n",
    "    def __init__(self):\n",
    "        pass\n",
    "    def a(self):\n",
    "        print ('this is a rishi class')"
   ]
  },
  {
   "cell_type": "code",
   "execution_count": 51,
   "id": "24a78b83-c820-4dab-930b-790abf677369",
   "metadata": {},
   "outputs": [],
   "source": [
    "class rishi1:\n",
    "    def __init__(self):\n",
    "        pass\n",
    "    def a(self):\n",
    "        print ('this is a rishi1 class')"
   ]
  },
  {
   "cell_type": "code",
   "execution_count": 61,
   "id": "d7502bbf-1e41-4e43-acf7-42aa5305f181",
   "metadata": {},
   "outputs": [],
   "source": [
    "class childrishi(rishi,rishi1):\n",
    "    def func(self):\n",
    "        super(rishi,self).a()\n",
    "        super(rishi1,self).a()\n",
    "        "
   ]
  },
  {
   "cell_type": "code",
   "execution_count": 65,
   "id": "6d011376-b08e-4f31-b335-2c1b6b31d375",
   "metadata": {},
   "outputs": [
    {
     "name": "stdout",
     "output_type": "stream",
     "text": [
      "this is a rishi class\n",
      "this is a rishi1 class\n"
     ]
    },
    {
     "ename": "AttributeError",
     "evalue": "'super' object has no attribute 'a'",
     "output_type": "error",
     "traceback": [
      "\u001b[1;31m---------------------------------------------------------------------------\u001b[0m",
      "\u001b[1;31mAttributeError\u001b[0m                            Traceback (most recent call last)",
      "Cell \u001b[1;32mIn[65], line 3\u001b[0m\n\u001b[0;32m      1\u001b[0m c \u001b[38;5;241m=\u001b[39m childrishi()\n\u001b[0;32m      2\u001b[0m c\u001b[38;5;241m.\u001b[39ma()\n\u001b[1;32m----> 3\u001b[0m c\u001b[38;5;241m.\u001b[39mfunc()\n",
      "Cell \u001b[1;32mIn[61], line 4\u001b[0m, in \u001b[0;36mchildrishi.func\u001b[1;34m(self)\u001b[0m\n\u001b[0;32m      2\u001b[0m \u001b[38;5;28;01mdef\u001b[39;00m \u001b[38;5;21mfunc\u001b[39m(\u001b[38;5;28mself\u001b[39m):\n\u001b[0;32m      3\u001b[0m     \u001b[38;5;28msuper\u001b[39m(rishi,\u001b[38;5;28mself\u001b[39m)\u001b[38;5;241m.\u001b[39ma()\n\u001b[1;32m----> 4\u001b[0m     \u001b[38;5;28msuper\u001b[39m(rishi1,\u001b[38;5;28mself\u001b[39m)\u001b[38;5;241m.\u001b[39ma()\n",
      "\u001b[1;31mAttributeError\u001b[0m: 'super' object has no attribute 'a'"
     ]
    }
   ],
   "source": [
    "c = childrishi()\n",
    "c.a()\n",
    "c.func()\n",
    "\n"
   ]
  },
  {
   "cell_type": "code",
   "execution_count": 138,
   "id": "4d99663f-ecd6-45e5-83b9-a273ec4aae75",
   "metadata": {},
   "outputs": [],
   "source": [
    "class happy:\n",
    "    def a(self):\n",
    "        return \"this is from happy\""
   ]
  },
  {
   "cell_type": "code",
   "execution_count": 139,
   "id": "e628dd14-a27c-47e9-810b-878450627ea9",
   "metadata": {},
   "outputs": [],
   "source": [
    "class happy1:\n",
    "    def a(self):\n",
    "        return 'this is from happy1'"
   ]
  },
  {
   "cell_type": "code",
   "execution_count": 144,
   "id": "e3cf597f-c8e0-4c7f-880c-51dd92d9cb9f",
   "metadata": {},
   "outputs": [],
   "source": [
    "class childhappy(happy,happy1):\n",
    "    def a(self):\n",
    "        result = happy.a(self)\n",
    "        result1=happy1.a(self)\n",
    "        return f'{result}\\n{result1}'"
   ]
  },
  {
   "cell_type": "code",
   "execution_count": 145,
   "id": "1403c3b3-784f-4c9a-a5e5-15ad9180f276",
   "metadata": {},
   "outputs": [],
   "source": [
    "ch = childhappy()\n",
    "print(ch.a())"
   ]
  },
  {
   "cell_type": "code",
   "execution_count": 146,
   "id": "d4a2e8b8-0676-4980-a4d2-27d3bba38c2c",
   "metadata": {},
   "outputs": [
    {
     "name": "stdout",
     "output_type": "stream",
     "text": [
      "this is from happy\n",
      "this is from happy1\n"
     ]
    }
   ],
   "source": [
    "\n",
    "\n",
    "\n",
    "class test:\n",
    "    def a(self):\n",
    "        print('this is from test class')\n",
    "\n",
    "class test1:\n",
    "    def a(self):\n",
    "        print('this is from test1 class')\n",
    "\n",
    "class test3(test1,test):\n",
    "    def func(self):\n",
    "        result = test.a(self)\n",
    "        result1 = test1.a(self)\n",
    "        print(f'{result}\\n{result1}')"
   ]
  },
  {
   "cell_type": "code",
   "execution_count": 23,
   "id": "a8031d91-762f-4c29-9b4f-b6d5f4473424",
   "metadata": {},
   "outputs": [
    {
     "data": {
      "text/plain": [
       "'INeuron was establised in 2018'"
      ]
     },
     "execution_count": 23,
     "metadata": {},
     "output_type": "execute_result"
    }
   ],
   "source": [
    "# in the below example calling parent using super and then initializing init method is not required because we have created a global variable and did not put it in init method.\n",
    "\n",
    "class Ineuron:\n",
    "    company_website = 'https://ineuron.ai/'\n",
    "    name = 'INeuron'\n",
    "\n",
    "    def contact_details(self):\n",
    "        return f'contact us at {self.company_website}'\n",
    "\n",
    "class Datascience(Ineuron):\n",
    "    def __init__(self):\n",
    "        self.year_of_establishment = 2018\n",
    "    def est_details(self):\n",
    "        return f'{self.name} was establised in {self.year_of_establishment}'\n",
    "\n",
    "ds = Datascience()\n",
    "\n",
    "ds.contact_details()\n",
    "ds.est_details()"
   ]
  },
  {
   "cell_type": "code",
   "execution_count": 24,
   "id": "65da70ea-b564-41c1-b6a6-55a8b5a1f678",
   "metadata": {},
   "outputs": [],
   "source": [
    "class OS:\n",
    "    multi_task = True\n",
    "    os_name = 'Window OS'\n",
    "    name = 'rishi'\n",
    "\n",
    "class windows(Ineuron,OS ): # whatever class we will write first, child class take input of that first and then will go to another class.\n",
    "    def __init__(self):\n",
    "        if self.multi_task is True:\n",
    "            print('multi task')\n",
    "        print (f'name is {self.name}')"
   ]
  },
  {
   "cell_type": "code",
   "execution_count": 25,
   "id": "16e5a93f-354c-4431-b080-cdb93689d8ae",
   "metadata": {},
   "outputs": [
    {
     "name": "stdout",
     "output_type": "stream",
     "text": [
      "multi task\n",
      "name is INeuron\n"
     ]
    },
    {
     "data": {
      "text/plain": [
       "'Window OS'"
      ]
     },
     "execution_count": 25,
     "metadata": {},
     "output_type": "execute_result"
    }
   ],
   "source": [
    "win = windows()\n",
    "\n",
    "win.os_name"
   ]
  },
  {
   "cell_type": "code",
   "execution_count": 26,
   "id": "e01abeaf-1adb-4849-89ac-88c4580a1862",
   "metadata": {},
   "outputs": [],
   "source": [
    "# task \n",
    "# crate test(create a function name a()), test1(create a function name a()) and test2 class and inherit\n",
    "\n",
    "# create 3 classes and functions in first 2 classes, create new class and inherit 1st class properties and function and then inherit second class function as well"
   ]
  },
  {
   "cell_type": "code",
   "execution_count": 1,
   "id": "a75b8a30-c8ab-4394-9418-0b639b0bce8a",
   "metadata": {},
   "outputs": [],
   "source": [
    "# Another example (Multi level inheritance)\n",
    "\n",
    "# In this example, class B is inheriting class A and class C is inheriting class B. We also are able to inherit class A from class C though it's not directly inherting it.\n",
    "\n",
    "class INeuron: #class A\n",
    "    num_of_courses = 12\n",
    "\n",
    "class Datascience(INeuron): # class B\n",
    "    course_type = 'Data Science'\n",
    "\n",
    "class AI(Datascience): # class C\n",
    "    def __init__(self):\n",
    "        self.company = 'INeuron'\n",
    "        print (f'{self.company} offers {self.num_of_courses} courses and {self.course_type} is the most famous amonst all')\n"
   ]
  },
  {
   "cell_type": "code",
   "execution_count": 2,
   "id": "c6dac5c7-19ef-4832-b09b-2b6e604dfd56",
   "metadata": {},
   "outputs": [
    {
     "name": "stdout",
     "output_type": "stream",
     "text": [
      "INeuron offers 12 courses and Data Science is the most famous amonst all\n"
     ]
    },
    {
     "data": {
      "text/plain": [
       "<__main__.AI at 0x1d6e5336a90>"
      ]
     },
     "execution_count": 2,
     "metadata": {},
     "output_type": "execute_result"
    }
   ],
   "source": [
    "AI = AI()\n",
    "AI"
   ]
  },
  {
   "cell_type": "code",
   "execution_count": 3,
   "id": "11370c8a-722e-4295-8ddb-2b51bf28f200",
   "metadata": {},
   "outputs": [],
   "source": [
    "# encapsulation\n",
    "# When we do not show our actual work to other people. We encapsulate it.\n",
    "# We have to call something from parent class but implementation should not be disposed."
   ]
  },
  {
   "cell_type": "code",
   "execution_count": 11,
   "id": "b2117768-69a9-4e69-8323-0de06b89847b",
   "metadata": {},
   "outputs": [],
   "source": [
    "class test:\n",
    "    def __init__(self,a,b,c):\n",
    "        self.a = a\n",
    "        self.b = b\n",
    "        self.c = c\n",
    "\n",
    "    def __str__(self):\n",
    "        return \"this is a return of test class\"\n",
    "\n",
    "class test1:\n",
    "    def __init__(self,a,b,c):\n",
    "        self.a = a\n",
    "        self.b = b\n",
    "        self.c = c\n",
    "\n",
    "    def __str__(self):\n",
    "        return \"this is a return of test1 class\"\n",
    "\n",
    "class test2:\n",
    "    def __init__(self,a,b,c):\n",
    "        self.a = a\n",
    "        self.b = b\n",
    "        self.c = c\n",
    "\n",
    "    def __str__(self):\n",
    "        return \"this is a return of test2 class\"\n",
    "\n",
    "class final:\n",
    "    def __init__(self,x,y,z):\n",
    "        self.x = x\n",
    "        self.y = y\n",
    "        self.z = z\n",
    "\n",
    "    def __str__(self):\n",
    "        \n",
    "        return f'{self.x} {self.y}{self.z}'"
   ]
  },
  {
   "cell_type": "code",
   "execution_count": 16,
   "id": "1d2781df-b988-4889-806f-a141f459ec6d",
   "metadata": {},
   "outputs": [],
   "source": [
    "t = test(1,2,3)\n",
    "t1 = test1(4,5,6)\n",
    "t2 = test2(7,8,9)\n",
    "f = (t,t1,58555)\n",
    "\n",
    "f_string = \"\\n\".join(str(i) for i in f)\n",
    "\n",
    "#  we are not calling variable of function directly here, we are calling the object outside, with this we can hide the implementation. \n",
    "# Objective is to hide the implementation. In this we do not inheritance but will call it directly through the object."
   ]
  },
  {
   "cell_type": "code",
   "execution_count": 17,
   "id": "3ffb82f6-d5f5-4d40-916e-76eb26d6f6f2",
   "metadata": {},
   "outputs": [
    {
     "name": "stdout",
     "output_type": "stream",
     "text": [
      "this is a return of test class\n",
      "this is a return of test1 class\n",
      "58555\n"
     ]
    }
   ],
   "source": [
    "print(f_string)"
   ]
  },
  {
   "cell_type": "code",
   "execution_count": null,
   "id": "8e6d333b-537d-43ec-ae2c-d74b8460db62",
   "metadata": {},
   "outputs": [],
   "source": [
    "# inhertiance : Make parent class implementation available to child class.\n",
    "# encapsulisation: Hide parent class implementation."
   ]
  },
  {
   "cell_type": "code",
   "execution_count": 1,
   "id": "87a067ae-df1d-454f-83cc-a7ef6c605555",
   "metadata": {},
   "outputs": [],
   "source": [
    "# Oops are of two types:\n",
    "#Composition and dynamic extension "
   ]
  },
  {
   "cell_type": "code",
   "execution_count": 5,
   "id": "2080935d-ce6a-4578-8dce-4d7f0a30834e",
   "metadata": {},
   "outputs": [],
   "source": [
    "class test:\n",
    "    def __init__(self,a,b,c,d):\n",
    "        self.a = a\n",
    "        self.b = b\n",
    "        self.c = c\n",
    "        self.d = d\n",
    "    def __str__(self):\n",
    "        return \"all the way from class test\""
   ]
  },
  {
   "cell_type": "code",
   "execution_count": 6,
   "id": "71649cbe-54ab-4e69-a169-87113c11be72",
   "metadata": {},
   "outputs": [],
   "source": [
    "class childtest(test):\n",
    "    def __init__(self, *args):\n",
    "        super(childtest,self).__init__(*args)\n",
    "        "
   ]
  },
  {
   "cell_type": "code",
   "execution_count": 7,
   "id": "75f5b6d8-8551-4b21-8445-67a0a183ae92",
   "metadata": {},
   "outputs": [],
   "source": [
    "ct = childtest(1,2,3,4)"
   ]
  },
  {
   "cell_type": "code",
   "execution_count": 13,
   "id": "ee7b5946-53ee-4c6e-be88-be6ab5e6677e",
   "metadata": {},
   "outputs": [
    {
     "name": "stdout",
     "output_type": "stream",
     "text": [
      "all the way from class test\n"
     ]
    }
   ],
   "source": [
    "print(ct)"
   ]
  },
  {
   "cell_type": "code",
   "execution_count": null,
   "id": "928fb19e-bd3d-4fef-b430-fd6ec004418c",
   "metadata": {},
   "outputs": [],
   "source": []
  }
 ],
 "metadata": {
  "kernelspec": {
   "display_name": "Python 3 (ipykernel)",
   "language": "python",
   "name": "python3"
  },
  "language_info": {
   "codemirror_mode": {
    "name": "ipython",
    "version": 3
   },
   "file_extension": ".py",
   "mimetype": "text/x-python",
   "name": "python",
   "nbconvert_exporter": "python",
   "pygments_lexer": "ipython3",
   "version": "3.11.7"
  }
 },
 "nbformat": 4,
 "nbformat_minor": 5
}
