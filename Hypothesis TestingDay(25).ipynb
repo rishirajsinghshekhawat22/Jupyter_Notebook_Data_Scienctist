{
 "cells": [
  {
   "cell_type": "code",
   "execution_count": 1,
   "id": "ae87c2cc-5d87-43ea-9a7e-db8f1bf7a12a",
   "metadata": {},
   "outputs": [],
   "source": [
    "# BioNomial Distribution and Poisson Distribution."
   ]
  },
  {
   "cell_type": "code",
   "execution_count": 2,
   "id": "414b07b1-7cfc-4e10-bcd5-c22c9002833f",
   "metadata": {},
   "outputs": [],
   "source": [
    "# Estimation:\n",
    "# Two things are covered under Estimation: \n",
    "# 1. Point Estimation and Interval Estimation.\n",
    "\n",
    "# In point estimation we give single number it happens when we are sure about data wherease in the case of interval estimation we give range of data."
   ]
  },
  {
   "cell_type": "code",
   "execution_count": 3,
   "id": "620ebb79-1ccf-4dd4-b0b9-0746cf481c2b",
   "metadata": {},
   "outputs": [],
   "source": [
    "# Point Estimation == Confidence Estimation.\n",
    "# Interval Estimation == Range Estimation."
   ]
  },
  {
   "cell_type": "code",
   "execution_count": 5,
   "id": "793dc030-0fcb-4a73-914b-50a59f0a9acb",
   "metadata": {},
   "outputs": [],
   "source": [
    "# Examples (Data of the Laptops sold in recent years)\n",
    "# 240,255,260,245,255,260,265,275,280,240,230\n",
    "\n",
    "# Univariant data: Where we talk about the estimation on only one factor, let's say sale in the above case but there are other factors as well like(Competitors, government policy, market conditions etc).\n",
    "# Multivariant data: Where we talk about the estimation of multiple factors.\n",
    "\n",
    "# Formula of the estimation = Mean +-Z of alpha/2 * (sigma/root of n). n == number of data.\n",
    "\n",
    "# Average of the sample = Mean\n",
    "# Whenever we talk about estimation, confidence always gets into the picture.\n",
    "\n",
    "# Confidence level = 1-Alpha"
   ]
  },
  {
   "cell_type": "code",
   "execution_count": 1,
   "id": "20992d68-fc29-45fc-a760-95a63624f847",
   "metadata": {},
   "outputs": [
    {
     "data": {
      "text/plain": [
       "-4.935133333333334"
      ]
     },
     "execution_count": 1,
     "metadata": {},
     "output_type": "execute_result"
    }
   ],
   "source": [
    "# Problem Statement : \n",
    "\n",
    "# Standard Deviation = 75 Computers\n",
    "# Confidence = 95% \n",
    "\n",
    "# Formula of the estimation = Mean +-Z of alpha/2 * (sigma/root of n). n == number of data.\n",
    "\n",
    "\n",
    "Data = [235,421,394,261,386,374,361,439,374,316,309,514,348,302,296,499,462,344,466,332,253,369,330,535,334]\n",
    "\n",
    "Mean_data = sum(Data)/len(Data)\n",
    "Mean_data # 370.16\n",
    "standard_deviation = 75\n",
    "confidence_level = 0.95\n",
    "alpha = 0.05\n",
    "zofaplhaby2 = 1.96\n",
    "\n",
    "# Confidence_Level = 1- Alpha \n",
    "\n",
    "# z_of_alpha_by2 = We will have to check the Z table for this. If the alpha/2 is 0.05 then we will hit the z table and will find this value and accordingly will give the value of z of alpha/2. Sign doesn't matter here means, we can search data in negative or positive z table.\n",
    "\n",
    "# Alpha/2 =0.05 z of 0.05 = 1.645\n",
    "# Alpha/2 = 0.005 z of 0.005 = 2.575\n",
    "\n",
    "# Range at 90% confidence 345 to 394\n",
    "# At 95% 340.6 to 399.4\n",
    "# At 331 to 408"
   ]
  },
  {
   "cell_type": "code",
   "execution_count": 2,
   "id": "86bffb3d-767a-4e08-8bf6-e244076d7725",
   "metadata": {},
   "outputs": [
    {
     "data": {
      "text/plain": [
       "25"
      ]
     },
     "execution_count": 2,
     "metadata": {},
     "output_type": "execute_result"
    }
   ],
   "source": [
    "# How we get the value of z of alpha?"
   ]
  },
  {
   "cell_type": "code",
   "execution_count": null,
   "id": "6f67694e-37a4-48f4-9e2e-2a93446e3215",
   "metadata": {},
   "outputs": [],
   "source": [
    "# When we increase the confidence lower range gets low and upper range gets up."
   ]
  },
  {
   "cell_type": "code",
   "execution_count": null,
   "id": "670f15c0-ec2f-4441-8f9a-577a4e72af38",
   "metadata": {},
   "outputs": [],
   "source": [
    "# Confidence Level = 99 % \n",
    "# Standard Deviation = 6 inches\n",
    "# Mean = \n",
    "# Total number of sample we need to collect to do estimation = ?\n",
    "# \n",
    "# Estimation Formula = Mean+- z of aplha/2 *(sigma/root of n)\n",
    "\n",
    "# Z of alpha by 2 = 0.005\n",
    "\n",
    "# 1 = zofalpha/2 (SD/root of n)\n",
    "# 1 = 2.57 6/root of n is missing\n",
    "# n = 239\n"
   ]
  },
  {
   "cell_type": "code",
   "execution_count": null,
   "id": "7f2f6159-ecdb-491b-955c-c2f941e93773",
   "metadata": {},
   "outputs": [],
   "source": [
    "# Binomial distribution.\n",
    "\n",
    "# It always concerned about fix number trials.\n",
    "\n",
    "# For machine learning algorithms, it works on probability distributions.\n",
    "\n",
    "# Bionomial distribution always works with 2 outcomes.\n",
    "\n",
    "# Bionomial Distribution : Probability of occurence of any event. \n",
    "# P(x) = factorial of n/x (n-x)factorial * Px(-P)n-x\n",
    "\n",
    "# Probability will always be at max = 1 and minimun = 0\n",
    "\n",
    "# Experiment should be independent. e.g., flipping the coin.\n"
   ]
  },
  {
   "cell_type": "code",
   "execution_count": null,
   "id": "b8e817b2-b9ea-49b3-8825-aac2cfa8066c",
   "metadata": {},
   "outputs": [],
   "source": [
    "# We are flipping the coin 6 times, what's the probability of getting head twice.\n",
    "\n",
    "n = 6\n",
    "x = 2 (head twice)\n",
    "Probability = 1/2\n",
    "\n",
    "Solution: \n",
    "\n",
    "6!/2(6-2)! *(1/2)2 (1-1/2)6-2\n",
    "\n",
    "= 23%"
   ]
  },
  {
   "cell_type": "code",
   "execution_count": null,
   "id": "4ef96d01-c7eb-45e2-a1a6-ef4ec489290e",
   "metadata": {},
   "outputs": [],
   "source": [
    "# When we roll a dice 6 times, what's the probability of getting 2 four times.\n",
    "n = 6\n",
    "x = 4\n",
    "p = 1/6\n",
    "\n"
   ]
  },
  {
   "cell_type": "code",
   "execution_count": null,
   "id": "0098b078-379c-4e2a-a08c-eec8fdca545d",
   "metadata": {},
   "outputs": [],
   "source": [
    "# 12 times someone has appeared in the exam. What is the probability that the person will be able to get 8 marks out of 10 at most 5 times.\n",
    "\n",
    "x = 1,2,3,45\n",
    "p =1/10\n",
    "n =12\n",
    "\n",
    "p(1,2,3,4,5) = p(x=1) P(x=2) p(x=3) p(x=4) p(x=5) # We will have find it separetly and then combine it.\n",
    "\n",
    "12!/1(12-1)\n",
    "\n",
    "# In terms of binomial we were discussing about probability where outcome can be yes no, success failure.\n"
   ]
  },
  {
   "cell_type": "code",
   "execution_count": null,
   "id": "92e7c46b-c42c-4c0e-a6ea-3373ad497060",
   "metadata": {},
   "outputs": [],
   "source": [
    "# Simon Poison Distribution \n",
    "\n",
    "# If we are talking about interval, and if something has happened in the particular interval, if the events in intervals are normally distributed, we can find the probability of the occurence into another event as well.\n",
    "# For example: Car Washing Showroom (In last 1 hour 8 cars have arrived for washing, what is the proability of getting 4 cars in next one hour)\n",
    "\n",
    "# Formula = P(x) = (e power negative mean * Mean power x/x factorial)\n",
    "\n",
    "# Problem Statement\n",
    "\n",
    "# The number of typographical errors in new editions of textbooks varies considerably from book to book. After some analysis it concludes that the number of errors is Poisson distributed with a mean of 1.5 per 100 pages. The instructed randomly selects 100 pages of a new book. What is the  probablility that there are no typos?\n",
    "\n",
    "Mean = 1.5\n",
    "x = 100\n",
    "\n",
    "# Problem Statement \n",
    "# 10 questions in a week we are solving. What is the probability that we will be able to solve at most 2 quesitons in 2 days?\n",
    "\n",
    "\n",
    "# mu = If we are able to solve 10 questions in a week then how many questions we will be able to solve in 2 days. 10*2/7\n",
    "\n",
    "# x = 0,1,2 (question can be solved in0,1 or 2 days)\n",
    "# Value of e I checked on internet, it's 2.7"
   ]
  }
 ],
 "metadata": {
  "kernelspec": {
   "display_name": "Python 3 (ipykernel)",
   "language": "python",
   "name": "python3"
  },
  "language_info": {
   "codemirror_mode": {
    "name": "ipython",
    "version": 3
   },
   "file_extension": ".py",
   "mimetype": "text/x-python",
   "name": "python",
   "nbconvert_exporter": "python",
   "pygments_lexer": "ipython3",
   "version": "3.11.7"
  }
 },
 "nbformat": 4,
 "nbformat_minor": 5
}
