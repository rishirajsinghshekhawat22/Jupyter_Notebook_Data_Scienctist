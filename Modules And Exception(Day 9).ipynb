{
 "cells": [
  {
   "cell_type": "code",
   "execution_count": 1,
   "id": "fe809671-9a63-4889-a5bd-4a99662475d6",
   "metadata": {},
   "outputs": [],
   "source": [
    "# Modules, Packages And Exceptions\n"
   ]
  },
  {
   "cell_type": "code",
   "execution_count": 2,
   "id": "905276e0-f3af-47ef-a730-3c0712253147",
   "metadata": {},
   "outputs": [],
   "source": [
    "import math"
   ]
  },
  {
   "cell_type": "code",
   "execution_count": 3,
   "id": "7b1385c9-9f80-47ae-9382-4a0f422b202e",
   "metadata": {},
   "outputs": [
    {
     "data": {
      "text/plain": [
       "120"
      ]
     },
     "execution_count": 3,
     "metadata": {},
     "output_type": "execute_result"
    }
   ],
   "source": [
    "math.sqrt(9)\n",
    "math.factorial(5)"
   ]
  },
  {
   "cell_type": "code",
   "execution_count": 4,
   "id": "dfde7abd-2416-4182-9ed0-ee8fc74bb69f",
   "metadata": {},
   "outputs": [],
   "source": [
    "# We can create our own Modules."
   ]
  },
  {
   "cell_type": "code",
   "execution_count": 5,
   "id": "2603f8c4-bca3-4e85-9f4c-19c634148615",
   "metadata": {},
   "outputs": [
    {
     "data": {
      "text/plain": [
       "'C:\\\\Users\\\\USER\\\\Desktop\\\\Full Stack Data Science (Ineuron)'"
      ]
     },
     "execution_count": 5,
     "metadata": {},
     "output_type": "execute_result"
    }
   ],
   "source": [
    "import os\n",
    "os.getcwd()"
   ]
  },
  {
   "cell_type": "code",
   "execution_count": 6,
   "id": "5eac9acd-37cc-4077-8092-2c9a9ac3242d",
   "metadata": {},
   "outputs": [
    {
     "ename": "ModuleNotFoundError",
     "evalue": "No module named 'test1'",
     "output_type": "error",
     "traceback": [
      "\u001b[1;31m---------------------------------------------------------------------------\u001b[0m",
      "\u001b[1;31mModuleNotFoundError\u001b[0m                       Traceback (most recent call last)",
      "Cell \u001b[1;32mIn[6], line 1\u001b[0m\n\u001b[1;32m----> 1\u001b[0m \u001b[38;5;28;01mimport\u001b[39;00m \u001b[38;5;21;01mtest1\u001b[39;00m\n",
      "\u001b[1;31mModuleNotFoundError\u001b[0m: No module named 'test1'"
     ]
    }
   ],
   "source": [
    "import test1"
   ]
  },
  {
   "cell_type": "code",
   "execution_count": null,
   "id": "7031de3f-fb1a-44b3-8e14-8d644804138e",
   "metadata": {},
   "outputs": [],
   "source": [
    "import test1"
   ]
  },
  {
   "cell_type": "code",
   "execution_count": null,
   "id": "3dfe2ae6-a65f-4672-b522-403d6f6dd7dd",
   "metadata": {},
   "outputs": [],
   "source": [
    "import test1"
   ]
  },
  {
   "cell_type": "code",
   "execution_count": null,
   "id": "d70f5c0e-487e-476f-ac92-d84f7d0054bd",
   "metadata": {},
   "outputs": [],
   "source": [
    "# We will get the data only in the first instance and not in the following.\n",
    "# There is a package called imp with which we can reload the data again from the package.\n",
    "\n",
    "import imp"
   ]
  },
  {
   "cell_type": "code",
   "execution_count": null,
   "id": "861a2160-98c3-4e95-98dc-2cb03149a7ff",
   "metadata": {},
   "outputs": [],
   "source": [
    "imp.reload(test1)"
   ]
  },
  {
   "cell_type": "code",
   "execution_count": null,
   "id": "8f02419b-cdfa-46ea-a298-1c791e24fdde",
   "metadata": {},
   "outputs": [],
   "source": [
    "# I have created this module. # We can keep our data in .py file and then we can call them as and when required.\n",
    "import addition"
   ]
  },
  {
   "cell_type": "code",
   "execution_count": null,
   "id": "fc7e9f62-667e-482a-af8e-5bc1282c77ae",
   "metadata": {},
   "outputs": [],
   "source": [
    "addition.addition1(2,3,5)"
   ]
  },
  {
   "cell_type": "code",
   "execution_count": null,
   "id": "acf0eabd-fe0a-4504-b377-e6093ce5258f",
   "metadata": {},
   "outputs": [],
   "source": [
    "import test6"
   ]
  },
  {
   "cell_type": "code",
   "execution_count": null,
   "id": "0db49ca0-10e2-443c-95c2-4321ca4ce4ef",
   "metadata": {},
   "outputs": [],
   "source": [
    "test6.data"
   ]
  },
  {
   "cell_type": "code",
   "execution_count": null,
   "id": "83735090-1f34-4419-8404-1576d56585c7",
   "metadata": {},
   "outputs": [],
   "source": [
    "# Task\n",
    "#.1 : Create a directory named test, inside the test directory, we need to create module1.py, module2.py, module3.py\n",
    "#.2 : Inside module1 create a function named fun1, fun2, fun3\n",
    "#.3 : Inside module2, create fn1.1, fun2.2,fun3.3\n",
    "#.4 : Inside module 3, crate fun3\n",
    "# Create jupyter notebook in the same test directory and then import all.\n",
    "\n",
    "#Create another directory name test1 create jupyter file and import all # test.support || test1.support"
   ]
  },
  {
   "cell_type": "code",
   "execution_count": null,
   "id": "8ba53f6e-076b-4ba2-be27-ec6a5aee34d3",
   "metadata": {},
   "outputs": [],
   "source": [
    "import os\n",
    "os.getcwd()"
   ]
  },
  {
   "cell_type": "code",
   "execution_count": null,
   "id": "c770a39a-4101-426d-a0e2-9c6d3e6c9e8a",
   "metadata": {},
   "outputs": [],
   "source": [
    "os.chdir('C:\\\\Users\\\\USER\\\\Desktop')"
   ]
  },
  {
   "cell_type": "code",
   "execution_count": null,
   "id": "cc0b5241-efdd-44ec-a3f2-890aba98a864",
   "metadata": {},
   "outputs": [],
   "source": [
    "pwd()"
   ]
  },
  {
   "cell_type": "code",
   "execution_count": null,
   "id": "9ca71fd2-9e6f-41bc-b7b1-51b7526d9ad7",
   "metadata": {},
   "outputs": [],
   "source": [
    "#os.mkdir('test')"
   ]
  },
  {
   "cell_type": "code",
   "execution_count": null,
   "id": "99a7d08d-c570-4761-9551-df527423d14e",
   "metadata": {},
   "outputs": [],
   "source": [
    "\"\"\"for i in os.listdir('test'):\n",
    "    filename = (f'module{i}.py')\n",
    "    with open (filename,'w') as file:\n",
    "        file.write('this is a python module')\"\"\"\n",
    "\n",
    "for i in range(4):\n",
    "    filename = f'module{i}.py'\n",
    "    with open (filename,'w') as file:\n",
    "        file.write('this is a python module')"
   ]
  },
  {
   "cell_type": "code",
   "execution_count": null,
   "id": "f2feca99-751f-45bd-9e31-ba3446da67b5",
   "metadata": {},
   "outputs": [],
   "source": [
    "pwd()"
   ]
  },
  {
   "cell_type": "code",
   "execution_count": null,
   "id": "b469299e-d2a0-4f92-bf12-0e495244c4fa",
   "metadata": {},
   "outputs": [],
   "source": [
    "os.chdir('C:\\\\Users\\\\USER\\\\Desktop')"
   ]
  },
  {
   "cell_type": "code",
   "execution_count": null,
   "id": "55448e4a-8afa-4c64-a1f8-d6a69c6aefce",
   "metadata": {},
   "outputs": [],
   "source": [
    "os.mkdir('test1')"
   ]
  },
  {
   "cell_type": "code",
   "execution_count": null,
   "id": "3af25a24-6282-4434-9168-cdbbe581fca1",
   "metadata": {},
   "outputs": [],
   "source": [
    "# High Level Design Documentation. (HLD)\n",
    "# Low Level Design Documentation. (LLD)"
   ]
  },
  {
   "cell_type": "code",
   "execution_count": null,
   "id": "862bd862-85cc-4c1d-a131-0efcfd2f5419",
   "metadata": {},
   "outputs": [],
   "source": [
    "# Exception Handling"
   ]
  },
  {
   "cell_type": "code",
   "execution_count": null,
   "id": "583ae1eb-ebea-42b3-8264-5b1ea4dff859",
   "metadata": {},
   "outputs": [],
   "source": [
    "print('rishi)\n",
    "      "
   ]
  },
  {
   "cell_type": "code",
   "execution_count": null,
   "id": "16a09d4b-6071-40ec-9425-e5fcc03d43ec",
   "metadata": {},
   "outputs": [],
   "source": [
    "def test(a,b):\n",
    "    return a/b\n",
    "test(5,0)"
   ]
  },
  {
   "cell_type": "code",
   "execution_count": null,
   "id": "c78aa1e1-f686-4477-9c2e-44f36805c895",
   "metadata": {},
   "outputs": [],
   "source": [
    "# Types of error:\n",
    "# Compile type : Syntax error, Indentation Error\n",
    "# Run type : ZeroDivisionError"
   ]
  },
  {
   "cell_type": "code",
   "execution_count": null,
   "id": "73e2c554-ea14-4cae-90dd-560a538eb12e",
   "metadata": {},
   "outputs": [],
   "source": [
    "with open('test.txt','r') as file:\n",
    "    file.read()"
   ]
  },
  {
   "cell_type": "code",
   "execution_count": null,
   "id": "b6e1ee50-6cc8-4a83-8a78-b1918a45c34b",
   "metadata": {},
   "outputs": [],
   "source": [
    "# Try block to try a code about which we are suspicious and want to give a try and in Except block we will handle the error if it happens in the try block.\n",
    "# We can check runtime error using try,except not compile type, as it won't let us go ahead if there's any issue with the syntax of try, except.\n",
    "\n",
    "try:\n",
    "    with open('test.txt','r') as file:\n",
    "        file.read()\n",
    "except Exception as e:\n",
    "    print(e)\n",
    "        \n",
    "    \n"
   ]
  },
  {
   "cell_type": "code",
   "execution_count": null,
   "id": "15b49f4d-3fb2-40c4-b771-84871f8dab41",
   "metadata": {},
   "outputs": [],
   "source": [
    "try:\n",
    "    5/0\n",
    "except Exception as e:\n",
    "    print(e)"
   ]
  },
  {
   "cell_type": "code",
   "execution_count": null,
   "id": "6d43af5b-ac2c-4123-bee9-a0be582a0fde",
   "metadata": {},
   "outputs": [],
   "source": [
    "try:\n",
    "    5/1\n",
    "except Exception as e:\n",
    "    print(e)\n",
    "finally:\n",
    "    print('this will execute once try will execute with success')"
   ]
  },
  {
   "cell_type": "code",
   "execution_count": null,
   "id": "a1eb65a2-0c54-4f3e-9abe-43ea8950f682",
   "metadata": {},
   "outputs": [],
   "source": [
    "# Successfull Execution : Try and else.\n",
    "# Unsuccessfull Execution: Try and Except.\n",
    "# my observation: finally is getting executed even if the try is wrong, hence we will use else instead.\n",
    "\n",
    "try:\n",
    "    15/1\n",
    "except Exception as e:\n",
    "    print(e)\n",
    "else:\n",
    "    print('try has been executed successfully')\n",
    "\n"
   ]
  },
  {
   "cell_type": "code",
   "execution_count": null,
   "id": "25551472-b46f-4cb4-86a0-e5fe39417019",
   "metadata": {},
   "outputs": [],
   "source": [
    "try:\n",
    "    a = int(input())\n",
    "    b = int(input())\n",
    "    c=a/b\n",
    "except Exception as e:\n",
    "    print(e)\n",
    "else:\n",
    "    print('try has been executed successfully')\n",
    "try:\n",
    "    with open ('test.txt','r') as file:\n",
    "        file.read()\n",
    "except Exception as e:\n",
    "    print(e)\n",
    "else:\n",
    "    print('no issue with the internal try block')"
   ]
  },
  {
   "cell_type": "code",
   "execution_count": null,
   "id": "d4e46221-d515-4fc7-ad4e-ce19e7507a2f",
   "metadata": {},
   "outputs": [],
   "source": [
    "l = [4,5,6,7,5,0,56,7]\n",
    "l[100]\n",
    "t = (7,8,9,8,8,9,)\n",
    "t\n",
    "\n"
   ]
  },
  {
   "cell_type": "code",
   "execution_count": null,
   "id": "44b27086-581e-4ab0-b795-587a34dd97c2",
   "metadata": {},
   "outputs": [],
   "source": [
    "try:\n",
    "    l = [4,5,6,7,5,0,56,7]\n",
    "    l[100]\n",
    "except Exception as e:\n",
    "    print(e)\n",
    "    t = (7,8,9,8,8,9,)\n",
    "    print(t)\n",
    "    try:\n",
    "        t = (7,8,9,8,8,9,)\n",
    "        t[0] = 'rishi'\n",
    "    except:\n",
    "        pass    \n",
    "else:\n",
    "    print('success')\n"
   ]
  },
  {
   "cell_type": "code",
   "execution_count": null,
   "id": "11e5edc6-df41-41ef-99bf-d60023e3872a",
   "metadata": {},
   "outputs": [],
   "source": [
    "# Going forward I will have to use logging, modules, exception and debugging while writing a code without any fail."
   ]
  },
  {
   "cell_type": "code",
   "execution_count": null,
   "id": "1b984098-fca0-4b2b-a112-6746c93982e7",
   "metadata": {},
   "outputs": [],
   "source": [
    "# finally : It will be executed in all the scenerios whether the code fails or pass. It will get executed without any connection with try and except.\n",
    "\n",
    "try:\n",
    "    with open('test.txt','r') as file:\n",
    "        file.read()\n",
    "finally:\n",
    "    print('finally will be executed in all the cases')\n",
    "    l = [1,2,3,4,5]\n",
    "    print(l)\n",
    "    "
   ]
  },
  {
   "cell_type": "code",
   "execution_count": null,
   "id": "96fd4570-3568-4e5a-b960-f31b6513049a",
   "metadata": {},
   "outputs": [],
   "source": [
    "\n",
    "try:\n",
    "    5/1\n",
    "except:\n",
    "    pass\n",
    "else:\n",
    "    print('try statement worked fine')\n",
    "    \n",
    "finally:\n",
    "    print('finally will be executed in all the cases')\n",
    "    l = [1,2,3,4,5]\n",
    "    print(l)\n",
    "\n",
    "\n"
   ]
  },
  {
   "cell_type": "code",
   "execution_count": null,
   "id": "8b8423f4-6a4f-4479-8ffc-f1d9394e3fba",
   "metadata": {},
   "outputs": [],
   "source": [
    "try:\n",
    "    with open('test.txt','r') as file:\n",
    "        file.read()\n",
    "except Exception as e:\n",
    "    print(e)"
   ]
  },
  {
   "cell_type": "code",
   "execution_count": null,
   "id": "0199eacb-a945-4b55-9ee2-d25aad367523",
   "metadata": {},
   "outputs": [],
   "source": [
    "def askforinteger():\n",
    "    while True: # while work on True False, if condition is true it will get into the below code and will keep running until it's false.\n",
    "        try:\n",
    "            a = int(input('enter an integer'))\n",
    "        except Exception as e:\n",
    "            print(e)\n",
    "        else:\n",
    "            print('correct input entered')\n",
    "            break # break the loop\n",
    "        finally:\n",
    "            print('close this isssue')\n",
    "\n",
    "# Finally will be executed always no matter what.\n",
    "# We can write as many as exceptions we want but if we are not giving the correct error than it won't work.\n",
    "# "
   ]
  },
  {
   "cell_type": "code",
   "execution_count": null,
   "id": "415bf065-bc2c-4c6e-8bec-b66d4612a9a9",
   "metadata": {},
   "outputs": [],
   "source": [
    "askforinteger()"
   ]
  },
  {
   "cell_type": "code",
   "execution_count": null,
   "id": "74d68e70-ed82-4633-8607-c6778c94c6a2",
   "metadata": {},
   "outputs": [],
   "source": [
    "def askforinteger():\n",
    "    while True: # while work on True False, if condition is true it will get into the below code and will keep running until it's false.\n",
    "        try:\n",
    "            a = int(input('enter an integer'))\n",
    "            c = 8/a\n",
    "            \n",
    "        except ZeroDivisionError as v:\n",
    "            print('value error',v)      \n",
    "        \n",
    "        except Exception as e:\n",
    "            print('parent class',e)\n",
    "        else:\n",
    "            print('correct input entered')\n",
    "            break # break the loop\n",
    "        finally:\n",
    "            print('close this isssue')"
   ]
  },
  {
   "cell_type": "code",
   "execution_count": null,
   "id": "07c8c2ae-3ef2-4323-8935-6360ca69f7e5",
   "metadata": {},
   "outputs": [],
   "source": [
    "askforinteger()"
   ]
  },
  {
   "cell_type": "code",
   "execution_count": null,
   "id": "8fff8673-9a1d-4ccd-a803-5b2684f4ede2",
   "metadata": {},
   "outputs": [],
   "source": [
    "# Look Before You Leap (LBYL) if else statement.\n",
    "\n",
    "# Easier To Ask For Permission Than Forgiveness (EAFP) exception statement.\n",
    "\n",
    "# Custom Exception\n",
    "\n",
    "#def valuetoosmall(Exception):\n",
    " #   if i<5:\n",
    "  #      raise valuetoosmall\n",
    "\n",
    "def divisionby6(a):\n",
    "    if a==6:\n",
    "        raise Exception('division by 6',a)"
   ]
  },
  {
   "cell_type": "code",
   "execution_count": null,
   "id": "c8498e3c-3b94-4fbb-8b42-e801caf47505",
   "metadata": {},
   "outputs": [],
   "source": [
    "divisionby6(6)"
   ]
  },
  {
   "cell_type": "code",
   "execution_count": null,
   "id": "fbf8de48-071c-4f36-9e8a-932c845c3731",
   "metadata": {},
   "outputs": [],
   "source": [
    "def valuetoosmal(a):\n",
    "    if a <5:\n",
    "        raise Exception('Value should be more than 5')\n",
    "    else: \n",
    "        a = a**a\n",
    "        return a"
   ]
  },
  {
   "cell_type": "code",
   "execution_count": null,
   "id": "905919b7-5bc6-4579-8f4d-f9d08ee4cf06",
   "metadata": {},
   "outputs": [],
   "source": [
    "valuetoosmal(5)"
   ]
  },
  {
   "cell_type": "code",
   "execution_count": null,
   "id": "2752f653-f027-48f7-b73c-d981706606dd",
   "metadata": {},
   "outputs": [],
   "source": [
    "try:\n",
    "    valuetoosmal(4)\n",
    "except Exception as v:\n",
    "    print(v)\n",
    "    "
   ]
  },
  {
   "cell_type": "code",
   "execution_count": null,
   "id": "340d3405-c186-46c4-bdae-63c4504640a8",
   "metadata": {},
   "outputs": [],
   "source": [
    "# Task \n",
    "# Create a folder called test and inside that we need to create a module1.py and write a logic in that to print all the even number.\n",
    "# Inside the same folder create ipyn file and call module1.py, while calling the module we need to take input from the user and try to handle all the edge cases.\n"
   ]
  }
 ],
 "metadata": {
  "kernelspec": {
   "display_name": "Python 3 (ipykernel)",
   "language": "python",
   "name": "python3"
  },
  "language_info": {
   "codemirror_mode": {
    "name": "ipython",
    "version": 3
   },
   "file_extension": ".py",
   "mimetype": "text/x-python",
   "name": "python",
   "nbconvert_exporter": "python",
   "pygments_lexer": "ipython3",
   "version": "3.11.7"
  }
 },
 "nbformat": 4,
 "nbformat_minor": 5
}
