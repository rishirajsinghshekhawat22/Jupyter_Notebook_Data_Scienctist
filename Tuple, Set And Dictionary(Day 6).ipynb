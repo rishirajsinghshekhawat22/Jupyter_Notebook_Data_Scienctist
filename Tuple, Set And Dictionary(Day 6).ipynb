{
 "cells": [
  {
   "cell_type": "code",
   "execution_count": 55,
   "id": "91e55cac-c7ed-4a70-bdde-38ea5c2b4b56",
   "metadata": {},
   "outputs": [
    {
     "name": "stdout",
     "output_type": "stream",
     "text": [
      "1\n",
      "2\n",
      "3\n",
      "5\n"
     ]
    }
   ],
   "source": [
    "# Tuples, Set and Dictionary\n",
    "\n",
    "# To find index all elements.\n",
    "\n",
    "l = ('happy', 25,25,25,'ff',25)\n",
    "l.index(25)\n",
    "\n",
    "r = []\n",
    "\n",
    "for i in range(len(l)):\n",
    "    if l[i] == 25:\n",
    "        print(i)"
   ]
  },
  {
   "cell_type": "code",
   "execution_count": 71,
   "id": "d103df62-48b6-42df-9749-84db177f3f0c",
   "metadata": {},
   "outputs": [
    {
     "name": "stdout",
     "output_type": "stream",
     "text": [
      "True\n",
      "25.25\n",
      "rishi\n",
      "5\n",
      "4\n",
      "3\n",
      "2\n",
      "1\n"
     ]
    }
   ],
   "source": [
    "l = [1,2,3,4,5,'rishi',25.25,True]\n",
    "t = tuple(l)\n",
    "t[1] # to extract data\n",
    "\n",
    "t[::-1] # slicing\n",
    "\n",
    "for i in l[::-1]:\n",
    "    print(i)"
   ]
  },
  {
   "cell_type": "code",
   "execution_count": 67,
   "id": "13e83f4f-c9f8-467d-9ffd-9a360b4e2ae5",
   "metadata": {},
   "outputs": [
    {
     "data": {
      "text/plain": [
       "(1, 2, 3, 4, 5, 6)"
      ]
     },
     "execution_count": 67,
     "metadata": {},
     "output_type": "execute_result"
    }
   ],
   "source": [
    "t2 = (4,5,6)\n",
    "t+t2"
   ]
  },
  {
   "cell_type": "code",
   "execution_count": 72,
   "id": "39a93d11-4be5-43e3-908e-45213d7793b9",
   "metadata": {},
   "outputs": [
    {
     "data": {
      "text/plain": [
       "(1, 2, 3, 4, 5, 'rishi', 25.25, True)"
      ]
     },
     "execution_count": 72,
     "metadata": {},
     "output_type": "execute_result"
    }
   ],
   "source": [
    "t"
   ]
  },
  {
   "cell_type": "code",
   "execution_count": 73,
   "id": "417be74d-2162-4bbd-a501-aaf8e4a25bb8",
   "metadata": {},
   "outputs": [
    {
     "data": {
      "text/plain": [
       "True"
      ]
     },
     "execution_count": 73,
     "metadata": {},
     "output_type": "execute_result"
    }
   ],
   "source": [
    "1 in t"
   ]
  },
  {
   "cell_type": "code",
   "execution_count": 84,
   "id": "a5f6c794-8f9c-4102-8026-edc9130e1378",
   "metadata": {},
   "outputs": [
    {
     "data": {
      "text/plain": [
       "'a'"
      ]
     },
     "execution_count": 84,
     "metadata": {},
     "output_type": "execute_result"
    }
   ],
   "source": [
    "t3 = (1,2,3,4,5,6,7,2)\n",
    "min(t3)\n",
    "max(t3)\n",
    "sum(t3)\n",
    "\n",
    "t4 = ('rishi','a')\n",
    "max(t4)\n",
    "min(t4)"
   ]
  },
  {
   "cell_type": "code",
   "execution_count": 86,
   "id": "d11f694e-598a-42e6-92a2-6261ea8db669",
   "metadata": {},
   "outputs": [
    {
     "name": "stdout",
     "output_type": "stream",
     "text": [
      "1\n",
      "7\n"
     ]
    }
   ],
   "source": [
    "t3\n",
    "for i in range(len(t3)):\n",
    "    if t3[i] == 2:\n",
    "        print(i)"
   ]
  },
  {
   "cell_type": "code",
   "execution_count": 101,
   "id": "a06ee657-ee59-4dc2-8129-f92f5b6c0563",
   "metadata": {},
   "outputs": [
    {
     "data": {
      "text/plain": [
       "(1, 2, 3, 'rishi', 4, 5, 6, 7, 2, 25)"
      ]
     },
     "execution_count": 101,
     "metadata": {},
     "output_type": "execute_result"
    }
   ],
   "source": [
    "l3 = list(t3)\n",
    "l3.append(25)\n",
    "\n",
    "l3.insert(3,'rishi')\n",
    "l3\n",
    "\n",
    "tuple(l3)\n"
   ]
  },
  {
   "cell_type": "code",
   "execution_count": 103,
   "id": "0dba1ada-6448-445c-9509-6c48deedf395",
   "metadata": {},
   "outputs": [
    {
     "data": {
      "text/plain": [
       "((1, 2, 3), (4, 5, 6), ('r', 'i', 1, 2), [1, 2, 3])"
      ]
     },
     "execution_count": 103,
     "metadata": {},
     "output_type": "execute_result"
    }
   ],
   "source": [
    "tt = ((1,2,3),(4,5,6),('r','i',1,2),[1,2,3])\n",
    "tt"
   ]
  },
  {
   "cell_type": "code",
   "execution_count": 115,
   "id": "04652975-69bc-4819-b64b-61468813a5cb",
   "metadata": {},
   "outputs": [
    {
     "data": {
      "text/plain": [
       "((1, 2, 3), (4, 5, 6), ('r', 'i', 1, 2), [5, 2, 3])"
      ]
     },
     "execution_count": 115,
     "metadata": {},
     "output_type": "execute_result"
    }
   ],
   "source": [
    "# ways to append data in tuple:\n",
    "#.1 by adding another tuple, by putting list in tuple and modify, by converting tuple to list(in all these cases immutability of tuple will not be disturbed).\n",
    "\n",
    "\n",
    "\n",
    "\n",
    "tt[3][0] = 5 # list in tuple can be modified.\n",
    "\n",
    "tt"
   ]
  },
  {
   "cell_type": "code",
   "execution_count": 118,
   "id": "5e279891-3c5d-4105-941a-d1ca7957308a",
   "metadata": {},
   "outputs": [
    {
     "data": {
      "text/plain": [
       "((1, 2, 3), (4, 5, 6), ('r', 'i', 1, 2), [5, 2, 3])"
      ]
     },
     "execution_count": 118,
     "metadata": {},
     "output_type": "execute_result"
    }
   ],
   "source": [
    "tt"
   ]
  },
  {
   "cell_type": "code",
   "execution_count": 126,
   "id": "9d736956-2614-44e3-b382-27465ef00aca",
   "metadata": {},
   "outputs": [
    {
     "name": "stdout",
     "output_type": "stream",
     "text": [
      "1\n",
      "3\n",
      "5\n",
      "7\n"
     ]
    }
   ],
   "source": [
    "nt = ((1,2),(3,4),(5,6),(7,8),[9,10])\n",
    "nt\n",
    "\n",
    "for i in nt:\n",
    "    if type(i) == tuple:\n",
    "        print(i[0])"
   ]
  },
  {
   "cell_type": "code",
   "execution_count": 127,
   "id": "14bfd723-37b8-463b-b3ee-ab4b1553259b",
   "metadata": {},
   "outputs": [
    {
     "name": "stdout",
     "output_type": "stream",
     "text": [
      "no\n"
     ]
    }
   ],
   "source": [
    "t = (1,2,3,4,5,6)\n",
    "t2 = (1,2,3,4)\n",
    "\n",
    "if len(t) == len(t2):\n",
    "    print('yes')\n",
    "else:\n",
    "    print('no')"
   ]
  },
  {
   "cell_type": "code",
   "execution_count": 148,
   "id": "fcff4239-0bd4-4d64-8c31-7a819126c757",
   "metadata": {},
   "outputs": [
    {
     "name": "stdin",
     "output_type": "stream",
     "text": [
      "please put your input 3\n"
     ]
    },
    {
     "name": "stdout",
     "output_type": "stream",
     "text": [
      "no\n"
     ]
    }
   ],
   "source": [
    "t11 = (1,2,3,4,5,6,'rishi','happy')\n",
    "\n",
    "i = input('please put your input')\n",
    "\n",
    "if i in t11:\n",
    "    print('Yes')\n",
    "else:\n",
    "    print('no')"
   ]
  },
  {
   "cell_type": "code",
   "execution_count": 144,
   "id": "b4fca426-923e-4f80-9ed0-833d7ae4d7e7",
   "metadata": {},
   "outputs": [
    {
     "name": "stdin",
     "output_type": "stream",
     "text": [
      " 2\n"
     ]
    },
    {
     "name": "stdout",
     "output_type": "stream",
     "text": [
      "yes\n"
     ]
    }
   ],
   "source": [
    "to = (1,2,3,4,5)\n",
    "i = int(input())\n",
    "\n",
    "if i in to:\n",
    "    print('yes')\n",
    "else:\n",
    "    print('no')\n"
   ]
  },
  {
   "cell_type": "code",
   "execution_count": 2,
   "id": "2b621369-88a1-42ac-acda-43caaa05575a",
   "metadata": {},
   "outputs": [
    {
     "name": "stdin",
     "output_type": "stream",
     "text": [
      "enter name 1\n"
     ]
    },
    {
     "name": "stdout",
     "output_type": "stream",
     "text": [
      "Yes\n"
     ]
    }
   ],
   "source": [
    "to = (1,2,3,4,5,'rishi')\n",
    "\n",
    "i = input('enter name')\n",
    "\n",
    "if i in to:\n",
    "    print('Yes')\n",
    "else:\n",
    "    print('No')"
   ]
  },
  {
   "cell_type": "code",
   "execution_count": 5,
   "id": "3e12f5cf-14c1-4e3b-a3e3-c78afe1defcf",
   "metadata": {},
   "outputs": [
    {
     "data": {
      "text/plain": [
       "{4, 5, 6}"
      ]
     },
     "execution_count": 5,
     "metadata": {},
     "output_type": "execute_result"
    }
   ],
   "source": [
    "# Set\n",
    "\n",
    "s = {1,1,2,3,4,5,6}\n",
    "s1 = {1,2,3,8,9}\n",
    "s.difference(s1)"
   ]
  },
  {
   "cell_type": "code",
   "execution_count": 23,
   "id": "f628ccc2-4e71-4325-89e8-84035b40afc7",
   "metadata": {},
   "outputs": [
    {
     "data": {
      "text/plain": [
       "[1, 2, 3, 4, 5, 6]"
      ]
     },
     "execution_count": 23,
     "metadata": {},
     "output_type": "execute_result"
    }
   ],
   "source": [
    "s = [1,1,2,3,4,5,6]\n",
    "f = []\n",
    "\n",
    "for i in s:\n",
    "    if i not in f:\n",
    "        f.append(i)\n",
    "\n",
    "f"
   ]
  },
  {
   "cell_type": "code",
   "execution_count": 40,
   "id": "719f3edd-0dc8-41c9-bf71-e579304317e9",
   "metadata": {},
   "outputs": [],
   "source": [
    "d = [1,1,2,3,4]\n",
    "\n",
    "# remove duplicate elements\n",
    "\n",
    "for i in d:\n",
    "    if d.count(i)>1:\n",
    "        d.remove(i)\n",
    "\n",
    "\n"
   ]
  },
  {
   "cell_type": "code",
   "execution_count": 50,
   "id": "7f0dead3-36f1-4aff-ae19-50007e384f0f",
   "metadata": {},
   "outputs": [
    {
     "data": {
      "text/plain": [
       "{1, 2, 3, 4, 5, 6, 'rishi'}"
      ]
     },
     "execution_count": 50,
     "metadata": {},
     "output_type": "execute_result"
    }
   ],
   "source": [
    "d = {1,1,2,3,4}\n",
    "\n",
    "d.add(5)\n",
    "d.add(6)\n",
    "d.add('rishi')\n",
    "ss= d.copy()\n",
    "\n",
    "ss"
   ]
  },
  {
   "cell_type": "code",
   "execution_count": 11,
   "id": "47311599-c017-4c69-8352-379f1ceb3c53",
   "metadata": {},
   "outputs": [
    {
     "data": {
      "text/plain": [
       "{'Name': 'Happy', 'Age': 26, 'name': 'Happy'}"
      ]
     },
     "execution_count": 11,
     "metadata": {},
     "output_type": "execute_result"
    }
   ],
   "source": [
    "# Dictionary\n",
    "\n",
    "h = {'Name':'Happy', 'Age':26, 'name':'Happy'}\n",
    "h\n"
   ]
  },
  {
   "cell_type": "code",
   "execution_count": 31,
   "id": "b14e9a77-86db-4248-a339-cc92b0264612",
   "metadata": {},
   "outputs": [
    {
     "data": {
      "text/plain": [
       "'h'"
      ]
     },
     "execution_count": 31,
     "metadata": {},
     "output_type": "execute_result"
    }
   ],
   "source": [
    "h1 = {'Name':{1:'rishi',2:'happy','nana':['h','a','p','p','y']}, 'Age':26, 'name':'Happy', True:25,'key':False,25:65,'list1':[1,2,3,4,5]}\n",
    "h1['Name'] ['nana'] [0]\n"
   ]
  },
  {
   "cell_type": "code",
   "execution_count": 32,
   "id": "f3c03b24-1739-4d08-98e1-20e5284a267e",
   "metadata": {},
   "outputs": [
    {
     "data": {
      "text/plain": [
       "{'k4': 'roy'}"
      ]
     },
     "execution_count": 32,
     "metadata": {},
     "output_type": "execute_result"
    }
   ],
   "source": [
    "x3 = {'k3':'rishi'}\n",
    "x4 = {'k4':'happy'}\n",
    "\n",
    "x4['k4'] = 'roy'\n",
    "\n",
    "x4"
   ]
  },
  {
   "cell_type": "code",
   "execution_count": 55,
   "id": "ce72a7b6-d076-4a78-b9fe-09336ee430d5",
   "metadata": {},
   "outputs": [
    {
     "name": "stdout",
     "output_type": "stream",
     "text": [
      "<class 'str'> <class 'str'>\n",
      "<class 'str'> <class 'int'>\n",
      "<class 'str'> <class 'str'>\n"
     ]
    }
   ],
   "source": [
    "h1 = {'Name':'happy','Age':26, 'name':'Happy'}\n",
    "\n",
    "\n",
    "for i,v in h1.items():\n",
    "    print(type(i),type(v))"
   ]
  },
  {
   "cell_type": "code",
   "execution_count": 58,
   "id": "28a07950-e196-42c9-97c4-f0283c42e4d3",
   "metadata": {},
   "outputs": [
    {
     "data": {
      "text/plain": [
       "1"
      ]
     },
     "execution_count": 58,
     "metadata": {},
     "output_type": "execute_result"
    }
   ],
   "source": [
    "x5x = {(1,2,3):'rishiraj'}\n",
    "x5x[(1,2,3)]\n",
    "len(x5x)"
   ]
  },
  {
   "cell_type": "code",
   "execution_count": 68,
   "id": "b5a8b5d7-4321-4082-869b-2cd3575e1785",
   "metadata": {},
   "outputs": [
    {
     "name": "stdin",
     "output_type": "stream",
     "text": [
      "please enter paragraph happy is a good boy\n"
     ]
    }
   ],
   "source": [
    "# Practise Questions:\n",
    "\n",
    "# Question 1 = take an input as a paragraph using input function. # Done\n",
    "# Question 2 = convert all of this input into a list of words. # Done\n",
    "# Question 3 = remove all the duplicate elements from your list\n",
    "# Question 4 = use above distint elements as a key for dictionary and assign your name as a value for all the key for dictionary.\n",
    "# Question 5 = Try to print tuple of all the values.\n",
    "# Question 6 Try to print list of all the keys.\n",
    "\n",
    "i = input('please enter paragraph')\n",
    "\n",
    "\n"
   ]
  },
  {
   "cell_type": "code",
   "execution_count": 81,
   "id": "71f30d1e-1c72-4bb8-ac2d-d5c822f60ce5",
   "metadata": {},
   "outputs": [],
   "source": [
    "l = list(i)\n"
   ]
  },
  {
   "cell_type": "code",
   "execution_count": null,
   "id": "67b49f29-ea13-4f16-926e-219cf0095495",
   "metadata": {},
   "outputs": [],
   "source": [
    "s = []\n",
    "\n",
    "for i in l:\n",
    "    \n"
   ]
  },
  {
   "cell_type": "code",
   "execution_count": 91,
   "id": "7c18fa65-cc93-4b0c-9b36-0300076e11d3",
   "metadata": {},
   "outputs": [
    {
     "name": "stdin",
     "output_type": "stream",
     "text": [
      " Happy is a good boy\n"
     ]
    }
   ],
   "source": [
    "i = input()"
   ]
  },
  {
   "cell_type": "code",
   "execution_count": 92,
   "id": "365696b9-1349-46aa-8716-91602e1f4d40",
   "metadata": {},
   "outputs": [
    {
     "data": {
      "text/plain": [
       "['H',\n",
       " 'a',\n",
       " 'p',\n",
       " 'p',\n",
       " 'y',\n",
       " ' ',\n",
       " 'i',\n",
       " 's',\n",
       " ' ',\n",
       " 'a',\n",
       " ' ',\n",
       " 'g',\n",
       " 'o',\n",
       " 'o',\n",
       " 'd',\n",
       " ' ',\n",
       " 'b',\n",
       " 'o',\n",
       " 'y']"
      ]
     },
     "execution_count": 92,
     "metadata": {},
     "output_type": "execute_result"
    }
   ],
   "source": [
    "l = list(i)\n",
    "l"
   ]
  },
  {
   "cell_type": "code",
   "execution_count": 100,
   "id": "766b8a31-223a-448e-8c3a-ec0b45a1408c",
   "metadata": {},
   "outputs": [
    {
     "data": {
      "text/plain": [
       "['H', 'a', 'p', 'y', ' ', 'i', 's', 'g', 'o', 'd', 'b']"
      ]
     },
     "execution_count": 100,
     "metadata": {},
     "output_type": "execute_result"
    }
   ],
   "source": [
    "no_duplicates = []\n",
    "\n",
    "for i in l:\n",
    "    if i not in no_duplicates:\n",
    "        no_duplicates.append(i)\n",
    "\n",
    "no_duplicates"
   ]
  },
  {
   "cell_type": "code",
   "execution_count": 103,
   "id": "26195f82-0ab7-4147-95ba-83be8e933467",
   "metadata": {},
   "outputs": [
    {
     "data": {
      "text/plain": [
       "{'H': 'happy',\n",
       " 'a': 'happy',\n",
       " 'p': 'happy',\n",
       " 'y': 'happy',\n",
       " ' ': 'happy',\n",
       " 'i': 'happy',\n",
       " 's': 'happy',\n",
       " 'g': 'happy',\n",
       " 'o': 'happy',\n",
       " 'd': 'happy',\n",
       " 'b': 'happy'}"
      ]
     },
     "execution_count": 103,
     "metadata": {},
     "output_type": "execute_result"
    }
   ],
   "source": [
    "\n",
    "dict ={}\n",
    "\n",
    "for i in no_duplicates:\n",
    "    dict[i] = 'happy'\n",
    "\n",
    "dict\n",
    "\n",
    "\n",
    "\n"
   ]
  },
  {
   "cell_type": "code",
   "execution_count": 109,
   "id": "fd24b129-6e41-4362-aaa6-060733deada5",
   "metadata": {},
   "outputs": [
    {
     "name": "stdout",
     "output_type": "stream",
     "text": [
      "H\n",
      "a\n",
      "p\n",
      "y\n",
      " \n",
      "i\n",
      "s\n",
      "g\n",
      "o\n",
      "d\n",
      "b\n"
     ]
    }
   ],
   "source": [
    "for i in dict.keys():\n",
    "    print(i)"
   ]
  },
  {
   "cell_type": "code",
   "execution_count": 1,
   "id": "1c9895ac-4161-45c8-9f3e-1d04fe3a57e0",
   "metadata": {},
   "outputs": [
    {
     "name": "stdin",
     "output_type": "stream",
     "text": [
      "Enter a paragraph Happy is a good boy\n"
     ]
    }
   ],
   "source": [
    "# Question 1 = take an input as a paragraph using input function. # Done\n",
    "# Question 2 = convert all of this input into a list of words. # Done\n",
    "# Question 3 = remove all the duplicate elements from your list # Done\n",
    "# Question 4 = use above distint elements as a key for dictionary and assign your name as a value for all the key for dictionary.\n",
    "# Question 5 = Try to print tuple of all the values.\n",
    "# Question 6 Try to print list of all the keys.\n",
    "\n",
    "i = input('Enter a paragraph')"
   ]
  },
  {
   "cell_type": "code",
   "execution_count": 4,
   "id": "eabf2a63-80d1-44e5-b850-a7cc591854b8",
   "metadata": {},
   "outputs": [
    {
     "data": {
      "text/plain": [
       "['H', 'a', 'p', 'y', ' ', 'i', 's', 'g', 'o', 'd', 'b']"
      ]
     },
     "execution_count": 4,
     "metadata": {},
     "output_type": "execute_result"
    }
   ],
   "source": [
    "l = list(i)\n",
    "\n",
    "noduplicates = []\n",
    "\n",
    "for i in l:\n",
    "    if i not in noduplicates:\n",
    "        noduplicates.append(i)\n",
    "\n",
    "noduplicates"
   ]
  },
  {
   "cell_type": "code",
   "execution_count": 15,
   "id": "94d07369-9842-4143-ac8c-043d02f70951",
   "metadata": {},
   "outputs": [
    {
     "name": "stdout",
     "output_type": "stream",
     "text": [
      "('H', 'a', 'p', 'p', 'y')\n",
      "('H', 'a', 'p', 'p', 'y')\n",
      "('H', 'a', 'p', 'p', 'y')\n",
      "('H', 'a', 'p', 'p', 'y')\n",
      "('H', 'a', 'p', 'p', 'y')\n",
      "('H', 'a', 'p', 'p', 'y')\n",
      "('H', 'a', 'p', 'p', 'y')\n",
      "('H', 'a', 'p', 'p', 'y')\n",
      "('H', 'a', 'p', 'p', 'y')\n",
      "('H', 'a', 'p', 'p', 'y')\n",
      "('H', 'a', 'p', 'p', 'y')\n"
     ]
    }
   ],
   "source": [
    "mydict = {}\n",
    "\n",
    "for i in noduplicates:\n",
    "    mydict[i] = 'Happy'\n",
    "\n",
    "\n",
    "\n",
    "for i in mydict.values():\n",
    "    print(tuple(i))\n",
    "\n",
    "for i in mydict.keys():\n",
    "    print(list(i))\n",
    "\n"
   ]
  },
  {
   "cell_type": "code",
   "execution_count": 21,
   "id": "fbf985bb-bd10-4790-b412-3ba5013f72bf",
   "metadata": {},
   "outputs": [
    {
     "name": "stdout",
     "output_type": "stream",
     "text": [
      "this is a key company this is a value Happy\n",
      "this is a key course this is a value full stack data science\n",
      "this is a key Year this is a value 2024\n"
     ]
    }
   ],
   "source": [
    "d = {'company':'Happy','course':'full stack data science','Year':2024}\n",
    "\n",
    "for i in d:\n",
    "    print('this is a key',i,'this is a value',d[i])"
   ]
  },
  {
   "cell_type": "code",
   "execution_count": 35,
   "id": "6432b829-583a-4c6d-a0b9-4d023958780e",
   "metadata": {},
   "outputs": [
    {
     "data": {
      "text/plain": [
       "{'company': 'Happy', 'course': 'full stack data science', 'Year': 2024}"
      ]
     },
     "execution_count": 35,
     "metadata": {},
     "output_type": "execute_result"
    }
   ],
   "source": [
    "d = {'company':'Happy','course':'full stack data science','Year':2023}\n",
    "\n",
    "\n",
    "for i in d:\n",
    "    if i == 'Year':\n",
    "        if d[i] == 2024:\n",
    "            print('Yes')\n",
    "        else:\n",
    "            d[i] = 2024\n",
    "    \n",
    "        \n",
    "d"
   ]
  },
  {
   "cell_type": "code",
   "execution_count": 39,
   "id": "f3e51c21-76b1-4502-b011-8a32ea286ee8",
   "metadata": {},
   "outputs": [
    {
     "name": "stdout",
     "output_type": "stream",
     "text": [
      "yes\n"
     ]
    }
   ],
   "source": [
    "# 2\n",
    "\n",
    "for i in d:\n",
    "    if i == 'course':\n",
    "        if len(d[i]) > 10:\n",
    "            print('yes')\n",
    "        else:\n",
    "            print(list(d[i]))"
   ]
  },
  {
   "cell_type": "code",
   "execution_count": 48,
   "id": "fddf5abd-a064-4bac-a0eb-b98777f6f3d2",
   "metadata": {},
   "outputs": [
    {
     "data": {
      "text/plain": [
       "{0: 0, 2: 4, 4: 16, 6: 36, 8: 64}"
      ]
     },
     "execution_count": 48,
     "metadata": {},
     "output_type": "execute_result"
    }
   ],
   "source": [
    "# Dictionary Comprehension\n",
    "# Key will be number and value will be square of that.\n",
    "\n",
    "dict ={}\n",
    "\n",
    "for i in range(10):    \n",
    "    dict[i] = i*i\n",
    "\n",
    "\n",
    "{i:i*i for i in range(10)if i%2 ==0 } # using comprehension\n"
   ]
  },
  {
   "cell_type": "code",
   "execution_count": null,
   "id": "a0a7c407-d83c-4403-9131-7d24e593285f",
   "metadata": {},
   "outputs": [],
   "source": []
  }
 ],
 "metadata": {
  "kernelspec": {
   "display_name": "Python 3 (ipykernel)",
   "language": "python",
   "name": "python3"
  },
  "language_info": {
   "codemirror_mode": {
    "name": "ipython",
    "version": 3
   },
   "file_extension": ".py",
   "mimetype": "text/x-python",
   "name": "python",
   "nbconvert_exporter": "python",
   "pygments_lexer": "ipython3",
   "version": "3.11.7"
  }
 },
 "nbformat": 4,
 "nbformat_minor": 5
}
