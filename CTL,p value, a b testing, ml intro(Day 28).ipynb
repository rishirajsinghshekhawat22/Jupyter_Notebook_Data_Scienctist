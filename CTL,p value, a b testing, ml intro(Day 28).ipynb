{
 "cells": [
  {
   "cell_type": "markdown",
   "id": "c161e111-d410-4b0b-a4f6-40e14f2f7e87",
   "metadata": {},
   "source": [
    "# CLT (Central Limit Theoram)\n",
    "\n",
    "If we create a graph of a sample data. It will not show normally distributed curve. However, using CLT we can achieve that.\n",
    "\n",
    "When we roll a two dices. The probabilities are: \n",
    "\n",
    "Sample       Mean \n",
    "1,1           1\n",
    "1,2           1.5\n",
    "1,3           2 \n",
    "1,4           2.5\n",
    "1,5           3 \n",
    "1,6           3.5\n",
    "2,1           1.5\n",
    "2,2           2\n",
    "2,3           2.5\n",
    "2,4           3\n",
    "2,5           3.5\n",
    "2,6           4\n",
    "......        .....\n",
    "6,6           6\n",
    "\n",
    "Mean          Probability Of Accurance(Mean)\n",
    "1             1/36\n",
    "1.5           2/36\n",
    "2             3/36\n",
    "2.5           4/36\n",
    "3             5/36\n",
    "3.5           6/36\n",
    "4             5/36\n",
    "4.5           3/36\n",
    "5\n",
    "5.5\n",
    "6             1/36\n",
    "\n",
    "If the data is not giving normally distributed curve. In that case, we can use **CLT**.\n",
    "\n",
    "When we use CLT? \n",
    "When the data is not normally distributed.\n",
    "\n",
    "# Standard Distribution = Data-Mean/Standard Deviation.\n",
    "\n",
    "**Standariation is better than normalization.**"
   ]
  },
  {
   "cell_type": "markdown",
   "id": "c3af59d3-4d71-47cf-a955-ca8381f73f83",
   "metadata": {},
   "source": [
    "# A/B Testing\n",
    "Meaning: It's a a statistical hypothesis testing where we try to build hypothesis regarding some circumstances or dataset and perform experiments. Then out of the experiments whatever we get, we try to apply that.\n",
    "\n",
    "Hypothesis can be proved through various means.\n",
    "\n",
    "Z Statistics\n",
    "T Statistics\n",
    "Chii Square\n",
    "Anova\n",
    "\n",
    "In the case of A/B testing, we can have multiple hypothesis then we approve or dissapprove it.\n",
    "\n",
    "We can do multi factor test. \n",
    "Example: A poster is created. How many people shown interest in it? How many people clicked it? How many people liked or disliked it?"
   ]
  },
  {
   "cell_type": "markdown",
   "id": "56f1e4de-af7d-48ec-8f41-3a2f3fed1435",
   "metadata": {},
   "source": [
    "# P or Probability Value\n",
    "\n",
    "It's called as smallest level of signicance at which null hypothesis can be rejected.\n",
    "\n",
    "p-value is the smallest level of significance at which a null hypothesis can be rejected. That' why many tests now a days gives p-value and it is more preferred since it gives out more information than the critical value.\n",
    "For right tailed test:\n",
    "p-value = P[Test statistics>=observed value of the test statistic]\n",
    "For left tailed test:\n",
    "p-value = P[test statistics<=observed value of the test statistic]\n",
    "For Two tailed test:\n",
    "p-value=2*P[Test statistics>=|observed value of the test statistic|]\n",
    "Decision making with p-value\n",
    "The p-value is compared to the significance level(alpha) for decision making on null hypothesis.\n",
    "If p-value is greater than alpha, we do not reject the null hypothesis.\n",
    "If p-value is smaller than aplha, we reject the null hypothesis\n",
    "\n",
    "# How to find p-value\n",
    "p-value = P[T<=z(test)]\n",
    "\n",
    "p-value is an area where our solution lies."
   ]
  },
  {
   "cell_type": "markdown",
   "id": "3fd566f8-8e4c-4166-8f9b-998bf7a61b8e",
   "metadata": {},
   "source": [
    "# What Is Machine Learning And Data Science?\n",
    "\n",
    "Augmented AI: Where we use to interact with machine and then machine does the task which is hectic for humans but it needs human intervention.\n",
    "\n",
    "Data Science: It is a stream, field or subject where we study how to interpret, utilize, extract data and showcase data.\n",
    "\n"
   ]
  },
  {
   "cell_type": "markdown",
   "id": "02237435-6289-442d-8e91-98739e1d5a68",
   "metadata": {},
   "source": [
    "# Data Science Consist:\n",
    "Business Understanding\n",
    "Statistics \n",
    "Machine Learning\n",
    "* Supervised Learning : We will have input x and output y then we will have to train. We try to find the relation between input and output. (Regression and classification)\n",
    "* Unsupervised Lerning :  There are different kind of data and we need to separate it basis on common attributes. We will find similarity in the data and then will filter it. We need to separate the data basis on similarity. This is called unsupervised learning.(Clustering operation). Unsupervised learning doesn't have output level. It won't have Y.\n",
    "* Semi Supervised Leaning: It's a combination of super and unsupervised learning.\n",
    "* Reinforcement Learning: Where we try to learn something with hit and try method. We don't know what would happen in future but we still do, e.g., Getting married, investment. Somewhere we can reverse our decision somewhere we can't.\n",
    "Deep Learning : Computer Vision falls under Deep Learning.\n",
    "NLP\n",
    "Reinforcement Learning\n",
    "Programming Language (Least important to become a Data Scientist)\n",
    "\n",
    "As a Data Scientist, we need to find the relation between the data and make logic and then give output."
   ]
  }
 ],
 "metadata": {
  "kernelspec": {
   "display_name": "Python 3 (ipykernel)",
   "language": "python",
   "name": "python3"
  },
  "language_info": {
   "codemirror_mode": {
    "name": "ipython",
    "version": 3
   },
   "file_extension": ".py",
   "mimetype": "text/x-python",
   "name": "python",
   "nbconvert_exporter": "python",
   "pygments_lexer": "ipython3",
   "version": "3.11.7"
  }
 },
 "nbformat": 4,
 "nbformat_minor": 5
}
