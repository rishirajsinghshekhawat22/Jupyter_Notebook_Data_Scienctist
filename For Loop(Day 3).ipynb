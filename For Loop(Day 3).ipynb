{
 "cells": [
  {
   "cell_type": "code",
   "execution_count": 17,
   "id": "70434a37-9441-49e9-8f8c-2c9c5aeea236",
   "metadata": {},
   "outputs": [
    {
     "name": "stdout",
     "output_type": "stream",
     "text": [
      "r\n",
      "i\n",
      "i got a string a\n",
      "s\n",
      "h\n",
      "i\n"
     ]
    }
   ],
   "source": [
    "name = \"rishi\"\n",
    "\n",
    "for x in name:\n",
    "    if x == 's':\n",
    "        print('i got a string a')\n",
    "    print(x)"
   ]
  },
  {
   "cell_type": "code",
   "execution_count": 20,
   "id": "65f7f69b-2b1d-4f8a-8407-5644a514e2af",
   "metadata": {},
   "outputs": [
    {
     "name": "stdout",
     "output_type": "stream",
     "text": [
      "r\n",
      "i\n",
      "s\n",
      "h\n",
      "i\n",
      "the end\n"
     ]
    }
   ],
   "source": [
    "# else in for will work only when for gets executed completely, not when we break it in between.\n",
    "for i in name:\n",
    "    print(i)\n",
    "else:\n",
    "    if i == 'i':\n",
    "        print('the end')\n",
    "\n",
    "# We can use break and continue(it will skip and redirect loop to forloop again)\n",
    "        \n",
    "    "
   ]
  },
  {
   "cell_type": "code",
   "execution_count": 27,
   "id": "05b47443-b82a-4992-880f-891fd5b43472",
   "metadata": {},
   "outputs": [],
   "source": [
    "s = 'rishiraj'\n",
    "ss = \"\"\n",
    "\n",
    "for i in range(len(s)):\n",
    "    if s[i] == 'h':\n",
    "        continue # pass control to for loop again.\n",
    "    else:\n",
    "        ss = ss+s[i]\n",
    "    "
   ]
  },
  {
   "cell_type": "code",
   "execution_count": 28,
   "id": "3f17b66d-c89b-4a74-b80a-bd0f5819c63c",
   "metadata": {},
   "outputs": [
    {
     "data": {
      "text/plain": [
       "'risiraj'"
      ]
     },
     "execution_count": 28,
     "metadata": {},
     "output_type": "execute_result"
    }
   ],
   "source": [
    "ss"
   ]
  },
  {
   "cell_type": "code",
   "execution_count": 30,
   "id": "d362f9b0-e218-4c3f-b951-3068e243cbc9",
   "metadata": {},
   "outputs": [
    {
     "name": "stdout",
     "output_type": "stream",
     "text": [
      "+\n",
      "++\n",
      "+++\n",
      "++++\n",
      "+++++\n",
      "++++++\n",
      "+++++++\n"
     ]
    }
   ],
   "source": [
    "n = 7\n",
    "\n",
    "for i in range(0,n):\n",
    "    for j in range(0,i+1):\n",
    "        print(\"+\",end =\"\") # end = there should not be any value after printing +.\n",
    "    print(\"\\r\") # after printing + it will move to the next line.\n",
    "\n"
   ]
  },
  {
   "cell_type": "code",
   "execution_count": 46,
   "id": "3a1ff4db-4528-4167-8132-8dae9c345499",
   "metadata": {},
   "outputs": [
    {
     "name": "stdout",
     "output_type": "stream",
     "text": [
      "\n",
      "\n",
      "+\n",
      "++\n",
      "+++\n",
      "++++\n",
      "+++++\n"
     ]
    }
   ],
   "source": [
    "n = 7\n",
    "for i in range(0,n):\n",
    "    for j in range(0,i-1):\n",
    "        print(\"+\",end = \"\")\n",
    "    print(\"\\r\")\n"
   ]
  },
  {
   "cell_type": "code",
   "execution_count": 51,
   "id": "85d5d503-9d24-4a01-ad46-0a5d03749938",
   "metadata": {},
   "outputs": [
    {
     "name": "stdout",
     "output_type": "stream",
     "text": [
      "xxxxxxx\n",
      "xxxxxx\n",
      "xxxxx\n",
      "xxxx\n",
      "xxx\n",
      "xx\n",
      "x\n"
     ]
    }
   ],
   "source": [
    "n = 7\n",
    "\n",
    "for i in range(n,0,-1):\n",
    "    for j in range(i):\n",
    "        print(\"x\",end=\"\")\n",
    "    print(\"\")\n",
    "        \n",
    "    \n",
    "\n",
    "m="
   ]
  },
  {
   "cell_type": "code",
   "execution_count": 53,
   "id": "e5e2468d-b7ba-4f50-a25d-f9c777a4552c",
   "metadata": {},
   "outputs": [
    {
     "name": "stdout",
     "output_type": "stream",
     "text": [
      "+++++++++++++++"
     ]
    }
   ],
   "source": [
    "m = 5\n",
    "for i in range(0,m):\n",
    "    for j in range(0,i+1):\n",
    "        print(\"+\",end=\"\")\n",
    "        "
   ]
  },
  {
   "cell_type": "code",
   "execution_count": 1,
   "id": "b6203a58-7d20-4753-ad0e-bf4dfc3e476f",
   "metadata": {},
   "outputs": [
    {
     "name": "stdout",
     "output_type": "stream",
     "text": [
      "*\n",
      "**\n",
      "***\n",
      "****\n",
      "*****\n"
     ]
    }
   ],
   "source": [
    "m = 5\n",
    "for i in range(0,m):\n",
    "    for j in range(0,i+1):\n",
    "        print('*', end=\"\")\n",
    "    print(\"\")"
   ]
  },
  {
   "cell_type": "code",
   "execution_count": 6,
   "id": "816abf21-559f-4885-83e9-fe4947b45068",
   "metadata": {},
   "outputs": [
    {
     "data": {
      "text/plain": [
       "range(0, 5, -1)"
      ]
     },
     "execution_count": 6,
     "metadata": {},
     "output_type": "execute_result"
    }
   ],
   "source": []
  },
  {
   "cell_type": "code",
   "execution_count": 3,
   "id": "b96d6c9a-aea8-4f00-961d-4fa0a94f9589",
   "metadata": {},
   "outputs": [
    {
     "data": {
      "text/plain": [
       "range(0, 5, -1)"
      ]
     },
     "execution_count": 3,
     "metadata": {},
     "output_type": "execute_result"
    }
   ],
   "source": [
    "range(0,5,-1) # 0 = start, 5= end point, -1 = jump/step size."
   ]
  },
  {
   "cell_type": "code",
   "execution_count": 38,
   "id": "918964f2-d837-4a5a-a4e6-8559df4ab04a",
   "metadata": {},
   "outputs": [
    {
     "name": "stdout",
     "output_type": "stream",
     "text": [
      "*************\n",
      " ***********\n",
      "  *********\n",
      "   *******\n",
      "    *****\n",
      "     ***\n",
      "      *\n"
     ]
    }
   ],
   "source": [
    "# Need to practise\n",
    "m = 7\n",
    "\n",
    "for i in range(m,0,-1):\n",
    "    for j in range(m-i):\n",
    "        print('', end=' ') #print will start the line with space and end will end it with space.\n",
    "    for j in range(2*i-1):\n",
    "        print('*',end='')\n",
    "    print()"
   ]
  },
  {
   "cell_type": "code",
   "execution_count": 43,
   "id": "29e338a5-bfb2-4911-b38c-56c65962cf7e",
   "metadata": {},
   "outputs": [
    {
     "name": "stdout",
     "output_type": "stream",
     "text": [
      "         * \n",
      "        *  * \n",
      "       *  *  * \n",
      "      *  *  *  * \n",
      "     *  *  *  *  * \n",
      "    *  *  *  *  *  * \n",
      "   *  *  *  *  *  *  * \n",
      "  *  *  *  *  *  *  *  * \n",
      " *  *  *  *  *  *  *  *  * \n"
     ]
    }
   ],
   "source": [
    "#Practise\n",
    "n = 9\n",
    "i = 0\n",
    "\n",
    "while i<n:\n",
    "    print(' '*(n-i-1)+' * '*(i+1))\n",
    "    i +=1"
   ]
  },
  {
   "cell_type": "code",
   "execution_count": null,
   "id": "6054aec9-3cfd-4984-8517-1c13cfa99f7b",
   "metadata": {},
   "outputs": [],
   "source": [
    "# List is a data or a collection which holds hetrogenous data."
   ]
  },
  {
   "cell_type": "code",
   "execution_count": 78,
   "id": "43bc5a80-4d32-44ff-90a8-396d8115ec4e",
   "metadata": {},
   "outputs": [
    {
     "name": "stdout",
     "output_type": "stream",
     "text": [
      "25\n",
      "47\n",
      "69\n"
     ]
    }
   ],
   "source": [
    "# Practise\n",
    "\n",
    "list1 = ['Happy',22,'Jaipur',True,65+65j,22.09,['Rishi',25,22,22]]\n",
    "list1[6]\n",
    "\n",
    "n=0\n",
    "\n",
    "for i in list1:\n",
    "    if type(i) == list:\n",
    "        for j in i:\n",
    "            if type(j) == int:\n",
    "                n = n+j\n",
    "                print(n)\n",
    "           \n",
    "    \n",
    "    "
   ]
  },
  {
   "cell_type": "code",
   "execution_count": null,
   "id": "fa495857-a411-48d0-b661-15dfd7b08629",
   "metadata": {},
   "outputs": [],
   "source": [
    "# Travesel wise list, string and range are approx same. means indexing and fetching details. [0:1]"
   ]
  }
 ],
 "metadata": {
  "kernelspec": {
   "display_name": "Python 3 (ipykernel)",
   "language": "python",
   "name": "python3"
  },
  "language_info": {
   "codemirror_mode": {
    "name": "ipython",
    "version": 3
   },
   "file_extension": ".py",
   "mimetype": "text/x-python",
   "name": "python",
   "nbconvert_exporter": "python",
   "pygments_lexer": "ipython3",
   "version": "3.11.7"
  }
 },
 "nbformat": 4,
 "nbformat_minor": 5
}
