{
 "cells": [
  {
   "cell_type": "code",
   "execution_count": 1,
   "id": "90d57959-0379-4067-b79c-c438ab6075b5",
   "metadata": {},
   "outputs": [
    {
     "data": {
      "text/plain": [
       "'rishiraj'"
      ]
     },
     "execution_count": 1,
     "metadata": {},
     "output_type": "execute_result"
    }
   ],
   "source": [
    "name = \"rishiraj\"\n",
    "name"
   ]
  },
  {
   "cell_type": "code",
   "execution_count": 8,
   "id": "b0535fb5-5eb2-42b4-9b37-1f18968e4cc1",
   "metadata": {},
   "outputs": [
    {
     "data": {
      "text/plain": [
       "'this is my string class for the data science, that\"s why I have joined this class'"
      ]
     },
     "execution_count": 8,
     "metadata": {},
     "output_type": "execute_result"
    }
   ],
   "source": [
    "a = 'this is my string class for the data science, that\"s why I have joined this class'\n",
    "\n",
    "a"
   ]
  },
  {
   "cell_type": "code",
   "execution_count": 27,
   "id": "c2d78954-2a04-4381-a5a7-ebf8be221241",
   "metadata": {},
   "outputs": [
    {
     "name": "stdout",
     "output_type": "stream",
     "text": [
      "r\n",
      "i\n",
      "s\n",
      "h\n",
      "i\n",
      "r\n",
      "a\n",
      "j\n"
     ]
    },
    {
     "data": {
      "text/plain": [
       "'rishiraj'"
      ]
     },
     "execution_count": 27,
     "metadata": {},
     "output_type": "execute_result"
    }
   ],
   "source": [
    "t = 'rishiraj'\n",
    "\n",
    "len(t)\n",
    "t[0:5]\n",
    "t[::-1]\n",
    "\n",
    "for i in range(len(t)):\n",
    "    print(t[i]) # t of 0, t of 1, t of 2\n",
    "\n",
    "t[0] = 'R' # String is immutable, data once entered cannot be changed.\n",
    "t\n"
   ]
  },
  {
   "cell_type": "code",
   "execution_count": 28,
   "id": "bb1192e3-f845-4bc2-b611-6654e7a5cab3",
   "metadata": {},
   "outputs": [
    {
     "data": {
      "text/plain": [
       "['rishi', 5454, 212.0545, True]"
      ]
     },
     "execution_count": 28,
     "metadata": {},
     "output_type": "execute_result"
    }
   ],
   "source": [
    "l = ['happy',5454,212.0545,True]\n",
    "l[0] = 'rishi'\n",
    "l"
   ]
  },
  {
   "cell_type": "code",
   "execution_count": 35,
   "id": "5898276b-b294-447e-afc7-dba7d0b8932e",
   "metadata": {},
   "outputs": [
    {
     "data": {
      "text/plain": [
       "['h', 'a', 'p', 'p', 'y', 'kumar', 254]"
      ]
     },
     "execution_count": 35,
     "metadata": {},
     "output_type": "execute_result"
    }
   ],
   "source": [
    "# concatenation operation\n",
    "\n",
    "\"rishi\" + \"singh\"\n",
    "\n",
    "'rishi'+ str (22) #type casting\n",
    "\n",
    "list('happy') + ['kumar',254]"
   ]
  },
  {
   "cell_type": "code",
   "execution_count": 37,
   "id": "9ebd5ff6-ce21-4332-ba48-a8222559d9af",
   "metadata": {},
   "outputs": [
    {
     "data": {
      "text/plain": [
       "'rishi rishi rishi rishi rishi rishi '"
      ]
     },
     "execution_count": 37,
     "metadata": {},
     "output_type": "execute_result"
    }
   ],
   "source": [
    "'rishi '*6"
   ]
  },
  {
   "cell_type": "code",
   "execution_count": 50,
   "id": "00eb9b1c-7dd6-400e-8e09-8376ff1f8e17",
   "metadata": {},
   "outputs": [
    {
     "data": {
      "text/plain": [
       "3"
      ]
     },
     "execution_count": 50,
     "metadata": {},
     "output_type": "execute_result"
    }
   ],
   "source": [
    "s = 'my name is rishiraj'\n",
    "s.find('r') #. + tab to get the suggestions.\n",
    "s.replace('m','M',1)\n"
   ]
  },
  {
   "cell_type": "code",
   "execution_count": 71,
   "id": "7bbf606a-bb8a-44ad-a42e-5011e7f2259e",
   "metadata": {},
   "outputs": [
    {
     "name": "stdout",
     "output_type": "stream",
     "text": [
      "3\n",
      "4\n",
      "5\n",
      "6\n"
     ]
    }
   ],
   "source": [
    "s = 'my name is rishiraj'\n",
    "b = s.find('name') # = 3rd index\n",
    "\n",
    "for i in range(len('name')): # len =4 \n",
    "    i +=b # 0+3,1+3....\n",
    "    print(i)\n",
    "    "
   ]
  },
  {
   "cell_type": "code",
   "execution_count": null,
   "id": "3f20aa03-0041-4a66-b42b-4dc5de668309",
   "metadata": {},
   "outputs": [],
   "source": [
    "s.count('m') # number of occurences of given data.\n",
    "s.split(sep='r') # sep = separater criteria\n",
    "s.upper()\n",
    "s.lower()\n",
    "s.capitalize()\n",
    "s.swapcase() # capital to lowercase and lowercase to capital.\n",
    "\" \".join(s) # it will join using the creteria given under \"\"\n",
    "print(list(reversed(s)))\n",
    "\n",
    "for i in reversed(s):\n",
    "    print(i)\n",
    "\n",
    "s.strip() # to remove spaces\n",
    "s.lstrip() # left side space removal\n",
    "s.rstrip()\n",
    "\n"
   ]
  },
  {
   "cell_type": "code",
   "execution_count": 102,
   "id": "793ffe5a-1730-468f-8ea1-171445b14d5d",
   "metadata": {},
   "outputs": [
    {
     "data": {
      "text/plain": [
       "'bbrishibbb'"
      ]
     },
     "execution_count": 102,
     "metadata": {},
     "output_type": "execute_result"
    }
   ],
   "source": [
    "n = 'rishi'\n",
    "\n",
    "n.center(10,'b')"
   ]
  },
  {
   "cell_type": "code",
   "execution_count": 104,
   "id": "e607aa02-91d6-4e93-adfd-3871e77d15a1",
   "metadata": {},
   "outputs": [
    {
     "data": {
      "text/plain": [
       "'my      name    is      rishi   raj'"
      ]
     },
     "execution_count": 104,
     "metadata": {},
     "output_type": "execute_result"
    }
   ],
   "source": [
    "n = 'my\\tname\\tis\\trishi\\traj' #put \\t and the belwo formula\n",
    "\n",
    "n.expandtabs()"
   ]
  },
  {
   "cell_type": "code",
   "execution_count": 111,
   "id": "17aa1190-ce72-4bff-bd73-5097fc311c1b",
   "metadata": {},
   "outputs": [
    {
     "data": {
      "text/plain": [
       "3"
      ]
     },
     "execution_count": 111,
     "metadata": {},
     "output_type": "execute_result"
    }
   ],
   "source": [
    "a =\"we all are a part of full stack\"\n",
    "a.lower()\n",
    "a.count('a')\n",
    "a.replace('a','iNeuron')\n",
    "list(a)\n",
    "\n",
    "\n",
    "    \n"
   ]
  },
  {
   "cell_type": "code",
   "execution_count": 141,
   "id": "ad780efc-b0ec-4847-81e8-a6173aadecc2",
   "metadata": {},
   "outputs": [
    {
     "name": "stdout",
     "output_type": "stream",
     "text": [
      "3\n",
      "7\n",
      "11\n",
      "14\n",
      "28\n"
     ]
    }
   ],
   "source": [
    "# Question: Find all the location/index of 'a' in a string.\n",
    "\n",
    "a =\"we all are a part of full stack\"\n",
    "\n",
    "for i in range(len(a)):\n",
    "    if(a[i] == 'a'):\n",
    "        print(i)\n",
    "    \n",
    "\n",
    "\n"
   ]
  },
  {
   "cell_type": "code",
   "execution_count": 149,
   "id": "4004234f-27b4-4da6-82b1-ff04abd98384",
   "metadata": {},
   "outputs": [
    {
     "data": {
      "text/plain": [
       "True"
      ]
     },
     "execution_count": 149,
     "metadata": {},
     "output_type": "execute_result"
    }
   ],
   "source": [
    "# Checking method\n",
    "a = ' rishiraj   '\n",
    "a.isnumeric() # Will return boolean value.\n",
    "a.isalpha()\n",
    "a.isspace()"
   ]
  },
  {
   "cell_type": "code",
   "execution_count": 12,
   "id": "cd25ebd6-3bc9-430f-9908-04c533991b85",
   "metadata": {},
   "outputs": [
    {
     "name": "stdout",
     "output_type": "stream",
     "text": [
      "26\n"
     ]
    }
   ],
   "source": [
    "s  = \"this is a full stack batch\"\n",
    "count = 0\n",
    "\n",
    "for i in s:\n",
    "    count = count +1\n",
    "print(count)\n",
    "\n"
   ]
  },
  {
   "cell_type": "code",
   "execution_count": 21,
   "id": "6a0e350f-0d7e-452b-9d35-e65350cc60a1",
   "metadata": {},
   "outputs": [
    {
     "name": "stdout",
     "output_type": "stream",
     "text": [
      "t\n",
      "h\n",
      "c\n",
      "t\n",
      "a\n",
      "b\n",
      " \n",
      "k\n",
      "c\n",
      "a\n",
      "t\n",
      "s\n",
      " \n",
      "l\n",
      "l\n",
      "u\n",
      "f\n",
      " \n",
      "a\n",
      " \n",
      "s\n",
      "i\n",
      " \n",
      "s\n",
      "i\n",
      "h\n"
     ]
    }
   ],
   "source": [
    "# Iterate a string using it's index not directly.\n",
    "s  = \"this is a full stack batch\"\n",
    "for i in range(len(s)):\n",
    "    print(s[-i])"
   ]
  },
  {
   "cell_type": "code",
   "execution_count": 4,
   "id": "5f9289be-e603-49c5-a61a-5e6aac565431",
   "metadata": {},
   "outputs": [
    {
     "name": "stdout",
     "output_type": "stream",
     "text": [
      "i\n",
      "h\n",
      "s\n",
      "i\n",
      "r\n"
     ]
    }
   ],
   "source": [
    "n = 'rishi'\n",
    "ch = len(n) - 1\n",
    "ch # = 4\n",
    "\n",
    "while ch>=0:\n",
    "    print(n[ch]) # first it will print 4\n",
    "    ch -=1 # 4-1,3-1,2-1,1-1\n"
   ]
  },
  {
   "cell_type": "code",
   "execution_count": 14,
   "id": "94434413-94a3-4210-97ef-d303ab4b9523",
   "metadata": {},
   "outputs": [
    {
     "name": "stdout",
     "output_type": "stream",
     "text": [
      "j\n",
      "a\n",
      "r\n",
      "j\n",
      "a\n",
      "r\n"
     ]
    }
   ],
   "source": [
    "#reversing using all the methods.\n",
    "r = 'raj'\n",
    "r[::-1]\n",
    "\n",
    "for i in r[::-1]:\n",
    "    print(i)\n",
    "\n",
    "ch = len(r)-1\n",
    "\n",
    "while ch>=0:\n",
    "    print(r[ch])\n",
    "    ch-=1\n",
    "\n",
    "\n"
   ]
  },
  {
   "cell_type": "code",
   "execution_count": 31,
   "id": "ff555a08-9899-4778-838e-ef163cdb10fe",
   "metadata": {},
   "outputs": [
    {
     "name": "stdout",
     "output_type": "stream",
     "text": [
      "this is not a vowelr\n",
      "this is a vowwel i\n",
      "this is not a vowels\n",
      "this is not a vowelh\n",
      "this is a vowwel i\n",
      "this is not a vowelr\n",
      "this is a vowwel a\n",
      "this is not a vowelj\n"
     ]
    }
   ],
   "source": [
    "name = 'rishiraj'\n",
    "vowels = 'AaEeIiOoUu'\n",
    "\n",
    "for i in name:\n",
    "    if i in vowels:\n",
    "        print(f\"this is a vowwel {i}\")\n",
    "    else:\n",
    "        print(f'this is not a vowel{i}')\n",
    "        \n",
    "            \n",
    "        \n",
    "            \n",
    "        \n",
    "        \n",
    "    \n",
    "        \n"
   ]
  },
  {
   "cell_type": "code",
   "execution_count": 33,
   "id": "ffd3eb42-5da0-42e5-be01-4492f79ee062",
   "metadata": {},
   "outputs": [
    {
     "data": {
      "text/plain": [
       "'rishi is good boy and he is a champion'"
      ]
     },
     "execution_count": 33,
     "metadata": {},
     "output_type": "execute_result"
    }
   ],
   "source": [
    "'{} name is rishiraj'.format('my')\n",
    "'{} is good boy {} he is a champion'.format('rishi','and')"
   ]
  },
  {
   "cell_type": "code",
   "execution_count": 37,
   "id": "49222b07-fe45-4a5b-b668-7064cad434d7",
   "metadata": {},
   "outputs": [
    {
     "name": "stdin",
     "output_type": "stream",
     "text": [
      "enter name happy\n"
     ]
    },
    {
     "name": "stdout",
     "output_type": "stream",
     "text": [
      "it's not a pelindrom data\n"
     ]
    }
   ],
   "source": [
    "# Pelindrom is which is same in forward or backward direction.\n",
    "# Example: 'nitin','eye',2002\n",
    "\n",
    "s= input('enter name')\n",
    "s1 = s[::-1]\n",
    "if s == s1:\n",
    "    print(\"it's a pelindrom data\")\n",
    "else:\n",
    "    print(\"it's not a pelindrom data\")\n",
    "\n"
   ]
  },
  {
   "cell_type": "code",
   "execution_count": 44,
   "id": "beb182f4-c398-4167-8b5a-517f10e2d1b9",
   "metadata": {},
   "outputs": [
    {
     "data": {
      "text/plain": [
       "[[12, 58], 52, 34, 34]"
      ]
     },
     "execution_count": 44,
     "metadata": {},
     "output_type": "execute_result"
    }
   ],
   "source": [
    "l = ['rishi',34,34,52,[12,58]]\n",
    "l[5:0:-1]\n"
   ]
  },
  {
   "cell_type": "code",
   "execution_count": 45,
   "id": "e4422e10-174b-41bf-bbb0-3ea3f9862fd8",
   "metadata": {},
   "outputs": [
    {
     "data": {
      "text/plain": [
       "['rishi', 34, 34, 52, [12, 58]]"
      ]
     },
     "execution_count": 45,
     "metadata": {},
     "output_type": "execute_result"
    }
   ],
   "source": [
    "l"
   ]
  },
  {
   "cell_type": "code",
   "execution_count": 46,
   "id": "0e1d8ed9-7f21-4596-933f-5e9d9526a94b",
   "metadata": {},
   "outputs": [
    {
     "data": {
      "text/plain": [
       "['rishi', 34, 34, 52, [12, 58], 'r', 'i', 's', 'h', 'i']"
      ]
     },
     "execution_count": 46,
     "metadata": {},
     "output_type": "execute_result"
    }
   ],
   "source": [
    "s ='rishi'\n",
    "\n",
    "l+list(s)"
   ]
  },
  {
   "cell_type": "code",
   "execution_count": 47,
   "id": "8a97ca33-ecf5-41cf-b1da-fe8dd8c7050b",
   "metadata": {},
   "outputs": [
    {
     "data": {
      "text/plain": [
       "5"
      ]
     },
     "execution_count": 47,
     "metadata": {},
     "output_type": "execute_result"
    }
   ],
   "source": [
    "len(l) # to check lenght, len() will work with string and list."
   ]
  },
  {
   "cell_type": "code",
   "execution_count": 48,
   "id": "de62c6a1-f9f3-4d5e-b18f-14fc52318c1f",
   "metadata": {},
   "outputs": [
    {
     "data": {
      "text/plain": [
       "True"
      ]
     },
     "execution_count": 48,
     "metadata": {},
     "output_type": "execute_result"
    }
   ],
   "source": [
    "'rishi' in l"
   ]
  },
  {
   "cell_type": "code",
   "execution_count": null,
   "id": "4b04ff6c-9cc8-44e6-b64c-4ef51b809b9d",
   "metadata": {},
   "outputs": [],
   "source": []
  }
 ],
 "metadata": {
  "kernelspec": {
   "display_name": "Python 3 (ipykernel)",
   "language": "python",
   "name": "python3"
  },
  "language_info": {
   "codemirror_mode": {
    "name": "ipython",
    "version": 3
   },
   "file_extension": ".py",
   "mimetype": "text/x-python",
   "name": "python",
   "nbconvert_exporter": "python",
   "pygments_lexer": "ipython3",
   "version": "3.11.7"
  }
 },
 "nbformat": 4,
 "nbformat_minor": 5
}
