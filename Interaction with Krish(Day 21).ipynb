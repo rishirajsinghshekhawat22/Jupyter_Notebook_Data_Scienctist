{
 "cells": [
  {
   "cell_type": "code",
   "execution_count": 1,
   "id": "5b63b66a-e910-46ec-b553-025f40228ab9",
   "metadata": {},
   "outputs": [],
   "source": [
    "# Numba : It's a JIT compiler (Just In Time) \n",
    "\n",
    "# It will make python code run fast."
   ]
  },
  {
   "cell_type": "code",
   "execution_count": 2,
   "id": "97cb9d54-fbf9-46e8-ae5c-d599bc03d6bf",
   "metadata": {},
   "outputs": [
    {
     "name": "stdout",
     "output_type": "stream",
     "text": [
      "Requirement already satisfied: numba in c:\\users\\user\\anaconda3\\lib\\site-packages (0.59.0)\n",
      "Requirement already satisfied: llvmlite<0.43,>=0.42.0dev0 in c:\\users\\user\\anaconda3\\lib\\site-packages (from numba) (0.42.0)\n",
      "Requirement already satisfied: numpy<1.27,>=1.22 in c:\\users\\user\\anaconda3\\lib\\site-packages (from numba) (1.26.4)\n"
     ]
    }
   ],
   "source": [
    "!pip install numba"
   ]
  },
  {
   "cell_type": "code",
   "execution_count": 9,
   "id": "e655ac07-baa2-4b95-818e-5da98c03b54c",
   "metadata": {},
   "outputs": [],
   "source": [
    "import ipdb\n",
    "\n",
    "# with debugger we can check flow of the code.\n",
    " \n",
    "def testdebug():\n",
    "    ipdb.set_trace()\n",
    "    l = []\n",
    "    for i in range(6):\n",
    "        l.append(i)\n",
    "        print('the data has been appended in list')\n",
    "    return l"
   ]
  },
  {
   "cell_type": "code",
   "execution_count": 3,
   "id": "f6daab80-156a-4c35-9702-e5e567bf3a1b",
   "metadata": {},
   "outputs": [],
   "source": [
    "import numpy as np"
   ]
  },
  {
   "cell_type": "code",
   "execution_count": 4,
   "id": "67882d70-df45-45bb-98d7-9a219ee4fc65",
   "metadata": {},
   "outputs": [
    {
     "data": {
      "text/plain": [
       "array([1, 2, 3, 4, 5])"
      ]
     },
     "execution_count": 4,
     "metadata": {},
     "output_type": "execute_result"
    }
   ],
   "source": [
    "np.array([1,2,3,4,5])\n",
    "\n",
    "# Array is a homogenous collection of data."
   ]
  },
  {
   "cell_type": "code",
   "execution_count": 5,
   "id": "99c03e65-7505-4293-b0d6-fcad27767c74",
   "metadata": {},
   "outputs": [
    {
     "data": {
      "text/plain": [
       "array([1, 2, 3, 8, 9, 7, 5])"
      ]
     },
     "execution_count": 5,
     "metadata": {},
     "output_type": "execute_result"
    }
   ],
   "source": [
    "ll = [1,2,3,8,9,7,5]\n",
    "np.array(ll)"
   ]
  },
  {
   "cell_type": "code",
   "execution_count": 7,
   "id": "969e37ed-b534-46e4-a24e-4490e0ced95b",
   "metadata": {},
   "outputs": [],
   "source": [
    "from numba import jit"
   ]
  },
  {
   "cell_type": "code",
   "execution_count": 1,
   "id": "3648fd82-6694-4ba3-9944-105e6f7a2126",
   "metadata": {},
   "outputs": [],
   "source": [
    "# We need to sort this before using any inbuilt function.\n",
    "\n",
    "data = [25,36,43,67,90,45]"
   ]
  },
  {
   "cell_type": "code",
   "execution_count": 2,
   "id": "bdcd9ff6-e575-4b9c-a52a-97ba5710f597",
   "metadata": {},
   "outputs": [
    {
     "data": {
      "text/plain": [
       "[25, 36, 43, 67, 90, 45]"
      ]
     },
     "execution_count": 2,
     "metadata": {},
     "output_type": "execute_result"
    }
   ],
   "source": [
    "data"
   ]
  },
  {
   "cell_type": "code",
   "execution_count": 12,
   "id": "0b60da4d-1e12-41f2-9f4a-59a98f70dfca",
   "metadata": {},
   "outputs": [
    {
     "data": {
      "text/plain": [
       "[25, 36, 43, 67, 90, 45]"
      ]
     },
     "execution_count": 12,
     "metadata": {},
     "output_type": "execute_result"
    }
   ],
   "source": [
    "data[::1]"
   ]
  },
  {
   "cell_type": "code",
   "execution_count": 18,
   "id": "33bf22b8-64d5-430a-b916-7ad9246102df",
   "metadata": {},
   "outputs": [
    {
     "data": {
      "text/plain": [
       "[25, 36, 43, 67, 90, 45]"
      ]
     },
     "execution_count": 18,
     "metadata": {},
     "output_type": "execute_result"
    }
   ],
   "source": [
    "data[::]"
   ]
  },
  {
   "cell_type": "code",
   "execution_count": 19,
   "id": "25f9439f-3601-47be-97ab-7dd4404b5ca8",
   "metadata": {},
   "outputs": [],
   "source": [
    "def func(value):\n",
    "    return sorted(value)"
   ]
  },
  {
   "cell_type": "code",
   "execution_count": 20,
   "id": "206565e9-9663-4e7c-ad4b-47af0e2842f3",
   "metadata": {},
   "outputs": [
    {
     "data": {
      "text/plain": [
       "[25, 36, 43, 45, 67, 90]"
      ]
     },
     "execution_count": 20,
     "metadata": {},
     "output_type": "execute_result"
    }
   ],
   "source": [
    "func(data)"
   ]
  },
  {
   "cell_type": "code",
   "execution_count": 12,
   "id": "07ce839a-cb5c-4375-84da-bf2dfaaed1d8",
   "metadata": {},
   "outputs": [
    {
     "name": "stdout",
     "output_type": "stream",
     "text": [
      "[25, 36, 43, 45, 67, 90]\n"
     ]
    }
   ],
   "source": [
    "# Answer\n",
    "for i in range(len(data)): #(0,6)\n",
    "    for j in range(i,len(data)):\n",
    "        if(data[j]<data[i]):\n",
    "            var = data[i] \n",
    "            data[i] = data[j] # It's called swapping.\n",
    "            data[j]=var \n",
    "print(data)\n",
    "    "
   ]
  },
  {
   "cell_type": "code",
   "execution_count": 8,
   "id": "303baadc-235f-4a05-b459-7ebc7c2cd85d",
   "metadata": {},
   "outputs": [
    {
     "data": {
      "text/plain": [
       "6"
      ]
     },
     "execution_count": 8,
     "metadata": {},
     "output_type": "execute_result"
    }
   ],
   "source": [
    "len(data)"
   ]
  },
  {
   "cell_type": "code",
   "execution_count": null,
   "id": "a36dc0fe-ddcb-4afb-9feb-089b386e1172",
   "metadata": {},
   "outputs": [],
   "source": []
  },
  {
   "cell_type": "code",
   "execution_count": 14,
   "id": "acfce3e9-a662-4446-9def-f0c13116a32b",
   "metadata": {},
   "outputs": [],
   "source": [
    "x,y = 5,4"
   ]
  },
  {
   "cell_type": "code",
   "execution_count": 15,
   "id": "36db7d6a-70f0-4cbf-8eaf-71a922725d1a",
   "metadata": {},
   "outputs": [
    {
     "data": {
      "text/plain": [
       "5"
      ]
     },
     "execution_count": 15,
     "metadata": {},
     "output_type": "execute_result"
    }
   ],
   "source": [
    "x"
   ]
  },
  {
   "cell_type": "code",
   "execution_count": 25,
   "id": "edfb81ec-b118-44d3-a97d-0d6bddf37366",
   "metadata": {},
   "outputs": [],
   "source": [
    "a= lambda x,y:x*5"
   ]
  },
  {
   "cell_type": "code",
   "execution_count": 26,
   "id": "8e14d399-9b34-4e04-8a9c-465eb1a84912",
   "metadata": {},
   "outputs": [
    {
     "data": {
      "text/plain": [
       "25"
      ]
     },
     "execution_count": 26,
     "metadata": {},
     "output_type": "execute_result"
    }
   ],
   "source": [
    "a(5,5)"
   ]
  },
  {
   "cell_type": "code",
   "execution_count": 18,
   "id": "af399858-731f-44d6-a188-0f94556624ab",
   "metadata": {},
   "outputs": [],
   "source": [
    "lst = ['krish','sudhandu','amit','paul']"
   ]
  },
  {
   "cell_type": "code",
   "execution_count": 27,
   "id": "0c1d767b-936b-4152-9f79-587eb5bc0842",
   "metadata": {},
   "outputs": [],
   "source": [
    "# Try to create a list comprehension through that you need to capitize all this"
   ]
  },
  {
   "cell_type": "code",
   "execution_count": 33,
   "id": "8ca85681-8116-4186-a310-41073d936ef1",
   "metadata": {},
   "outputs": [],
   "source": [
    "capitilized_list = [i.capitalize() for i in lst]"
   ]
  },
  {
   "cell_type": "code",
   "execution_count": 34,
   "id": "11332b07-acd7-4b2a-85f1-6d24781ac478",
   "metadata": {},
   "outputs": [
    {
     "name": "stdout",
     "output_type": "stream",
     "text": [
      "['Krish']\n"
     ]
    }
   ],
   "source": [
    "print(capitilized_list)"
   ]
  },
  {
   "cell_type": "code",
   "execution_count": 37,
   "id": "43627ca7-6a31-4a3c-b078-559e80feee91",
   "metadata": {},
   "outputs": [
    {
     "data": {
      "text/plain": [
       "['Krish', 'Sudhandu', 'Amit', 'Paul']"
      ]
     },
     "execution_count": 37,
     "metadata": {},
     "output_type": "execute_result"
    }
   ],
   "source": [
    "lst = ['krish','sudhandu','amit','paul']\n",
    "cap = [i.capitalize() for i in lst]\n",
    "cap"
   ]
  },
  {
   "cell_type": "code",
   "execution_count": 43,
   "id": "3091c642-9c9e-4909-a46b-3b5b611239ee",
   "metadata": {},
   "outputs": [],
   "source": [
    "cap_lambda = list(map(lambda word:word.capitalize(),lst))"
   ]
  },
  {
   "cell_type": "code",
   "execution_count": 44,
   "id": "dc3f3258-4232-4365-9e05-1eb2bad35978",
   "metadata": {},
   "outputs": [
    {
     "data": {
      "text/plain": [
       "['Krish', 'Sudhandu', 'Amit', 'Paul']"
      ]
     },
     "execution_count": 44,
     "metadata": {},
     "output_type": "execute_result"
    }
   ],
   "source": [
    "map("
   ]
  },
  {
   "cell_type": "code",
   "execution_count": 1,
   "id": "c721429f-f4da-47ae-9ccf-63fb9314c7a8",
   "metadata": {},
   "outputs": [],
   "source": [
    "listt = [1,5,7,2,4,3,6]"
   ]
  },
  {
   "cell_type": "code",
   "execution_count": 2,
   "id": "23d7b146-97ab-4ebb-8c86-1de000f6b043",
   "metadata": {},
   "outputs": [
    {
     "data": {
      "text/plain": [
       "[1, 5, 7, 2, 4, 3, 6]"
      ]
     },
     "execution_count": 2,
     "metadata": {},
     "output_type": "execute_result"
    }
   ],
   "source": [
    "listt"
   ]
  },
  {
   "cell_type": "code",
   "execution_count": 4,
   "id": "fecc3f91-df2a-4d14-ab78-3f6762045382",
   "metadata": {},
   "outputs": [
    {
     "data": {
      "text/plain": [
       "range(0, 7)"
      ]
     },
     "execution_count": 4,
     "metadata": {},
     "output_type": "execute_result"
    }
   ],
   "source": [
    "range(len(listt))"
   ]
  },
  {
   "cell_type": "code",
   "execution_count": 5,
   "id": "990872e2-255c-4014-8d04-e1895a691dee",
   "metadata": {},
   "outputs": [
    {
     "name": "stdout",
     "output_type": "stream",
     "text": [
      "0\n",
      "0\n",
      "1\n",
      "0\n",
      "1\n",
      "2\n",
      "0\n",
      "1\n",
      "2\n",
      "3\n",
      "0\n",
      "1\n",
      "2\n",
      "3\n",
      "4\n",
      "0\n",
      "1\n",
      "2\n",
      "3\n",
      "4\n",
      "5\n"
     ]
    }
   ],
   "source": [
    "for i in range(len(listt)):#range(0, 7)\n",
    "    for j in range(i):\n",
    "        print(j)"
   ]
  },
  {
   "cell_type": "code",
   "execution_count": 9,
   "id": "8fdba583-1732-4005-8108-6f92dcb7f269",
   "metadata": {},
   "outputs": [
    {
     "name": "stdout",
     "output_type": "stream",
     "text": [
      "[1, 2, 3, 4, 5, 6, 7]\n"
     ]
    }
   ],
   "source": [
    "for i in range(len(listt)):\n",
    "    for j in range(i,len(listt)):\n",
    "        if(listt[j]<listt[i]):\n",
    "            temp=listt[i]\n",
    "            listt[i]=listt[j]\n",
    "            listt[j]=temp\n",
    "print(listt)"
   ]
  },
  {
   "cell_type": "code",
   "execution_count": 6,
   "id": "fd4dfeaf-8826-4865-a3b4-bb7761c536f7",
   "metadata": {},
   "outputs": [
    {
     "data": {
      "text/plain": [
       "7"
      ]
     },
     "execution_count": 6,
     "metadata": {},
     "output_type": "execute_result"
    }
   ],
   "source": [
    "len(listt)"
   ]
  },
  {
   "cell_type": "code",
   "execution_count": 10,
   "id": "c3637a89-c6a3-4922-9cc4-8cdc990ca0b9",
   "metadata": {},
   "outputs": [],
   "source": [
    "# Time complexity: What is the best it may take to get executed."
   ]
  },
  {
   "cell_type": "code",
   "execution_count": 12,
   "id": "8a7403b4-9c49-43cb-8360-20e0a48377ad",
   "metadata": {},
   "outputs": [],
   "source": [
    "names = ['happy','rishiraj','singh','shekhawat']\n",
    "\n",
    "# try to create list comprehension through which capilitize data in the above list."
   ]
  },
  {
   "cell_type": "code",
   "execution_count": 21,
   "id": "54a12174-0fe9-40a9-95f4-d8d2582b925a",
   "metadata": {},
   "outputs": [],
   "source": [
    "capilitilized_names = [i.capitalize() for i in names]"
   ]
  },
  {
   "cell_type": "code",
   "execution_count": 22,
   "id": "cb88a20e-55e4-4882-9c16-851fe56c6bc1",
   "metadata": {},
   "outputs": [
    {
     "data": {
      "text/plain": [
       "['Happy', 'Rishiraj', 'Singh', 'Shekhawat']"
      ]
     },
     "execution_count": 22,
     "metadata": {},
     "output_type": "execute_result"
    }
   ],
   "source": [
    "capilitilized_names"
   ]
  },
  {
   "cell_type": "code",
   "execution_count": 23,
   "id": "77229f5b-f9d9-4e52-ad0a-70b827419ad6",
   "metadata": {},
   "outputs": [
    {
     "ename": "SyntaxError",
     "evalue": "invalid syntax (2818523263.py, line 1)",
     "output_type": "error",
     "traceback": [
      "\u001b[1;36m  Cell \u001b[1;32mIn[23], line 1\u001b[1;36m\u001b[0m\n\u001b[1;33m    lambda_names = lambda i.capitalize():i in names\u001b[0m\n\u001b[1;37m                           ^\u001b[0m\n\u001b[1;31mSyntaxError\u001b[0m\u001b[1;31m:\u001b[0m invalid syntax\n"
     ]
    }
   ],
   "source": [
    "lambda_names = lambda i.capitalize():i in names"
   ]
  },
  {
   "cell_type": "code",
   "execution_count": 24,
   "id": "9826ac0a-fe6e-4357-bbbb-bc1fdbb1b966",
   "metadata": {},
   "outputs": [],
   "source": [
    "n = lambda a:a*a"
   ]
  },
  {
   "cell_type": "code",
   "execution_count": 25,
   "id": "2aad407e-583b-424f-9004-775fb2c188f0",
   "metadata": {},
   "outputs": [
    {
     "data": {
      "text/plain": [
       "25"
      ]
     },
     "execution_count": 25,
     "metadata": {},
     "output_type": "execute_result"
    }
   ],
   "source": [
    "n(5)"
   ]
  },
  {
   "cell_type": "code",
   "execution_count": 39,
   "id": "02deab25-1a0b-40b5-ba0e-56c36db78381",
   "metadata": {},
   "outputs": [],
   "source": [
    "name = list(map(lambda i:i.capitalize(),names))"
   ]
  },
  {
   "cell_type": "code",
   "execution_count": 40,
   "id": "872405fc-219b-4c57-a3e1-0795fea22c91",
   "metadata": {},
   "outputs": [
    {
     "data": {
      "text/plain": [
       "['Happy', 'Rishiraj', 'Singh', 'Shekhawat']"
      ]
     },
     "execution_count": 40,
     "metadata": {},
     "output_type": "execute_result"
    }
   ],
   "source": [
    "name"
   ]
  },
  {
   "cell_type": "code",
   "execution_count": 4,
   "id": "b509bb9b-ddd3-4919-b120-5ebaf798add0",
   "metadata": {},
   "outputs": [
    {
     "data": {
      "text/plain": [
       "[9]"
      ]
     },
     "execution_count": 4,
     "metadata": {},
     "output_type": "execute_result"
    }
   ],
   "source": [
    "a = [1,2,3,4,5,7,8,9]\n",
    "a[-1:]"
   ]
  },
  {
   "cell_type": "code",
   "execution_count": 5,
   "id": "3b94f2e8-6b99-4c53-835c-744172105b60",
   "metadata": {},
   "outputs": [
    {
     "name": "stdout",
     "output_type": "stream",
     "text": [
      "<class 'tuple'>\n"
     ]
    }
   ],
   "source": [
    "A = ('Python',\"Java\")\n",
    "print(type(A))"
   ]
  },
  {
   "cell_type": "code",
   "execution_count": 6,
   "id": "58389724-383d-41ca-8f46-5f11514dd71f",
   "metadata": {},
   "outputs": [
    {
     "data": {
      "text/plain": [
       "tuple"
      ]
     },
     "execution_count": 6,
     "metadata": {},
     "output_type": "execute_result"
    }
   ],
   "source": [
    "B = (\"Python\",)\n",
    "type(B)"
   ]
  },
  {
   "cell_type": "code",
   "execution_count": 7,
   "id": "4de40adc-1083-4bce-a684-69d54e8ec591",
   "metadata": {},
   "outputs": [
    {
     "data": {
      "text/plain": [
       "str"
      ]
     },
     "execution_count": 7,
     "metadata": {},
     "output_type": "execute_result"
    }
   ],
   "source": [
    "C=('Python')\n",
    "type(C)"
   ]
  },
  {
   "cell_type": "code",
   "execution_count": 9,
   "id": "fc5feca9-81fc-4723-88e6-38d17c332ce4",
   "metadata": {},
   "outputs": [
    {
     "data": {
      "text/plain": [
       "12"
      ]
     },
     "execution_count": 9,
     "metadata": {},
     "output_type": "execute_result"
    }
   ],
   "source": [
    "a = lambda x,y:x+y\n",
    "a(5,7)"
   ]
  },
  {
   "cell_type": "code",
   "execution_count": 10,
   "id": "9fd61c1f-a99e-4bbb-a70b-2434987b9a33",
   "metadata": {},
   "outputs": [],
   "source": [
    "# Lambda function is called anonymous function. A function without a name is called anonymous name. In the above example, we are assinging a variable lateron, there's is no name given."
   ]
  },
  {
   "cell_type": "code",
   "execution_count": 12,
   "id": "0cbdb5f9-a86d-46a0-b7e2-cc71cbc708d0",
   "metadata": {},
   "outputs": [],
   "source": [
    "# Difference Between Shallow Copy And Deep Copy"
   ]
  },
  {
   "cell_type": "code",
   "execution_count": 14,
   "id": "2a06aaf9-aca0-4faa-88fe-123c3259e97e",
   "metadata": {},
   "outputs": [],
   "source": [
    "# In the below exapmple both lists are using the same memory space.\n",
    "\n",
    "list1 = [1,2,3,4,5,6]\n",
    "list2 = list1"
   ]
  },
  {
   "cell_type": "code",
   "execution_count": 16,
   "id": "91bd5eb7-3a38-4875-bb21-7173c0e3e8ed",
   "metadata": {},
   "outputs": [],
   "source": [
    "list2[1]=100"
   ]
  },
  {
   "cell_type": "code",
   "execution_count": 17,
   "id": "a7848d2f-83e6-4be9-97c4-c1eef43cadb2",
   "metadata": {},
   "outputs": [
    {
     "data": {
      "text/plain": [
       "[1, 100, 3, 4, 5, 6]"
      ]
     },
     "execution_count": 17,
     "metadata": {},
     "output_type": "execute_result"
    }
   ],
   "source": [
    "list2"
   ]
  },
  {
   "cell_type": "code",
   "execution_count": 18,
   "id": "e2b3391c-2484-4864-8aaf-1720b858b1ab",
   "metadata": {},
   "outputs": [
    {
     "data": {
      "text/plain": [
       "[1, 100, 3, 4, 5, 6]"
      ]
     },
     "execution_count": 18,
     "metadata": {},
     "output_type": "execute_result"
    }
   ],
   "source": [
    "list1"
   ]
  },
  {
   "cell_type": "code",
   "execution_count": 19,
   "id": "fd773849-4db2-4c87-93b2-f549bb1039ea",
   "metadata": {},
   "outputs": [],
   "source": [
    "# Example 2nd\n",
    "\n",
    "list1 = [1,2,3,4,5,6]\n",
    "list2 = list1.copy()"
   ]
  },
  {
   "cell_type": "code",
   "execution_count": 20,
   "id": "e16f67cf-aa5d-4c64-bc98-14c4ebb295dd",
   "metadata": {},
   "outputs": [],
   "source": [
    "list2[2]=22"
   ]
  },
  {
   "cell_type": "code",
   "execution_count": 21,
   "id": "fe3daa56-b2a8-492d-a4aa-957300e8bec2",
   "metadata": {},
   "outputs": [
    {
     "data": {
      "text/plain": [
       "[1, 2, 22, 4, 5, 6]"
      ]
     },
     "execution_count": 21,
     "metadata": {},
     "output_type": "execute_result"
    }
   ],
   "source": [
    "list2"
   ]
  },
  {
   "cell_type": "code",
   "execution_count": 22,
   "id": "3af6ac46-9028-4ae0-b3fd-d8b94d36386b",
   "metadata": {},
   "outputs": [
    {
     "data": {
      "text/plain": [
       "[1, 2, 3, 4, 5, 6]"
      ]
     },
     "execution_count": 22,
     "metadata": {},
     "output_type": "execute_result"
    }
   ],
   "source": [
    "list1"
   ]
  },
  {
   "cell_type": "code",
   "execution_count": 23,
   "id": "8cb4f1bb-97c3-45ee-8cad-5b115fdaf23d",
   "metadata": {},
   "outputs": [
    {
     "data": {
      "text/plain": [
       "1202939605184"
      ]
     },
     "execution_count": 23,
     "metadata": {},
     "output_type": "execute_result"
    }
   ],
   "source": [
    "# What does ID specify \n",
    "\n",
    "# It specefies the memory address. We can check using this, if the data is stored in same space or not.\n",
    "\n",
    "id(list1)\n"
   ]
  },
  {
   "cell_type": "code",
   "execution_count": 24,
   "id": "5190ef14-6cc5-49ad-a2d3-ced188ebda7f",
   "metadata": {},
   "outputs": [],
   "source": [
    "# What is anagram?\n",
    "# Example: \n",
    "\n",
    "# POT, TOP (All possible outcomes of the word is called anagram)"
   ]
  },
  {
   "cell_type": "code",
   "execution_count": 28,
   "id": "8f62431d-c09f-426f-a3da-40fba1e31d3c",
   "metadata": {},
   "outputs": [
    {
     "data": {
      "text/plain": [
       "('top', 'pot')"
      ]
     },
     "execution_count": 28,
     "metadata": {},
     "output_type": "execute_result"
    }
   ],
   "source": [
    "\"top\", \"pot\""
   ]
  },
  {
   "cell_type": "code",
   "execution_count": 55,
   "id": "aec99f45-6863-4875-a9e7-4db2cfd20c81",
   "metadata": {},
   "outputs": [],
   "source": [
    "def anagram(top,pot):\n",
    "    return top == pot"
   ]
  },
  {
   "cell_type": "code",
   "execution_count": 56,
   "id": "1249f48a-b7b0-4d15-82f0-ac900bcf3e06",
   "metadata": {},
   "outputs": [
    {
     "name": "stdout",
     "output_type": "stream",
     "text": [
      "It's an anagram\n"
     ]
    }
   ],
   "source": [
    "print(is_anagram('top','pot'))"
   ]
  },
  {
   "cell_type": "code",
   "execution_count": 57,
   "id": "e41a3139-1845-45ec-99d2-a4c6753a542e",
   "metadata": {},
   "outputs": [],
   "source": [
    "def is_anagram(x,y):\n",
    "    if sorted(x) == sorted(y):\n",
    "        return \"It's an anagram\"\n",
    "    else: \n",
    "        return \"It's not an anagram\""
   ]
  },
  {
   "cell_type": "code",
   "execution_count": 61,
   "id": "f71d61b1-c702-4849-91dd-1e23f5dc12e7",
   "metadata": {},
   "outputs": [
    {
     "data": {
      "text/plain": [
       "\"It's an anagram\""
      ]
     },
     "execution_count": 61,
     "metadata": {},
     "output_type": "execute_result"
    }
   ],
   "source": [
    "is_anagram('top','otp')"
   ]
  },
  {
   "cell_type": "code",
   "execution_count": 62,
   "id": "df6a8514-ed8e-4b90-8197-947e8be3564d",
   "metadata": {},
   "outputs": [],
   "source": [
    "# Exception Handling "
   ]
  },
  {
   "cell_type": "code",
   "execution_count": 63,
   "id": "bff0dd71-47d0-4f75-ab4a-feecae0e5ef8",
   "metadata": {},
   "outputs": [
    {
     "name": "stdout",
     "output_type": "stream",
     "text": [
      "division by zero\n"
     ]
    }
   ],
   "source": [
    "i = 5\n",
    "\n",
    "try:\n",
    "    i/0\n",
    "except Exception as e:\n",
    "    print(e)\n",
    "    "
   ]
  },
  {
   "cell_type": "code",
   "execution_count": 65,
   "id": "ee757e1f-cfc9-4d80-a4fc-127a6f34525e",
   "metadata": {},
   "outputs": [
    {
     "name": "stdout",
     "output_type": "stream",
     "text": [
      "name 'name' is not defined\n"
     ]
    }
   ],
   "source": [
    "try:\n",
    "    name\n",
    "except Exception as e:\n",
    "    print(e)"
   ]
  },
  {
   "cell_type": "code",
   "execution_count": 69,
   "id": "c380bb55-0dca-4e8c-b422-9bc91f46bc0f",
   "metadata": {},
   "outputs": [
    {
     "name": "stdout",
     "output_type": "stream",
     "text": [
      "Kindly define the name\n"
     ]
    }
   ],
   "source": [
    "try:\n",
    "    name\n",
    "except NameError:\n",
    "    print(\"Kindly define the name\")"
   ]
  },
  {
   "cell_type": "code",
   "execution_count": 70,
   "id": "e7483dbf-6937-4dd3-ab9f-06c007936fe9",
   "metadata": {},
   "outputs": [],
   "source": [
    "# Logging"
   ]
  },
  {
   "cell_type": "code",
   "execution_count": 71,
   "id": "78c938e5-96e8-4238-bae7-38ca95d496a8",
   "metadata": {},
   "outputs": [],
   "source": [
    "import logging"
   ]
  },
  {
   "cell_type": "code",
   "execution_count": 72,
   "id": "e3757059-a202-4a76-8c5e-b9c793cb8255",
   "metadata": {},
   "outputs": [],
   "source": [
    "logging.basicConfig(filename='example.log',encoding='utf-8',level=logging.DEBUG)"
   ]
  },
  {
   "cell_type": "code",
   "execution_count": 74,
   "id": "e8cb459c-bf72-4e26-85af-89115d84fb8e",
   "metadata": {},
   "outputs": [],
   "source": [
    "logging.debug(\"This is a debug\")"
   ]
  },
  {
   "cell_type": "code",
   "execution_count": null,
   "id": "29e87d26-62a8-420b-9d59-355c79006b32",
   "metadata": {},
   "outputs": [],
   "source": []
  }
 ],
 "metadata": {
  "kernelspec": {
   "display_name": "Python 3 (ipykernel)",
   "language": "python",
   "name": "python3"
  },
  "language_info": {
   "codemirror_mode": {
    "name": "ipython",
    "version": 3
   },
   "file_extension": ".py",
   "mimetype": "text/x-python",
   "name": "python",
   "nbconvert_exporter": "python",
   "pygments_lexer": "ipython3",
   "version": "3.11.7"
  }
 },
 "nbformat": 4,
 "nbformat_minor": 5
}
