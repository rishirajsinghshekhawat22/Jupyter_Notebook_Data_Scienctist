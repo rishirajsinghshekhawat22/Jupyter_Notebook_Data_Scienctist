{
 "cells": [
  {
   "cell_type": "code",
   "execution_count": 3,
   "id": "f42ce685-287b-4815-87d7-60058565ca0b",
   "metadata": {},
   "outputs": [
    {
     "name": "stdout",
     "output_type": "stream",
     "text": [
      "this is a valid statement\n"
     ]
    }
   ],
   "source": [
    "a,b = 10,20\n",
    "\n",
    "if a ==10 and b ==20:\n",
    "    print('this is a valid statement')\n",
    "else:\n",
    "    print('condition is not valid')"
   ]
  },
  {
   "cell_type": "code",
   "execution_count": 5,
   "id": "7089c8b8-36c7-430c-91bf-92780947e070",
   "metadata": {},
   "outputs": [
    {
     "data": {
      "text/plain": [
       "True"
      ]
     },
     "execution_count": 5,
     "metadata": {},
     "output_type": "execute_result"
    }
   ],
   "source": [
    "# Breakdown your code to have better understanding.\n",
    "a ==10 or b ==20"
   ]
  },
  {
   "cell_type": "code",
   "execution_count": 9,
   "id": "fb4e0bd7-ab72-49df-bbc1-b01ab6cd3a88",
   "metadata": {},
   "outputs": [
    {
     "name": "stdout",
     "output_type": "stream",
     "text": [
      "name has 7 lenght\n"
     ]
    }
   ],
   "source": [
    "name = 'rishiraj'\n",
    "lastname = 'singh'\n",
    "\n",
    "if len(name)<=8:\n",
    "    print('name has 8 lenght')\n",
    "elif len(lastname)<=5:\n",
    "    print('last nane has 5 digits')\n",
    "else:\n",
    "    print('')"
   ]
  },
  {
   "cell_type": "code",
   "execution_count": 10,
   "id": "55eee0dd-bb72-42ed-add6-c6109dcd0788",
   "metadata": {},
   "outputs": [
    {
     "name": "stdout",
     "output_type": "stream",
     "text": [
      "correct name\n"
     ]
    }
   ],
   "source": [
    "if name == 'rishiraj' and lastname == 'singh':\n",
    "    print('correct name')\n",
    "else:\n",
    "    print('incorrent name')"
   ]
  },
  {
   "cell_type": "code",
   "execution_count": 3,
   "id": "42f6a11c-884d-4f97-8ba1-20dfa70913ec",
   "metadata": {},
   "outputs": [],
   "source": [
    "# While statement (While loop)\n",
    "# To perform repetative task and we need to start certain point.\n",
    "\n",
    "initial_speed = 0\n",
    "final_speed = 10\n",
    "\n",
    "while initial_speed<=final_speed:\n",
    "    initial_speed += 1\n",
    "\n",
    "\n",
    "while initial_speed<=final_speed:\n",
    "    print('This is speed')\n",
    "    initial_speed += 1\n",
    "    if initial_speed ==final_speed:\n",
    "        break\n",
    "    \n",
    "\n",
    "    \n"
   ]
  },
  {
   "cell_type": "code",
   "execution_count": 4,
   "id": "cb74e9fa-afdd-440d-b8f0-48311f3825fe",
   "metadata": {},
   "outputs": [
    {
     "name": "stdout",
     "output_type": "stream",
     "text": [
      "1\n",
      "2\n",
      "3\n",
      "4\n"
     ]
    }
   ],
   "source": [
    "i = 1\n",
    "j = 5\n",
    "\n",
    "while i<j:\n",
    "    print(i)\n",
    "    i +=1"
   ]
  },
  {
   "cell_type": "code",
   "execution_count": 1,
   "id": "cd0e368f-5850-403e-819f-9520cd3f4a97",
   "metadata": {},
   "outputs": [
    {
     "name": "stdout",
     "output_type": "stream",
     "text": [
      "1\n",
      "2\n",
      "3\n",
      "4\n",
      "no ₹10 note is available\n"
     ]
    }
   ],
   "source": [
    "# We can use else with while as well, it's not restrict to just if statement.\n",
    "notes = 5\n",
    "i = 1\n",
    "while i<notes:\n",
    "    print(i)\n",
    "    i += 1\n",
    "else:\n",
    "    print(\"no ₹10 note is available\")"
   ]
  },
  {
   "cell_type": "code",
   "execution_count": 8,
   "id": "c30cd6ba-d8db-4d58-8a59-b3e45201c0c2",
   "metadata": {},
   "outputs": [
    {
     "name": "stdout",
     "output_type": "stream",
     "text": [
      "1\n",
      "2\n",
      "3\n",
      "4\n",
      "1\n",
      "2\n",
      "3\n",
      "4\n"
     ]
    }
   ],
   "source": [
    "notes = 5\n",
    "i = 1\n",
    "j = 1\n",
    "\n",
    "while i<notes:\n",
    "    print(i)\n",
    "    i +=1\n",
    "else:\n",
    "    while j<notes:\n",
    "        print(j)\n",
    "        j+=1\n",
    "\n",
    "\n"
   ]
  },
  {
   "cell_type": "code",
   "execution_count": 19,
   "id": "946e15af-0a09-43e4-ad53-c62c44395625",
   "metadata": {},
   "outputs": [
    {
     "data": {
      "text/plain": [
       "'rihsir ma '"
      ]
     },
     "execution_count": 19,
     "metadata": {},
     "output_type": "execute_result"
    }
   ],
   "source": [
    "r = 'I am rishiraj'\n",
    "\n",
    "r[10:0:-1]"
   ]
  },
  {
   "cell_type": "code",
   "execution_count": 1,
   "id": "875e40c0-2fa0-414b-941e-4ca72a16e5fa",
   "metadata": {},
   "outputs": [],
   "source": [
    "i=0\n",
    "j=7\n",
    "while ij:\n",
    "    print(i)\n"
   ]
  },
  {
   "cell_type": "code",
   "execution_count": null,
   "id": "343c66b9-87ac-4cbd-bd89-f9165bcac4c1",
   "metadata": {},
   "outputs": [],
   "source": []
  }
 ],
 "metadata": {
  "kernelspec": {
   "display_name": "Python 3 (ipykernel)",
   "language": "python",
   "name": "python3"
  },
  "language_info": {
   "codemirror_mode": {
    "name": "ipython",
    "version": 3
   },
   "file_extension": ".py",
   "mimetype": "text/x-python",
   "name": "python",
   "nbconvert_exporter": "python",
   "pygments_lexer": "ipython3",
   "version": "3.11.7"
  }
 },
 "nbformat": 4,
 "nbformat_minor": 5
}
