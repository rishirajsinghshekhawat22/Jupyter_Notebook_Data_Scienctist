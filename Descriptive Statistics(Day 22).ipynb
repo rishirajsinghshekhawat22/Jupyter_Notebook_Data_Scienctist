{
 "cells": [
  {
   "cell_type": "code",
   "execution_count": 1,
   "id": "b7095082-cd41-44d1-836c-8fd833acaa6b",
   "metadata": {},
   "outputs": [],
   "source": [
    "# Statistics: It's all about collecting, organizing, validating, summarizing and drawing conclusion out of the data."
   ]
  },
  {
   "cell_type": "code",
   "execution_count": 2,
   "id": "fa68d69c-c2b2-4f42-9120-3c4cc815ffe5",
   "metadata": {},
   "outputs": [],
   "source": [
    "# Types of Stastics: \n",
    "# 1. Descriptive : It's all about summarizing the data using number, graphs or describing data using mean, mode, medium. If the description of the data is depends on the centeral tendencies(Mean, mode, medium, standard deviation). It's a way of summarizing data in a informative way.\n",
    "# 2. Inferential : When we try to draw conclusion out of population or samples.\n",
    "\n",
    "# Population or Samples : A group on whom the survey is getting done."
   ]
  },
  {
   "cell_type": "code",
   "execution_count": 1,
   "id": "4aa522a3-d81f-4c67-acf1-a0b057f884ee",
   "metadata": {},
   "outputs": [],
   "source": [
    "# Descriptive Examples:\n",
    "# It depends on the central tendencies. "
   ]
  },
  {
   "cell_type": "code",
   "execution_count": null,
   "id": "9564ba59-9a61-4cb8-ad22-8947e6bdb233",
   "metadata": {},
   "outputs": [],
   "source": [
    "# Terms being used in the stastics:\n",
    "# Population : Population \n",
    "# Sample : it's a subset of the population.Instead of reaching out to entire poplulation, we would touch base with groups from all the areas.\n",
    "# Variable : Type of each and every elements in population and sample is called variable.\n",
    "# Data : Singular data and plural data.\n",
    "# Experiment : Working on data. Trial of the data.\n",
    "# Parameter : Mean, mode, median, standard deviation."
   ]
  },
  {
   "cell_type": "code",
   "execution_count": null,
   "id": "6e4ce2c6-56ef-4f9c-980a-dd2124bad0b9",
   "metadata": {},
   "outputs": [],
   "source": [
    "# Data and it's types: (It's for descriptive type)\n",
    "# There are two types of data:\n",
    "# Categorical and Numerical.\n",
    "# Categorical data : It's a data which has two attributes, YES OR NO, Or 1, 0 Or Rating (1,2,3,4,5). (People missunderstand it with string data but it can also be an integer data.) or Brand of car or different species.\n",
    "# Numeric Data: There are two types of numerics data:\n",
    "# Continious And Discrete Dataset.\n",
    "# Examples: Discrete : How many cars do you have?, Number of children you have?, What is your score in English?\n",
    "# Examples: Continious: What's your height? It could be 6.111, What's your weight? It could be 70.045, What is the time? It could be 3:56:16:00"
   ]
  },
  {
   "cell_type": "code",
   "execution_count": 2,
   "id": "97621599-b783-45e5-977d-54caf06a8286",
   "metadata": {},
   "outputs": [],
   "source": [
    "# Level of Measurement.\n",
    "# Two parts of level of measurement:\n",
    "# Qualitative and Quantative.\n",
    "# Qualitative: Based on the quality of the data it's going to differentiate.\n",
    "# Quantative:  Based on the quantity of the data it's going to differentiate.\n",
    "\n",
    "# Qualitative: (Data which can derive quality)\n",
    "# Nominal and Ordinal\n",
    "# Nominal: Example: 1,0. It's numeric but still showing quality of the data. Zip code, it's not just a number but a label to the area. Male 1 and Femal 0.\n",
    "# Ordinal: Data where order matters. The data which represents data in some kind of order. Yes or No, || Good, Bad or Better (Sequence should be Bad, Good, Better).\n",
    "\n",
    "# Quantitative Data:\n",
    "# Types of Quantitative data:\n",
    "# Interval And Ratio\n",
    "# Interval : Examples: How much revenew you will gonna make in some interval? || In how much time you will become a data scientist, in 6 months, 3 months? We are talking about quantitative data but for some interval.\n",
    "# Ratio : Examples: Out of 100 you got 80(80/100) || How much laptops you could sell out of 100 available in stock(Number of laptop sold/100(stock available)). Data which is available in the form of (A/B) is a ratio."
   ]
  },
  {
   "cell_type": "code",
   "execution_count": null,
   "id": "0d004bf6-b32e-423b-a9dc-f149ae6d07cd",
   "metadata": {},
   "outputs": [],
   "source": [
    "# How 1,2,3,4,5 can fall under Nominal and Ordinal both?\n",
    "# Explanation: \n",
    "# Delhi = 1, Blr = 2, Chennai = 3, Jaipur = 4, Delhi = 5 (Nominal).\n",
    "# Good = 1, Bad = 0, Better = 2 (0,1,2) If we put it into order the same nominal data it will become Ordinal data."
   ]
  }
 ],
 "metadata": {
  "kernelspec": {
   "display_name": "Python 3 (ipykernel)",
   "language": "python",
   "name": "python3"
  },
  "language_info": {
   "codemirror_mode": {
    "name": "ipython",
    "version": 3
   },
   "file_extension": ".py",
   "mimetype": "text/x-python",
   "name": "python",
   "nbconvert_exporter": "python",
   "pygments_lexer": "ipython3",
   "version": "3.11.7"
  }
 },
 "nbformat": 4,
 "nbformat_minor": 5
}
