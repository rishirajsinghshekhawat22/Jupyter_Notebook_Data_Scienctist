{
 "cells": [
  {
   "cell_type": "markdown",
   "id": "913c909e-d248-4b5a-b17c-020ab305825f",
   "metadata": {},
   "source": [
    "# Numpy\n",
    "\n",
    "**Numeric Python**"
   ]
  },
  {
   "cell_type": "code",
   "execution_count": 1,
   "id": "350822f9-02f6-4ff1-9fc3-78e3ff4fd3a7",
   "metadata": {},
   "outputs": [],
   "source": [
    "import numpy as np"
   ]
  },
  {
   "cell_type": "code",
   "execution_count": 2,
   "id": "c9795c74-1ed0-470b-985f-93f8f516852e",
   "metadata": {},
   "outputs": [
    {
     "data": {
      "text/plain": [
       "array([1, 2, 3, 4, 5])"
      ]
     },
     "execution_count": 2,
     "metadata": {},
     "output_type": "execute_result"
    }
   ],
   "source": [
    "np.array([1,2,3,4,5])\n",
    "\n",
    "# numpy.ndarray\n",
    "# n dimensional data."
   ]
  },
  {
   "cell_type": "code",
   "execution_count": 3,
   "id": "7f84204d-f57b-402f-9e0b-c3e169433005",
   "metadata": {},
   "outputs": [
    {
     "data": {
      "text/plain": [
       "array(['1', '2', '3', '4', '5', 'rishiraj', '(4+8j)'], dtype='<U64')"
      ]
     },
     "execution_count": 3,
     "metadata": {},
     "output_type": "execute_result"
    }
   ],
   "source": [
    "np.array([1,2,3,4,5,'rishiraj',(4+8j)])"
   ]
  },
  {
   "cell_type": "code",
   "execution_count": 4,
   "id": "fb9e5a50-ff05-47cc-8a99-dd2c2d420b52",
   "metadata": {},
   "outputs": [
    {
     "data": {
      "text/plain": [
       "array([1., 2., 3., 4., 5., 6.])"
      ]
     },
     "execution_count": 4,
     "metadata": {},
     "output_type": "execute_result"
    }
   ],
   "source": [
    "np.array([1,2,3,4,5,6.0]) # It coverts the data or upcast the data. \n",
    "# Whatever is high in level, means floating number takes more memory."
   ]
  },
  {
   "cell_type": "code",
   "execution_count": 5,
   "id": "695da0c8-4671-4fab-b948-02c53f42bfbe",
   "metadata": {},
   "outputs": [
    {
     "data": {
      "text/plain": [
       "array([[1, 3],\n",
       "       [3, 4]])"
      ]
     },
     "execution_count": 5,
     "metadata": {},
     "output_type": "execute_result"
    }
   ],
   "source": [
    "np.array([[1,3],[3,4]])"
   ]
  },
  {
   "cell_type": "code",
   "execution_count": 6,
   "id": "8b36bbda-9870-4293-8514-69591197810b",
   "metadata": {},
   "outputs": [
    {
     "data": {
      "text/plain": [
       "array([[1, 2],\n",
       "       [3, 4],\n",
       "       [4, 5],\n",
       "       [6, 7]])"
      ]
     },
     "execution_count": 6,
     "metadata": {},
     "output_type": "execute_result"
    }
   ],
   "source": [
    "np.array([[1,2],[3,4],[4,5],[6,7]])"
   ]
  },
  {
   "cell_type": "markdown",
   "id": "e730c068-9e5b-47a4-a8d4-4c0fb898881a",
   "metadata": {},
   "source": [
    "* ([1,2,3,4,5]) One dimension array\n",
    "* ([[1,2],[3,4],[4,5],[6,7]]) Two dimension array"
   ]
  },
  {
   "cell_type": "code",
   "execution_count": 7,
   "id": "89aaf9fc-251a-443d-9aa1-84fa70e85c58",
   "metadata": {},
   "outputs": [
    {
     "data": {
      "text/plain": [
       "array([[[[[1, 2, 3]]]]])"
      ]
     },
     "execution_count": 7,
     "metadata": {},
     "output_type": "execute_result"
    }
   ],
   "source": [
    "# We can also give dimensions directly.\n",
    "np.array([1,2,3],ndmin=5)"
   ]
  },
  {
   "cell_type": "code",
   "execution_count": 8,
   "id": "6e6d6cdf-dbd6-416d-acad-5a95764d9733",
   "metadata": {},
   "outputs": [
    {
     "data": {
      "text/plain": [
       "array([1.+0.j, 2.+0.j, 3.+0.j])"
      ]
     },
     "execution_count": 8,
     "metadata": {},
     "output_type": "execute_result"
    }
   ],
   "source": [
    "np.array([1,2,3],dtype=complex)"
   ]
  },
  {
   "cell_type": "code",
   "execution_count": 9,
   "id": "50048098-3e99-432f-9f73-c146cb46549a",
   "metadata": {},
   "outputs": [
    {
     "data": {
      "text/plain": [
       "\"\\ni2 = 16bits\\ni4 = 32 bits Default\\ni8 = 64 bits\\n# It's the size of the data.\\n\""
      ]
     },
     "execution_count": 9,
     "metadata": {},
     "output_type": "execute_result"
    }
   ],
   "source": [
    "arr = np.array([(1,2),(4,5)],dtype = [(\"a\",\"<i2\"),(\"b\",\"<i8\")])\n",
    "arr\n",
    "\n",
    "# by giving data type, it will give us a different type as\n",
    "# shown below.\n",
    "\n",
    "# In the above example, (1,2) 1,4 = a and 2,5 = b\n",
    "\n",
    "\"\"\"\n",
    "i2 = 16bits\n",
    "i4 = 32 bits Default\n",
    "i8 = 64 bits\n",
    "# It's the size of the data.\n",
    "\"\"\""
   ]
  },
  {
   "cell_type": "code",
   "execution_count": 10,
   "id": "3ab6fd5e-446b-4b84-a10f-341f838682d7",
   "metadata": {},
   "outputs": [
    {
     "data": {
      "text/plain": [
       "numpy.int16"
      ]
     },
     "execution_count": 10,
     "metadata": {},
     "output_type": "execute_result"
    }
   ],
   "source": [
    "type(arr[0][0])"
   ]
  },
  {
   "cell_type": "code",
   "execution_count": 11,
   "id": "bfb2a5c5-e469-433f-8e32-c30d61554891",
   "metadata": {},
   "outputs": [
    {
     "data": {
      "text/plain": [
       "numpy.int64"
      ]
     },
     "execution_count": 11,
     "metadata": {},
     "output_type": "execute_result"
    }
   ],
   "source": [
    "type(arr[0][1])"
   ]
  },
  {
   "cell_type": "code",
   "execution_count": 12,
   "id": "cdb7d423-8ccd-4ce2-8302-306133f5ddd5",
   "metadata": {},
   "outputs": [
    {
     "data": {
      "text/plain": [
       "array([[1, 2],\n",
       "       [3, 4]])"
      ]
     },
     "execution_count": 12,
     "metadata": {},
     "output_type": "execute_result"
    }
   ],
   "source": [
    "np.array([[1,2],[3,4]])"
   ]
  },
  {
   "cell_type": "markdown",
   "id": "13d45456-7f69-4eb0-82e2-10fd5b08857e",
   "metadata": {},
   "source": [
    "# Matrix"
   ]
  },
  {
   "cell_type": "code",
   "execution_count": 13,
   "id": "ecacfba2-b6a1-401c-b621-804af3682782",
   "metadata": {},
   "outputs": [
    {
     "data": {
      "text/plain": [
       "matrix([[1, 2],\n",
       "        [3, 4]])"
      ]
     },
     "execution_count": 13,
     "metadata": {},
     "output_type": "execute_result"
    }
   ],
   "source": [
    "np.mat([[1,2],[3,4]])"
   ]
  },
  {
   "cell_type": "code",
   "execution_count": 14,
   "id": "692358ae-2c4c-4f84-a558-14f811a5f76d",
   "metadata": {},
   "outputs": [
    {
     "data": {
      "text/plain": [
       "matrix([[1, 2],\n",
       "        [3, 4]])"
      ]
     },
     "execution_count": 14,
     "metadata": {},
     "output_type": "execute_result"
    }
   ],
   "source": [
    "np.matrix([[1,2],[3,4]])"
   ]
  },
  {
   "cell_type": "code",
   "execution_count": 15,
   "id": "98bfc76a-8e18-4c09-86b0-e545706b6d56",
   "metadata": {},
   "outputs": [],
   "source": [
    "l = [3,4,5,76,7]"
   ]
  },
  {
   "cell_type": "code",
   "execution_count": 16,
   "id": "172637d7-22c7-4952-b3ae-8088fec6d00b",
   "metadata": {},
   "outputs": [
    {
     "data": {
      "text/plain": [
       "array([ 3,  4,  5, 76,  7])"
      ]
     },
     "execution_count": 16,
     "metadata": {},
     "output_type": "execute_result"
    }
   ],
   "source": [
    "np.array(l)"
   ]
  },
  {
   "cell_type": "code",
   "execution_count": 17,
   "id": "bfe361ac-d5a0-46c0-9082-6689a60f368a",
   "metadata": {},
   "outputs": [
    {
     "data": {
      "text/plain": [
       "array([ 3,  4,  5, 76,  7])"
      ]
     },
     "execution_count": 17,
     "metadata": {},
     "output_type": "execute_result"
    }
   ],
   "source": [
    "np.asarray(l)"
   ]
  },
  {
   "cell_type": "code",
   "execution_count": 18,
   "id": "09d511a9-0c8c-403e-8dc3-2ca4abb3b7e1",
   "metadata": {},
   "outputs": [
    {
     "data": {
      "text/plain": [
       "array([ 3,  4,  5, 76,  7])"
      ]
     },
     "execution_count": 18,
     "metadata": {},
     "output_type": "execute_result"
    }
   ],
   "source": [
    "np.asanyarray(l) # It will not convert data which is already\n",
    "# in any type of array.\n",
    "\n",
    "# Like it won't change Matrix."
   ]
  },
  {
   "cell_type": "markdown",
   "id": "d2467839-f31a-41be-86d7-6290e7ba5722",
   "metadata": {},
   "source": [
    "* **Matrix is a subset for array**"
   ]
  },
  {
   "cell_type": "code",
   "execution_count": 19,
   "id": "a8ba12f0-2cdc-4e72-90b6-ee9c7d51a1f5",
   "metadata": {},
   "outputs": [
    {
     "data": {
      "text/plain": [
       "True"
      ]
     },
     "execution_count": 19,
     "metadata": {},
     "output_type": "execute_result"
    }
   ],
   "source": [
    "# To check if matrix is a subclass of array\n",
    "\n",
    "issubclass(np.matrix,np.ndarray)"
   ]
  },
  {
   "cell_type": "code",
   "execution_count": 20,
   "id": "90bedaf6-eb8c-4bb0-8fea-6b868c5674a1",
   "metadata": {},
   "outputs": [
    {
     "data": {
      "text/plain": [
       "False"
      ]
     },
     "execution_count": 20,
     "metadata": {},
     "output_type": "execute_result"
    }
   ],
   "source": [
    "issubclass(np.ndarray,np.matrix)"
   ]
  },
  {
   "cell_type": "markdown",
   "id": "2b7fd36b-2a1d-4aaa-b2b2-9ba81a88cb9c",
   "metadata": {},
   "source": [
    "# Deep Copy And Shallow Copy"
   ]
  },
  {
   "cell_type": "code",
   "execution_count": 21,
   "id": "0a126844-6b4f-491a-9325-1f2b996f29f3",
   "metadata": {},
   "outputs": [
    {
     "data": {
      "text/plain": [
       "array([[1, 2],\n",
       "       [3, 4]])"
      ]
     },
     "execution_count": 21,
     "metadata": {},
     "output_type": "execute_result"
    }
   ],
   "source": [
    "# Array is a mutable datatype.\n",
    "\n",
    "aru = np.array([[1,2],[3,4]])\n",
    "aru"
   ]
  },
  {
   "cell_type": "code",
   "execution_count": 22,
   "id": "821a335b-699f-4433-b102-17aab701af67",
   "metadata": {},
   "outputs": [],
   "source": [
    "a = aru # Shallow Copy (It will change the data)"
   ]
  },
  {
   "cell_type": "code",
   "execution_count": 23,
   "id": "e344a9d1-6d85-4048-92bf-944b1e90f8fc",
   "metadata": {},
   "outputs": [],
   "source": [
    "b = np.copy(aru) # Deep Copy (It won't change the data)"
   ]
  },
  {
   "cell_type": "code",
   "execution_count": 24,
   "id": "af846109-19c3-41df-b0fe-b4dac8b03e91",
   "metadata": {},
   "outputs": [],
   "source": [
    "aru[0][0] = 69"
   ]
  },
  {
   "cell_type": "code",
   "execution_count": 25,
   "id": "b75428c4-6653-4635-9ee6-4986efc6dd79",
   "metadata": {},
   "outputs": [
    {
     "data": {
      "text/plain": [
       "array([[69,  2],\n",
       "       [ 3,  4]])"
      ]
     },
     "execution_count": 25,
     "metadata": {},
     "output_type": "execute_result"
    }
   ],
   "source": [
    "aru"
   ]
  },
  {
   "cell_type": "code",
   "execution_count": 26,
   "id": "72bf9635-f0c8-439c-9f6d-5bac3554b97e",
   "metadata": {},
   "outputs": [
    {
     "data": {
      "text/plain": [
       "array([[69,  2],\n",
       "       [ 3,  4]])"
      ]
     },
     "execution_count": 26,
     "metadata": {},
     "output_type": "execute_result"
    }
   ],
   "source": [
    "a"
   ]
  },
  {
   "cell_type": "code",
   "execution_count": 27,
   "id": "1740dad1-6ed8-45fb-a8ec-a9f7e4b0f843",
   "metadata": {},
   "outputs": [
    {
     "data": {
      "text/plain": [
       "array([[1, 2],\n",
       "       [3, 4]])"
      ]
     },
     "execution_count": 27,
     "metadata": {},
     "output_type": "execute_result"
    }
   ],
   "source": [
    "b"
   ]
  },
  {
   "cell_type": "code",
   "execution_count": 28,
   "id": "bec5cdab-bebf-4ddc-8c70-9512476b66f5",
   "metadata": {},
   "outputs": [
    {
     "name": "stdout",
     "output_type": "stream",
     "text": [
      "[69  2]\n",
      "[3 4]\n"
     ]
    }
   ],
   "source": [
    "for i in aru:\n",
    "    print(i)"
   ]
  },
  {
   "cell_type": "markdown",
   "id": "478f627d-62ba-4bfe-a0c0-845b7bbe3c64",
   "metadata": {},
   "source": [
    "# Difference between array and list\n",
    "**Array belongs to numpy package and mathematical formula which is available inside numpy will be applicable on numpy array directly wherease list is a part of Python core**"
   ]
  },
  {
   "cell_type": "code",
   "execution_count": 29,
   "id": "e13b93ba-36ab-4753-94a9-8b6ba0582056",
   "metadata": {},
   "outputs": [
    {
     "data": {
      "text/plain": [
       "array([[ True, False, False, False],\n",
       "       [False,  True, False, False],\n",
       "       [False, False,  True, False],\n",
       "       [False, False, False,  True]])"
      ]
     },
     "execution_count": 29,
     "metadata": {},
     "output_type": "execute_result"
    }
   ],
   "source": [
    "np.fromfunction(lambda i,j:i==j,(4,4))\n",
    "\n",
    "# from function helps to create an array with a logic we give."
   ]
  },
  {
   "cell_type": "code",
   "execution_count": 30,
   "id": "cd7b1953-66ef-4577-bc9a-5e444ca8878d",
   "metadata": {},
   "outputs": [
    {
     "data": {
      "text/plain": [
       "array([[0., 0., 0.],\n",
       "       [0., 1., 2.],\n",
       "       [0., 2., 4.]])"
      ]
     },
     "execution_count": 30,
     "metadata": {},
     "output_type": "execute_result"
    }
   ],
   "source": [
    "np.fromfunction(lambda i,j:i*j,(3,3))\n"
   ]
  },
  {
   "cell_type": "code",
   "execution_count": 31,
   "id": "ef6b1bfc-47e0-45b3-bb22-55b18c18a500",
   "metadata": {},
   "outputs": [
    {
     "name": "stderr",
     "output_type": "stream",
     "text": [
      "C:\\Users\\USER\\AppData\\Local\\Temp\\ipykernel_18944\\2580751211.py:1: RuntimeWarning: divide by zero encountered in divide\n",
      "  np.fromfunction(lambda i,j:i/j,(3,3))\n",
      "C:\\Users\\USER\\AppData\\Local\\Temp\\ipykernel_18944\\2580751211.py:1: RuntimeWarning: invalid value encountered in divide\n",
      "  np.fromfunction(lambda i,j:i/j,(3,3))\n"
     ]
    },
    {
     "data": {
      "text/plain": [
       "array([[nan, 0. , 0. ],\n",
       "       [inf, 1. , 0.5],\n",
       "       [inf, 2. , 1. ]])"
      ]
     },
     "execution_count": 31,
     "metadata": {},
     "output_type": "execute_result"
    }
   ],
   "source": [
    "np.fromfunction(lambda i,j:i/j,(3,3))\n",
    "\n",
    "# In numpy we aren't getting an error on 1/0 and 0/0\n"
   ]
  },
  {
   "cell_type": "code",
   "execution_count": 32,
   "id": "105a3d20-a5aa-4599-93c2-f7970551132d",
   "metadata": {},
   "outputs": [
    {
     "data": {
      "text/plain": [
       "[0, 1, 4, 9, 16]"
      ]
     },
     "execution_count": 32,
     "metadata": {},
     "output_type": "execute_result"
    }
   ],
   "source": [
    "[i*i for i in range(5)]"
   ]
  },
  {
   "cell_type": "code",
   "execution_count": 33,
   "id": "ebd24afa-c80b-4321-8311-03a92ea07b90",
   "metadata": {},
   "outputs": [
    {
     "data": {
      "text/plain": [
       "array([0, 1, 2, 3, 4])"
      ]
     },
     "execution_count": 33,
     "metadata": {},
     "output_type": "execute_result"
    }
   ],
   "source": [
    "np.fromiter(range(5),dtype=int)"
   ]
  },
  {
   "cell_type": "code",
   "execution_count": 34,
   "id": "77238a93-e27c-4ab9-b919-903c6c723c70",
   "metadata": {},
   "outputs": [
    {
     "data": {
      "text/plain": [
       "array([1., 2., 3., 4., 5.])"
      ]
     },
     "execution_count": 34,
     "metadata": {},
     "output_type": "execute_result"
    }
   ],
   "source": [
    "np.fromstring('1,2,3,4,5',sep=',')"
   ]
  },
  {
   "cell_type": "markdown",
   "id": "405e0ada-8da8-4923-b4a8-64436a86f499",
   "metadata": {},
   "source": [
    "# Difference between Array and Matrix \n",
    "\n",
    "Conceptually they both are same but Matrix is a sub class of an Array."
   ]
  },
  {
   "cell_type": "code",
   "execution_count": 35,
   "id": "b70d3634-45e9-4a47-90a2-34edbebb72c8",
   "metadata": {},
   "outputs": [
    {
     "data": {
      "text/plain": [
       "[0, 1, 2, 3, 4, 5]"
      ]
     },
     "execution_count": 35,
     "metadata": {},
     "output_type": "execute_result"
    }
   ],
   "source": [
    "list(range(6)) # In the range function, float datatype will not work.\n",
    "# We can use numpy's arange. Starting, end and jump should always be an integer in range function. It doesn't include upper bound."
   ]
  },
  {
   "cell_type": "code",
   "execution_count": 36,
   "id": "318227c3-c534-47b0-9cb0-2d99f64c26f6",
   "metadata": {},
   "outputs": [
    {
     "data": {
      "text/plain": [
       "array([0., 1., 2., 3., 4., 5.])"
      ]
     },
     "execution_count": 36,
     "metadata": {},
     "output_type": "execute_result"
    }
   ],
   "source": [
    "np.arange(0,5.5) #It accepts float, upper bound also it includes unlike range.\n",
    "# In case of float it will include upper bound not in the case of integer. (layman way)\n",
    "# Mathematically, it happens because floating number can go upto infinity and that's why it's included. \n",
    "# .3 could be 0.300000000000000000001"
   ]
  },
  {
   "cell_type": "code",
   "execution_count": 37,
   "id": "45052fcf-3d69-4185-91c2-b504d7770fe0",
   "metadata": {},
   "outputs": [
    {
     "data": {
      "text/plain": [
       "array([0, 1, 2, 3, 4, 5, 6, 7, 8])"
      ]
     },
     "execution_count": 37,
     "metadata": {},
     "output_type": "execute_result"
    }
   ],
   "source": [
    "np.arange(9)"
   ]
  },
  {
   "cell_type": "code",
   "execution_count": 38,
   "id": "f7706bf6-6590-4c80-8ba8-622cf811f4be",
   "metadata": {},
   "outputs": [
    {
     "data": {
      "text/plain": [
       "array([1.  , 1.25, 1.5 , 1.75, 2.  ])"
      ]
     },
     "execution_count": 38,
     "metadata": {},
     "output_type": "execute_result"
    }
   ],
   "source": [
    "np.linspace(1,2,5) # It will create 5 data between 1 to 2.\n",
    "# If we don't give 5, it will create 50 data."
   ]
  },
  {
   "cell_type": "code",
   "execution_count": 39,
   "id": "78afd819-607f-426b-9bcf-0454aa8a6df1",
   "metadata": {},
   "outputs": [
    {
     "data": {
      "text/plain": [
       "array([0., 0., 0., 0., 0., 0., 0., 0.])"
      ]
     },
     "execution_count": 39,
     "metadata": {},
     "output_type": "execute_result"
    }
   ],
   "source": [
    "# \n",
    "np.zeros(8)"
   ]
  },
  {
   "cell_type": "code",
   "execution_count": 40,
   "id": "6640ae7b-97a1-491e-8e95-68bcb3195cfc",
   "metadata": {},
   "outputs": [
    {
     "data": {
      "text/plain": [
       "array([[[0., 0., 0., 0.],\n",
       "        [0., 0., 0., 0.],\n",
       "        [0., 0., 0., 0.],\n",
       "        [0., 0., 0., 0.],\n",
       "        [0., 0., 0., 0.]],\n",
       "\n",
       "       [[0., 0., 0., 0.],\n",
       "        [0., 0., 0., 0.],\n",
       "        [0., 0., 0., 0.],\n",
       "        [0., 0., 0., 0.],\n",
       "        [0., 0., 0., 0.]]])"
      ]
     },
     "execution_count": 40,
     "metadata": {},
     "output_type": "execute_result"
    }
   ],
   "source": [
    "np.zeros((2,5,4))   # 5*4 in 2 matrix"
   ]
  },
  {
   "cell_type": "code",
   "execution_count": 41,
   "id": "e268e596-f1b3-4936-8216-a27144f457ce",
   "metadata": {},
   "outputs": [
    {
     "data": {
      "text/plain": [
       "array([1., 1., 1., 1.])"
      ]
     },
     "execution_count": 41,
     "metadata": {},
     "output_type": "execute_result"
    }
   ],
   "source": [
    "np.ones(4)"
   ]
  },
  {
   "cell_type": "code",
   "execution_count": 42,
   "id": "b0f80f27-207e-47e4-ad49-3b9d51a086a5",
   "metadata": {},
   "outputs": [
    {
     "data": {
      "text/plain": [
       "array([[[6., 6., 6., 6.]],\n",
       "\n",
       "       [[6., 6., 6., 6.]]])"
      ]
     },
     "execution_count": 42,
     "metadata": {},
     "output_type": "execute_result"
    }
   ],
   "source": [
    "np.ones((2,1,4))+5"
   ]
  },
  {
   "cell_type": "code",
   "execution_count": 43,
   "id": "4593e6ce-62ea-4f9f-8d23-2cab12ebff69",
   "metadata": {},
   "outputs": [
    {
     "data": {
      "text/plain": [
       "array([0., 0., 0., 0., 0.])"
      ]
     },
     "execution_count": 43,
     "metadata": {},
     "output_type": "execute_result"
    }
   ],
   "source": [
    "np.empty(5) # Create random data."
   ]
  },
  {
   "cell_type": "markdown",
   "id": "5647ed6e-9c7d-493c-9228-c2e184e55424",
   "metadata": {},
   "source": [
    "**Every output is a nd array**"
   ]
  },
  {
   "cell_type": "code",
   "execution_count": 44,
   "id": "63f59658-ff76-49c8-9b81-6a57607fc33e",
   "metadata": {},
   "outputs": [
    {
     "data": {
      "text/plain": [
       "array([[1., 0., 0.],\n",
       "       [0., 1., 0.],\n",
       "       [0., 0., 1.]])"
      ]
     },
     "execution_count": 44,
     "metadata": {},
     "output_type": "execute_result"
    }
   ],
   "source": [
    "np.eye(3) # Eye = Identity matrix = It is a square matrix =number of columns == number of rows.\n"
   ]
  },
  {
   "cell_type": "code",
   "execution_count": 45,
   "id": "c2c9e374-2a1e-4224-92b6-20e187f48767",
   "metadata": {},
   "outputs": [
    {
     "data": {
      "text/plain": [
       "array([[ 0.        ,  0.08163265,  0.16326531,  0.24489796,  0.32653061,\n",
       "         0.40816327,  0.48979592,  0.57142857,  0.65306122,  0.73469388,\n",
       "         0.81632653,  0.89795918,  0.97959184,  1.06122449,  1.14285714,\n",
       "         1.2244898 ,  1.30612245,  1.3877551 ,  1.46938776,  1.55102041,\n",
       "         1.63265306,  1.71428571,  1.79591837,  1.87755102,  1.95918367,\n",
       "         2.04081633,  2.12244898,  2.20408163,  2.28571429,  2.36734694,\n",
       "         2.44897959,  2.53061224,  2.6122449 ,  2.69387755,  2.7755102 ,\n",
       "         2.85714286,  2.93877551,  3.02040816,  3.10204082,  3.18367347,\n",
       "         3.26530612,  3.34693878,  3.42857143,  3.51020408,  3.59183673,\n",
       "         3.67346939,  3.75510204,  3.83673469,  3.91836735,  4.        ],\n",
       "       [10.        ,  9.87755102,  9.75510204,  9.63265306,  9.51020408,\n",
       "         9.3877551 ,  9.26530612,  9.14285714,  9.02040816,  8.89795918,\n",
       "         8.7755102 ,  8.65306122,  8.53061224,  8.40816327,  8.28571429,\n",
       "         8.16326531,  8.04081633,  7.91836735,  7.79591837,  7.67346939,\n",
       "         7.55102041,  7.42857143,  7.30612245,  7.18367347,  7.06122449,\n",
       "         6.93877551,  6.81632653,  6.69387755,  6.57142857,  6.44897959,\n",
       "         6.32653061,  6.20408163,  6.08163265,  5.95918367,  5.83673469,\n",
       "         5.71428571,  5.59183673,  5.46938776,  5.34693878,  5.2244898 ,\n",
       "         5.10204082,  4.97959184,  4.85714286,  4.73469388,  4.6122449 ,\n",
       "         4.48979592,  4.36734694,  4.24489796,  4.12244898,  4.        ]])"
      ]
     },
     "execution_count": 45,
     "metadata": {},
     "output_type": "execute_result"
    }
   ],
   "source": [
    "np.linspace([0,10],4,axis=1)"
   ]
  },
  {
   "cell_type": "code",
   "execution_count": 46,
   "id": "6d84bac2-76cf-4be0-8547-87718ecbe11e",
   "metadata": {},
   "outputs": [
    {
     "data": {
      "text/plain": [
       "array([   100.        ,    115.13953993,    132.57113656,    152.64179672,\n",
       "          175.75106249,    202.35896477,    232.99518105,    268.26957953,\n",
       "          308.88435965,    355.64803062,    409.49150624,    471.48663635,\n",
       "          542.86754393,    625.05519253,    719.685673  ,    828.64277285,\n",
       "          954.09547635,   1098.54114199,   1264.85521686,   1456.3484775 ,\n",
       "         1676.83293681,   1930.69772888,   2222.99648253,   2559.5479227 ,\n",
       "         2947.05170255,   3393.2217719 ,   3906.93993705,   4498.43266897,\n",
       "         5179.47467923,   5963.62331659,   6866.48845004,   7906.04321091,\n",
       "         9102.98177992,  10481.13134155,  12067.92640639,  13894.95494373,\n",
       "        15998.58719606,  18420.69969327,  21209.5088792 ,  24420.53094549,\n",
       "        28117.68697974,  32374.57542818,  37275.93720315,  42919.34260129,\n",
       "        49417.13361324,  56898.66029018,  65512.85568596,  75431.20063355,\n",
       "        86851.13737514, 100000.        ])"
      ]
     },
     "execution_count": 46,
     "metadata": {},
     "output_type": "execute_result"
    }
   ],
   "source": [
    "np.logspace(2,5)"
   ]
  },
  {
   "cell_type": "code",
   "execution_count": 47,
   "id": "d1150aca-1d09-4c99-a9cc-297701aea837",
   "metadata": {},
   "outputs": [
    {
     "data": {
      "text/plain": [
       "array([4.        , 4.07692308, 4.15384615, 4.23076923, 4.30769231,\n",
       "       4.38461538, 4.46153846, 4.53846154, 4.61538462, 4.69230769,\n",
       "       4.76923077, 4.84615385, 4.92307692, 5.        , 5.07692308,\n",
       "       5.15384615, 5.23076923, 5.30769231, 5.38461538, 5.46153846,\n",
       "       5.53846154, 5.61538462, 5.69230769, 5.76923077, 5.84615385,\n",
       "       5.92307692, 6.        , 6.07692308, 6.15384615, 6.23076923,\n",
       "       6.30769231, 6.38461538, 6.46153846, 6.53846154, 6.61538462,\n",
       "       6.69230769, 6.76923077, 6.84615385, 6.92307692, 7.        ])"
      ]
     },
     "execution_count": 47,
     "metadata": {},
     "output_type": "execute_result"
    }
   ],
   "source": [
    "d = np.linspace(4,7,40)\n",
    "d"
   ]
  },
  {
   "cell_type": "code",
   "execution_count": 48,
   "id": "7a13d3fe-cc8b-4071-afba-162d104a681c",
   "metadata": {},
   "outputs": [
    {
     "data": {
      "text/plain": [
       "array([[4.        ],\n",
       "       [4.07692308],\n",
       "       [4.15384615],\n",
       "       [4.23076923],\n",
       "       [4.30769231],\n",
       "       [4.38461538],\n",
       "       [4.46153846],\n",
       "       [4.53846154],\n",
       "       [4.61538462],\n",
       "       [4.69230769],\n",
       "       [4.76923077],\n",
       "       [4.84615385],\n",
       "       [4.92307692],\n",
       "       [5.        ],\n",
       "       [5.07692308],\n",
       "       [5.15384615],\n",
       "       [5.23076923],\n",
       "       [5.30769231],\n",
       "       [5.38461538],\n",
       "       [5.46153846],\n",
       "       [5.53846154],\n",
       "       [5.61538462],\n",
       "       [5.69230769],\n",
       "       [5.76923077],\n",
       "       [5.84615385],\n",
       "       [5.92307692],\n",
       "       [6.        ],\n",
       "       [6.07692308],\n",
       "       [6.15384615],\n",
       "       [6.23076923],\n",
       "       [6.30769231],\n",
       "       [6.38461538],\n",
       "       [6.46153846],\n",
       "       [6.53846154],\n",
       "       [6.61538462],\n",
       "       [6.69230769],\n",
       "       [6.76923077],\n",
       "       [6.84615385],\n",
       "       [6.92307692],\n",
       "       [7.        ]])"
      ]
     },
     "execution_count": 48,
     "metadata": {},
     "output_type": "execute_result"
    }
   ],
   "source": [
    "# To arrange data in different shape.\n",
    "d.reshape(40,1) # 40 rows and 1 Column"
   ]
  },
  {
   "cell_type": "code",
   "execution_count": 49,
   "id": "f0ee6b61-8c74-42a4-b4a3-5024adcb7f88",
   "metadata": {},
   "outputs": [
    {
     "data": {
      "text/plain": [
       "array([[[4.        , 4.07692308, 4.15384615, 4.23076923, 4.30769231,\n",
       "         4.38461538, 4.46153846, 4.53846154]],\n",
       "\n",
       "       [[4.61538462, 4.69230769, 4.76923077, 4.84615385, 4.92307692,\n",
       "         5.        , 5.07692308, 5.15384615]],\n",
       "\n",
       "       [[5.23076923, 5.30769231, 5.38461538, 5.46153846, 5.53846154,\n",
       "         5.61538462, 5.69230769, 5.76923077]],\n",
       "\n",
       "       [[5.84615385, 5.92307692, 6.        , 6.07692308, 6.15384615,\n",
       "         6.23076923, 6.30769231, 6.38461538]],\n",
       "\n",
       "       [[6.46153846, 6.53846154, 6.61538462, 6.69230769, 6.76923077,\n",
       "         6.84615385, 6.92307692, 7.        ]]])"
      ]
     },
     "execution_count": 49,
     "metadata": {},
     "output_type": "execute_result"
    }
   ],
   "source": [
    "d.reshape(5,1,8) # 1 row and 20 columns\n",
    "\n",
    "# 5*8 = 40 (Number of data we have, if any other number is given it won't work)"
   ]
  },
  {
   "cell_type": "code",
   "execution_count": 50,
   "id": "c2531a56-d19c-4213-a602-47c7683b74d4",
   "metadata": {},
   "outputs": [
    {
     "data": {
      "text/plain": [
       "array([0.87671715, 0.64951571, 0.65851476])"
      ]
     },
     "execution_count": 50,
     "metadata": {},
     "output_type": "execute_result"
    }
   ],
   "source": [
    "# To generate random data in gaussion distribution.\n",
    "np.random.rand(3)"
   ]
  },
  {
   "cell_type": "code",
   "execution_count": 51,
   "id": "553c9809-dbba-4256-9023-8ded6eb6e874",
   "metadata": {},
   "outputs": [
    {
     "data": {
      "text/plain": [
       "array([-0.69043227,  0.29571959, -0.4211494 , -0.76344993, -1.57310241])"
      ]
     },
     "execution_count": 51,
     "metadata": {},
     "output_type": "execute_result"
    }
   ],
   "source": [
    "np.random.randn(5) # It returns data in standard normal distribution."
   ]
  },
  {
   "cell_type": "code",
   "execution_count": 52,
   "id": "7c8d701b-cde6-4c9c-9a59-088bfc2cecfe",
   "metadata": {},
   "outputs": [
    {
     "data": {
      "text/plain": [
       "array([[-2.96616173, -0.74846375, -1.7639234 ],\n",
       "       [ 0.60533363, -0.45959525, -2.33652008]])"
      ]
     },
     "execution_count": 52,
     "metadata": {},
     "output_type": "execute_result"
    }
   ],
   "source": [
    "np.random.randn(2,3)"
   ]
  },
  {
   "cell_type": "code",
   "execution_count": 53,
   "id": "da85e1c0-89c6-45bb-9bfa-89824bf29ac8",
   "metadata": {},
   "outputs": [
    {
     "data": {
      "text/plain": [
       "array([[30, 36, 41,  8],\n",
       "       [45, 53, 45, 39],\n",
       "       [ 9, 35, 35, 57],\n",
       "       [19,  7, 42,  9]])"
      ]
     },
     "execution_count": 53,
     "metadata": {},
     "output_type": "execute_result"
    }
   ],
   "source": [
    "np.random.randint(5,60,(4,4)) # data between 5-60 in 4-4 matrix."
   ]
  },
  {
   "cell_type": "code",
   "execution_count": 54,
   "id": "360277ad-2a25-418e-939e-4e8d1b733320",
   "metadata": {},
   "outputs": [
    {
     "data": {
      "text/plain": [
       "1"
      ]
     },
     "execution_count": 54,
     "metadata": {},
     "output_type": "execute_result"
    }
   ],
   "source": [
    "np.random.randint(5)"
   ]
  },
  {
   "cell_type": "code",
   "execution_count": 55,
   "id": "f1a8eac5-bdd3-4576-99e1-98c9731d8dad",
   "metadata": {},
   "outputs": [
    {
     "data": {
      "text/plain": [
       "array([[8, 6, 7],\n",
       "       [3, 0, 1],\n",
       "       [5, 5, 6]])"
      ]
     },
     "execution_count": 55,
     "metadata": {},
     "output_type": "execute_result"
    }
   ],
   "source": [
    "arr_data = np.random.randint(0,9,(3,3))\n",
    "arr_data"
   ]
  },
  {
   "cell_type": "code",
   "execution_count": 56,
   "id": "0935b949-65d6-465f-af7a-37e05744bb20",
   "metadata": {},
   "outputs": [
    {
     "data": {
      "text/plain": [
       "array([[8],\n",
       "       [6],\n",
       "       [7],\n",
       "       [3],\n",
       "       [0],\n",
       "       [1],\n",
       "       [5],\n",
       "       [5],\n",
       "       [6]])"
      ]
     },
     "execution_count": 56,
     "metadata": {},
     "output_type": "execute_result"
    }
   ],
   "source": [
    "arr_data.reshape(9,1)"
   ]
  },
  {
   "cell_type": "code",
   "execution_count": 57,
   "id": "37b41814-1309-4017-8adf-be2e44b1d3ac",
   "metadata": {},
   "outputs": [
    {
     "data": {
      "text/plain": [
       "array([[8, 6, 7],\n",
       "       [3, 0, 1],\n",
       "       [5, 5, 6]])"
      ]
     },
     "execution_count": 57,
     "metadata": {},
     "output_type": "execute_result"
    }
   ],
   "source": [
    "arr_data.reshape(3,-54545) # We can give any negative number and it will consider the ideal number automatically."
   ]
  },
  {
   "cell_type": "code",
   "execution_count": 58,
   "id": "c894383a-28c1-44ad-a6de-e1da6acb57cc",
   "metadata": {},
   "outputs": [
    {
     "data": {
      "text/plain": [
       "8"
      ]
     },
     "execution_count": 58,
     "metadata": {},
     "output_type": "execute_result"
    }
   ],
   "source": [
    "arr_data.max()"
   ]
  },
  {
   "cell_type": "code",
   "execution_count": 59,
   "id": "6081e90f-c8aa-4f4c-80de-2445c4deeabc",
   "metadata": {},
   "outputs": [
    {
     "data": {
      "text/plain": [
       "0"
      ]
     },
     "execution_count": 59,
     "metadata": {},
     "output_type": "execute_result"
    }
   ],
   "source": [
    "arr_data.min()"
   ]
  },
  {
   "cell_type": "code",
   "execution_count": 60,
   "id": "380d62fc-dac7-4def-944d-7c15e1759225",
   "metadata": {},
   "outputs": [
    {
     "data": {
      "text/plain": [
       "array([[ 1, 11, 81, 45,  8],\n",
       "       [37, 88, 41, 67, 65],\n",
       "       [80, 40, 18, 71, 55],\n",
       "       [73, 55, 49, 61, 56],\n",
       "       [23, 73, 64, 11, 32]])"
      ]
     },
     "execution_count": 60,
     "metadata": {},
     "output_type": "execute_result"
    }
   ],
   "source": [
    "arrr = np.random.randint(0,100,(5,5))\n",
    "\n",
    "arrr"
   ]
  },
  {
   "cell_type": "code",
   "execution_count": 61,
   "id": "9da04683-e929-4fd4-ac88-bd0952fb6a74",
   "metadata": {},
   "outputs": [
    {
     "data": {
      "text/plain": [
       "array([[ 1, 11],\n",
       "       [37, 88]])"
      ]
     },
     "execution_count": 61,
     "metadata": {},
     "output_type": "execute_result"
    }
   ],
   "source": [
    "arrr[0:2,0:2] # row and columns "
   ]
  },
  {
   "cell_type": "code",
   "execution_count": 62,
   "id": "18d53d1d-91da-452e-b73c-eeb77041ea94",
   "metadata": {},
   "outputs": [
    {
     "data": {
      "text/plain": [
       "array([[11, 45],\n",
       "       [88, 67],\n",
       "       [40, 71],\n",
       "       [55, 61]])"
      ]
     },
     "execution_count": 62,
     "metadata": {},
     "output_type": "execute_result"
    }
   ],
   "source": [
    "arrr[0:4,[1,3]] # All rows and 1st and 3rd columns."
   ]
  },
  {
   "cell_type": "code",
   "execution_count": 63,
   "id": "4c4e17f6-554f-4940-9eb5-a5fb7dec7c25",
   "metadata": {},
   "outputs": [
    {
     "data": {
      "text/plain": [
       "array([88, 67])"
      ]
     },
     "execution_count": 63,
     "metadata": {},
     "output_type": "execute_result"
    }
   ],
   "source": [
    "arrr[[1],[1,3]]"
   ]
  },
  {
   "cell_type": "code",
   "execution_count": 64,
   "id": "f5d3a30d-59a3-43a3-aaf1-30f73a0b47ee",
   "metadata": {},
   "outputs": [
    {
     "data": {
      "text/plain": [
       "array([11, 81, 45, 37, 88, 41, 67, 65, 80, 40, 18, 71, 55, 73, 55, 49, 61,\n",
       "       56, 23, 73, 64, 11, 32])"
      ]
     },
     "execution_count": 64,
     "metadata": {},
     "output_type": "execute_result"
    }
   ],
   "source": [
    "arrr[arrr>10]"
   ]
  },
  {
   "cell_type": "code",
   "execution_count": 65,
   "id": "7e8ef052-e526-4151-ac19-0d2d54ade89b",
   "metadata": {},
   "outputs": [
    {
     "data": {
      "text/plain": [
       "array([[ 1, 11, 81, 45,  8],\n",
       "       [37, 88, 41, 67, 65],\n",
       "       [80, 40, 18, 71, 55],\n",
       "       [73, 55, 49, 61, 56],\n",
       "       [23, 73, 64, 11, 32]])"
      ]
     },
     "execution_count": 65,
     "metadata": {},
     "output_type": "execute_result"
    }
   ],
   "source": [
    "arrr"
   ]
  },
  {
   "cell_type": "code",
   "execution_count": 66,
   "id": "eade1c8a-b314-49d8-b6fd-a7e84c376c4b",
   "metadata": {},
   "outputs": [
    {
     "data": {
      "text/plain": [
       "array([[   1,  121, 6561, 2025,   64],\n",
       "       [1369, 7744, 1681, 4489, 4225],\n",
       "       [6400, 1600,  324, 5041, 3025],\n",
       "       [5329, 3025, 2401, 3721, 3136],\n",
       "       [ 529, 5329, 4096,  121, 1024]])"
      ]
     },
     "execution_count": 66,
     "metadata": {},
     "output_type": "execute_result"
    }
   ],
   "source": [
    "arrr*arrr"
   ]
  },
  {
   "cell_type": "code",
   "execution_count": 67,
   "id": "20bb60bd-f27c-48c9-ad32-95a5e07814d2",
   "metadata": {},
   "outputs": [
    {
     "data": {
      "text/plain": [
       "array([[3, 0, 0],\n",
       "       [3, 4, 4],\n",
       "       [3, 1, 2]])"
      ]
     },
     "execution_count": 67,
     "metadata": {},
     "output_type": "execute_result"
    }
   ],
   "source": [
    "arr1 = np.random.randint(0,5,(3,3))\n",
    "arr2 = np.random.randint(0,6,(3,3))\n",
    "\n",
    "arr1"
   ]
  },
  {
   "cell_type": "code",
   "execution_count": 68,
   "id": "bcf1ca0b-9c1b-4a01-879e-a77ca80e40af",
   "metadata": {},
   "outputs": [
    {
     "data": {
      "text/plain": [
       "array([[0, 3, 5],\n",
       "       [5, 3, 2],\n",
       "       [1, 5, 3]])"
      ]
     },
     "execution_count": 68,
     "metadata": {},
     "output_type": "execute_result"
    }
   ],
   "source": [
    "arr2"
   ]
  },
  {
   "cell_type": "code",
   "execution_count": 69,
   "id": "de0c11ee-7b9a-4955-b727-dff76909bca3",
   "metadata": {},
   "outputs": [],
   "source": [
    "arr3 = np.random.randint(0,5,(3,2))"
   ]
  },
  {
   "cell_type": "code",
   "execution_count": 70,
   "id": "8174cdb9-422f-4901-8510-7b630ba88dad",
   "metadata": {},
   "outputs": [
    {
     "data": {
      "text/plain": [
       "array([[1, 3],\n",
       "       [4, 3],\n",
       "       [1, 2]])"
      ]
     },
     "execution_count": 70,
     "metadata": {},
     "output_type": "execute_result"
    }
   ],
   "source": [
    "arr3"
   ]
  },
  {
   "cell_type": "markdown",
   "id": "ba662bb7-8c3e-4c6e-9e28-5f1820d23fc9",
   "metadata": {},
   "source": [
    "**Different dimension multiplication is possible with matrix not with element wise multiplication**"
   ]
  },
  {
   "cell_type": "markdown",
   "id": "75eee7e6-7e0e-4cab-92c4-c1c064ec6ca0",
   "metadata": {},
   "source": [
    "**In matrix, row will be divided by columns**\n",
    "**In array multiplication will happen on index wise, 0 index * 0 index**"
   ]
  },
  {
   "cell_type": "code",
   "execution_count": 71,
   "id": "89e2ad96-1ed0-4c3b-b23f-0ddde50e47fc",
   "metadata": {},
   "outputs": [
    {
     "data": {
      "text/plain": [
       "array([[ 3,  9],\n",
       "       [23, 29],\n",
       "       [ 9, 16]])"
      ]
     },
     "execution_count": 71,
     "metadata": {},
     "output_type": "execute_result"
    }
   ],
   "source": [
    "arr1@arr3 # matrix multiplication"
   ]
  },
  {
   "cell_type": "markdown",
   "id": "72796488-2864-4059-a4b1-96d992be65b9",
   "metadata": {},
   "source": [
    "* 2*2  * 3*3 is not possible in matrix.\n",
    "* 2*3  * 3*3 is possible. \n",
    "\n",
    "one Matrix's column should be equal to second matrix's row"
   ]
  },
  {
   "cell_type": "markdown",
   "id": "c8774bcf-d679-4249-9484-8f0e749be20a",
   "metadata": {},
   "source": [
    "# Concept Of Broadcasting"
   ]
  },
  {
   "cell_type": "code",
   "execution_count": 72,
   "id": "92cb3c3d-9313-4f53-b575-a5aa53dd07a3",
   "metadata": {},
   "outputs": [
    {
     "data": {
      "text/plain": [
       "array([[0., 0., 0., 0.],\n",
       "       [0., 0., 0., 0.],\n",
       "       [0., 0., 0., 0.]])"
      ]
     },
     "execution_count": 72,
     "metadata": {},
     "output_type": "execute_result"
    }
   ],
   "source": [
    "ar_zero = np.zeros((3,4))\n",
    "ar_zero"
   ]
  },
  {
   "cell_type": "code",
   "execution_count": 73,
   "id": "f0d11ae3-4c5a-48e8-b92b-d0151e635c0d",
   "metadata": {},
   "outputs": [
    {
     "data": {
      "text/plain": [
       "array([1, 2, 3, 4])"
      ]
     },
     "execution_count": 73,
     "metadata": {},
     "output_type": "execute_result"
    }
   ],
   "source": [
    "a = np.array([1,2,3,4])\n",
    "a"
   ]
  },
  {
   "cell_type": "code",
   "execution_count": 77,
   "id": "467d8cfe-1b34-4fd4-a12f-dfbff6c79419",
   "metadata": {},
   "outputs": [
    {
     "data": {
      "text/plain": [
       "array([[1., 2., 3., 4.],\n",
       "       [1., 2., 3., 4.],\n",
       "       [1., 2., 3., 4.]])"
      ]
     },
     "execution_count": 77,
     "metadata": {},
     "output_type": "execute_result"
    }
   ],
   "source": [
    "ar_zero + a # This is called broadcasting where we insert data of an array into different array.\n",
    "# All rows of a will be inserted in all rows of ar_zero\n",
    "\n",
    "# Row and columns should be same same of both arrays.\n",
    "# Or we can say, shape should be same.\n",
    "# This is a row wise broadcasting."
   ]
  },
  {
   "cell_type": "code",
   "execution_count": 78,
   "id": "57f21a5f-8407-412f-a8bc-e35eb535074d",
   "metadata": {},
   "outputs": [
    {
     "data": {
      "text/plain": [
       "array([5, 6, 7])"
      ]
     },
     "execution_count": 78,
     "metadata": {},
     "output_type": "execute_result"
    }
   ],
   "source": [
    "b = np.array([5,6,7])\n",
    "b\n",
    "\n",
    "# column wise brodcasting."
   ]
  },
  {
   "cell_type": "code",
   "execution_count": 79,
   "id": "4d716cfb-8630-4111-8990-daec3f0756a7",
   "metadata": {},
   "outputs": [
    {
     "data": {
      "text/plain": [
       "array([[5., 5., 5., 5.],\n",
       "       [6., 6., 6., 6.],\n",
       "       [7., 7., 7., 7.]])"
      ]
     },
     "execution_count": 79,
     "metadata": {},
     "output_type": "execute_result"
    }
   ],
   "source": [
    "b.reshape(3,1) + ar_zero"
   ]
  },
  {
   "cell_type": "markdown",
   "id": "37630143-8ef1-46eb-82e0-69f681821522",
   "metadata": {},
   "source": [
    "**We can also use Transpose feature for the same.**\n",
    "**Transpose will work only on 2D Data**\n",
    "\n",
    "**T or transpose can be used**"
   ]
  },
  {
   "cell_type": "code",
   "execution_count": 83,
   "id": "fc355679-f61a-4355-b49b-26b8a99793b5",
   "metadata": {},
   "outputs": [
    {
     "data": {
      "text/plain": [
       "array([[5., 5., 5., 5.],\n",
       "       [6., 6., 6., 6.],\n",
       "       [7., 7., 7., 7.]])"
      ]
     },
     "execution_count": 83,
     "metadata": {},
     "output_type": "execute_result"
    }
   ],
   "source": [
    "b = np.array([[5,6,7]])\n",
    "b.T  +ar_zero"
   ]
  },
  {
   "cell_type": "code",
   "execution_count": 84,
   "id": "1ee276a2-54e5-4e9e-bb42-353100471d84",
   "metadata": {},
   "outputs": [
    {
     "data": {
      "text/plain": [
       "array([[0.16749564, 0.48580633, 0.50168416, 0.00735923],\n",
       "       [0.90996443, 0.32358222, 0.80658276, 0.56544443],\n",
       "       [0.37444842, 0.77643   , 0.3971347 , 0.91672923],\n",
       "       [0.96821794, 0.7073453 , 0.50193602, 0.46357214],\n",
       "       [0.64442877, 0.57688502, 0.27065805, 0.9168682 ]])"
      ]
     },
     "execution_count": 84,
     "metadata": {},
     "output_type": "execute_result"
    }
   ],
   "source": [
    "arr = np.random.rand(5,4)\n",
    "arr"
   ]
  },
  {
   "cell_type": "code",
   "execution_count": 85,
   "id": "073914d0-13bb-4b54-92f8-ceb27fccb67b",
   "metadata": {},
   "outputs": [
    {
     "data": {
      "text/plain": [
       "array([[0.40926232, 0.69699808, 0.70829666, 0.08578596],\n",
       "       [0.95392056, 0.56884287, 0.89809953, 0.75196039],\n",
       "       [0.61192191, 0.88115265, 0.63018624, 0.95745978],\n",
       "       [0.98398066, 0.84103823, 0.70847443, 0.68086132],\n",
       "       [0.80276321, 0.75952947, 0.52024806, 0.95753235]])"
      ]
     },
     "execution_count": 85,
     "metadata": {},
     "output_type": "execute_result"
    }
   ],
   "source": [
    "np.sqrt(arr) # Square root"
   ]
  },
  {
   "cell_type": "code",
   "execution_count": 86,
   "id": "f2500473-3511-49fc-8621-7c81c8547c33",
   "metadata": {},
   "outputs": [
    {
     "data": {
      "text/plain": [
       "array([[1.18234014, 1.62548515, 1.65150031, 1.00738638],\n",
       "       [2.48423417, 1.38206978, 2.24023946, 1.7602299 ],\n",
       "       [1.45418909, 2.17369829, 1.48755629, 2.50109649],\n",
       "       [2.63324766, 2.02859878, 1.65191633, 1.58974264],\n",
       "       [1.90489858, 1.78048361, 1.31082675, 2.50144408]])"
      ]
     },
     "execution_count": 86,
     "metadata": {},
     "output_type": "execute_result"
    }
   ],
   "source": [
    "np.exp(arr) # Exponential"
   ]
  },
  {
   "cell_type": "code",
   "execution_count": 87,
   "id": "b1d9636b-e68b-4d0e-9c5c-89ae7a696f20",
   "metadata": {},
   "outputs": [
    {
     "data": {
      "text/plain": [
       "array([[-0.77599648, -0.31353683, -0.29956961, -2.13316761],\n",
       "       [-0.04097558, -0.49001536, -0.09335106, -0.24761007],\n",
       "       [-0.426608  , -0.10989769, -0.40106216, -0.03775892],\n",
       "       [-0.01402688, -0.15036853, -0.29935163, -0.33388267],\n",
       "       [-0.19082508, -0.23891074, -0.56757906, -0.03769309]])"
      ]
     },
     "execution_count": 87,
     "metadata": {},
     "output_type": "execute_result"
    }
   ],
   "source": [
    "np.log10(arr) # Logrithmic"
   ]
  },
  {
   "cell_type": "code",
   "execution_count": 96,
   "id": "3bc6d14a-08b9-4e24-9cee-8b24e4fce6a8",
   "metadata": {},
   "outputs": [
    {
     "data": {
      "text/plain": [
       "array([[0.65037424, 0.50545337, 0.87860147, 0.18184023],\n",
       "       [0.85223307, 0.75013629, 0.66610167, 0.98789545]])"
      ]
     },
     "execution_count": 96,
     "metadata": {},
     "output_type": "execute_result"
    }
   ],
   "source": [
    "np.random.seed(18)\n",
    "np.random.rand(2,4)\n",
    "\n",
    "# Seed means, it won't change the data even when we are using random feature."
   ]
  }
 ],
 "metadata": {
  "kernelspec": {
   "display_name": "Python 3 (ipykernel)",
   "language": "python",
   "name": "python3"
  },
  "language_info": {
   "codemirror_mode": {
    "name": "ipython",
    "version": 3
   },
   "file_extension": ".py",
   "mimetype": "text/x-python",
   "name": "python",
   "nbconvert_exporter": "python",
   "pygments_lexer": "ipython3",
   "version": "3.11.7"
  }
 },
 "nbformat": 4,
 "nbformat_minor": 5
}
