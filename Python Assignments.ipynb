{
 "cells": [
  {
   "cell_type": "code",
   "execution_count": 2,
   "id": "112ac789-71df-4564-8104-5c6ea1b1e777",
   "metadata": {},
   "outputs": [],
   "source": [
    "# Write code that prints Hello if 1 is stored in spam, prints Howdy if 2 is stored in spam, and prints\n",
    "# Greetings! if anything else is stored in spam."
   ]
  },
  {
   "cell_type": "code",
   "execution_count": 18,
   "id": "cae2283d-a56f-404d-8e52-b7a28eba32f8",
   "metadata": {},
   "outputs": [],
   "source": [
    "def spame(spam):    \n",
    "    if spam == 1:\n",
    "        print(\"Hello\")\n",
    "    elif spam == 2:\n",
    "        print(\"Howdy\")\n",
    "    else:\n",
    "        print('Greetings'\n",
    "             )\n"
   ]
  },
  {
   "cell_type": "code",
   "execution_count": 20,
   "id": "5a8791e2-2caf-4f9b-bd24-6e1d1db4e16c",
   "metadata": {},
   "outputs": [
    {
     "name": "stdout",
     "output_type": "stream",
     "text": [
      "Greetings\n"
     ]
    }
   ],
   "source": [
    "spame(4)"
   ]
  },
  {
   "cell_type": "code",
   "execution_count": 1,
   "id": "d085f06e-d2be-411e-86f6-1e6a8430c30b",
   "metadata": {},
   "outputs": [
    {
     "name": "stdout",
     "output_type": "stream",
     "text": [
      "0\n",
      "1\n",
      "2\n",
      "3\n",
      "4\n",
      "5\n",
      "6\n",
      "7\n",
      "8\n",
      "9\n"
     ]
    }
   ],
   "source": [
    "for i in range(10):\n",
    "    print(i)"
   ]
  },
  {
   "cell_type": "code",
   "execution_count": 1,
   "id": "c3b1243e-4f5d-4fc5-b9d0-5c0ec99799e3",
   "metadata": {},
   "outputs": [
    {
     "name": "stdout",
     "output_type": "stream",
     "text": [
      "1\n",
      "2\n",
      "3\n",
      "4\n",
      "5\n",
      "6\n",
      "7\n",
      "8\n",
      "9\n",
      "10\n"
     ]
    }
   ],
   "source": [
    "i = 1\n",
    "while i<=10:\n",
    "    print(i)\n",
    "    i +=1"
   ]
  },
  {
   "cell_type": "code",
   "execution_count": 2,
   "id": "71b8e34a-4d80-4b6c-955e-ad6ec69ea3f6",
   "metadata": {},
   "outputs": [],
   "source": [
    "# If you had a function named bacon() inside a module named spam, how would you call it after importing spam?"
   ]
  },
  {
   "cell_type": "code",
   "execution_count": 4,
   "id": "da46b839-ea91-4fe1-9e5e-fa90442fc5b6",
   "metadata": {},
   "outputs": [],
   "source": [
    "def bacon(a,b):\n",
    "    return a+b"
   ]
  },
  {
   "cell_type": "code",
   "execution_count": null,
   "id": "670b41d6-549c-46c3-8314-d627b9c28db5",
   "metadata": {},
   "outputs": [],
   "source": [
    "import spam\n",
    "\n",
    "spam.bacon()"
   ]
  },
  {
   "cell_type": "code",
   "execution_count": 7,
   "id": "d34e852b-3134-49ac-972e-a9d268bce245",
   "metadata": {},
   "outputs": [],
   "source": [
    "def func(a,b):\n",
    "    return a+b\n",
    "a = 5"
   ]
  },
  {
   "cell_type": "code",
   "execution_count": 9,
   "id": "7a7286c0-4ad8-44c9-8b94-9e66bf4bf5a8",
   "metadata": {},
   "outputs": [
    {
     "data": {
      "text/plain": [
       "8"
      ]
     },
     "execution_count": 9,
     "metadata": {},
     "output_type": "execute_result"
    }
   ],
   "source": [
    "func(a,3)"
   ]
  },
  {
   "cell_type": "code",
   "execution_count": 10,
   "id": "187d0820-4089-41b6-8b7b-519787d6b9a5",
   "metadata": {},
   "outputs": [],
   "source": [
    "a = 10\n",
    "\n",
    "def func1():\n",
    "    global a\n",
    "    a = 20\n",
    "    print(a)"
   ]
  },
  {
   "cell_type": "code",
   "execution_count": 12,
   "id": "45f31fab-ce12-4e10-bd10-48688b4be0b6",
   "metadata": {},
   "outputs": [
    {
     "name": "stdout",
     "output_type": "stream",
     "text": [
      "20\n"
     ]
    }
   ],
   "source": [
    "func1()"
   ]
  },
  {
   "cell_type": "code",
   "execution_count": 1,
   "id": "523817d2-c88d-4419-b2d1-50b0d4a3f9e5",
   "metadata": {},
   "outputs": [
    {
     "data": {
      "text/plain": [
       "[2, 4, 'hello', 8, 10]"
      ]
     },
     "execution_count": 1,
     "metadata": {},
     "output_type": "execute_result"
    }
   ],
   "source": [
    "spam = [2, 4, 6, 8, 10]\n",
    "spam[2] = 'hello'\n",
    "spam\n"
   ]
  },
  {
   "cell_type": "code",
   "execution_count": 7,
   "id": "33f8ce62-951e-46a7-83a4-87a11d626d75",
   "metadata": {},
   "outputs": [
    {
     "data": {
      "text/plain": [
       "0.5454545454545454"
      ]
     },
     "execution_count": 7,
     "metadata": {},
     "output_type": "execute_result"
    }
   ],
   "source": [
    "va= int('3')\n",
    "va\n",
    "\n",
    "result = int('3')*2/11\n",
    "result"
   ]
  },
  {
   "cell_type": "code",
   "execution_count": 8,
   "id": "27f4c10c-38de-4a9e-9f79-f4b3aba77259",
   "metadata": {},
   "outputs": [
    {
     "data": {
      "text/plain": [
       "[2, 4, 'hello', 8, 10]"
      ]
     },
     "execution_count": 8,
     "metadata": {},
     "output_type": "execute_result"
    }
   ],
   "source": [
    "spam"
   ]
  },
  {
   "cell_type": "code",
   "execution_count": 9,
   "id": "290bc620-369f-4d45-b3f8-06d6bf902c57",
   "metadata": {},
   "outputs": [],
   "source": [
    "spam.remove(2)"
   ]
  },
  {
   "cell_type": "code",
   "execution_count": 10,
   "id": "dd600ede-a45a-4a4c-a372-13004bdb8c0d",
   "metadata": {},
   "outputs": [
    {
     "data": {
      "text/plain": [
       "[4, 'hello', 8, 10]"
      ]
     },
     "execution_count": 10,
     "metadata": {},
     "output_type": "execute_result"
    }
   ],
   "source": [
    "spam"
   ]
  },
  {
   "cell_type": "code",
   "execution_count": 12,
   "id": "35233183-f9eb-46d1-81bf-db6372955cf9",
   "metadata": {},
   "outputs": [
    {
     "data": {
      "text/plain": [
       "tuple"
      ]
     },
     "execution_count": 12,
     "metadata": {},
     "output_type": "execute_result"
    }
   ],
   "source": [
    "tup = (42,)\n",
    "type(tup)"
   ]
  },
  {
   "cell_type": "code",
   "execution_count": 13,
   "id": "ca8f374f-8bee-4f4f-982b-070e8c55a406",
   "metadata": {},
   "outputs": [
    {
     "data": {
      "text/plain": [
       "dict"
      ]
     },
     "execution_count": 13,
     "metadata": {},
     "output_type": "execute_result"
    }
   ],
   "source": [
    "dict = {}\n",
    "type(dict)"
   ]
  },
  {
   "cell_type": "code",
   "execution_count": 14,
   "id": "02c03237-2d35-4d4c-8e38-16743d22699e",
   "metadata": {},
   "outputs": [],
   "source": [
    "dict = {'foo':42}"
   ]
  },
  {
   "cell_type": "code",
   "execution_count": 16,
   "id": "fc3a928e-7dfc-4ab2-bacd-f2e3bac6f71a",
   "metadata": {},
   "outputs": [
    {
     "ename": "KeyError",
     "evalue": "'foo'",
     "output_type": "error",
     "traceback": [
      "\u001b[1;31m---------------------------------------------------------------------------\u001b[0m",
      "\u001b[1;31mKeyError\u001b[0m                                  Traceback (most recent call last)",
      "Cell \u001b[1;32mIn[16], line 2\u001b[0m\n\u001b[0;32m      1\u001b[0m spam \u001b[38;5;241m=\u001b[39m {\u001b[38;5;124m'\u001b[39m\u001b[38;5;124mbar\u001b[39m\u001b[38;5;124m'\u001b[39m:\u001b[38;5;241m100\u001b[39m}\n\u001b[1;32m----> 2\u001b[0m spam[\u001b[38;5;124m'\u001b[39m\u001b[38;5;124mfoo\u001b[39m\u001b[38;5;124m'\u001b[39m]\n",
      "\u001b[1;31mKeyError\u001b[0m: 'foo'"
     ]
    }
   ],
   "source": [
    "spam = {'bar':100}\n",
    "spam['foo']"
   ]
  },
  {
   "cell_type": "code",
   "execution_count": 18,
   "id": "fa22652d-64d5-43d3-b29f-fd51922db8f3",
   "metadata": {},
   "outputs": [],
   "source": [
    "spam = {'Name':'Rishiraj'}\n",
    "\n",
    "if 'color'not in spam:\n",
    "    spam['color'] = 'black'"
   ]
  },
  {
   "cell_type": "code",
   "execution_count": 19,
   "id": "a84009aa-a38f-4b94-ab20-58714d86baab",
   "metadata": {},
   "outputs": [
    {
     "data": {
      "text/plain": [
       "{'Name': 'Rishiraj', 'color': 'black'}"
      ]
     },
     "execution_count": 19,
     "metadata": {},
     "output_type": "execute_result"
    }
   ],
   "source": [
    "spam"
   ]
  },
  {
   "cell_type": "code",
   "execution_count": 20,
   "id": "3a52276b-d462-4c01-9e1c-41f1490de894",
   "metadata": {},
   "outputs": [
    {
     "data": {
      "text/plain": [
       "{'Name': 'Rishiraj', 'color': 'black', 'Age': 25}"
      ]
     },
     "execution_count": 20,
     "metadata": {},
     "output_type": "execute_result"
    }
   ],
   "source": [
    "spam['Age'] = 25\n",
    "spam"
   ]
  },
  {
   "cell_type": "code",
   "execution_count": 26,
   "id": "dc9f7554-8411-434c-b0e7-6d113463e514",
   "metadata": {},
   "outputs": [],
   "source": [
    "import pprint"
   ]
  },
  {
   "cell_type": "code",
   "execution_count": 27,
   "id": "51803408-7f00-4f60-8205-4056ba1eaf05",
   "metadata": {},
   "outputs": [
    {
     "name": "stdout",
     "output_type": "stream",
     "text": [
      "{'Age': 25, 'Name': 'Rishiraj', 'color': 'black'}\n"
     ]
    }
   ],
   "source": [
    "pprint.pprint(spam)"
   ]
  },
  {
   "cell_type": "code",
   "execution_count": 57,
   "id": "623183d0-9494-47f8-b4c3-b547daeb2d43",
   "metadata": {},
   "outputs": [],
   "source": [
    "str1 = \"Howl's Moving Castle \\n Rishiraj\""
   ]
  },
  {
   "cell_type": "code",
   "execution_count": 58,
   "id": "cffd2cd6-f5fa-4542-8f46-26fcbe7a54e9",
   "metadata": {},
   "outputs": [
    {
     "name": "stdout",
     "output_type": "stream",
     "text": [
      "Howl's Moving Castle \n",
      " Rishiraj\n"
     ]
    }
   ],
   "source": [
    "print(str1)"
   ]
  },
  {
   "cell_type": "code",
   "execution_count": 43,
   "id": "d498a9b6-536d-4870-8b56-dc2d7066c608",
   "metadata": {},
   "outputs": [
    {
     "data": {
      "text/plain": [
       "'Hello'"
      ]
     },
     "execution_count": 43,
     "metadata": {},
     "output_type": "execute_result"
    }
   ],
   "source": [
    "'Hello, World!'[0:5]"
   ]
  },
  {
   "cell_type": "code",
   "execution_count": 44,
   "id": "fd5217df-6836-4fca-a504-72ae761354c4",
   "metadata": {},
   "outputs": [
    {
     "data": {
      "text/plain": [
       "'HELLO'"
      ]
     },
     "execution_count": 44,
     "metadata": {},
     "output_type": "execute_result"
    }
   ],
   "source": [
    "'Hello'.upper()"
   ]
  },
  {
   "cell_type": "code",
   "execution_count": 46,
   "id": "f9d39fed-5f3d-461f-a070-28fa8e733897",
   "metadata": {},
   "outputs": [
    {
     "data": {
      "text/plain": [
       "True"
      ]
     },
     "execution_count": 46,
     "metadata": {},
     "output_type": "execute_result"
    }
   ],
   "source": [
    "'Hello'.upper().isupper()"
   ]
  },
  {
   "cell_type": "code",
   "execution_count": 47,
   "id": "548c8b52-07be-4c98-9189-8d6c6f97c9ad",
   "metadata": {},
   "outputs": [
    {
     "data": {
      "text/plain": [
       "False"
      ]
     },
     "execution_count": 47,
     "metadata": {},
     "output_type": "execute_result"
    }
   ],
   "source": [
    "'Hello'.isupper()"
   ]
  },
  {
   "cell_type": "code",
   "execution_count": 52,
   "id": "d4ed2d01-ad4a-48e1-a5f3-a47dbbf24f9f",
   "metadata": {},
   "outputs": [
    {
     "data": {
      "text/plain": [
       "'Remember,-remember,-the-fifth-of-july'"
      ]
     },
     "execution_count": 52,
     "metadata": {},
     "output_type": "execute_result"
    }
   ],
   "source": [
    "'-'.join('Remember, remember, the fifth of july'.split())"
   ]
  },
  {
   "cell_type": "code",
   "execution_count": 59,
   "id": "3e7274d7-fa3b-4bc7-8848-288fbd4c6318",
   "metadata": {},
   "outputs": [
    {
     "name": "stdout",
     "output_type": "stream",
     "text": [
      "Howl's Moving Castle \n",
      " Rishiraj\n"
     ]
    }
   ],
   "source": [
    "print(str1)"
   ]
  },
  {
   "cell_type": "code",
   "execution_count": 55,
   "id": "0199d89a-d10f-4d39-b6b5-b35b143a3d01",
   "metadata": {},
   "outputs": [],
   "source": [
    "hello = \"Hello, my name is rishiraj\""
   ]
  },
  {
   "cell_type": "code",
   "execution_count": 68,
   "id": "95fff2d1-31d7-4f9b-af89-822f73de2097",
   "metadata": {},
   "outputs": [],
   "source": [
    "new_data = hello.rjust(10,'-')"
   ]
  },
  {
   "cell_type": "code",
   "execution_count": 70,
   "id": "251d9045-21e6-44d0-96a6-fa5d5706e407",
   "metadata": {},
   "outputs": [
    {
     "name": "stdout",
     "output_type": "stream",
     "text": [
      "Hello, my name is rishiraj\n"
     ]
    }
   ],
   "source": [
    "print(new_data)"
   ]
  },
  {
   "cell_type": "code",
   "execution_count": 71,
   "id": "d1275743-834c-4c32-95c4-bdf315506569",
   "metadata": {},
   "outputs": [
    {
     "name": "stdout",
     "output_type": "stream",
     "text": [
      "Hello, my name is rishiraj\n"
     ]
    }
   ],
   "source": [
    "left_data = hello.ljust(10,'-')\n",
    "print(left_data)"
   ]
  },
  {
   "cell_type": "code",
   "execution_count": 72,
   "id": "4c2a5819-d834-41f2-b7ea-641a3440100a",
   "metadata": {},
   "outputs": [
    {
     "name": "stdout",
     "output_type": "stream",
     "text": [
      "Right-justified: -----Hello\n",
      "Left-justified: Hello-----\n",
      "Centered: --Hello---\n"
     ]
    }
   ],
   "source": [
    "# Right-justifying a string\n",
    "original_string = \"Hello\"\n",
    "right_justified_string = original_string.rjust(10, '-')  # Right-justify with a total width of 10, padding with '-'\n",
    "print(\"Right-justified:\", right_justified_string)  # Output: '--Hello'\n",
    "\n",
    "# Left-justifying a string\n",
    "left_justified_string = original_string.ljust(10, '-')  # Left-justify with a total width of 10, padding with '-'\n",
    "print(\"Left-justified:\", left_justified_string)  # Output: 'Hello-----'\n",
    "\n",
    "# Centering a string\n",
    "centered_string = original_string.center(10, '-')  # Center with a total width of 10, padding with '-'\n",
    "print(\"Centered:\", centered_string)  # Output: '--Hello---'\n"
   ]
  },
  {
   "cell_type": "code",
   "execution_count": 94,
   "id": "ba95c903-2d16-4c52-96ca-6dd6f734b3d9",
   "metadata": {},
   "outputs": [],
   "source": [
    "hello = \"Hello, my name is rishi\"\n",
    "hello_right = hello.rjust(200,'-')"
   ]
  },
  {
   "cell_type": "code",
   "execution_count": 95,
   "id": "acc52394-2e0b-432a-8ee4-4cd3202a3588",
   "metadata": {},
   "outputs": [
    {
     "name": "stdout",
     "output_type": "stream",
     "text": [
      "right_justified ---------------------------------------------------------------------------------------------------------------------------------------------------------------------------------Hello, my name is rishi\n"
     ]
    }
   ],
   "source": [
    "print(\"right_justified\", hello_right)"
   ]
  },
  {
   "cell_type": "code",
   "execution_count": null,
   "id": "2f009261-9fb3-4009-be6e-2d1893664614",
   "metadata": {},
   "outputs": [],
   "source": []
  },
  {
   "cell_type": "code",
   "execution_count": null,
   "id": "2d28555b-be20-4575-a277-ccb3ba9ae83e",
   "metadata": {},
   "outputs": [],
   "source": []
  }
 ],
 "metadata": {
  "kernelspec": {
   "display_name": "Python 3 (ipykernel)",
   "language": "python",
   "name": "python3"
  },
  "language_info": {
   "codemirror_mode": {
    "name": "ipython",
    "version": 3
   },
   "file_extension": ".py",
   "mimetype": "text/x-python",
   "name": "python",
   "nbconvert_exporter": "python",
   "pygments_lexer": "ipython3",
   "version": "3.11.7"
  }
 },
 "nbformat": 4,
 "nbformat_minor": 5
}
