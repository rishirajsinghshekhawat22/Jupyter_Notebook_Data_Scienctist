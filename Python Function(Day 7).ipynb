{
 "cells": [
  {
   "cell_type": "code",
   "execution_count": 12,
   "id": "7a8ffe71-3b0e-4938-ba5a-16e8fcf86ac7",
   "metadata": {},
   "outputs": [
    {
     "data": {
      "text/plain": [
       "3"
      ]
     },
     "execution_count": 12,
     "metadata": {},
     "output_type": "execute_result"
    }
   ],
   "source": [
    "# Functions\n",
    "\n",
    "# def <function name> (Arguments)\n",
    "# we will only be able to use function in the sheet in which it's created. Else we will have to create a global function.\n",
    "\n",
    "def add(a,b):\n",
    "    return a+b \n",
    "\n",
    "add('happ','y')\n",
    "add(0.25,0.75)\n",
    "add (1,2)"
   ]
  },
  {
   "cell_type": "code",
   "execution_count": 14,
   "id": "3087ceb1-4d17-404d-94ca-ceabef6a5ad8",
   "metadata": {},
   "outputs": [
    {
     "data": {
      "text/plain": [
       "str"
      ]
     },
     "execution_count": 14,
     "metadata": {},
     "output_type": "execute_result"
    }
   ],
   "source": [
    "def mul(a,b):\n",
    "    return a*b\n",
    "\n",
    "type(mul('s',5))\n",
    "\n",
    "# print will always return nontype.\n",
    "# return will return exact data type given as arguments."
   ]
  },
  {
   "cell_type": "code",
   "execution_count": 47,
   "id": "2df00ec9-489e-4a2a-9941-c332aee9ee2a",
   "metadata": {},
   "outputs": [
    {
     "data": {
      "text/plain": [
       "5"
      ]
     },
     "execution_count": 47,
     "metadata": {},
     "output_type": "execute_result"
    }
   ],
   "source": [
    "def add1(a,c=4):\n",
    "    return a+c\n",
    "\n",
    "add1(1)"
   ]
  },
  {
   "cell_type": "code",
   "execution_count": 20,
   "id": "7084117d-492d-40db-a7c1-7c8803b1aebd",
   "metadata": {},
   "outputs": [
    {
     "data": {
      "text/plain": [
       "(50, 60, 11)"
      ]
     },
     "execution_count": 20,
     "metadata": {},
     "output_type": "execute_result"
    }
   ],
   "source": [
    "def multi(a,b):\n",
    "    return a*10,b*10,a+b # we can give multiple conditions here.\n",
    "\n",
    "multi(5,6) #output will be in tuple"
   ]
  },
  {
   "cell_type": "code",
   "execution_count": 26,
   "id": "8106207e-a84f-4b42-aff5-4c4082d282da",
   "metadata": {},
   "outputs": [],
   "source": [
    "a,b,c=multi(5,2) # we can hold data individually as well in separate variables.\n",
    "a\n",
    "b\n",
    "c\n",
    "\n",
    "a,b,_ = multi(2,4)\n",
    "a,_,c = multi(2,3)\n",
    "\n",
    "# _ means we don't want to hold data in any variable but in placeholder like underscore."
   ]
  },
  {
   "cell_type": "code",
   "execution_count": 32,
   "id": "cae71bd0-7a0c-497a-9f45-6a973a7cf779",
   "metadata": {},
   "outputs": [
    {
     "data": {
      "text/plain": [
       "[1, 2, 3, 1, 2, 3]"
      ]
     },
     "execution_count": 32,
     "metadata": {},
     "output_type": "execute_result"
    }
   ],
   "source": [
    "def listmul(a):\n",
    "    return a * 2\n",
    "\n",
    "listmul([1,2,3])"
   ]
  },
  {
   "cell_type": "code",
   "execution_count": 49,
   "id": "ca29396a-2688-47d8-b3e9-38b5c0f1b5f3",
   "metadata": {},
   "outputs": [
    {
     "data": {
      "text/plain": [
       "20"
      ]
     },
     "execution_count": 49,
     "metadata": {},
     "output_type": "execute_result"
    }
   ],
   "source": [
    "def defaultfunc(a,b=10):\n",
    "    \n",
    "    return a+b\n",
    "\n",
    "defaultfunc(10)"
   ]
  },
  {
   "cell_type": "code",
   "execution_count": 54,
   "id": "860b5bd4-dbca-49b9-9499-8ca61d6aa2da",
   "metadata": {},
   "outputs": [
    {
     "data": {
      "text/plain": [
       "10"
      ]
     },
     "execution_count": 54,
     "metadata": {},
     "output_type": "execute_result"
    }
   ],
   "source": [
    "def boolx(x=True, y = False):\n",
    "    return x+y\n",
    "\n",
    "boolx()\n"
   ]
  },
  {
   "cell_type": "code",
   "execution_count": 61,
   "id": "3be29705-a26c-43f8-8519-fce48f08d066",
   "metadata": {},
   "outputs": [
    {
     "data": {
      "text/plain": [
       "(True, True, True)"
      ]
     },
     "execution_count": 61,
     "metadata": {},
     "output_type": "execute_result"
    }
   ],
   "source": [
    "def travel(bike = True, car = False):\n",
    "    plan_travel = bike or car\n",
    "    return bike, car, plan_travel\n",
    "\n",
    "travel(car = True)"
   ]
  },
  {
   "cell_type": "code",
   "execution_count": 70,
   "id": "39d1c815-2247-46c7-b141-21ddc0938b78",
   "metadata": {},
   "outputs": [
    {
     "data": {
      "text/plain": [
       "(1, 2, 3, 4, 'rishi')"
      ]
     },
     "execution_count": 70,
     "metadata": {},
     "output_type": "execute_result"
    }
   ],
   "source": [
    "def agrs(*args):\n",
    "    return args\n",
    "\n",
    "agrs(1,2,3,4,'rishi')"
   ]
  },
  {
   "cell_type": "code",
   "execution_count": 104,
   "id": "a5dcb363-2f2f-44c3-9a5b-cac4222b6e9a",
   "metadata": {},
   "outputs": [
    {
     "name": "stdout",
     "output_type": "stream",
     "text": [
      "[[1, 2, 3], [4, 5, 6], [7, 8, 9]]\n"
     ]
    }
   ],
   "source": [
    "# Question: Create a function where we can pass a n number of lists.\n",
    "\n",
    "def func(*args):\n",
    "    return list(args)\n",
    "\n",
    "r =func([1,2,3],[4,5,6],[7,8,9])\n",
    "print(r)"
   ]
  },
  {
   "cell_type": "code",
   "execution_count": 103,
   "id": "3308be26-5c31-4137-a032-e395d9d88bd5",
   "metadata": {},
   "outputs": [
    {
     "name": "stdout",
     "output_type": "stream",
     "text": [
      "[1, 2, 3, 4, 5, 6, 7, 8, 9]\n"
     ]
    }
   ],
   "source": [
    "def func1(*args):\n",
    "    l = []\n",
    "    for i in args:\n",
    "        l +=i\n",
    "    return l\n",
    "\n",
    "result = func1([1,2,3],[4,5,6],[7,8,9])\n",
    "print(result)\n"
   ]
  },
  {
   "cell_type": "code",
   "execution_count": 105,
   "id": "4f8e0e21-dbdb-4d61-abfd-fee58c677e58",
   "metadata": {},
   "outputs": [
    {
     "name": "stdout",
     "output_type": "stream",
     "text": [
      "[[1, 2, 3], [4, 5, 6], [7, 8, 9]]\n"
     ]
    }
   ],
   "source": [
    "def func2(*args):\n",
    "    for i in args:\n",
    "        return [i for i in args]\n",
    "\n",
    "rr = func([1,2,3],[4,5,6],[7,8,9])\n",
    "print(rr)"
   ]
  },
  {
   "cell_type": "code",
   "execution_count": 110,
   "id": "d7326d3c-d73c-48d1-9c94-24590d0becc2",
   "metadata": {},
   "outputs": [
    {
     "data": {
      "text/plain": [
       "[1, 2, 3, 4, 5, 6, 7, 8, 9]"
      ]
     },
     "execution_count": 110,
     "metadata": {},
     "output_type": "execute_result"
    }
   ],
   "source": [
    "def func3(*args):\n",
    "    l = []\n",
    "    for i in args:\n",
    "        if type(i) == list:\n",
    "            l +=i\n",
    "    return l\n",
    "\n",
    "func3([1,2,3],[4,5,6],[7,8,9],'happy')"
   ]
  },
  {
   "cell_type": "code",
   "execution_count": 118,
   "id": "fb15ab46-ccc8-4a09-9787-d469ea4561bb",
   "metadata": {},
   "outputs": [
    {
     "data": {
      "text/plain": [
       "{'a': 4, 'b': 25, 'name': 'happy', 'age': 'twelve'}"
      ]
     },
     "execution_count": 118,
     "metadata": {},
     "output_type": "execute_result"
    }
   ],
   "source": [
    "def func4(**kwargs): # kwargs = key value arguments.\n",
    "    return kwargs\n",
    "\n",
    "func4(a=4,b=25,name = 'happy',age = 'twelve')\n",
    "\n",
    "# args returns tuple\n",
    "# kwargs return dictionary"
   ]
  },
  {
   "cell_type": "code",
   "execution_count": 152,
   "id": "26e47fa3-2e39-48e0-96f8-b033f46902b6",
   "metadata": {},
   "outputs": [
    {
     "name": "stdout",
     "output_type": "stream",
     "text": [
      "([1], ['hello', 'world'], [[1, 2, 3], [4, 5]])\n"
     ]
    }
   ],
   "source": [
    "# Questions:\n",
    "# 1 Create a function to take any number of mixed data and try to create a list of separate data based on datatype and return multiple result.\n",
    "# 2 create a function which will be able to use args and kwargs and it will be able to do all the list value concatanaion and return a list.\n",
    "\n",
    "def funcp(*args):\n",
    "    intt,l,s = [],[],[]     \n",
    "    for i in args:        \n",
    "        if isinstance(i,int):\n",
    "            intt.append(i)\n",
    "        elif isinstance(i,str):\n",
    "            s.append(i)\n",
    "        elif isinstance(i,list):\n",
    "            l.append(i)\n",
    "    return intt,s,l\n",
    "    \n",
    "\n",
    "r= funcp(1, \"hello\", [1, 2, 3], \"world\", [4, 5])\n",
    "print(r)"
   ]
  },
  {
   "cell_type": "code",
   "execution_count": 154,
   "id": "63c05212-730c-4a96-af57-1b212d875e3d",
   "metadata": {},
   "outputs": [
    {
     "name": "stdout",
     "output_type": "stream",
     "text": [
      "([1], [[1, 2, 3], [4, 5]], ['hello', 'world'])\n"
     ]
    }
   ],
   "source": [
    "def funcp(*args):\n",
    "    intt,l,s = [],[],[]\n",
    "    for i in args:\n",
    "        if type(i) == int:\n",
    "            intt.append(i)\n",
    "        elif type(i) == str:\n",
    "            s.append(i)\n",
    "        elif type(i) == list:\n",
    "            l.append(i)\n",
    "    return intt,l,s\n",
    "\n",
    "p= funcp(1, \"hello\", [1, 2, 3], \"world\", [4, 5])\n",
    "print(p)"
   ]
  },
  {
   "cell_type": "code",
   "execution_count": 2,
   "id": "f82d5fc9-8f63-4bae-864c-8c4e435344be",
   "metadata": {},
   "outputs": [
    {
     "data": {
      "text/plain": [
       "([1, 2, 3, 4, 5, 6],\n",
       " ['happy', 'rishiraj', 'singh'],\n",
       " [[1, 2, 3, 4, 5, 6, 7, 8, 9, 10]])"
      ]
     },
     "execution_count": 2,
     "metadata": {},
     "output_type": "execute_result"
    }
   ],
   "source": [
    "# 1 Create a function to take any number of mixed data and try to create a list of separate data based on datatype and return multiple result.\n",
    "\n",
    "def func(*args):\n",
    "    intt,s,l = [],[],[]\n",
    "    for i in args:\n",
    "        if type(i) == int:\n",
    "            intt.append(i)\n",
    "        elif type(i) == str:\n",
    "            s.append(i)\n",
    "        elif type(i) == list:\n",
    "            l.append(i)\n",
    "    return intt,s,l\n",
    "\n",
    "func('happy','rishiraj','singh',[1,2,3,4,5,6,7,8,9,10],1,2,3,4,5,6)\n"
   ]
  },
  {
   "cell_type": "code",
   "execution_count": 5,
   "id": "01e543e7-564d-42cb-bc57-2f4704bb65c0",
   "metadata": {},
   "outputs": [
    {
     "ename": "UnboundLocalError",
     "evalue": "cannot access local variable 'i' where it is not associated with a value",
     "output_type": "error",
     "traceback": [
      "\u001b[1;31m---------------------------------------------------------------------------\u001b[0m",
      "\u001b[1;31mUnboundLocalError\u001b[0m                         Traceback (most recent call last)",
      "Cell \u001b[1;32mIn[5], line 13\u001b[0m\n\u001b[0;32m     10\u001b[0m         \u001b[38;5;28;01mfor\u001b[39;00m i \u001b[38;5;129;01min\u001b[39;00m kwargs:\n\u001b[0;32m     11\u001b[0m             kl\u001b[38;5;241m+\u001b[39m\u001b[38;5;241m=\u001b[39m\u001b[38;5;241m1\u001b[39m\n\u001b[1;32m---> 13\u001b[0m func22([\u001b[38;5;241m1\u001b[39m,\u001b[38;5;241m2\u001b[39m,\u001b[38;5;241m3\u001b[39m])\n",
      "Cell \u001b[1;32mIn[5], line 6\u001b[0m, in \u001b[0;36mfunc22\u001b[1;34m(*args, **kwargs)\u001b[0m\n\u001b[0;32m      4\u001b[0m l \u001b[38;5;241m=\u001b[39m []\n\u001b[0;32m      5\u001b[0m kl \u001b[38;5;241m=\u001b[39m []\n\u001b[1;32m----> 6\u001b[0m \u001b[38;5;28;01mif\u001b[39;00m i \u001b[38;5;241m==\u001b[39m args:\n\u001b[0;32m      7\u001b[0m     \u001b[38;5;28;01mfor\u001b[39;00m i \u001b[38;5;129;01min\u001b[39;00m args:\n\u001b[0;32m      8\u001b[0m         l\u001b[38;5;241m+\u001b[39m\u001b[38;5;241m=\u001b[39mi\n",
      "\u001b[1;31mUnboundLocalError\u001b[0m: cannot access local variable 'i' where it is not associated with a value"
     ]
    }
   ],
   "source": [
    "# 2 create a function which will be able to use args and kwargs and it will be able to do all the list value concatanaion and return a list.\n",
    "\n",
    "# my try\n",
    "def func22(*args,**kwargs):\n",
    "    l = []\n",
    "    kl = []\n",
    "    if i == args:\n",
    "        for i in args:\n",
    "            l+=i\n",
    "    elif i == kwargs:\n",
    "        for i in kwargs:\n",
    "            kl+=1\n",
    "\n",
    "func22([1,2,3])"
   ]
  },
  {
   "cell_type": "code",
   "execution_count": 9,
   "id": "1c129e53-b049-47a7-9308-68d0acf7db8d",
   "metadata": {},
   "outputs": [
    {
     "data": {
      "text/plain": [
       "[[1, 2, 3], [4, 5, 6], [7, 8, 9]]"
      ]
     },
     "execution_count": 9,
     "metadata": {},
     "output_type": "execute_result"
    }
   ],
   "source": [
    "#.2 \n",
    "\n",
    "def func22(*args,**kwargs):\n",
    "    l = [i for i in args if type(i)== list]\n",
    "    d = [i[1] for i in kwargs.items() if type(i[1]) == list]\n",
    "         \n",
    "    return l\n",
    "\n",
    "func22([1,2,3],[4,5,6],[7,8,9])"
   ]
  },
  {
   "cell_type": "code",
   "execution_count": 21,
   "id": "9ca4b2ea-ab3f-44d6-83d3-838969951c3a",
   "metadata": {},
   "outputs": [
    {
     "name": "stdout",
     "output_type": "stream",
     "text": [
      "happy\n",
      "singh\n"
     ]
    }
   ],
   "source": [
    "def test(**kwargs):\n",
    "\n",
    "    return kwargs\n",
    "\n",
    "ll = test(a =1,b=['happy','singh',5.67],c=6+6j)\n",
    "        \n",
    "for value in ll.values():\n",
    "    if type(value) == list:\n",
    "        for i in value:\n",
    "            if type(i) == str:\n",
    "                print(i)"
   ]
  },
  {
   "cell_type": "code",
   "execution_count": 22,
   "id": "f3c073f2-6e60-4a32-87e2-4ad346c70ee0",
   "metadata": {},
   "outputs": [],
   "source": [
    "# Understand this code:\n",
    "\n",
    "def func(*args):\n",
    "    datatype = {}\n",
    "    \n",
    "    for i in args:\n",
    "        if type(i) in datatype:\n",
    "            datatype[type(i)].append(i)\n",
    "        else:\n",
    "            datatype[type(i)] = [i]\n",
    "    return datatype\n",
    "\n"
   ]
  },
  {
   "cell_type": "code",
   "execution_count": 8,
   "id": "7ac7c5e5-3102-484f-8f52-f1f1ebb9f903",
   "metadata": {},
   "outputs": [
    {
     "data": {
      "text/plain": [
       "{'a': 10, 'b': 20, 'c': 30}"
      ]
     },
     "execution_count": 8,
     "metadata": {},
     "output_type": "execute_result"
    }
   ],
   "source": [
    "# Function Part 2\n",
    "\n",
    "def test(**kwargs):\n",
    "    return kwargs\n",
    "\n",
    "test(a = 10, b = 20,c=30)"
   ]
  },
  {
   "cell_type": "code",
   "execution_count": 14,
   "id": "96e32bd0-0720-4aad-ba63-d140a8c12718",
   "metadata": {},
   "outputs": [
    {
     "data": {
      "text/plain": [
       "'rishijpr@icloud.comRishiraj'"
      ]
     },
     "execution_count": 14,
     "metadata": {},
     "output_type": "execute_result"
    }
   ],
   "source": [
    "# Anonymous Operation (function without a name) OR Lambda Function \n",
    "\n",
    "def test1(name, mail_id):\n",
    "    concatenate = mail_id + name\n",
    "    return mail_id, name, con\n",
    "\n",
    "test1('Rishiraj','rishijpr@icloud.com')\n",
    "\n"
   ]
  },
  {
   "cell_type": "code",
   "execution_count": 19,
   "id": "f29d7ab5-dd80-4aa2-8514-009ddc79d7cb",
   "metadata": {},
   "outputs": [
    {
     "data": {
      "text/plain": [
       "10"
      ]
     },
     "execution_count": 19,
     "metadata": {},
     "output_type": "execute_result"
    }
   ],
   "source": [
    "a = 10\n",
    "b = 20\n",
    "\n",
    "def mult(a,b):\n",
    "    return a*b\n",
    "\n",
    "add(2,5)\n",
    "\n",
    "l =lambda a,b,c:a*b-c\n",
    "l(2,8,6)"
   ]
  },
  {
   "cell_type": "markdown",
   "id": "207c2274-d933-4f60-8a7a-4881c4186315",
   "metadata": {},
   "source": []
  },
  {
   "cell_type": "code",
   "execution_count": 26,
   "id": "d4219212-d27e-4316-8379-acdcf0ccebee",
   "metadata": {},
   "outputs": [
    {
     "name": "stdout",
     "output_type": "stream",
     "text": [
      "shekhwat rishi singh\n"
     ]
    }
   ],
   "source": [
    "a = lambda a,b: a+b\n",
    "\n",
    "a(50,78)\n",
    "\n",
    "b = 'rishi'\n",
    "c = 'singh'\n",
    "\n",
    "n = lambda a,b,c:print(a,b,c)\n",
    "\n",
    "n('shekhwat',b,c)"
   ]
  },
  {
   "cell_type": "code",
   "execution_count": 31,
   "id": "13acd69d-e12e-49a2-8673-f41db798f997",
   "metadata": {},
   "outputs": [
    {
     "name": "stdout",
     "output_type": "stream",
     "text": [
      "[<function <lambda> at 0x0000028E230696C0>, 'rishi', 'singh', 1, 2, 3, [4, 5, 6]]\n"
     ]
    },
    {
     "data": {
      "text/plain": [
       "<function __main__.<lambda>(*args)>"
      ]
     },
     "execution_count": 31,
     "metadata": {},
     "output_type": "execute_result"
    }
   ],
   "source": [
    "nn = lambda *args : print (list(args))\n",
    "\n",
    "nn(a,b,c,1,2,3,[4,5,6])\n"
   ]
  },
  {
   "cell_type": "code",
   "execution_count": 35,
   "id": "8691b419-32b0-4f23-a9ea-c6d1fba4c162",
   "metadata": {},
   "outputs": [
    {
     "data": {
      "text/plain": [
       "2.0"
      ]
     },
     "execution_count": 35,
     "metadata": {},
     "output_type": "execute_result"
    }
   ],
   "source": [
    "r = 10 # Then will take the global variable. It can be accessed anywhere in the notebook.\n",
    "def test3(a,b):\n",
    "    r =  a/b # First it will take local variable, it can only be accessible in the function.\n",
    "    return r\n",
    "\n",
    "test3(10,5)\n",
    "\n",
    "print()\n"
   ]
  },
  {
   "cell_type": "code",
   "execution_count": null,
   "id": "c02571b6-bff0-4e23-8c7d-5f6f98fce057",
   "metadata": {},
   "outputs": [],
   "source": [
    "# Docstring : It is a details about the function or any other details. When we do shift tab, we get all the details of inbuilt function. We can create Docstring for our function as well.\n",
    "\n",
    "def test4(a,b):\n",
    "    \"\"\"\n",
    "    a == string\n",
    "    b == integer\n",
    "    this is function on which I am trying to create a docstring.\n",
    "    I am Rishiraj and I am in initial level of coding and will get where I want to.  \n",
    "    \n",
    "    \"\"\"\n",
    "    print(\"I have created a Docstring\")\n",
    "\n",
    "test4()"
   ]
  },
  {
   "cell_type": "code",
   "execution_count": null,
   "id": "4da0af2d-fc42-4eb3-bacd-145648ac7600",
   "metadata": {},
   "outputs": [],
   "source": [
    "#Print : concetanation cannot be done,no further actions can be performed. Like result + 'rishi' whereas in the of return we can do that, result + 'str'\n"
   ]
  },
  {
   "cell_type": "code",
   "execution_count": 36,
   "id": "d20cb3de-ea8a-4450-b8f7-ad84a9c239f2",
   "metadata": {},
   "outputs": [
    {
     "name": "stdout",
     "output_type": "stream",
     "text": [
      "r\n",
      "i\n",
      "s\n",
      "h\n",
      "i\n"
     ]
    }
   ],
   "source": [
    "# Iterator, Iterable and Generator\n",
    "\n",
    "for i in 'rishi':\n",
    "    print(i)\n"
   ]
  },
  {
   "cell_type": "code",
   "execution_count": null,
   "id": "28eac420-c993-47d6-991b-d914c87d3179",
   "metadata": {},
   "outputs": [],
   "source": [
    "# We aren't suppose to use to any loops to extract data. Below are the ways\n",
    "\n",
    "r = 'rishiraj'\n",
    "next()"
   ]
  },
  {
   "cell_type": "code",
   "execution_count": 49,
   "id": "3af672fc-b014-4f7e-991a-6e8259c5975a",
   "metadata": {},
   "outputs": [
    {
     "data": {
      "text/plain": [
       "'h'"
      ]
     },
     "execution_count": 49,
     "metadata": {},
     "output_type": "execute_result"
    }
   ],
   "source": [
    "# Iterator: It gives power to an element to remember what we have done in the last step.\n",
    "# Iterable :(one by one it will go) If objects are iterable, it means that we will be able to extract the data or convert the data into iterator.\n",
    "#If object is an iterable then we can convert it to iterator. String is a iterable object, means we can extract the data but we need assistance. \n",
    "#String object need to changed to iterator first and then we can use it. \n",
    "#String extraction works in for loop and not next() becuase for loop tries to change string from iterable to iterator.\n",
    "\n",
    "# We can change iterable data to iterator using iter() function.\n",
    "\n",
    "#  Iterable means the object which we can access using the index.\n",
    "# Iterator means the object which can remember what we have done in the last step.\n",
    "\n",
    "r = 'rishiraj'\n",
    "rr = iter(r) # It changes iterable to iterator. It will be able to convert only those object to iterator which is iterable.\n",
    "next(rr)\n",
    "next(rr)\n",
    "next(rr)\n",
    "next(rr)\n"
   ]
  },
  {
   "cell_type": "code",
   "execution_count": 53,
   "id": "2260574a-908d-4bd4-8260-41ad5f086f4d",
   "metadata": {},
   "outputs": [
    {
     "data": {
      "text/plain": [
       "'i'"
      ]
     },
     "execution_count": 53,
     "metadata": {},
     "output_type": "execute_result"
    }
   ],
   "source": [
    "ri = 'rishiraj'\n",
    "dd = iter(ri)\n",
    "next(dd)\n",
    "next(dd)"
   ]
  },
  {
   "cell_type": "code",
   "execution_count": 54,
   "id": "0d83770d-34fd-4f1a-a460-5da384882cd4",
   "metadata": {},
   "outputs": [
    {
     "name": "stdout",
     "output_type": "stream",
     "text": [
      "r\n",
      "i\n",
      "s\n",
      "h\n",
      "i\n"
     ]
    },
    {
     "ename": "TypeError",
     "evalue": "'list' object is not an iterator",
     "output_type": "error",
     "traceback": [
      "\u001b[1;31m---------------------------------------------------------------------------\u001b[0m",
      "\u001b[1;31mTypeError\u001b[0m                                 Traceback (most recent call last)",
      "Cell \u001b[1;32mIn[54], line 8\u001b[0m\n\u001b[0;32m      4\u001b[0m \u001b[38;5;66;03m# for loop is a combination of iter() and next()\u001b[39;00m\n\u001b[0;32m      5\u001b[0m \u001b[38;5;66;03m# Internally for loop will implement iter() and then will do next(), next(),next() it will keep on giving the data until last value.\u001b[39;00m\n\u001b[0;32m      7\u001b[0m l \u001b[38;5;241m=\u001b[39m [\u001b[38;5;241m1\u001b[39m,\u001b[38;5;241m2\u001b[39m,\u001b[38;5;241m3\u001b[39m,\u001b[38;5;241m4\u001b[39m,\u001b[38;5;241m5\u001b[39m]\n\u001b[1;32m----> 8\u001b[0m \u001b[38;5;28mnext\u001b[39m(l)\n",
      "\u001b[1;31mTypeError\u001b[0m: 'list' object is not an iterator"
     ]
    }
   ],
   "source": [
    "for i in \"rishi\":\n",
    "    print(i)\n",
    "\n",
    "# for loop is a combination of iter() and next()\n",
    "# Internally for loop will implement iter() and then will do next(), next(),next() it will keep on giving the data until last value.\n",
    "\n",
    "l = [1,2,3,4,5]\n",
    "next(l)"
   ]
  },
  {
   "cell_type": "code",
   "execution_count": 61,
   "id": "8d945278-887f-4c22-8a91-a057ed4051eb",
   "metadata": {},
   "outputs": [
    {
     "data": {
      "text/plain": [
       "5"
      ]
     },
     "execution_count": 61,
     "metadata": {},
     "output_type": "execute_result"
    }
   ],
   "source": [
    "l = [1,2,3,4,5]\n",
    "l = iter(l)\n",
    "next(l)\n",
    "next(l)\n",
    "next(l)\n",
    "next(l)\n",
    "next(l)\n"
   ]
  },
  {
   "cell_type": "code",
   "execution_count": 69,
   "id": "2f83b3e5-197d-45cc-b42a-55736d707d45",
   "metadata": {},
   "outputs": [
    {
     "data": {
      "text/plain": [
       "'rishi'"
      ]
     },
     "execution_count": 69,
     "metadata": {},
     "output_type": "execute_result"
    }
   ],
   "source": [
    "t =(1,2,3,4,5)\n",
    "t = iter(t)\n",
    "next(t)\n",
    "\n",
    "s = {1,2,3,4}\n",
    "s = iter(s)\n",
    "next(s)\n",
    "\n",
    "di = {a:5,b:3}\n",
    "di = iter(di)\n",
    "next(di)\n",
    "next(di)"
   ]
  },
  {
   "cell_type": "markdown",
   "id": "0e402c15-16f8-4acc-8997-60310a764da6",
   "metadata": {},
   "source": []
  },
  {
   "cell_type": "code",
   "execution_count": 98,
   "id": "b6da26ec-40b1-4e55-b911-f498ad599d25",
   "metadata": {},
   "outputs": [
    {
     "name": "stdout",
     "output_type": "stream",
     "text": [
      "0\n",
      "1\n",
      "8\n",
      "27\n",
      "64\n"
     ]
    }
   ],
   "source": [
    "##### Generator : \n",
    "\n",
    "# Generator does no special but remember what we have done in the last step with the help of yield keyword.\n",
    "# Yield doesn't store entire data but gives when requested unlike return keyword. Return first creates data and then show the entire result, where print starts creating and giving data from the begining. \n",
    "\n",
    "# Normal function\n",
    "def testt(n):\n",
    "    l = []\n",
    "    for i in range(n):\n",
    "        l.append(i**3)\n",
    "    return l\n",
    "\n",
    "testt(6)\n",
    "\n",
    "# Generator function\n",
    "def test5(n):\n",
    "    for i in range(n):\n",
    "        yield i**3\n",
    "\n",
    "ttt = test5(5)\n",
    "print(next(ttt))\n",
    "print(next(ttt))\n",
    "print(next(ttt))\n",
    "print(next(ttt))\n",
    "print(next(ttt))\n"
   ]
  },
  {
   "cell_type": "code",
   "execution_count": 24,
   "id": "f7de373b-4f0a-4e34-8999-c7dbd421381f",
   "metadata": {},
   "outputs": [
    {
     "data": {
      "text/plain": [
       "5"
      ]
     },
     "execution_count": 24,
     "metadata": {},
     "output_type": "execute_result"
    }
   ],
   "source": [
    "def febbonacci(limit):\n",
    "    a,b = 0,1\n",
    "    while a<limit:\n",
    "        a,b = b,a+b\n",
    "        yield a\n",
    "\n",
    "fb = febbonacci(5)\n",
    "fb\n",
    "\n",
    "next(fb)\n",
    "next(fb)\n",
    "next(fb)\n",
    "next(fb)\n",
    "next(fb)\n",
    "\n",
    "\n",
    "def feb(limit):\n",
    "    a,b = 0,1\n",
    "    for i in range(limit):\n",
    "        if a>i:\n",
    "            a,b = b,a+b\n",
    "    yield i\n",
    "\n",
    "fb = feb(5)\n",
    "\n",
    "for i in fb:\n",
    "    print(i)\n"
   ]
  },
  {
   "cell_type": "code",
   "execution_count": 48,
   "id": "91cedb51-2877-407e-b7ad-ad6134a87080",
   "metadata": {},
   "outputs": [
    {
     "data": {
      "text/plain": [
       "2"
      ]
     },
     "execution_count": 48,
     "metadata": {},
     "output_type": "execute_result"
    }
   ],
   "source": [
    "# with for loop fibbonaci\n",
    "\n",
    "def fibbo(n):\n",
    "    a,b = 1,1\n",
    "    output = []\n",
    "    for i in range(n):\n",
    "        output.append(a)        \n",
    "        a,b = b,a+b\n",
    "    return output\n",
    "\n",
    "fibbo(8)\n",
    "\n",
    "# with generator\n",
    "\n",
    "def fibbo1(n):\n",
    "    a,b = 1,1\n",
    "    for i in range(n):\n",
    "        yield a\n",
    "        a,b = b,a+b\n",
    "        \n",
    "\n",
    "fu =fibbo1(8)\n",
    "for i in fu:\n",
    "    print(i)\n",
    "\n",
    "next(fu)\n",
    "next(fu)\n",
    "next(fu)"
   ]
  },
  {
   "cell_type": "code",
   "execution_count": 66,
   "id": "925b3a45-e33c-4aa7-b304-644082ee6f11",
   "metadata": {},
   "outputs": [
    {
     "name": "stdout",
     "output_type": "stream",
     "text": [
      "1\n",
      "1\n",
      "2\n",
      "3\n",
      "5\n",
      "0\n",
      "1\n",
      "1\n",
      "2\n",
      "3\n"
     ]
    }
   ],
   "source": [
    "def fibo(n):\n",
    "    a,b = 0,1\n",
    "    output =[]\n",
    "    for i in range(n):\n",
    "        a,b = b,a+b\n",
    "        output.append(a)\n",
    "    return output\n",
    "\n",
    "f = fibo(5)\n",
    "\n",
    "for i in f:\n",
    "    print(i)\n",
    "\n",
    "# with generators \n",
    "\n",
    "def genfibo(n):\n",
    "    a,b = 0,1\n",
    "    for i in range(n): # 0,1,2,3,4,5,6,7,8\n",
    "        yield a\n",
    "        a,b = b,a+b\n",
    "    \n",
    "\n",
    "gf = genfibo(5)\n",
    "\n",
    "for i in gf:\n",
    "    print(i)\n",
    "\n"
   ]
  },
  {
   "cell_type": "code",
   "execution_count": 63,
   "id": "959a5e7b-bcd4-4770-8fd5-ed3e8fb84afc",
   "metadata": {},
   "outputs": [
    {
     "name": "stdout",
     "output_type": "stream",
     "text": [
      "Happy is good boy\n",
      "\n",
      " and he is a data\n",
      "\n",
      " scientist and he loves\n",
      "\n",
      " to study python, he has been working hard to achieve his goals and for sure he will very soon, wehkwhekjhsdkfhskjdfkjsdhfkjsdhffhhhhkjhsfkjdhkjzbckjskfhasdkjfhfffffff\n"
     ]
    }
   ],
   "source": [
    "# File \n",
    "# map, filter, reduce functions.\n",
    "\n",
    "# my requirement is to create/delete a file\n",
    "\n",
    "# Truncate : Whatever data is available in your data, it will truncate the data and then will start to write from the very starting.\n",
    "\n",
    "f = open('test.txt','w')\n",
    "\n",
    "f.write(\"Happy is a good boy\")\n",
    "f.close()\n",
    "\n",
    "\n",
    "f = open('test.txt')\n",
    "f.read() # This time we get the data. As the cursor wil be at the start.\n",
    "f.read() # This time the cursor is at the last. Hence, we will not get any data.\n",
    "\n",
    "f.seek(2) # To reset the cursor to the 2nd position. It goes like index, 1 character == 1.\n",
    "f.read()\n",
    "f.read(4) # In this we are trying to read data from the cursor point to 4th character position.\n",
    "f.close()\n",
    "\n",
    "f = open('test1.txt','wb')\n",
    ", \n",
    "#f.write(\"Happy\") # it will give issue as we mentioned write bite,wb\n",
    "\n",
    "f.write(b\"Hello, Happy singh\")\n",
    "f.close()\n",
    "\n",
    "f = open('test1.txt','rb')\n",
    "f.read()\n",
    "\n",
    "f.seek(-5,2)\n",
    "f.read() # read entire data\n",
    "f.readline() # read one line at a time.\n",
    "f.close()\n",
    "\n",
    "r = open('happy.txt','w')\n",
    "r.write('Happy is good boy\\n and he is a data\\n scientist and he loves\\n to study python, he has been working hard to achieve his goals and for sure he will very soon, wehkwhekjhsdkfhskjdfkjsdhfkjsdhffhhhhkjhsfkjdhkjzbckjskfhasdkjfhfffffff')\n",
    "\n",
    "r = open('happy.txt','r')\n",
    "r.read()\n",
    "r.seek(5)\n",
    "r.read()\n",
    "r.seek(0)\n",
    "r.readline(2)\n",
    "\n",
    "f = open('happy.txt','r')\n",
    "\n",
    "for i in f:\n",
    "    print(i)\n",
    "\n",
    "r.close()\n",
    "\n",
    "r = open('happy.txt','r')\n",
    "\n",
    "l = list(r)\n",
    "l\n",
    "\n",
    "r.close()\n",
    "\n",
    "r = open('test1.txt','r+')\n",
    "r.write('Happy is a good boy')\n",
    "r.close()\n"
   ]
  },
  {
   "cell_type": "code",
   "execution_count": 71,
   "id": "04a7d498-325a-4816-84f1-4f3a16f14fcc",
   "metadata": {},
   "outputs": [
    {
     "data": {
      "text/plain": [
       "5"
      ]
     },
     "execution_count": 71,
     "metadata": {},
     "output_type": "execute_result"
    }
   ],
   "source": [
    "r = open('test1.txt','r+')\n",
    "r.fileno()"
   ]
  },
  {
   "cell_type": "code",
   "execution_count": 72,
   "id": "fcbf3e61-5203-4bf2-835e-f7ed8e6d0c47",
   "metadata": {},
   "outputs": [
    {
     "name": "stdout",
     "output_type": "stream",
     "text": [
      "Writing test3.txt\n"
     ]
    }
   ],
   "source": [
    "%%writefile test3.txt # we can also create file using %%writefile method\n",
    "my name is happy"
   ]
  },
  {
   "cell_type": "code",
   "execution_count": 3,
   "id": "01bf2db6-52b7-4b61-933f-8217486051ba",
   "metadata": {},
   "outputs": [
    {
     "data": {
      "text/plain": [
       "['.anaconda',\n",
       " '.conda',\n",
       " '.condarc',\n",
       " '.continuum',\n",
       " '.gitconfig',\n",
       " '.ipynb_checkpoints',\n",
       " '.ipython',\n",
       " '.jupyter',\n",
       " '.matplotlib',\n",
       " '.spyder-py3',\n",
       " '.swt',\n",
       " '.virtual_documents',\n",
       " '.vscode',\n",
       " '3D Objects',\n",
       " 'anaconda3',\n",
       " 'ansel',\n",
       " 'AppData',\n",
       " 'Application Data',\n",
       " 'BullseyeCoverageError.txt',\n",
       " 'Contacts',\n",
       " 'Cookies',\n",
       " 'Desktop',\n",
       " 'Documents',\n",
       " 'Downloads',\n",
       " 'Dropbox',\n",
       " 'Favorites',\n",
       " 'Full Stack Data Science (Ineuron)',\n",
       " 'IntelGraphicsProfiles',\n",
       " 'Jedi',\n",
       " 'Links',\n",
       " 'Local Settings',\n",
       " 'Music',\n",
       " 'My Documents',\n",
       " 'NetHood',\n",
       " 'Notes.txt',\n",
       " 'NTUSER.DAT',\n",
       " 'ntuser.dat.LOG1',\n",
       " 'ntuser.dat.LOG2',\n",
       " 'NTUSER.DAT{a2332f18-cdbf-11ec-8680-002248483d79}.TM.blf',\n",
       " 'NTUSER.DAT{a2332f18-cdbf-11ec-8680-002248483d79}.TMContainer00000000000000000001.regtrans-ms',\n",
       " 'NTUSER.DAT{a2332f18-cdbf-11ec-8680-002248483d79}.TMContainer00000000000000000002.regtrans-ms',\n",
       " 'ntuser.ini',\n",
       " 'OneDrive',\n",
       " 'Pictures',\n",
       " 'PrintHood',\n",
       " 'Recent',\n",
       " \"Rishi's Workspace\",\n",
       " 'Saved Games',\n",
       " 'Searches',\n",
       " 'SendTo',\n",
       " 'Start Menu',\n",
       " 'Templates',\n",
       " 'Videos']"
      ]
     },
     "execution_count": 3,
     "metadata": {},
     "output_type": "execute_result"
    }
   ],
   "source": [
    "# Operating system command.\n",
    "\n",
    "import os\n",
    "\n",
    "# in which directory this jupyter notebook is\n",
    "\n",
    "\n",
    "os.getcwd() # current working directory\n",
    "os.listdir() # list of files available in current working directory.\n",
    "\n",
    "os.listdir('C:\\\\Users\\\\User')\n"
   ]
  },
  {
   "cell_type": "code",
   "execution_count": 4,
   "id": "2e36fe5f-b88b-4f9d-968d-7eebf747c389",
   "metadata": {},
   "outputs": [],
   "source": [
    "with open ('test.txt','r+') as f:\n",
    "    f.write('Happy')"
   ]
  },
  {
   "cell_type": "code",
   "execution_count": 100,
   "id": "848b8698-eb1b-4292-9754-8b1b5c0dd36c",
   "metadata": {},
   "outputs": [
    {
     "data": {
      "text/plain": [
       "4"
      ]
     },
     "execution_count": 100,
     "metadata": {},
     "output_type": "execute_result"
    }
   ],
   "source": [
    "2+2"
   ]
  },
  {
   "cell_type": "code",
   "execution_count": 102,
   "id": "84258e96-ee11-4bd4-b7b4-4aacea3b8d37",
   "metadata": {},
   "outputs": [
    {
     "data": {
      "text/plain": [
       "'C:\\\\Users\\\\USER\\\\Full Stack Data Science (Ineuron)'"
      ]
     },
     "execution_count": 102,
     "metadata": {},
     "output_type": "execute_result"
    }
   ],
   "source": [
    "# to get current working directory.\n",
    "\n",
    "os.getcwd()"
   ]
  },
  {
   "cell_type": "code",
   "execution_count": 6,
   "id": "11e28022-1aa5-4fc8-8b3a-cb815aeb616d",
   "metadata": {},
   "outputs": [],
   "source": [
    "# to  change working directory\n",
    "\n",
    "os.chdir('C:\\\\Users\\\\') # To change current directory to new directory.\n",
    "os.getcwd()\n",
    "os.chdir('C:\\\\Users\\\\USER\\\\')\n",
    "os.getcwd()\n",
    "os.chdir('C:\\\\Users\\\\USER\\\\Full Stack Data Science (Ineuron)')\n",
    "\n",
    "#os.mkdir('rishi') # make directory, we can create a new folder\n",
    "\n",
    "\n",
    "# to check if the file is there in the directory or not\n",
    "\n",
    "if 'test.txt' in os.getcwd():\n",
    "    print('True')\n"
   ]
  },
  {
   "cell_type": "code",
   "execution_count": 8,
   "id": "1f3af7e5-7d7a-42cb-8715-d7c4e935c3a8",
   "metadata": {},
   "outputs": [
    {
     "name": "stdout",
     "output_type": "stream",
     "text": [
      "Happy is good boy\n",
      "\n",
      " and he is a data\n",
      "\n",
      " scientist and he loves\n",
      "\n",
      " to study python, he has been working hard to achieve his goals and for sure he will very soon, wehkwhekjhsdkfhskjdfkjsdhfkjsdhffhhhhkjhsfkjdhkjzbckjskfhasdkjfhfffffff\n"
     ]
    }
   ],
   "source": [
    "os.getcwd()\n",
    "\n",
    "if 'happy.txt' in os.listdir():    \n",
    "    f = open(\"happy.txt\",\"r+\")\n",
    "    for i in f:\n",
    "        print(i)\n",
    "else: \n",
    "    print('No')\n"
   ]
  },
  {
   "cell_type": "code",
   "execution_count": 1,
   "id": "789f6b59-451f-4c00-af76-7fe6b1baf8e4",
   "metadata": {},
   "outputs": [],
   "source": [
    "with open('rishi.txt','w') as file:\n",
    "    file.write('Rishi is a good boy')"
   ]
  },
  {
   "cell_type": "code",
   "execution_count": 71,
   "id": "07293510-7917-4cad-95ff-810344ad50d0",
   "metadata": {},
   "outputs": [
    {
     "ename": "IndentationError",
     "evalue": "expected an indented block after 'if' statement on line 12 (2947254602.py, line 17)",
     "output_type": "error",
     "traceback": [
      "\u001b[1;36m  Cell \u001b[1;32mIn[71], line 17\u001b[1;36m\u001b[0m\n\u001b[1;33m    if not os.path.isdir('happy.txt'):\u001b[0m\n\u001b[1;37m                                      ^\u001b[0m\n\u001b[1;31mIndentationError\u001b[0m\u001b[1;31m:\u001b[0m expected an indented block after 'if' statement on line 12\n"
     ]
    }
   ],
   "source": [
    "# Whatever .txt file is available inside directory, try to read out all the file and append the data and store the data in one \n",
    "\n",
    "f = os.getcwd()\n",
    "\n",
    "os.chdir(f)\n",
    "os.getcwd() # To change directory to original.\n",
    "\n",
    "dirlist = os.listdir()\n",
    "\n",
    "\n",
    "for i in os.listdir():\n",
    "    if i.endswith('.txt'):\n",
    "       \n",
    "\n",
    "\n",
    "\n",
    "if not os.path.isdir('happy.txt'):\n",
    "    os.mkdir('happy.txt')\n",
    "\n",
    "\n",
    "\n"
   ]
  },
  {
   "cell_type": "code",
   "execution_count": 3,
   "id": "ea86c4bd-8321-4ac4-96e9-70a7353d7fe3",
   "metadata": {},
   "outputs": [
    {
     "data": {
      "text/plain": [
       "['.ipynb_checkpoints',\n",
       " 'For Loop.ipynb',\n",
       " 'happy.txt',\n",
       " 'list manipulation.ipynb',\n",
       " 'Python Basics.ipynb',\n",
       " 'Python Function.ipynb',\n",
       " 'Python Starting.ipynb',\n",
       " 'rishi',\n",
       " 'rishi.txt',\n",
       " 'String and list manipulation.ipynb',\n",
       " 'test.txt',\n",
       " 'test1.txt',\n",
       " 'test3.txt',\n",
       " 'Tuple, Set And Dictionary.ipynb',\n",
       " 'While Loop.ipynb']"
      ]
     },
     "execution_count": 3,
     "metadata": {},
     "output_type": "execute_result"
    }
   ],
   "source": [
    "import os\n",
    "\n",
    "os.getcwd() # current working directory to check in which we are working in the current notebook.\n",
    "os.listdir()"
   ]
  },
  {
   "cell_type": "code",
   "execution_count": 17,
   "id": "d7c96514-0577-4a1d-9579-e20d2bc64f8e",
   "metadata": {},
   "outputs": [
    {
     "data": {
      "text/plain": [
       "'C:\\\\Users\\\\USER\\\\Full Stack Data Science (Ineuron)'"
      ]
     },
     "execution_count": 17,
     "metadata": {},
     "output_type": "execute_result"
    }
   ],
   "source": [
    "os.getcwd()\n",
    "os.listdir('C:\\\\Users\\\\USER') # to access all the data of the selected location.\n",
    "os.getcwd()\n",
    "os.chdir('C:\\\\Users\\\\USER\\\\Full Stack Data Science (Ineuron)') # put older location to get to the original directory.\n",
    "os.getcwd()\n",
    "os.mkdir() # to make directory\n",
    "\n"
   ]
  },
  {
   "cell_type": "code",
   "execution_count": 29,
   "id": "42c15123-5523-4a37-89cf-bb3e8d5e5832",
   "metadata": {},
   "outputs": [
    {
     "name": "stdout",
     "output_type": "stream",
     "text": [
      "Happy is good boy\n",
      "\n",
      " and he is a data\n",
      "\n",
      " scientist and he loves\n",
      "\n",
      " to study python, he has been working hard to achieve his goals and for sure he will very soon, wehkwhekjhsdkfhskjdfkjsdhfkjsdhffhhhhkjhsfkjdhkjzbckjskfhasdkjfhfffffff\n"
     ]
    }
   ],
   "source": [
    "# try to check the directory and check whether this file is available inside this directory of not. if yes then open or read the data.\n",
    "os.getcwd()\n",
    "os.listdir()\n",
    "\n",
    "if 'happy.txt' in os.listdir():\n",
    "    with open ('happy.txt','r') as file:\n",
    "        for i in file:\n",
    "            print(i)\n",
    "\n",
    "\n"
   ]
  },
  {
   "cell_type": "code",
   "execution_count": 53,
   "id": "23db1dcf-f4bf-475a-91ab-9894c2279a19",
   "metadata": {},
   "outputs": [
    {
     "name": "stdout",
     "output_type": "stream",
     "text": [
      "Rishi is a good boy\n",
      "Happy is a good boy\n",
      "Happy is a good boy\n",
      "my name is happy\n",
      "\n"
     ]
    }
   ],
   "source": [
    "# whatever .txt file is available inside this directory, try to read, append and store in one of the system.\n",
    "\n",
    "\n",
    "for i in os.listdir():\n",
    "    if i.endswith('.txt'):\n",
    "        f = open(i,'r')\n",
    "        for i in f:\n",
    "            print(i)\n",
    "            if i in f == 'happy.txt':\n",
    "                o = open('happy.txt','w')\n",
    "                o.write('I have successfully written a code')\n",
    "                o.read()\n",
    "\n",
    "\n",
    "\n",
    "\n",
    "        \n",
    "        "
   ]
  },
  {
   "cell_type": "code",
   "execution_count": 55,
   "id": "ace718b3-8590-4702-bac0-589007066b37",
   "metadata": {},
   "outputs": [
    {
     "name": "stdout",
     "output_type": "stream",
     "text": [
      "file already exist\n"
     ]
    }
   ],
   "source": [
    "# To check if file already exist in the directory if not then only the file will be created otherwise no action will be taken.\n",
    "\n",
    "if 'happy.txt' not in os.listdir():\n",
    "    os.mkdir('happy.txt') \n",
    "else:\n",
    "    print('file already exist')\n",
    "\n"
   ]
  },
  {
   "cell_type": "code",
   "execution_count": null,
   "id": "591922c7-3cb0-450e-8d7e-3bc5c36583d2",
   "metadata": {},
   "outputs": [],
   "source": [
    "# rename file \n",
    "\n",
    "os.rename('test.txt','singhshekhawat.txt') # os.rename('old name','new name')"
   ]
  },
  {
   "cell_type": "code",
   "execution_count": 61,
   "id": "38f68628-2b09-4b4a-be14-187efbc9eab1",
   "metadata": {},
   "outputs": [],
   "source": [
    "# remove directory\n",
    "\n",
    "os.rmdir('rishi')"
   ]
  },
  {
   "cell_type": "code",
   "execution_count": 63,
   "id": "d7b45db2-418f-42a8-b18e-326ae021c218",
   "metadata": {},
   "outputs": [
    {
     "ename": "SyntaxError",
     "evalue": "(unicode error) 'unicodeescape' codec can't decode bytes in position 2-3: truncated \\UXXXXXXXX escape (3372959595.py, line 5)",
     "output_type": "error",
     "traceback": [
      "\u001b[1;36m  Cell \u001b[1;32mIn[63], line 5\u001b[1;36m\u001b[0m\n\u001b[1;33m    shutil.move('C:\\Users\\USER.new_dir''C:\\Users\\USER.MBA')\u001b[0m\n\u001b[1;37m                                                          ^\u001b[0m\n\u001b[1;31mSyntaxError\u001b[0m\u001b[1;31m:\u001b[0m (unicode error) 'unicodeescape' codec can't decode bytes in position 2-3: truncated \\UXXXXXXXX escape\n"
     ]
    }
   ],
   "source": [
    "# move file from one directory to another.\n",
    "\n",
    "import shutil\n",
    "\n",
    "shutil.move('old location with file name','new location with file name')"
   ]
  },
  {
   "cell_type": "code",
   "execution_count": 79,
   "id": "94aa877b-d046-4c40-9740-1f366b113dbd",
   "metadata": {},
   "outputs": [],
   "source": [
    "#. 1: Create a new directory. # Done\n",
    "# 2.: Create 5 txt files and write some data in all txt at a time. (All at one) in the above created directory  # Done\n",
    "# 3. read all the data from this directory/file and print in console\n",
    "# 4. hold all the data in a list.\n",
    "# 5. write all the data in a new file from a list.\n",
    "# 6. Keep only a new file in persent directory and move rest in new directory.\n",
    "\n",
    "#os.mkdir('rishiraj') \n",
    "\n",
    "\n",
    "for i in range(11):\n",
    "    filename = (f'file{i}.txt')\n",
    "    filepath = os.path.join('rishiraj',filename)\n",
    "    with open (filepath,'w') as file:\n",
    "        file.write('sample file')"
   ]
  },
  {
   "cell_type": "code",
   "execution_count": 113,
   "id": "7b110286-4136-49e7-b957-b31706ee603d",
   "metadata": {},
   "outputs": [],
   "source": [
    "# os.mkdir('singh')\n",
    "\n",
    "for i in range(11):\n",
    "    filename = (f'file{i}.txt')\n",
    "    filepath = os.path.join('singh',filename)\n",
    "    with open (filepath,'w') as file:\n",
    "        file.write('happy singh shekhawat')"
   ]
  },
  {
   "cell_type": "code",
   "execution_count": 122,
   "id": "7d1519b4-6df5-481e-b2f4-a6f9fd189d4e",
   "metadata": {},
   "outputs": [
    {
     "name": "stdout",
     "output_type": "stream",
     "text": [
      "singh\n"
     ]
    }
   ],
   "source": [
    "# 3. read all the data from this directory/file and print in console\n",
    "\n",
    "os.getcwd()\n",
    "\n",
    "for i in os.listdir():\n",
    "    if i == 'singh':\n",
    "        print(i)\n",
    "\n",
    "\n"
   ]
  },
  {
   "cell_type": "code",
   "execution_count": null,
   "id": "28bca12c-f91d-43d9-b186-590b31a5b101",
   "metadata": {},
   "outputs": [],
   "source": [
    "#. 1: Create a new directory. # Done\n",
    "# 2.: Create 10 txt files and write some data in all txt at a time. (All at one) in the above created directory  # Done\n",
    "# 3. read all the data from this directory/file and print in console\n",
    "# 4. hold all the data in a list.\n",
    "# 5. write all the data in a new file from a list.\n",
    "# 6. Keep only a new file in persent directory and move rest in new directory."
   ]
  },
  {
   "cell_type": "code",
   "execution_count": 2,
   "id": "69cb31f8-2cca-4f8d-9a11-c6af30018b39",
   "metadata": {},
   "outputs": [],
   "source": [
    "import os\n",
    "os.mkdir('Afyon')"
   ]
  },
  {
   "cell_type": "code",
   "execution_count": 11,
   "id": "0132bfb4-3e3d-47d6-b4a0-56894002c949",
   "metadata": {},
   "outputs": [
    {
     "name": "stdout",
     "output_type": "stream",
     "text": [
      "file0.txt\n",
      "file1.txt\n",
      "file10.txt\n",
      "file2.txt\n",
      "file3.txt\n",
      "file4.txt\n",
      "file5.txt\n",
      "file6.txt\n",
      "file7.txt\n",
      "file8.txt\n",
      "file9.txt\n"
     ]
    }
   ],
   "source": [
    "for i in range(11):\n",
    "    filename = (f'file{i}.txt')\n",
    "    filepath = os.path.join('Afyon',filename)\n",
    "    with open(filepath,'w') as file:\n",
    "        file.write('I have created all thest .txt files')\n",
    "\n",
    "\n",
    "\n",
    "\"\"\"for i in os.listdir('Afyon'):\n",
    "    if i.endswith('.txt'):\n",
    "        print(i)\"\"\"\n",
    "\n"
   ]
  },
  {
   "cell_type": "code",
   "execution_count": 29,
   "id": "6dbebf2a-aa1c-4c3f-b7e5-a07442f2037f",
   "metadata": {},
   "outputs": [
    {
     "name": "stdout",
     "output_type": "stream",
     "text": [
      "file0.txt\n",
      "I have created all thest .txt files\n",
      "\n",
      "file1.txt\n",
      "I have created all thest .txt files\n",
      "\n",
      "file10.txt\n",
      "I have created all thest .txt files\n",
      "\n",
      "file2.txt\n",
      "I have created all thest .txt files\n",
      "\n",
      "file3.txt\n",
      "I have created all thest .txt files\n",
      "\n",
      "file4.txt\n",
      "I have created all thest .txt files\n",
      "\n",
      "file5.txt\n",
      "I have created all thest .txt files\n",
      "\n",
      "file6.txt\n",
      "I have created all thest .txt files\n",
      "\n",
      "file7.txt\n",
      "I have created all thest .txt files\n",
      "\n",
      "file8.txt\n",
      "I have created all thest .txt files\n",
      "\n",
      "file9.txt\n",
      "I have created all thest .txt files\n",
      "\n"
     ]
    }
   ],
   "source": [
    "datalist = []\n",
    "\n",
    "for filename in os.listdir('Afyon'):\n",
    "    if filename.endswith('.txt'):\n",
    "        with open(filepath,'r') as file:\n",
    "            data = file.read()\n",
    "            print(filename)\n",
    "            print(data)\n",
    "            print()\n",
    "            datalist.append(data)"
   ]
  },
  {
   "cell_type": "code",
   "execution_count": 31,
   "id": "423dc9a8-f301-4ba3-8654-0a73dfbf018a",
   "metadata": {},
   "outputs": [
    {
     "data": {
      "text/plain": [
       "['I have created all thest .txt files',\n",
       " 'I have created all thest .txt files',\n",
       " 'I have created all thest .txt files',\n",
       " 'I have created all thest .txt files',\n",
       " 'I have created all thest .txt files',\n",
       " 'I have created all thest .txt files',\n",
       " 'I have created all thest .txt files',\n",
       " 'I have created all thest .txt files',\n",
       " 'I have created all thest .txt files',\n",
       " 'I have created all thest .txt files',\n",
       " 'I have created all thest .txt files']"
      ]
     },
     "execution_count": 31,
     "metadata": {},
     "output_type": "execute_result"
    }
   ],
   "source": [
    "datalist"
   ]
  },
  {
   "cell_type": "code",
   "execution_count": 44,
   "id": "2513ed54-9ee3-4c3c-9432-bfc7bfb76b1c",
   "metadata": {},
   "outputs": [],
   "source": [
    "# 5. write all the data in a new file from a list.\n",
    "\n",
    "with open ('happysinghraja','w') as file:\n",
    "    for i in datalist:\n",
    "        file.write(i +'\\n')\n",
    "        \n",
    "\n",
    "\n"
   ]
  },
  {
   "cell_type": "code",
   "execution_count": null,
   "id": "6533f3ae-7944-46fc-9d4b-fa102087c6aa",
   "metadata": {},
   "outputs": [],
   "source": [
    "# 6. Keep only a new file in persent directory and move rest in new directory.\n",
    "\n"
   ]
  }
 ],
 "metadata": {
  "kernelspec": {
   "display_name": "Python 3 (ipykernel)",
   "language": "python",
   "name": "python3"
  },
  "language_info": {
   "codemirror_mode": {
    "name": "ipython",
    "version": 3
   },
   "file_extension": ".py",
   "mimetype": "text/x-python",
   "name": "python",
   "nbconvert_exporter": "python",
   "pygments_lexer": "ipython3",
   "version": "3.11.7"
  }
 },
 "nbformat": 4,
 "nbformat_minor": 5
}
