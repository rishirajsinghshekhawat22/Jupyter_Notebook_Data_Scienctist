{
 "cells": [
  {
   "cell_type": "code",
   "execution_count": 1,
   "id": "1184909b-6e71-4350-ad50-29acbda56c82",
   "metadata": {},
   "outputs": [
    {
     "name": "stdout",
     "output_type": "stream",
     "text": [
      "Rishiraj\n"
     ]
    }
   ],
   "source": [
    "print('Rishiraj')"
   ]
  },
  {
   "cell_type": "code",
   "execution_count": 3,
   "id": "a45522bb-c2a2-4025-9d2c-0dd9d8c7a869",
   "metadata": {},
   "outputs": [],
   "source": [
    "# print \"this is my first program\" # This works in python 2.x version not in 3.x version.\n",
    "# We should mention comments to make the code understandable to other persons."
   ]
  },
  {
   "cell_type": "code",
   "execution_count": 4,
   "id": "1e221153-ac21-4786-bd7c-1edc335d72cc",
   "metadata": {},
   "outputs": [
    {
     "data": {
      "text/plain": [
       "'my name is Rishiraj'"
      ]
     },
     "execution_count": 4,
     "metadata": {},
     "output_type": "execute_result"
    }
   ],
   "source": [
    "'my name is Rishiraj'"
   ]
  },
  {
   "cell_type": "code",
   "execution_count": null,
   "id": "e57c046d-5222-4d80-86b5-e1b2d359f829",
   "metadata": {},
   "outputs": [],
   "source": [
    "# My name is Rishiraj (Single line comment)\n",
    "\"\"\"hfdh\n",
    "jdfkd\n",
    "sdkjfh\"\"\" \n",
    "# for single line comment and \"\"\" \"\"\" for multi lines comment"
   ]
  },
  {
   "cell_type": "code",
   "execution_count": 8,
   "id": "d7a69d8a-da51-438d-8bbf-26578b0c9f32",
   "metadata": {},
   "outputs": [],
   "source": [
    "# Shift Enter for execution.\n",
    "# Shift tab to get the details of the function."
   ]
  },
  {
   "cell_type": "code",
   "execution_count": 9,
   "id": "f0c48b55-1981-4bb0-b0a9-dcf80f88756d",
   "metadata": {},
   "outputs": [],
   "source": [
    "# When we process the data, like opening up a video # It will load from hardware to mainmemory(RAM) and CPU.\n",
    "# Objective to write code. (To process the data/records.)\n",
    "# Variable is a local instance to store the data in our mainmemory(RAM). example a =10 (a is a variable and we are keeping 10 as data). It will allocate space in the RAM and then the data will be saved there.\n",
    "# Variable name is the name of the place given by us to create the space in RAM.\n",
    "\n",
    "\n"
   ]
  },
  {
   "cell_type": "code",
   "execution_count": 11,
   "id": "1c9e557d-ab34-43f6-b17b-2c786ea27614",
   "metadata": {},
   "outputs": [
    {
     "data": {
      "text/plain": [
       "10"
      ]
     },
     "execution_count": 11,
     "metadata": {},
     "output_type": "execute_result"
    }
   ],
   "source": [
    "a=10 # Creating variable with name a\n",
    "a # Calling a variable or we can use print(a)\n"
   ]
  },
  {
   "cell_type": "code",
   "execution_count": 12,
   "id": "69d4c137-01ff-4134-8c00-cea0beaa4b4b",
   "metadata": {},
   "outputs": [
    {
     "data": {
      "text/plain": [
       "int"
      ]
     },
     "execution_count": 12,
     "metadata": {},
     "output_type": "execute_result"
    }
   ],
   "source": [
    "type(a) # To check datatype."
   ]
  },
  {
   "cell_type": "code",
   "execution_count": 13,
   "id": "26bc40e7-31c8-4429-9ba2-4c8de2262465",
   "metadata": {},
   "outputs": [
    {
     "data": {
      "text/plain": [
       "str"
      ]
     },
     "execution_count": 13,
     "metadata": {},
     "output_type": "execute_result"
    }
   ],
   "source": [
    "b = \"Rishiraj\"\n",
    "type(b)"
   ]
  },
  {
   "cell_type": "code",
   "execution_count": 18,
   "id": "63f342c5-4b60-4e99-afeb-2bcfb7e8c98c",
   "metadata": {},
   "outputs": [],
   "source": [
    "a,b,c = 25, 'Rishiraj','Hello' # creating multiple variables in single line.\n",
    "\n"
   ]
  },
  {
   "cell_type": "code",
   "execution_count": 19,
   "id": "ee59defb-32d0-4fe7-baae-555a577fb09b",
   "metadata": {},
   "outputs": [
    {
     "data": {
      "text/plain": [
       "10"
      ]
     },
     "execution_count": 19,
     "metadata": {},
     "output_type": "execute_result"
    }
   ],
   "source": [
    "b2 = 10\n",
    "b2"
   ]
  },
  {
   "cell_type": "code",
   "execution_count": 21,
   "id": "ad3e97d2-4d83-4d97-a2c2-0403441cc48a",
   "metadata": {},
   "outputs": [],
   "source": [
    "#2b = 11 # variable name should not start with an integer. "
   ]
  },
  {
   "cell_type": "code",
   "execution_count": 24,
   "id": "99dba56c-c09c-4bbd-a456-f3d3b8a10505",
   "metadata": {},
   "outputs": [
    {
     "name": "stdout",
     "output_type": "stream",
     "text": [
      "4\n",
      "0\n"
     ]
    }
   ],
   "source": [
    "print(True + True +True +False + True)\n",
    "print(False-True+True)\n",
    "# Explanation to the above statements. (True = 1) (False = 0)\n",
    "# True/ True Or True/False Or True * True"
   ]
  },
  {
   "cell_type": "code",
   "execution_count": 31,
   "id": "cfbb132b-25b9-4d7c-8177-a44b5f5823ef",
   "metadata": {},
   "outputs": [
    {
     "data": {
      "text/plain": [
       "(15+155j)"
      ]
     },
     "execution_count": 31,
     "metadata": {},
     "output_type": "execute_result"
    }
   ],
   "source": [
    "# Complex number = combination of real and imaginary number.\n",
    "\n",
    "n = 15 + 5j #(j is the only notation to show complex number in python) # 45 = real number, 5 = imaginary number, j = notation.\n",
    "type(n)\n",
    "n.real\n",
    "n.imag\n",
    "\n",
    "m = 4 + 9j\n",
    "\n",
    "m*n"
   ]
  },
  {
   "cell_type": "code",
   "execution_count": 41,
   "id": "e0820aa6-7e6f-4575-8b31-e2b5014a8f8a",
   "metadata": {},
   "outputs": [
    {
     "data": {
      "text/plain": [
       "'1rishiraj'"
      ]
     },
     "execution_count": 41,
     "metadata": {},
     "output_type": "execute_result"
    }
   ],
   "source": [
    "# Python is a dynamic typing language, means it will figure out with the nature of input the datatype.\n",
    "#1 + 'rishiraj' #operand error\n",
    "\"1\" + 'rishiraj'  #typecasting means converting a variable to different datatype.\n",
    "'1' + 'rishiraj' # str + str = concatenation\n",
    "# upcasting meaning when we do action on two integers it returns value in float.\n"
   ]
  },
  {
   "cell_type": "code",
   "execution_count": 1,
   "id": "47e7e856-f3e4-4f41-8e9a-f59a62359c95",
   "metadata": {},
   "outputs": [],
   "source": [
    "# To take input from the user.\n",
    "#ba = input()\n"
   ]
  },
  {
   "cell_type": "code",
   "execution_count": 5,
   "id": "ced850c5-6ada-404a-b9a6-f2c1df38bf5b",
   "metadata": {},
   "outputs": [],
   "source": [
    "# Question: Take integers a,b,c && a+b/c && + complex number && + 'yourname'\n",
    "# This is a sudo code.\n",
    "# input gives output always in string.\n",
    "# We can do for a = int(input())\n",
    "a,b,c = 1,2,3\n",
    "cnumber = 45 + 32j\n",
    "o = a+b/c\n",
    "ocn = o+cnumber\n",
    "str(ocn) + 'Rishiraj'\n"
   ]
  },
  {
   "cell_type": "code",
   "execution_count": 5,
   "id": "cf53daa8-a581-4673-a6c0-fa4893b74a6e",
   "metadata": {},
   "outputs": [
    {
     "name": "stdout",
     "output_type": "stream",
     "text": [
      "Data is more than 34 but lesser than 100\n"
     ]
    }
   ],
   "source": [
    "# Decision making statements. # if, else, if elif\n",
    "# Conditional statements.\n",
    "\n",
    "a = 34\n",
    "\n",
    "if a<34:\n",
    "    print('valid input')\n",
    "elif a<100:\n",
    "    print('Data is more than 34 but lesser than 100')\n",
    "else: \n",
    "    print('Invalid input')"
   ]
  },
  {
   "cell_type": "code",
   "execution_count": 16,
   "id": "a63a6e79-2538-4f78-9d57-00f51f2dd234",
   "metadata": {},
   "outputs": [
    {
     "name": "stdout",
     "output_type": "stream",
     "text": [
      "I can buy a car\n"
     ]
    }
   ],
   "source": [
    "# Question: If more than 1000 I can buy car, if more than 500 I can buy bike, if more than 100, I can manage my home.\n",
    "\n",
    "salary = 1000000\n",
    "if salary>1000:\n",
    "    print('I can buy a car')\n",
    "elif salary >500:\n",
    "    print('I can buy a bike')\n",
    "elif salary >100:\n",
    "    print('I can manage home')\n",
    "else:\n",
    "    print('I will go for saving')"
   ]
  },
  {
   "cell_type": "code",
   "execution_count": 20,
   "id": "45a95c8f-3a9c-4427-aa2d-181835dad3f4",
   "metadata": {},
   "outputs": [
    {
     "name": "stdout",
     "output_type": "stream",
     "text": [
      "I can buy a bike\n",
      "Splendor\n"
     ]
    }
   ],
   "source": [
    "# Nested decision making statement.\n",
    "salary = 751\n",
    "if (salary>1000):\n",
    "    print('I can buy a car')\n",
    "    if salary>5000:\n",
    "        print('Maruti')\n",
    "    elif salary >3000:\n",
    "        print('Toyota')\n",
    "    else:\n",
    "        print('manage with your existing car')\n",
    "elif (salary >500):\n",
    "    print('I can buy a bike')\n",
    "    if salary >750:\n",
    "        print('Splendor')\n",
    "    else:\n",
    "        print('Manage with existing bike')\n",
    "elif salary >100:\n",
    "    print('I can manage home')\n",
    "else:\n",
    "    print('I will go for saving')\n"
   ]
  },
  {
   "cell_type": "code",
   "execution_count": null,
   "id": "21f07785-cefc-46e1-a3ed-8256c44d87d9",
   "metadata": {},
   "outputs": [],
   "source": []
  }
 ],
 "metadata": {
  "kernelspec": {
   "display_name": "Python 3 (ipykernel)",
   "language": "python",
   "name": "python3"
  },
  "language_info": {
   "codemirror_mode": {
    "name": "ipython",
    "version": 3
   },
   "file_extension": ".py",
   "mimetype": "text/x-python",
   "name": "python",
   "nbconvert_exporter": "python",
   "pygments_lexer": "ipython3",
   "version": "3.11.7"
  }
 },
 "nbformat": 4,
 "nbformat_minor": 5
}
